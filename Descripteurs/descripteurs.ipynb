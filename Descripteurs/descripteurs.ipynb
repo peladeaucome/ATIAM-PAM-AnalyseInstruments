{
 "cells": [
  {
   "cell_type": "code",
   "execution_count": 45,
   "id": "72b3f231-6d0b-4692-be3a-29e0e51b2949",
   "metadata": {},
   "outputs": [],
   "source": [
    "import numpy as np\n",
    "import librosa.feature as ft\n",
    "import wave\n",
    "import struct\n",
    "import matplotlib.pyplot as plt\n",
    "import librosa"
   ]
  },
  {
   "cell_type": "code",
   "execution_count": 33,
   "id": "ba4b2b12-4e8e-4432-b366-41317f3c4dfd",
   "metadata": {},
   "outputs": [
    {
     "data": {
      "image/png": "[encoded data removed]",
      "text/plain": [
       "<Figure size 432x288 with 1 Axes>"
      ]
     },
     "metadata": {
      "needs_background": "light"
     },
     "output_type": "display_data"
    }
   ],
   "source": [
    "audioFile = './Gtr-ord-A#4-mf-3c.wav'\n",
    "wavefile = wave.open(audioFile, 'rb')\n",
    "Fs = int(wavefile.getframerate())\n",
    "num_samples = int(wavefile.getnframes())\n",
    "data = wavefile.readframes(num_samples)\n",
    "data = struct.unpack('{n}h'.format(n=num_samples), data)\n",
    "x = np.array(data, dtype = 'float')\n",
    "plt.figure()\n",
    "plt.plot(x)\n",
    "plt.show()"
   ]
  },
  {
   "cell_type": "code",
   "execution_count": 101,
   "id": "e3f3622c-d3d7-466b-a70e-cf156d28ac86",
   "metadata": {},
   "outputs": [],
   "source": [
    "'''\n",
    "    y = np.ndarray [shape=(…, n)] or None\n",
    "        audio time series. Multi-channel is supported.\n",
    "        \n",
    "    sr = number > 0 [scalar]\n",
    "        audio sampling rate of y\n",
    "        \n",
    "    S = np.ndarray [shape=(…, d, t)] or None\n",
    "        (optional) spectrogram magnitude\n",
    "        \n",
    "    n_fft = int > 0 [scalar]\n",
    "        FFT window size\n",
    "        \n",
    "    hop_length = int > 0 [scalar]\n",
    "        hop length for STFT. See librosa.stft for details.\n",
    "        \n",
    "    win_length = int <= n_fft [scalar]\n",
    "        Each frame of audio is windowed by window(). The window will be of length win_length and then padded with zeros to match n_fft. If unspecified, defaults to win_length = n_fft.\n",
    "    \n",
    "    freq = None or np.ndarray [shape=(d,) or shape=(…, d, t)]\n",
    "        Center frequencies for spectrogram bins. If None, then FFT bin center frequencies are used. Otherwise, it can be a single array of d center frequencies, or a matrix of center frequencies as constructed by librosa.reassigned_spectrogram\n",
    "        \n",
    "    window = string, tuple, number, function, or np.ndarray [shape=(n_fft,)]\n",
    "            a window specification (string, tuple, or number); see scipy.signal.get_window\n",
    "            a window function, such as scipy.signal.windows.hann\n",
    "            a vector or array of length n_fft\n",
    "\n",
    "    center =boolean\n",
    "            If True, the signal y is padded so that frame t is centered at y[t * hop_length].\n",
    "            If False, then frame t begins at y[t * hop_length]\n",
    "\n",
    "    pad_mode = string\n",
    "        If center=True, the padding mode to use at the edges of the signal. By default, STFT uses zero padding.\n",
    "        \n",
    "    \n",
    "    centroid = None or np.ndarray [shape=(…, 1, t)]\n",
    "        pre-computed centroid frequencies\n",
    "        \n",
    "    norm = bool\n",
    "        Normalize per-frame spectral energy (sum to one)\n",
    "        \n",
    "    p = float > 0\n",
    "        Power to raise deviation from spectral centroid.\n",
    "    \n",
    "    fmin = float > 0\n",
    "    Frequency cutoff for the first bin [0, fmin] Subsequent bins will cover [fmin, 2*fmin]`, `[2*fmin, 4*fmin], etc.\n",
    "    \n",
    "    n_bands = int > 1\n",
    "    number of frequency bands\n",
    "    \n",
    "    quantile = float in (0, 1)\n",
    "    quantile for determining peaks and valleys\n",
    "    \n",
    "    linear = bool\n",
    "    If True, return the linear difference of magnitudes: peaks - valleys. If False, return the logarithmic difference: log(peaks) - log(valleys).\n",
    "    \n",
    "    amin = float > 0 [scalar]\n",
    "    minimum threshold for S (=added noise floor for numerical stability)\n",
    "    \n",
    "    power = float > 0 [scalar]\n",
    "    Exponent for the magnitude spectrogram. e.g., 1 for energy, 2 for power, etc. Power spectrogram is usually used for computing spectral flatness.\n",
    "    \n",
    "    roll_percent  =float [0 < roll_percent < 1]\n",
    "    Roll-off percentage.\n",
    "\n",
    "\n",
    "'''\n",
    "\n",
    "\n",
    "\n",
    "def compute_features(data, sr=22050, S=None, n_fft=2048, frame_length=2048, hop_length=512, win_length=None, window='hann',\n",
    "                     center=True, pad_mode='constant', freq=None, fmin=200.0, n_bands=6, quantile=0.02, linear=False, centroid=None, norm=True,\n",
    "                     p=2, amin=1e-10, power=2.0,roll_percent=0.85):\n",
    "    \n",
    "    \n",
    "    cent = librosa.feature.spectral_centroid(y=data, sr=sr, S=S, n_fft=n_fft, hop_length=hop_length, freq = freq,\n",
    "                                             win_length=win_length, window=window, center=center, pad_mode=pad_mode)\n",
    "    spec_bw = librosa.feature.spectral_bandwidth(y=data, sr=sr, S=S, n_fft=n_fft, hop_length=hop_length, win_length=win_length, window=window, \n",
    "                                                 center=center, pad_mode=pad_mode, freq=freq, centroid=centroid, norm=norm, p=p)\n",
    "    contrast = librosa.feature.spectral_contrast(y=data, sr=sr, S=S, n_fft=n_fft, hop_length=hop_length, win_length=win_length, window=window, center=center,\n",
    "                                                 pad_mode=pad_mode, freq=freq, fmin=fmin, n_bands=n_bands, quantile=quantile, linear=linear)\n",
    "    \n",
    "    flatness = librosa.feature.spectral_flatness(y=data, S=S, n_fft=n_fft, hop_length=hop_length, win_length=win_length, window=window, center=center,\n",
    "                                                 pad_mode=pad_mode, amin=amin, power=power)\n",
    "    \n",
    "    rolloff = librosa.feature.spectral_rolloff(y=data, sr=sr, S=S, n_fft=n_fft, hop_length=hop_length, win_length=win_length, window=window, \n",
    "                                                center=center, pad_mode=pad_mode, freq=freq, roll_percent=roll_percent)\n",
    "    zcr = librosa.feature.zero_crossing_rate(y=data, frame_length=frame_length, hop_length=hop_length, center=center)\n",
    "    \n",
    "    rms = librosa.feature.rms(y=data, S=S, frame_length=frame_length, hop_length=hop_length, center=center, pad_mode=pad_mode)\n",
    "\n",
    "    dict_features = {}\n",
    "    dict_features['spectral_centroid'] = cent\n",
    "    dict_features['spectral_bandwidth'] = spec_bw\n",
    "    dict_features['spectral_contrast'] = contrast\n",
    "    dict_features['spectral_flatness'] = flatness\n",
    "    dict_features['spectral_rolloff'] = rolloff\n",
    "    dict_features['zero_crossing_rate'] = zcr\n",
    "    dict_features['rms'] = rms\n",
    "    \n",
    "    \n",
    "    return dict_features\n",
    "        "
   ]
  },
  {
   "cell_type": "code",
   "execution_count": 102,
   "id": "3fe60843-d5e2-4b92-9e69-83e76568996d",
   "metadata": {},
   "outputs": [],
   "source": [
    "dict_features = compute_features(x, sr=22050, S=None, n_fft=2048, hop_length=512, win_length=None, window='hann',\n",
    "                     center=True, pad_mode='constant', freq=None, fmin=200.0, n_bands=6, quantile=0.02, linear=False, centroid=None, norm=True,\n",
    "                     p=2, amin=1e-10, power=2.0,roll_percent=0.85)"
   ]
  },
  {
   "cell_type": "code",
   "execution_count": 103,
   "id": "27b62970-e075-49ad-a804-9f7bf2337585",
   "metadata": {},
   "outputs": [
    {
     "name": "stdout",
     "output_type": "stream",
     "text": [
      "dict_keys(['spectral_centroid', 'spectral_bandwidth', 'spectral_contrast', 'spectral_flatness', 'spectral_rolloff', 'zero_crossing_rate', 'rms'])\n"
     ]
    }
   ],
   "source": [
    "print(dict_features.keys())"
   ]
  }
 ],
 "metadata": {
  "kernelspec": {
   "display_name": "Python 3 (ipykernel)",
   "language": "python",
   "name": "python3"
  },
  "language_info": {
   "codemirror_mode": {
    "name": "ipython",
    "version": 3
   },
   "file_extension": ".py",
   "mimetype": "text/x-python",
   "name": "python",
   "nbconvert_exporter": "python",
   "pygments_lexer": "ipython3",
   "version": "3.9.1"
  }
 },
 "nbformat": 4,
 "nbformat_minor": 5
}
