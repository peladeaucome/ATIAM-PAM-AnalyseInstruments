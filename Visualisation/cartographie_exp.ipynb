{
 "cells": [
  {
   "cell_type": "code",
   "execution_count": 2,
   "id": "deaee625-094b-4e44-8dc5-34ff12e114ed",
   "metadata": {},
   "outputs": [],
   "source": [
    "import pickle\n",
    "import matplotlib.pyplot as plt\n",
    "import numpy as np\n",
    "from IPython.display import display, Audio\n",
    "import librosa.feature as ft\n",
    "import wave\n",
    "import struct\n",
    "import librosa\n",
    "import time\n",
    "import librosa.display\n",
    "from os import listdir\n",
    "from os.path import isfile, join\n",
    "import scipy.io"
   ]
  },
  {
   "cell_type": "code",
   "execution_count": 3,
   "id": "9ae29a81-4e8e-4c29-9ac1-4c822bffa1d3",
   "metadata": {},
   "outputs": [],
   "source": [
    "def remove_init_noise(sig, fs, method=\"mean\", ratio_parameter = 6, len_noise = 1000) :\n",
    "    \"\"\"\n",
    "    Renvoie le signal tronqué avec le vecteurs temps associé\n",
    "\n",
    "    # Inputs\n",
    "    - sig : signal audio à tronquer\n",
    "    - fs : fréquence d'échantillonnage (utile pour regénérer le vecteur temps)\n",
    "    - ratio_parameter : paramètre à adapter pour couper plus ou moins le bruit. 6 par défaut\n",
    "\n",
    "    # Ouputs\n",
    "    - time : nouveau vecteur temps\n",
    "    - sig : nouveau signal audio tronqué\n",
    "    \"\"\"\n",
    "    sig /= np.max(np.abs(sig))\n",
    "    noise = sig[:len_noise]\n",
    "    if method == \"mean\" :\n",
    "        noise_threshold = np.mean(np.abs(noise))\n",
    "    elif method == \"max\" :\n",
    "        noise_threshold = np.max(np.abs(noise))\n",
    "\n",
    "    i=0\n",
    "    while np.abs(sig[i]) < ratio_parameter*noise_threshold :\n",
    "        i += 1\n",
    "    #i correspond au premier indice au dessus du seuil\n",
    "    sig = sig[i:]\n",
    "    time = np.arange(len(sig))/fs\n",
    "    return time, sig"
   ]
  },
  {
   "cell_type": "code",
   "execution_count": 4,
   "id": "c9dab8e0-8e84-4e51-9a17-f1ca327c2f81",
   "metadata": {},
   "outputs": [
    {
     "name": "stderr",
     "output_type": "stream",
     "text": [
      "c:\\users\\ulysse\\appdata\\local\\programs\\python\\python39\\lib\\site-packages\\scipy\\io\\matlab\\mio.py:224: MatReadWarning: Duplicate variable name \"None\" in stream - replacing previous with new\n",
      "Consider mio5.varmats_from_mat to split file into single variable files\n",
      "  matfile_dict = MR.get_variables(variable_names)\n"
     ]
    }
   ],
   "source": [
    "monRepertoire_experience = '../../Mesures/Mesures_2023.01.27_LAM_normalise/'\n",
    "fichiers_table = [f for f in listdir(monRepertoire_experience) if not isfile(join(monRepertoire_experience, f))]\n",
    "data_experience = {}\n",
    "for matiere in fichiers_table:\n",
    "    fichiers_corde = [f for f in listdir(monRepertoire_experience+matiere) if not isfile(join(monRepertoire_experience+matiere, f))]\n",
    "    for corde in fichiers_corde:\n",
    "        fichiers_mat = [f for f in listdir(monRepertoire_experience+matiere+'/'+corde) if (isfile(join(monRepertoire_experience+matiere+'/'+corde, f) ))]\n",
    "        for mat in fichiers_mat:\n",
    "            if mat != \".DS_Store\":\n",
    "                sig = scipy.io.loadmat(monRepertoire_experience+matiere+'/'+corde+'/'+mat)['acc_t']\n",
    "                fs = scipy.io.loadmat(monRepertoire_experience+matiere+'/'+corde+'/'+mat)['fs'][0][0]\n",
    "                time, wav = remove_init_noise(sig, fs, method=\"mean\", ratio_parameter = 6, len_noise = 10000)\n",
    "                wav = wav[:int(fs*3)]\n",
    "                data_experience[matiere+'_'+corde+'_'+mat] = {}\n",
    "                data_experience[matiere+'_'+corde+'_'+mat]['data'] = wav\n",
    "                data_experience[matiere+'_'+corde+'_'+mat]['table_matiere'] = matiere\n",
    "                data_experience[matiere+'_'+corde+'_'+mat]['corde_matiere'] = corde\n",
    "                data_experience[matiere+'_'+corde+'_'+mat]['corde_plectre'] = mat\n",
    "                data_experience[matiere+'_'+corde+'_'+mat]['Fe'] = fs\n",
    "                \n",
    "                if matiere == 'Metal':\n",
    "                    data_experience[matiere+'_'+corde+'_'+mat]['rho_table'] = 2700\n",
    "                if matiere == 'Plexi':\n",
    "                    data_experience[matiere+'_'+corde+'_'+mat]['rho_table'] = 1180\n",
    "                if matiere == 'Medium_1':\n",
    "                    data_experience[matiere+'_'+corde+'_'+mat]['rho_table'] = 600\n",
    "                if matiere == 'Medium_2':\n",
    "                    data_experience[matiere+'_'+corde+'_'+mat]['rho_table'] = 800\n",
    "                \n",
    "                if 'C_1' in mat:\n",
    "                    data_experience[matiere+'_'+corde+'_'+mat]['corde_numero'] = 1\n",
    "                if 'C_2' in mat:\n",
    "                    data_experience[matiere+'_'+corde+'_'+mat]['corde_numero'] = 2\n",
    "                if 'C_3' in mat:\n",
    "                    data_experience[matiere+'_'+corde+'_'+mat]['corde_numero'] = 3\n",
    "                if 'C_4' in mat:\n",
    "                    data_experience[matiere+'_'+corde+'_'+mat]['corde_numero'] = 4\n",
    "                if 'C_5' in mat:\n",
    "                    data_experience[matiere+'_'+corde+'_'+mat]['corde_numero'] = 5\n",
    "                if 'C_6' in mat:\n",
    "                    data_experience[matiere+'_'+corde+'_'+mat]['corde_numero'] = 6\n",
    "                    \n",
    "                if 'P_1' in mat:\n",
    "                    data_experience[matiere+'_'+corde+'_'+mat]['plectre_numero'] = 1\n",
    "                if 'P_2' in mat:\n",
    "                    data_experience[matiere+'_'+corde+'_'+mat]['plectre_numero'] = 2\n",
    "                if 'P_3' in mat:\n",
    "                    data_experience[matiere+'_'+corde+'_'+mat]['plectre_numero'] = 3\n",
    "                if 'P_4' in mat:\n",
    "                    data_experience[matiere+'_'+corde+'_'+mat]['plectre_numero'] = 4"
   ]
  },
  {
   "cell_type": "code",
   "execution_count": null,
   "id": "cff49365-f35e-4256-a6b2-ca39a6a0c3d0",
   "metadata": {},
   "outputs": [],
   "source": [
    "all_cle_exp = list(data_experience.keys())"
   ]
  },
  {
   "cell_type": "code",
   "execution_count": null,
   "id": "0c40bd25-b36c-42ee-b3e7-542454aa4a16",
   "metadata": {},
   "outputs": [],
   "source": [
    "x_exp = data_experience[all_cle_exp[7]]['data']\n",
    "Fe_exp = data_experience[all_cle_exp[0]]['Fe']\n",
    "t_exp = np.linspace(0,3, len(x_exp))\n",
    "plt.figure()\n",
    "plt.plot(x_exp)"
   ]
  },
  {
   "cell_type": "code",
   "execution_count": null,
   "id": "3c8cd133-01a7-4db8-8cb0-e62e596205ca",
   "metadata": {},
   "outputs": [],
   "source": [
    "display(Audio(x_exp.T, rate=Fe_exp))"
   ]
  },
  {
   "cell_type": "code",
   "execution_count": null,
   "id": "0e99cf44-0a5f-453f-8e16-828959a8069e",
   "metadata": {},
   "outputs": [],
   "source": [
    "M_before_exp = np.zeros((len(x_exp), len(data_experience.keys())))\n",
    "x_axis_exp = np.zeros(len(data_experience.keys()))\n",
    "corde_numero_exp = np.zeros(len(data_experience.keys()))\n",
    "i=0\n",
    "for cle in all_cle_exp:\n",
    "    M_before_exp[:,i] = np.reshape(data_experience[cle]['data'][:len(x_exp)],(len(x_exp)))\n",
    "    x_axis_exp[i] = data_experience[cle]['rho_table']\n",
    "    corde_numero_exp[i] = data_experience[cle]['corde_numero']\n",
    "    i+=1\n",
    "\n",
    "inds_exp = x_axis_exp.argsort()\n",
    "x_axis_exp = np.take_along_axis(x_axis_exp, inds_exp, axis=0)\n",
    "M_exp=np.zeros((len(x_exp), len(data_experience.keys())))\n",
    "for k in range(len(inds_exp)):\n",
    "    M_exp[:,k] = M_before_exp[:,inds_exp[k]]"
   ]
  },
  {
   "cell_type": "code",
   "execution_count": null,
   "id": "53bef0f6-d347-4eac-a76b-00588b6c89e1",
   "metadata": {},
   "outputs": [],
   "source": [
    "data_features_exp={}\n",
    "for k in range(len(data_experience.keys())):\n",
    "    data_features_exp[all_cle_exp[k]] = compute_features(M_exp[:,k], sr=Fe_exp, S=None, n_fft=2048, hop_length=256, win_length=None, window='hann',\n",
    "                     center=True, pad_mode='constant', freq=None, fmin=200.0, n_bands=6, quantile=0.02, linear=False, centroid=None, norm=True,\n",
    "                     p=2, amin=1e-10, power=2.0,roll_percent=0.85)"
   ]
  },
  {
   "cell_type": "code",
   "execution_count": null,
   "id": "45c74e99-bc5a-47fe-9c63-b7e6758f19ac",
   "metadata": {},
   "outputs": [],
   "source": [
    "#Ou commencer et finir la visualtion\n",
    "debut = 100\n",
    "fin = -10"
   ]
  },
  {
   "cell_type": "code",
   "execution_count": null,
   "id": "e081586f-7b8d-4f63-ab2f-5d7847d74af5",
   "metadata": {},
   "outputs": [],
   "source": [
    "M_spec_bw_exp = np.zeros((len(data_features_exp[all_cle_exp[0]]['spectral_bandwidth'][0]),len(data_experience.keys())))\n",
    "i=0\n",
    "for cle in all_cle_exp:\n",
    "    M_spec_bw_exp[:,i] = data_features_exp[cle]['spectral_bandwidth'][0]\n",
    "    i+=1\n",
    "\n",
    "plt.figure()\n",
    "c = plt.imshow(M_spec_bw_exp[debut:fin,:],extent =[x_axis_exp.min(), x_axis_exp.max(), t_exp.min(), t_exp.max()],aspect='auto')\n",
    "plt.colorbar(c)\n",
    "\n",
    "\n",
    "\n",
    "plt.figure(figsize = (15,10))\n",
    "for k in range(M_exp.shape[1]):\n",
    "    if x_axis_exp[k] == 1180:\n",
    "        plt.plot(np.log(M_spec_bw_exp[debut:fin,k]), label = 'E = '+str(x_axis_exp[k]))\n",
    "        plt.legend(loc=\"upper right\")"
   ]
  },
  {
   "cell_type": "code",
   "execution_count": null,
   "id": "2f25f3d2-b854-4699-88d5-f577f177203a",
   "metadata": {},
   "outputs": [],
   "source": [
    "M_cent_exp = np.zeros((len(data_features_exp[all_cle_exp[0]]['spectral_centroid'][0]),len(data_experience.keys())))\n",
    "i=0\n",
    "for cle in all_cle_exp:\n",
    "    M_cent_exp[:,i] = data_features_exp[cle]['spectral_centroid'][0]\n",
    "    i+=1\n",
    "    \n",
    "plt.figure()\n",
    "c = plt.imshow(np.log(M_cent_exp[debut:fin,:]),extent =[x_axis_exp.min(), x_axis_exp.max(), t_exp.min(), t_exp.max()],aspect='auto')\n",
    "plt.colorbar(c)\n",
    "\n",
    "plt.figure(figsize = (15,10))\n",
    "for k in range(M_exp.shape[1]):\n",
    "    if x_axis_exp[k] == 1180:\n",
    "        plt.plot(np.log(M_cent_exp[debut:fin,k]), label = 'E = '+str(x_axis_exp[k]))\n",
    "        plt.legend(loc=\"upper right\")"
   ]
  },
  {
   "cell_type": "code",
   "execution_count": null,
   "id": "5c898e33-9729-4dc1-957f-fce1548df2cc",
   "metadata": {},
   "outputs": [],
   "source": [
    "M_contrast_exp = np.zeros((len(data_features_exp[all_cle_exp[0]]['spectral_contrast'][0]),len(data_experience.keys())))\n",
    "i=0\n",
    "for cle in all_cle_exp:\n",
    "    M_contrast_exp[:,i] = data_features_exp[cle]['spectral_contrast'][0]\n",
    "    i+=1\n",
    "    \n",
    "plt.figure()\n",
    "c = plt.imshow(M_contrast_exp[debut:fin,:],extent =[x_axis_exp.min(), x_axis_exp.max(), t_exp.min(), t_exp.max()],aspect='auto')\n",
    "plt.colorbar(c)\n",
    "\n",
    "plt.figure(figsize = (15,10))\n",
    "for k in range(M_exp.shape[1]):\n",
    "\n",
    "        plt.plot(M_contrast_exp[debut:fin,k], label = 'E = '+str(x_axis_exp[k]))\n",
    "        plt.legend(loc=\"upper right\")"
   ]
  },
  {
   "cell_type": "code",
   "execution_count": null,
   "id": "93be9d81-210a-4d0d-b86f-74b26437ab7e",
   "metadata": {},
   "outputs": [],
   "source": [
    "fig, ax = plt.subplots(3,2, figsize=(20,14))\n",
    "ax[0,0].plot(x_axis_exp[np.where(corde_numero_exp==3)],np.mean(M_spec_bw_exp[debut:fin,np.where(corde_numero_exp==3)[0]] /np.max(np.abs(M_spec_bw_exp[:,np.where(corde_numero_exp==3)[0]])), axis=0),'o-')\n",
    "ax[1,0].plot(x_axis_exp[np.where(corde_numero_exp==3)],np.mean(M_cent_exp[debut:fin,np.where(corde_numero_exp==3)[0]] /np.max(np.abs(M_cent_exp[:,np.where(corde_numero_exp==3)[0]])), axis=0),'o-')\n",
    "ax[2,0].plot(x_axis_exp[np.where(corde_numero_exp==3)],np.mean(M_contrast_exp[debut:fin,np.where(corde_numero_exp==3)[0]] /np.max(np.abs(M_contrast_exp[:,np.where(corde_numero_exp==3)[0]])), axis=0),'o-')\n",
    "'''\n",
    "ax[0,1].plot(x_axis,np.mean(M_flatness[debut:fin,:] /np.max(np.abs(M_flatness[debut:fin,:])), axis=0),'o-')\n",
    "ax[1,1].plot(x_axis,np.mean(M_slope[debut:fin,:] /np.max(np.abs(M_slope[debut:fin,:])), axis=0),'o-')\n",
    "ax[2,1].plot(x_axis,np.mean(M_rolloff[debut:fin,:] /np.max(np.abs(M_rolloff[debut:fin,:])), axis=0),'o-')\n",
    "'''\n",
    "\n",
    "ax[0,0].set_title(\"M_spec_bw\")\n",
    "ax[1,0].set_title(\"M_cent\")\n",
    "ax[2,0].set_title(\"M_contrast\")\n",
    "ax[0,1].set_title(\"M_flatness\") \n",
    "ax[1,1].set_title(\"M_slope\")\n",
    "ax[2,1].set_title(\"M_rolloff\")\n",
    "\n",
    "'''\n",
    "for i in range(3):\n",
    "    for j in range(2):\n",
    "        ax[i,j].set_xscale('log')\n",
    "'''"
   ]
  }
 ],
 "metadata": {
  "kernelspec": {
   "display_name": "Python 3 (ipykernel)",
   "language": "python",
   "name": "python3"
  },
  "language_info": {
   "codemirror_mode": {
    "name": "ipython",
    "version": 3
   },
   "file_extension": ".py",
   "mimetype": "text/x-python",
   "name": "python",
   "nbconvert_exporter": "python",
   "pygments_lexer": "ipython3",
   "version": "3.9.1"
  }
 },
 "nbformat": 4,
 "nbformat_minor": 5
}
