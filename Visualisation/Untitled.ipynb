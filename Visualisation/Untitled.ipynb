{
 "cells": [
  {
   "cell_type": "code",
   "execution_count": null,
   "id": "e832aa95-de34-459b-b5b4-a2c28231d69c",
   "metadata": {},
   "outputs": [],
   "source": [
    "import pickle\n",
    "import matplotlib.pyplot as plt\n",
    "import numpy as np\n",
    "from IPython.display import display, Audio\n",
    "import librosa.feature as ft\n",
    "import wave\n",
    "import struct\n",
    "import librosa\n",
    "import time\n",
    "import librosa.display\n",
    "from os import listdir\n",
    "from os.path import isfile, join\n",
    "import scipy.io\n",
    "from mpl_toolkits import mplot3d\n",
    "import pickle\n",
    "%matplotlib widget"
   ]
  },
  {
   "cell_type": "code",
   "execution_count": null,
   "id": "d9468e27-c4a5-4894-a181-587882d62a5d",
   "metadata": {},
   "outputs": [],
   "source": [
    "def remove_init_noise(sig, fs, method=\"mean\", ratio_parameter = 6, len_noise = 1000) :\n",
    "    \"\"\"\n",
    "    Renvoie le signal tronqué avec le vecteurs temps associé\n",
    "\n",
    "    # Inputs\n",
    "    - sig : signal audio à tronquer\n",
    "    - fs : fréquence d'échantillonnage (utile pour regénérer le vecteur temps)\n",
    "    - ratio_parameter : paramètre à adapter pour couper plus ou moins le bruit. 6 par défaut\n",
    "\n",
    "    # Ouputs\n",
    "    - time : nouveau vecteur temps\n",
    "    - sig : nouveau signal audio tronqué\n",
    "    \"\"\"\n",
    "    sig /= np.max(np.abs(sig))\n",
    "    noise = sig[:len_noise]\n",
    "    if method == \"mean\" :\n",
    "        noise_threshold = np.mean(np.abs(noise))\n",
    "    elif method == \"max\" :\n",
    "        noise_threshold = np.max(np.abs(noise))\n",
    "\n",
    "    i=0\n",
    "    while np.abs(sig[i]) < ratio_parameter*noise_threshold :\n",
    "        i += 1\n",
    "    #i correspond au premier indice au dessus du seuil\n",
    "    sig = sig[i:]\n",
    "    time = np.arange(len(sig))/fs\n",
    "    return time, sig"
   ]
  },
  {
   "cell_type": "code",
   "execution_count": null,
   "id": "775d2f07-0dce-4de6-a07b-069be9c6235b",
   "metadata": {},
   "outputs": [],
   "source": [
    "repertoire_features_exp = '../../Mesures/Mesures_2023.01.27_LAM_normalise/audio_features_exp.pickle'\n",
    "\n",
    "monRepertoire_experience = '../../Mesures/Mesures_2023.01.27_LAM_normalise/'\n",
    "\n",
    "\n",
    "\n",
    "fichiers_table = [f for f in listdir(monRepertoire_experience) if not isfile(join(monRepertoire_experience, f))]\n",
    "data_experience = {}\n",
    "for matiere in fichiers_table:\n",
    "    fichiers_corde = [f for f in listdir(monRepertoire_experience+matiere) if not isfile(join(monRepertoire_experience+matiere, f))]\n",
    "    for corde in fichiers_corde:\n",
    "        fichiers_mat = [f for f in listdir(monRepertoire_experience+matiere+'/'+corde) if (isfile(join(monRepertoire_experience+matiere+'/'+corde, f) ))]\n",
    "        for mat in fichiers_mat:\n",
    "            if mat != \".DS_Store\":\n",
    "                sig = scipy.io.loadmat(monRepertoire_experience+matiere+'/'+corde+'/'+mat)['acc_t']\n",
    "                fs = scipy.io.loadmat(monRepertoire_experience+matiere+'/'+corde+'/'+mat)['fs'][0][0]\n",
    "                time, wav = remove_init_noise(sig, fs, method=\"mean\", ratio_parameter = 6, len_noise = 10000)\n",
    "\n",
    "                wav = wav[:int(fs*3)] #3 parce que les samples synthétiques font 3 secondes\n",
    "                xHarmo, xNoise = multiband_HN(data[cle])\n",
    "                xHarmo = np.real(xHarmo)\n",
    "                xNoise = np.real(xNoise)\n",
    "            "
   ]
  }
 ],
 "metadata": {
  "kernelspec": {
   "display_name": "Python 3 (ipykernel)",
   "language": "python",
   "name": "python3"
  },
  "language_info": {
   "codemirror_mode": {
    "name": "ipython",
    "version": 3
   },
   "file_extension": ".py",
   "mimetype": "text/x-python",
   "name": "python",
   "nbconvert_exporter": "python",
   "pygments_lexer": "ipython3",
   "version": "3.9.1"
  }
 },
 "nbformat": 4,
 "nbformat_minor": 5
}
