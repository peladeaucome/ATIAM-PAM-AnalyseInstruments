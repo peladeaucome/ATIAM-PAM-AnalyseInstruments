{
 "cells": [
  {
   "cell_type": "code",
   "execution_count": 1,
   "id": "e832aa95-de34-459b-b5b4-a2c28231d69c",
   "metadata": {},
   "outputs": [],
   "source": [
    "from ESPRIT_numpy import *\n",
    "import pickle\n",
    "import matplotlib.pyplot as plt\n",
    "import numpy as np\n",
    "from IPython.display import display, Audio\n",
    "import librosa.feature as ft\n",
    "import wave\n",
    "import struct\n",
    "import librosa\n",
    "import time\n",
    "import librosa.display\n",
    "from os import listdir\n",
    "from os.path import isfile, join\n",
    "import scipy.io\n",
    "from mpl_toolkits import mplot3d\n",
    "import pickle\n",
    "from scipy.io.wavfile import write\n",
    "%matplotlib widget"
   ]
  },
  {
   "cell_type": "code",
   "execution_count": 2,
   "id": "775d2f07-0dce-4de6-a07b-069be9c6235b",
   "metadata": {},
   "outputs": [
    {
     "name": "stdout",
     "output_type": "stream",
     "text": [
      "../../Mesures/Mesures_2023.01.27_LAM_normalise_copy/Metal/Corde_Acier/C_4_P_4.mat\n"
     ]
    },
    {
     "name": "stderr",
     "output_type": "stream",
     "text": [
      "c:\\users\\ulysse\\appdata\\local\\programs\\python\\python39\\lib\\site-packages\\scipy\\io\\matlab\\mio.py:224: MatReadWarning: Duplicate variable name \"None\" in stream - replacing previous with new\n",
      "Consider mio5.varmats_from_mat to split file into single variable files\n",
      "  matfile_dict = MR.get_variables(variable_names)\n"
     ]
    },
    {
     "name": "stdout",
     "output_type": "stream",
     "text": [
      "../../Mesures/Mesures_2023.01.27_LAM_normalise_copy/Metal/Corde_Acier/C_5_P_1.mat\n",
      "../../Mesures/Mesures_2023.01.27_LAM_normalise_copy/Metal/Corde_Acier/C_5_P_2.mat\n",
      "../../Mesures/Mesures_2023.01.27_LAM_normalise_copy/Metal/Corde_Acier/C_5_P_3.mat\n",
      "../../Mesures/Mesures_2023.01.27_LAM_normalise_copy/Metal/Corde_Acier/C_5_P_4.mat\n",
      "../../Mesures/Mesures_2023.01.27_LAM_normalise_copy/Metal/Corde_Acier/C_6_P_1.mat\n",
      "../../Mesures/Mesures_2023.01.27_LAM_normalise_copy/Metal/Corde_Acier/C_6_P_2.mat\n",
      "../../Mesures/Mesures_2023.01.27_LAM_normalise_copy/Metal/Corde_Acier/C_6_P_3.mat\n",
      "../../Mesures/Mesures_2023.01.27_LAM_normalise_copy/Metal/Corde_Acier/C_6_P_4.mat\n",
      "../../Mesures/Mesures_2023.01.27_LAM_normalise_copy/Plexi/Corde_Acier/C_1_P_1.mat\n",
      "../../Mesures/Mesures_2023.01.27_LAM_normalise_copy/Plexi/Corde_Acier/C_1_P_2.mat\n",
      "../../Mesures/Mesures_2023.01.27_LAM_normalise_copy/Plexi/Corde_Acier/C_1_P_3.mat\n",
      "../../Mesures/Mesures_2023.01.27_LAM_normalise_copy/Plexi/Corde_Acier/C_1_P_4.mat\n",
      "../../Mesures/Mesures_2023.01.27_LAM_normalise_copy/Plexi/Corde_Acier/C_2_P_1.mat\n",
      "../../Mesures/Mesures_2023.01.27_LAM_normalise_copy/Plexi/Corde_Acier/C_2_P_2.mat\n",
      "../../Mesures/Mesures_2023.01.27_LAM_normalise_copy/Plexi/Corde_Acier/C_2_P_3.mat\n",
      "../../Mesures/Mesures_2023.01.27_LAM_normalise_copy/Plexi/Corde_Acier/C_2_P_4.mat\n",
      "../../Mesures/Mesures_2023.01.27_LAM_normalise_copy/Plexi/Corde_Acier/C_3_P_1.mat\n",
      "../../Mesures/Mesures_2023.01.27_LAM_normalise_copy/Plexi/Corde_Acier/C_3_P_2.mat\n",
      "../../Mesures/Mesures_2023.01.27_LAM_normalise_copy/Plexi/Corde_Acier/C_3_P_3.mat\n",
      "../../Mesures/Mesures_2023.01.27_LAM_normalise_copy/Plexi/Corde_Acier/C_3_P_4.mat\n",
      "../../Mesures/Mesures_2023.01.27_LAM_normalise_copy/Plexi/Corde_Acier/C_4_P_1.mat\n",
      "../../Mesures/Mesures_2023.01.27_LAM_normalise_copy/Plexi/Corde_Acier/C_4_P_2.mat\n",
      "../../Mesures/Mesures_2023.01.27_LAM_normalise_copy/Plexi/Corde_Acier/C_4_P_3.mat\n",
      "../../Mesures/Mesures_2023.01.27_LAM_normalise_copy/Plexi/Corde_Acier/C_4_P_4.mat\n",
      "../../Mesures/Mesures_2023.01.27_LAM_normalise_copy/Plexi/Corde_Acier/C_5_P_1.mat\n",
      "../../Mesures/Mesures_2023.01.27_LAM_normalise_copy/Plexi/Corde_Acier/C_5_P_2.mat\n",
      "../../Mesures/Mesures_2023.01.27_LAM_normalise_copy/Plexi/Corde_Acier/C_5_P_3.mat\n",
      "../../Mesures/Mesures_2023.01.27_LAM_normalise_copy/Plexi/Corde_Acier/C_5_P_4.mat\n",
      "../../Mesures/Mesures_2023.01.27_LAM_normalise_copy/Plexi/Corde_Acier/C_6_P_1.mat\n",
      "../../Mesures/Mesures_2023.01.27_LAM_normalise_copy/Plexi/Corde_Acier/C_6_P_2.mat\n",
      "../../Mesures/Mesures_2023.01.27_LAM_normalise_copy/Plexi/Corde_Acier/C_6_P_3.mat\n",
      "../../Mesures/Mesures_2023.01.27_LAM_normalise_copy/Plexi/Corde_Acier/C_6_P_4.mat\n"
     ]
    }
   ],
   "source": [
    "repertoire_experience_hr = '../../Mesures/Mesures_2023.01.27_LAM_normalise_hr/'\n",
    "repertoire_experience_hr_harmo = repertoire_experience_hr +'harmo/'\n",
    "repertoire_experience_hr_bruit = repertoire_experience_hr +'bruit/'\n",
    "\n",
    "monRepertoire_experience = '../../Mesures/Mesures_2023.01.27_LAM_normalise_copy/'\n",
    "\n",
    "\n",
    "\n",
    "fichiers_table = [f for f in listdir(monRepertoire_experience) if not isfile(join(monRepertoire_experience, f))]\n",
    "data_experience = {}\n",
    "for matiere in fichiers_table:\n",
    "    fichiers_corde = [f for f in listdir(monRepertoire_experience+matiere) if not isfile(join(monRepertoire_experience+matiere, f))]\n",
    "    for corde in fichiers_corde:\n",
    "        fichiers_mat = [f for f in listdir(monRepertoire_experience+matiere+'/'+corde) if (isfile(join(monRepertoire_experience+matiere+'/'+corde, f) ))]\n",
    "        for mat in fichiers_mat:\n",
    "            \n",
    "            if mat != \".DS_Store\":\n",
    "                print(monRepertoire_experience+matiere+'/'+corde+'/'+mat)\n",
    "                sig = scipy.io.loadmat(monRepertoire_experience+matiere+'/'+corde+'/'+mat)['acc_t'][:,0]\n",
    "                fs = scipy.io.loadmat(monRepertoire_experience+matiere+'/'+corde+'/'+mat)['fs'][0][0]\n",
    "                fe = 22050\n",
    "                sig_resample = scipy.signal.resample(sig, int(len(sig)*(fe/fs)), t=None, axis=0, window=None, domain='time')\n",
    "                \n",
    "                xHarmo, xNoise = multiband_HN(sig_resample)\n",
    "                xHarmo = np.real(xHarmo)\n",
    "                xNoise = np.real(xNoise)\n",
    "                write(repertoire_experience_hr_harmo +matiere+'/'+corde+'/'+mat[:-4] +'.wav',rate=fe ,data = xHarmo / max(xHarmo))\n",
    "                write(repertoire_experience_hr_bruit +matiere+'/'+corde+'/'+mat[:-4] +'.wav',rate=fe ,data = xNoise / max(xNoise))"
   ]
  },
  {
   "cell_type": "code",
   "execution_count": null,
   "id": "728dc331-cd78-489f-b60c-25438d021f9b",
   "metadata": {},
   "outputs": [],
   "source": []
  }
 ],
 "metadata": {
  "kernelspec": {
   "display_name": "Python 3 (ipykernel)",
   "language": "python",
   "name": "python3"
  },
  "language_info": {
   "codemirror_mode": {
    "name": "ipython",
    "version": 3
   },
   "file_extension": ".py",
   "mimetype": "text/x-python",
   "name": "python",
   "nbconvert_exporter": "python",
   "pygments_lexer": "ipython3",
   "version": "3.9.1"
  }
 },
 "nbformat": 4,
 "nbformat_minor": 5
}
