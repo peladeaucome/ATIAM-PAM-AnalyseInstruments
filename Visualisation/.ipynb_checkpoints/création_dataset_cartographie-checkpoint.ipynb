{
 "cells": [
  {
   "cell_type": "code",
   "execution_count": 1,
   "metadata": {},
   "outputs": [],
   "source": [
    "import fonction2 as f\n",
    "import numpy as np\n",
    "import os \n",
    "from IPython.display import display, Audio\n",
    "import time as time\n",
    "import pickle\n",
    "from scipy.io.wavfile import write\n",
    "import matplotlib.pyplot as plt\n",
    "from pyDOE import lhs"
   ]
  },
  {
   "cell_type": "code",
   "execution_count": 2,
   "metadata": {},
   "outputs": [
    {
     "data": {
      "text/plain": [
       "0.005473911039614855"
      ]
     },
     "execution_count": 2,
     "metadata": {},
     "output_type": "execute_result"
    }
   ],
   "source": [
    "1000 * (1.32e-3)**2 * np.pi"
   ]
  },
  {
   "cell_type": "code",
   "execution_count": 3,
   "metadata": {},
   "outputs": [],
   "source": [
    "def latin_hypercube_sample(n, dim, bounds):\n",
    "    \"\"\"\n",
    "    Generate a Latin Hypercube sample of size n in dim dimensions, with bounds on each dimension.\n",
    "    :param n: Number of samples to generate.\n",
    "    :param dim: Number of dimensions.\n",
    "    :param bounds: List of tuples specifying the lower and upper bounds for each dimension.\n",
    "    \"\"\"\n",
    "\n",
    "    # Generate the Latin Hypercube sample\n",
    "    samples = lhs(dim, samples=n, criterion='center')\n",
    "    # Scale and translate the samples to the correct bounds\n",
    "    for i in range(dim):\n",
    "        samples[:, i] = samples[:, i] * (bounds[i][1] - bounds[i][0]) + bounds[i][0]\n",
    "\n",
    "    return samples\n"
   ]
  },
  {
   "cell_type": "code",
   "execution_count": 4,
   "metadata": {},
   "outputs": [],
   "source": [
    "erreur_sup = 1.01\n",
    "erreur_inf = 0.99"
   ]
  },
  {
   "cell_type": "code",
   "execution_count": 5,
   "metadata": {},
   "outputs": [
    {
     "data": {
      "text/plain": [
       "110.05892485075454"
      ]
     },
     "execution_count": 5,
     "metadata": {},
     "output_type": "execute_result"
    }
   ],
   "source": [
    "np.sqrt(73.9/((3.61) * 10**(-3))) * (1/(2*0.65 ))"
   ]
  },
  {
   "cell_type": "code",
   "execution_count": 6,
   "metadata": {},
   "outputs": [
    {
     "data": {
      "text/plain": [
       "17.779133037325636"
      ]
     },
     "execution_count": 6,
     "metadata": {},
     "output_type": "execute_result"
    }
   ],
   "source": [
    "(110.05892485075454 * 2*0.655)**2 * 0.000855298"
   ]
  },
  {
   "cell_type": "code",
   "execution_count": 7,
   "metadata": {},
   "outputs": [],
   "source": [
    "##corde article: \n",
    "\n",
    "T_min = 73.9 \n",
    "T_max = 73.9\n",
    "\n",
    "rho_vol_min = 1100  * erreur_inf\n",
    "rho_vol_max = 1100 * erreur_sup\n",
    "\n",
    "\n",
    "Lc_min = 0.65 \n",
    "Lc_max = 0.65\n",
    "\n",
    "r_min = (0.5) * 10e-3\n",
    "r_max = (0.5) * 10e-3\n",
    "\n",
    "rho_l_min = rho_vol_min * np.pi * (r_min**2)\n",
    "rho_l_max = rho_vol_max * np.pi * (r_max**2)\n",
    "\n",
    "masseC_min = rho_l_min * Lc_min\n",
    "masseC_max = rho_l_max * Lc_max\n",
    "\n",
    "I_min =  masseC_min * r_min ** 2 / 2\n",
    "I_max = masseC_max * r_max **2 / 2\n",
    "\n",
    "B_min =  2.0356538647557615e-06  * erreur_inf\n",
    "B_max =  2.0356538647557615e-06 * erreur_sup\n",
    "\n",
    "E_corde_min = 2.9e9 * erreur_inf\n",
    "E_corde_max = 2.9e9 * erreur_sup\n"
   ]
  },
  {
   "cell_type": "code",
   "execution_count": 8,
   "metadata": {},
   "outputs": [],
   "source": [
    "#table composite :\n",
    "\n",
    "\n",
    "masseT_min = (391e-3) *erreur_inf\n",
    "masseT_max = (391e-3)*erreur_sup\n",
    "\n",
    "L_xmin = 0.40 \n",
    "L_xmax = 0.40\n",
    "\n",
    "L_ymin = 0.259  #largeur de la table (m)\n",
    "L_ymax= 0.259\n",
    "\n",
    "h_min = 6e-3\n",
    "h_max = 6e-3 \n",
    "\n",
    "rhoT_min = masseT_min / (L_xmax * L_ymax * h_max)  #masse volumique composite\n",
    "rhoT_max = masseT_max / (L_ymin * h_min * L_xmin)  #masse volumique composite\n",
    "\n",
    "nu_min = 0.33 *erreur_inf\n",
    "nu_max = 0.33 *erreur_sup\n",
    "\n",
    "ET_min = 10e9*erreur_inf\n",
    "ET_max = 10e9*erreur_sup\n"
   ]
  },
  {
   "cell_type": "code",
   "execution_count": 9,
   "metadata": {},
   "outputs": [],
   "source": [
    "N_point = 100\n",
    "\n",
    "bounds = [(T_min,T_max),(rho_l_min,rho_l_max),(Lc_min,Lc_max),( E_corde_min,E_corde_max),(I_min,I_max),(h_min,h_max),(nu_min,nu_max),\n",
    "           (ET_min,ET_max),(rhoT_min,rhoT_max),(L_xmin,L_xmax),(L_ymin,L_ymax)]\n",
    "\n",
    "XXX = latin_hypercube_sample(N_point,11,bounds)"
   ]
  },
  {
   "cell_type": "code",
   "execution_count": 10,
   "metadata": {},
   "outputs": [],
   "source": [
    "Fe=40000\n",
    "def creer_son(Fe, Tc,rho_l,L,E_corde,I,h,nu,E_table,rhoT,Lx,Ly):\n",
    "    MS, MS_inv,CS, KS, phiS_Nx_NmS, NmS, xS = f.corde(Tc,rho_l,L,E_corde,I) \n",
    "    tic = time.time()\n",
    "    # MB_ar,CB_ar,KB_ar,phiB_NxNy_NmB_ar,NmB_ar = f.plaque_article()\n",
    "    MB_mod, MB_mod_inv, CB_mod, KB_mod, phiB_NxNy_NmB_mod, NmB_mod, x, y= f.plaque_model(h,nu,E_table,rhoT,Lx,Ly)\n",
    "    tic2 = time.time()\n",
    "    t, FextS_NxS_Nt = f.Simu_config(L, xS, Fe=Fe, T=3)\n",
    "    tic3 = time.time()\n",
    "    M_mod, M_inv, K_mod, C_mod = f.créer_matrice(MS,MB_mod,MS_inv,MB_mod_inv,KS,KB_mod,CS,CB_mod)\n",
    "    #M_ar,K_ar,C_ar = f.créer_matrice(MS,MB_ar,KS,KB_ar,CS,CB_ar)\n",
    "\n",
    "    tic4 = time.time()\n",
    "    W_mod_a2, Z_mod_a2 = f.UK_params(M_mod,M_inv,NmS, NmB_mod, phiS_Nx_NmS, phiB_NxNy_NmB_mod, article = False, model = True, mode = 'A2',x = x, y = y)\n",
    "    #W_ar_a2,Z_ar_a2 = f.UK_params(M_ar,NmS, NmB_ar, phiS_Nx_NmS, phiB_NxNy_NmB_ar, article = True, model = False, mode = 'A2',x =0, y = 0)\n",
    "\n",
    "    tic5 = time.time()\n",
    "    Q, F = f.lounch_simu_article(t,FextS_NxS_Nt,phiS_Nx_NmS,NmS,NmB_mod,M_inv,C_mod,K_mod,Z_mod_a2,W_mod_a2)\n",
    "    #Q, F = f.lounch_simu_article(t,FextS_NxS_Nt,phiS_Nx_NmS,NmS,NmB_ar,M_ar,C_ar,K_ar,Z_ar_a2,W_ar_a2)\n",
    "    tic6 = time.time()\n",
    "\n",
    "    FS = F[:NmS,:]\n",
    "    #FB = F[NmS:,:]\n",
    "    FS_NxS_Nt = phiS_Nx_NmS @ FS\n",
    "    #FB_NxNy_Nt = phiB_NxNy_NmB_mod @ FB\n",
    "    tic7 = time.time()\n",
    "    return FS_NxS_Nt[-1,:]"
   ]
  },
  {
   "cell_type": "code",
   "execution_count": 11,
   "metadata": {},
   "outputs": [
    {
     "name": "stdout",
     "output_type": "stream",
     "text": [
      "Fréquence du dernier mode de plaque calculé : 3869 Hz\n"
     ]
    },
    {
     "name": "stderr",
     "output_type": "stream",
     "text": [
      "C:\\Users\\Ulysse\\Desktop\\ATIAM\\PAM\\ATIAM-PAM-AnalyseInstruments\\Guitar_model\\Armand_modphy\\fonction2.py:331: RuntimeWarning: overflow encountered in matmul\n",
      "  F_temp = - C @ q_d_temp_demi - K @ q_temp[:,i+1] + F_pro_tot[:,i+1]\n",
      "C:\\Users\\Ulysse\\Desktop\\ATIAM\\PAM\\ATIAM-PAM-AnalyseInstruments\\Guitar_model\\Armand_modphy\\fonction2.py:332: RuntimeWarning: overflow encountered in matmul\n",
      "  q_pour_f[:,i+1] = M_inv @ F_temp\n",
      "C:\\Users\\Ulysse\\Desktop\\ATIAM\\PAM\\ATIAM-PAM-AnalyseInstruments\\Guitar_model\\Armand_modphy\\fonction2.py:332: RuntimeWarning: invalid value encountered in matmul\n",
      "  q_pour_f[:,i+1] = M_inv @ F_temp\n"
     ]
    }
   ],
   "source": [
    "k=0\n",
    "for i in range(N_point):\n",
    "    dico = {}\n",
    "    Tc,rho_l,L,E_corde,I,h,nu,E_table,rhoT,Lx,Ly = XXX[i][0],XXX[i][1],XXX[i][2],XXX[i][3],XXX[i][4],XXX[i][5],XXX[i][6],XXX[i][7],XXX[i][8],XXX[i][9],XXX[i][10]\n",
    "    data = creer_son(Fe,Tc,rho_l,L,E_corde,I,h,nu,E_table,rhoT,Lx,Ly)\n",
    "    kle = 'table_erable_corde_nylon'\n",
    "    dico[kle] = {}\n",
    "    dico[kle]['data'] = data\n",
    "    dico[kle]['Fe'] = Fe\n",
    "    dico[kle]['T_corde'] = XXX[i][0]\n",
    "    dico[kle]['rho_l_corde'] = XXX[i][1]\n",
    "    dico[kle]['L_corde'] = XXX[i][2]\n",
    "    dico[kle]['E_corde'] = XXX[i][3]\n",
    "    dico[kle]['I_corde'] = XXX[i][4]\n",
    "    dico[kle]['h_table'] = XXX[i][5]\n",
    "    dico[kle]['nu_table'] = XXX[i][6]\n",
    "    dico[kle]['E_table'] = XXX[i][7]\n",
    "    dico[kle]['rho_table'] = XXX[i][8]\n",
    "    dico[kle]['Lx_table'] = XXX[i][9]\n",
    "    dico[kle]['Ly_table'] = XXX[i][10]\n",
    "    with open('../../../Mesures/TestUlysse/table_erable_corde_nylon/parametres_'+str(k)+'_.pickle', 'wb') as f1:\n",
    "        pickle.dump(dico, f1)\n",
    "    k+=1\n"
   ]
  },
  {
   "cell_type": "code",
   "execution_count": null,
   "metadata": {},
   "outputs": [],
   "source": []
  },
  {
   "cell_type": "code",
   "execution_count": null,
   "metadata": {},
   "outputs": [],
   "source": []
  },
  {
   "cell_type": "code",
   "execution_count": null,
   "metadata": {},
   "outputs": [],
   "source": []
  },
  {
   "cell_type": "code",
   "execution_count": null,
   "metadata": {},
   "outputs": [],
   "source": []
  }
 ],
 "metadata": {
  "kernelspec": {
   "display_name": "Python 3 (ipykernel)",
   "language": "python",
   "name": "python3"
  },
  "language_info": {
   "codemirror_mode": {
    "name": "ipython",
    "version": 3
   },
   "file_extension": ".py",
   "mimetype": "text/x-python",
   "name": "python",
   "nbconvert_exporter": "python",
   "pygments_lexer": "ipython3",
   "version": "3.9.1"
  },
  "vscode": {
   "interpreter": {
    "hash": "aee8b7b246df8f9039afb4144a1f6fd8d2ca17a180786b69acc140d282b71a49"
   }
  }
 },
 "nbformat": 4,
 "nbformat_minor": 4
}
