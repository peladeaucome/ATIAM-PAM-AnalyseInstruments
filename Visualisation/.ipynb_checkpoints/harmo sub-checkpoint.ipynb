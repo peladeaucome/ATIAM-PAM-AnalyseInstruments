{
 "cells": [
  {
   "cell_type": "code",
   "execution_count": 13,
   "id": "3c91a1e0-c82d-4894-9725-2735e9cfc5b8",
   "metadata": {},
   "outputs": [],
   "source": [
    "from ESPRIT_numpy import *\n",
    "import pickle\n",
    "import matplotlib.pyplot as plt\n",
    "import numpy as np\n",
    "from IPython.display import display, Audio\n",
    "import librosa.feature as ft\n",
    "import wave\n",
    "import struct\n",
    "import librosa\n",
    "import time\n",
    "import librosa.display\n",
    "from os import listdir\n",
    "from os.path import isfile, join\n",
    "import scipy.io\n",
    "from mpl_toolkits import mplot3d\n",
    "import pickle\n",
    "from scipy.io.wavfile import write\n",
    "%matplotlib widget"
   ]
  },
  {
   "cell_type": "code",
   "execution_count": 14,
   "id": "8d5fde2b-69bf-409f-979e-4fa3db1ca74b",
   "metadata": {},
   "outputs": [],
   "source": [
    "def recup_data(monRepertoire):\n",
    "    fichiers = [f for f in listdir(monRepertoire) if (isfile(join(monRepertoire, f)) and 'parametres' not in f)]\n",
    "    data={}\n",
    "    k=0\n",
    "    with open(monRepertoire+\"parametres.pickle\", \"rb\") as handle:\n",
    "            parameters_dict = pickle.load(handle)\n",
    "    for fichier in fichiers:\n",
    "        \n",
    "        data_seul,_ = librosa.load(monRepertoire+fichier,sr=Fe)\n",
    "        data[list(parameters_dict.keys())[k]] = data_seul\n",
    "        k+=1\n",
    "    all_cle = list(data.keys())\n",
    "                \n",
    "    return all_cle,data"
   ]
  },
  {
   "cell_type": "code",
   "execution_count": 22,
   "id": "1a5d0b92-a71e-4a7b-a03c-b7f440641e5b",
   "metadata": {},
   "outputs": [
    {
     "name": "stdout",
     "output_type": "stream",
     "text": [
      "98304\n",
      "98304\n"
     ]
    },
    {
     "ename": "UnboundLocalError",
     "evalue": "local variable 'estimated_order' referenced before assignment",
     "output_type": "error",
     "traceback": [
      "\u001b[1;31m---------------------------------------------------------------------------\u001b[0m",
      "\u001b[1;31mUnboundLocalError\u001b[0m                         Traceback (most recent call last)",
      "Input \u001b[1;32mIn [22]\u001b[0m, in \u001b[0;36m<cell line: 20>\u001b[1;34m()\u001b[0m\n\u001b[0;32m     24\u001b[0m \u001b[38;5;28;01mfor\u001b[39;00m cle \u001b[38;5;129;01min\u001b[39;00m all_cle:\n\u001b[0;32m     25\u001b[0m     \u001b[38;5;28mprint\u001b[39m(\u001b[38;5;28mlen\u001b[39m(data[cle]))\n\u001b[1;32m---> 26\u001b[0m     xHarmo, xNoise \u001b[38;5;241m=\u001b[39m \u001b[43mmultiband_HN\u001b[49m\u001b[43m(\u001b[49m\u001b[43mdata\u001b[49m\u001b[43m[\u001b[49m\u001b[43mcle\u001b[49m\u001b[43m]\u001b[49m\u001b[43m)\u001b[49m\n\u001b[0;32m     27\u001b[0m     xHarmo \u001b[38;5;241m=\u001b[39m np\u001b[38;5;241m.\u001b[39mreal(xHarmo)\n\u001b[0;32m     28\u001b[0m     xNoise \u001b[38;5;241m=\u001b[39m np\u001b[38;5;241m.\u001b[39mreal(xNoise)\n",
      "File \u001b[1;32m~\\Desktop\\ATIAM\\PAM\\ATIAM-PAM-AnalyseInstruments\\Visualisation\\ESPRIT_numpy.py:845\u001b[0m, in \u001b[0;36mmultiband_HN\u001b[1;34m(x, window_length, hop_length, window_type, ester_factor, num_bands, **kwargs)\u001b[0m\n\u001b[0;32m    836\u001b[0m start_idx \u001b[38;5;241m=\u001b[39m np\u001b[38;5;241m.\u001b[39margmax(np\u001b[38;5;241m.\u001b[39mabs(sig\u001b[38;5;241m.\u001b[39mhilbert(xDecimated)))\n\u001b[0;32m    837\u001b[0m xWhitened, _ \u001b[38;5;241m=\u001b[39m whiten_signal(\n\u001b[0;32m    838\u001b[0m     x \u001b[38;5;241m=\u001b[39m xDecimated,\n\u001b[0;32m    839\u001b[0m     n_fft \u001b[38;5;241m=\u001b[39m \u001b[38;5;241m512\u001b[39m,\n\u001b[1;32m   (...)\u001b[0m\n\u001b[0;32m    842\u001b[0m     ARFilter_length \u001b[38;5;241m=\u001b[39m \u001b[38;5;241m12\u001b[39m\n\u001b[0;32m    843\u001b[0m )\n\u001b[1;32m--> 845\u001b[0m num_poles, _ \u001b[38;5;241m=\u001b[39m \u001b[43mESTER\u001b[49m\u001b[43m(\u001b[49m\n\u001b[0;32m    846\u001b[0m \u001b[43m    \u001b[49m\u001b[43mx\u001b[49m\u001b[43m \u001b[49m\u001b[38;5;241;43m=\u001b[39;49m\u001b[43m \u001b[49m\u001b[43mxDecimated\u001b[49m\u001b[43m,\u001b[49m\n\u001b[0;32m    847\u001b[0m \u001b[43m    \u001b[49m\u001b[43mstart_idx\u001b[49m\u001b[38;5;241;43m=\u001b[39;49m\u001b[43mstart_idx\u001b[49m\u001b[43m,\u001b[49m\n\u001b[0;32m    848\u001b[0m \u001b[43m    \u001b[49m\u001b[43mwindow_length\u001b[49m\u001b[38;5;241;43m=\u001b[39;49m\u001b[43mwindow_length\u001b[49m\u001b[43m,\u001b[49m\n\u001b[0;32m    849\u001b[0m \u001b[43m    \u001b[49m\u001b[43mmax_poles\u001b[49m\u001b[43m \u001b[49m\u001b[38;5;241;43m=\u001b[39;49m\u001b[43m \u001b[49m\u001b[43mmax_poles\u001b[49m\u001b[43m,\u001b[49m\n\u001b[0;32m    850\u001b[0m \u001b[43m    \u001b[49m\u001b[43mfactor\u001b[49m\u001b[43m \u001b[49m\u001b[38;5;241;43m=\u001b[39;49m\u001b[43m \u001b[49m\u001b[43mester_factor\u001b[49m\n\u001b[0;32m    851\u001b[0m \u001b[43m\u001b[49m\u001b[43m)\u001b[49m\n\u001b[0;32m    852\u001b[0m xChoppedWhitened \u001b[38;5;241m=\u001b[39m window_signal(\n\u001b[0;32m    853\u001b[0m     x \u001b[38;5;241m=\u001b[39m xDecimated,\n\u001b[0;32m    854\u001b[0m     window_length \u001b[38;5;241m=\u001b[39m window_length,\n\u001b[0;32m    855\u001b[0m     hop_length \u001b[38;5;241m=\u001b[39m hop_length\n\u001b[0;32m    856\u001b[0m )\n\u001b[0;32m    858\u001b[0m xChopped \u001b[38;5;241m=\u001b[39m window_signal(\n\u001b[0;32m    859\u001b[0m     x \u001b[38;5;241m=\u001b[39m xDecimated,\n\u001b[0;32m    860\u001b[0m     window_length \u001b[38;5;241m=\u001b[39m window_length,\n\u001b[0;32m    861\u001b[0m     hop_length \u001b[38;5;241m=\u001b[39m hop_length\n\u001b[0;32m    862\u001b[0m )\n",
      "File \u001b[1;32m~\\Desktop\\ATIAM\\PAM\\ATIAM-PAM-AnalyseInstruments\\Visualisation\\ESPRIT_numpy.py:542\u001b[0m, in \u001b[0;36mESTER\u001b[1;34m(x, start_idx, window_length, max_poles, factor)\u001b[0m\n\u001b[0;32m    540\u001b[0m     \u001b[38;5;28;01mif\u001b[39;00m J_list[i]\u001b[38;5;241m>\u001b[39mJ_max_norm \u001b[38;5;129;01mand\u001b[39;00m J_list[i]\u001b[38;5;241m>\u001b[39mJ_list[i\u001b[38;5;241m-\u001b[39m\u001b[38;5;241m1\u001b[39m] \u001b[38;5;129;01mand\u001b[39;00m J_list[i]\u001b[38;5;241m>\u001b[39mJ_list[i\u001b[38;5;241m+\u001b[39m\u001b[38;5;241m1\u001b[39m]:\n\u001b[0;32m    541\u001b[0m         estimated_order \u001b[38;5;241m=\u001b[39m i\n\u001b[1;32m--> 542\u001b[0m \u001b[38;5;28;01mreturn\u001b[39;00m \u001b[43mestimated_order\u001b[49m, J_list\n",
      "\u001b[1;31mUnboundLocalError\u001b[0m: local variable 'estimated_order' referenced before assignment"
     ]
    }
   ],
   "source": [
    "repertoire_1 = '../../Mesures/1ier_data_set/acier/'\n",
    "repertoire_2 = '../../Mesures/1ier_data_set/medium_1/'\n",
    "repertoire_3 = '../../Mesures/1ier_data_set/medium_2/'\n",
    "repertoire_4 = '../../Mesures/1ier_data_set/plexi/'\n",
    "\n",
    "liste_repertoire = [repertoire_1,repertoire_2,repertoire_3,repertoire_4]\n",
    "\n",
    "repertory_hr_1 = '../../Mesures/1ier_data_set_hr/acier/'\n",
    "repertory_hr_2 = '../../Mesures/1ier_data_set_hr/medium_1/'\n",
    "repertory_hr_3 = '../../Mesures/1ier_data_set_hr/medium_2/'\n",
    "repertory_hr_4 = '../../Mesures/1ier_data_set_hr/plexi/'\n",
    "\n",
    "repertory_br_1 = '../../Mesures/1ier_data_set_br/acier/'\n",
    "repertory_br_2 = '../../Mesures/1ier_data_set_br/medium_1/'\n",
    "repertory_br_3 = '../../Mesures/1ier_data_set_br/medium_2/'\n",
    "repertory_br_4 = '../../Mesures/1ier_data_set_br/plexi/'\n",
    "\n",
    "features_already_calculate = False\n",
    "Fe = 2**15\n",
    "if features_already_calculate == False:\n",
    "    for repertoire in liste_repertoire:\n",
    "        all_cle,data = recup_data(repertoire)\n",
    "        i=0\n",
    "        for cle in all_cle:\n",
    "            print(len(data[cle]))\n",
    "            xHarmo, xNoise = multiband_HN(data[cle])\n",
    "            xHarmo = np.real(xHarmo)\n",
    "            xNoise = np.real(xNoise)\n",
    "            if repertoire == repertoire_1:\n",
    "                write(repertory_hr_1 + str(i) + '.wav',rate=Fe ,data = xHarmo / max(xHarmo))\n",
    "                write(repertory_br_1 + str(i) + '.wav',rate=Fe ,data = xNoise / max(xNoise))\n",
    "            \n",
    "            if repertoire == repertoire_2:\n",
    "                write(repertory_hr_2 + str(i) + '.wav',rate=Fe ,data = xHarmo / max(xHarmo))\n",
    "                write(repertory_br_2 + str(i) + '.wav',rate=Fe ,data = xNoise / max(xNoise))\n",
    "                \n",
    "            if repertoire == repertoire_3:\n",
    "                write(repertory_hr_3 + str(i) + '.wav',rate=Fe ,data = xHarmo / max(xHarmo))\n",
    "                write(repertory_br_3 + str(i) + '.wav',rate=Fe ,data = xNoise / max(xNoise))\n",
    "                \n",
    "            if repertoire == repertoire_4:\n",
    "                write(repertory_hr_4 + str(i) + '.wav',rate=Fe ,data = xHarmo / max(xHarmo))\n",
    "                write(repertory_br_4 + str(i) + '.wav',rate=Fe ,data = xNoise / max(xNoise))\n",
    "                \n",
    "            i+=1\n",
    "        \n",
    "        "
   ]
  },
  {
   "cell_type": "code",
   "execution_count": null,
   "id": "100207e3-74ea-47ca-ab72-a0d430d20d29",
   "metadata": {},
   "outputs": [],
   "source": []
  }
 ],
 "metadata": {
  "kernelspec": {
   "display_name": "Python 3 (ipykernel)",
   "language": "python",
   "name": "python3"
  },
  "language_info": {
   "codemirror_mode": {
    "name": "ipython",
    "version": 3
   },
   "file_extension": ".py",
   "mimetype": "text/x-python",
   "name": "python",
   "nbconvert_exporter": "python",
   "pygments_lexer": "ipython3",
   "version": "3.9.1"
  }
 },
 "nbformat": 4,
 "nbformat_minor": 5
}
