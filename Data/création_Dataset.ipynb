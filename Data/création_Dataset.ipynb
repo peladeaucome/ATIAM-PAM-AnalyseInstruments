{
 "cells": [
  {
   "cell_type": "code",
   "execution_count": 1,
   "metadata": {},
   "outputs": [],
   "source": [
    "from création_data import param_Dataset\n",
    "import fonction_model as f\n",
    "from IPython.display import display, Audio\n",
    "from scipy.io.wavfile import write\n",
    "import pickle"
   ]
  },
  {
   "cell_type": "code",
   "execution_count": 2,
   "metadata": {},
   "outputs": [],
   "source": [
    "Fe = 40000"
   ]
  },
  {
   "cell_type": "code",
   "execution_count": 3,
   "metadata": {},
   "outputs": [],
   "source": [
    "Fichier = \"1ier_essai/composite/acier/\""
   ]
  },
  {
   "cell_type": "code",
   "execution_count": 6,
   "metadata": {},
   "outputs": [
    {
     "name": "stdout",
     "output_type": "stream",
     "text": [
      "0.0031756795199999995\n"
     ]
    }
   ],
   "source": [
    "N_sample,param_dataset,xinB = param_Dataset(N_sample=10,\n",
    "                                            article_C = False,\n",
    "                                            acier_1C = False,\n",
    "                                            acier_2C = True, \n",
    "                                            medium_1T = True, \n",
    "                                            medium_2T= False, \n",
    "                                            metal_T = False,\n",
    "                                            plexi_T = False)"
   ]
  },
  {
   "cell_type": "code",
   "execution_count": 7,
   "metadata": {},
   "outputs": [
    {
     "name": "stderr",
     "output_type": "stream",
     "text": [
      "/Users/armandschwarz/Documents/GitHub/ATIAM-PAM-AnalyseInstruments/Data/fonction_model.py:301: RuntimeWarning: invalid value encountered in matmul\n",
      "  q_dd_temp[:,i+1] = W @  q_pour_f[:,i+1]\n",
      "/Users/armandschwarz/Documents/GitHub/ATIAM-PAM-AnalyseInstruments/Data/fonction_model.py:307: RuntimeWarning: invalid value encountered in matmul\n",
      "  F_c = Z @ q_pour_f\n"
     ]
    }
   ],
   "source": [
    "from IPython.display import Audio, display\n",
    "T,rho_l,L,E_corde,I,h,E_nu,rhoT,Lx,Ly = param_dataset[0]\n",
    "F = f.Main(T,rho_l,L,E_corde,I,h,E_nu,rhoT,Lx,Ly,xinB,Fe)"
   ]
  },
  {
   "cell_type": "code",
   "execution_count": null,
   "metadata": {},
   "outputs": [],
   "source": [
    "display(Audio(F,rate=Fe))"
   ]
  },
  {
   "cell_type": "code",
   "execution_count": null,
   "metadata": {},
   "outputs": [],
   "source": [
    "for i in range(N_sample):\n",
    "    T,rho_l,L,E_corde,I,h,nu,E_table,rhoT,Lx,Ly = param_dataset[i]\n",
    "    F  = f.Main(T,rho_l,L,E_corde,I,h,nu,E_table,rhoT,Lx,Ly,Fe)\n",
    "    write(Fichier + str(i) + '.wav',rate=Fe ,data = F[-1,:] / max(F[-1,:]))\n"
   ]
  },
  {
   "cell_type": "code",
   "execution_count": null,
   "metadata": {},
   "outputs": [],
   "source": [
    "dico = {}\n",
    "for i in range(N_sample):\n",
    "    kle = str(i) + \".wav\"\n",
    "    dico[kle] = {}\n",
    "    dico[kle]['T_corde'] = param_dataset[i][0]\n",
    "    dico[kle]['rho_l_corde'] = param_dataset[i][1]\n",
    "    dico[kle]['L_corde'] = param_dataset[i][2]\n",
    "    dico[kle]['E_corde'] = param_dataset[i][3]\n",
    "    dico[kle]['I_corde'] = param_dataset[i][4]\n",
    "    dico[kle]['h_table'] = param_dataset[i][5]\n",
    "    dico[kle]['nu_table'] = param_dataset[i][6]\n",
    "    dico[kle]['E_table'] = param_dataset[i][7]\n",
    "    dico[kle]['rho_table'] = param_dataset[i][8]\n",
    "    dico[kle]['Lx_table'] = param_dataset[i][9]\n",
    "    dico[kle]['Ly_table'] = param_dataset[i][10]\n",
    "\n",
    "with open(Fichier + 'parametres.pickle', 'wb') as f:\n",
    "    pickle.dump(dico, f)"
   ]
  }
 ],
 "metadata": {
  "kernelspec": {
   "display_name": "Python 3.10.7 64-bit",
   "language": "python",
   "name": "python3"
  },
  "language_info": {
   "codemirror_mode": {
    "name": "ipython",
    "version": 3
   },
   "file_extension": ".py",
   "mimetype": "text/x-python",
   "name": "python",
   "nbconvert_exporter": "python",
   "pygments_lexer": "ipython3",
   "version": "3.10.7"
  },
  "orig_nbformat": 4,
  "vscode": {
   "interpreter": {
    "hash": "aee8b7b246df8f9039afb4144a1f6fd8d2ca17a180786b69acc140d282b71a49"
   }
  }
 },
 "nbformat": 4,
 "nbformat_minor": 2
}
