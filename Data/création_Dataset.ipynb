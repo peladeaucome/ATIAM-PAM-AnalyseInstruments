{
 "cells": [
  {
   "cell_type": "code",
   "execution_count": 21,
   "metadata": {},
   "outputs": [],
   "source": [
    "from création_data import param_Dataset\n",
    "import fonction_model as f\n",
    "from IPython.display import display, Audio\n",
    "from scipy.io.wavfile import write\n",
    "import pickle"
   ]
  },
  {
   "cell_type": "code",
   "execution_count": 22,
   "metadata": {},
   "outputs": [],
   "source": [
    "Fe = 2**15"
   ]
  },
  {
   "cell_type": "markdown",
   "metadata": {},
   "source": [
    "## Medium 1:"
   ]
  },
  {
   "cell_type": "code",
   "execution_count": 25,
   "metadata": {},
   "outputs": [],
   "source": [
    "Fichier = \"1ier_data_set/medium_1/\"\n",
    "N_sample, param_dataset, xinB = param_Dataset(N_sample=200,\n",
    "                                             article_C = True,\n",
    "                                             acier_1C = False,\n",
    "                                             acier_2C = False, \n",
    "                                             medium_1T = True, \n",
    "                                             medium_2T = False, \n",
    "                                             metal_T = False,\n",
    "                                             plexi_T = False)"
   ]
  },
  {
   "cell_type": "code",
   "execution_count": 26,
   "metadata": {},
   "outputs": [],
   "source": [
    "for i in range(N_sample):\n",
    "    T,rho_l,L,E_corde,I,h,E_nu,rhoT,Lx,Ly = param_dataset[i]\n",
    "    F = f.Main(T,rho_l,L,E_corde,I,h,E_nu,rhoT,Lx,Ly,xinB,Fe)   \n",
    "    write(Fichier + str(i) + '.wav',rate=Fe ,data = F / max(F))"
   ]
  },
  {
   "cell_type": "code",
   "execution_count": null,
   "metadata": {},
   "outputs": [],
   "source": [
    "dico = {}\n",
    "for i in range(N_sample):\n",
    "    kle = str(i) + \".wav\"\n",
    "    dico[kle] = {}\n",
    "    dico[kle]['T_corde'] = param_dataset[i][0]\n",
    "    dico[kle]['rho_l_corde'] = param_dataset[i][1]\n",
    "    dico[kle]['L_corde'] = param_dataset[i][2]\n",
    "    dico[kle]['E_corde'] = param_dataset[i][3]\n",
    "    dico[kle]['I_corde'] = param_dataset[i][4]\n",
    "    dico[kle]['h_table'] = param_dataset[i][5]\n",
    "    dico[kle]['nu_table'] = param_dataset[i][6]\n",
    "    dico[kle]['E_table'] = param_dataset[i][7]\n",
    "    dico[kle]['rho_table'] = param_dataset[i][8]\n",
    "    dico[kle]['Lx_table'] = param_dataset[i][9]\n",
    "    dico[kle]['Ly_table'] = param_dataset[i][10]\n",
    "\n",
    "with open(Fichier + 'parametres.pickle', 'wb') as f:\n",
    "    pickle.dump(dico, f)\n"
   ]
  },
  {
   "cell_type": "markdown",
   "metadata": {},
   "source": [
    "## medium 2"
   ]
  },
  {
   "cell_type": "code",
   "execution_count": null,
   "metadata": {},
   "outputs": [],
   "source": [
    "Fichier = \"1ier_data_set/medium_2/\"\n",
    "N_sample, param_dataset, xinB = param_Dataset(N_sample=200,\n",
    "                                             article_C = True,\n",
    "                                             acier_1C = False,\n",
    "                                             acier_2C = False, \n",
    "                                             medium_1T = False, \n",
    "                                             medium_2T = True, \n",
    "                                             metal_T = False,\n",
    "                                             plexi_T = False)"
   ]
  },
  {
   "cell_type": "code",
   "execution_count": null,
   "metadata": {},
   "outputs": [],
   "source": [
    "for i in range(N_sample):\n",
    "    T,rho_l,L,E_corde,I,h,E_nu,rhoT,Lx,Ly = param_dataset[i]\n",
    "    F = f.Main(T,rho_l,L,E_corde,I,h,E_nu,rhoT,Lx,Ly,xinB,Fe)   \n",
    "    write(Fichier + str(i) + '.wav',rate=Fe ,data = F / max(F))"
   ]
  },
  {
   "cell_type": "code",
   "execution_count": null,
   "metadata": {},
   "outputs": [],
   "source": [
    "dico = {}\n",
    "for i in range(N_sample):\n",
    "    kle = str(i) + \".wav\"\n",
    "    dico[kle] = {}\n",
    "    dico[kle]['T_corde'] = param_dataset[i][0]\n",
    "    dico[kle]['rho_l_corde'] = param_dataset[i][1]\n",
    "    dico[kle]['L_corde'] = param_dataset[i][2]\n",
    "    dico[kle]['E_corde'] = param_dataset[i][3]\n",
    "    dico[kle]['I_corde'] = param_dataset[i][4]\n",
    "    dico[kle]['h_table'] = param_dataset[i][5]\n",
    "    dico[kle]['nu_table'] = param_dataset[i][6]\n",
    "    dico[kle]['E_table'] = param_dataset[i][7]\n",
    "    dico[kle]['rho_table'] = param_dataset[i][8]\n",
    "    dico[kle]['Lx_table'] = param_dataset[i][9]\n",
    "    dico[kle]['Ly_table'] = param_dataset[i][10]\n",
    "\n",
    "with open(Fichier + 'parametres.pickle', 'wb') as f:\n",
    "    pickle.dump(dico, f)\n"
   ]
  },
  {
   "cell_type": "markdown",
   "metadata": {},
   "source": [
    "## Acier : "
   ]
  },
  {
   "cell_type": "code",
   "execution_count": 23,
   "metadata": {},
   "outputs": [],
   "source": [
    "Fichier = \"1ier_data_set/acier/\"\n",
    "N_sample, param_dataset, xinB = param_Dataset(N_sample=200,\n",
    "                                             article_C = True,\n",
    "                                             acier_1C = False,\n",
    "                                             acier_2C = False, \n",
    "                                             medium_1T = False, \n",
    "                                             medium_2T = False, \n",
    "                                             metal_T = True,\n",
    "                                             plexi_T = False)"
   ]
  },
  {
   "cell_type": "code",
   "execution_count": 24,
   "metadata": {},
   "outputs": [
    {
     "name": "stderr",
     "output_type": "stream",
     "text": [
      "/var/folders/k2/m05vfpwn0qn71pjn0jnlb0l80000gn/T/ipykernel_45076/644401018.py:4: RuntimeWarning: invalid value encountered in divide\n",
      "  write(Fichier + str(i) + '.wav',rate=Fe ,data = F / max(F))\n"
     ]
    }
   ],
   "source": [
    "for i in range(1):\n",
    "    T,rho_l,L,E_corde,I,h,E_nu,rhoT,Lx,Ly = param_dataset[i]\n",
    "    F = f.Main(T,rho_l,L,E_corde,I,h,E_nu,rhoT,Lx,Ly,xinB,Fe)   \n",
    "    write(Fichier + str(i) + '.wav',rate=Fe ,data = F / max(F))"
   ]
  },
  {
   "cell_type": "code",
   "execution_count": null,
   "metadata": {},
   "outputs": [],
   "source": [
    "dico = {}\n",
    "for i in range(N_sample):\n",
    "    kle = str(i) + \".wav\"\n",
    "    dico[kle] = {}\n",
    "    dico[kle]['T_corde'] = param_dataset[i][0]\n",
    "    dico[kle]['rho_l_corde'] = param_dataset[i][1]\n",
    "    dico[kle]['L_corde'] = param_dataset[i][2]\n",
    "    dico[kle]['E_corde'] = param_dataset[i][3]\n",
    "    dico[kle]['I_corde'] = param_dataset[i][4]\n",
    "    dico[kle]['h_table'] = param_dataset[i][5]\n",
    "    dico[kle]['nu_table'] = param_dataset[i][6]\n",
    "    dico[kle]['E_table'] = param_dataset[i][7]\n",
    "    dico[kle]['rho_table'] = param_dataset[i][8]\n",
    "    dico[kle]['Lx_table'] = param_dataset[i][9]\n",
    "    dico[kle]['Ly_table'] = param_dataset[i][10]\n",
    "\n",
    "with open(Fichier + 'parametres.pickle', 'wb') as f:\n",
    "    pickle.dump(dico, f)"
   ]
  },
  {
   "cell_type": "markdown",
   "metadata": {},
   "source": [
    "## Plexi : "
   ]
  },
  {
   "cell_type": "code",
   "execution_count": null,
   "metadata": {},
   "outputs": [],
   "source": [
    "Fichier = \"1ier_data_set/plexi/\"\n",
    "N_sample, param_dataset, xinB = param_Dataset(N_sample=200,\n",
    "                                             article_C = True,\n",
    "                                             acier_1C = False,\n",
    "                                             acier_2C = False, \n",
    "                                             medium_1T = False, \n",
    "                                             medium_2T = False, \n",
    "                                             metal_T = False,\n",
    "                                             plexi_T = True)"
   ]
  },
  {
   "cell_type": "code",
   "execution_count": null,
   "metadata": {},
   "outputs": [],
   "source": [
    "for i in range(N_sample):\n",
    "    T,rho_l,L,E_corde,I,h,E_nu,rhoT,Lx,Ly = param_dataset[i]\n",
    "    F = f.Main(T,rho_l,L,E_corde,I,h,E_nu,rhoT,Lx,Ly,xinB,Fe)   \n",
    "    write(Fichier + str(i) + '.wav',rate=Fe ,data = F / max(F))"
   ]
  },
  {
   "cell_type": "code",
   "execution_count": null,
   "metadata": {},
   "outputs": [],
   "source": []
  }
 ],
 "metadata": {
  "kernelspec": {
   "display_name": "Python 3 (ipykernel)",
   "language": "python",
   "name": "python3"
  },
  "language_info": {
   "codemirror_mode": {
    "name": "ipython",
    "version": 3
   },
   "file_extension": ".py",
   "mimetype": "text/x-python",
   "name": "python",
   "nbconvert_exporter": "python",
   "pygments_lexer": "ipython3",
   "version": "3.9.1"
  },
  "vscode": {
   "interpreter": {
    "hash": "aee8b7b246df8f9039afb4144a1f6fd8d2ca17a180786b69acc140d282b71a49"
   }
  }
 },
 "nbformat": 4,
 "nbformat_minor": 4
}
