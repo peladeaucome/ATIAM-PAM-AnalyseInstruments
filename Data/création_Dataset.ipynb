{
 "cells": [
  {
   "cell_type": "code",
   "execution_count": 1,
   "metadata": {},
   "outputs": [],
   "source": [
    "from création_data import param_dataset, N_sample\n",
    "import fonction_model as f\n",
    "from IPython.display import display, Audio\n",
    "from scipy.io.wavfile import write\n",
    "import pickle\n"
   ]
  },
  {
   "cell_type": "code",
   "execution_count": 11,
   "metadata": {},
   "outputs": [],
   "source": [
    "Fe = 36000"
   ]
  },
  {
   "cell_type": "code",
   "execution_count": null,
   "metadata": {},
   "outputs": [],
   "source": [
    "Fichier = \"1ier_essai/composite/acier/\""
   ]
  },
  {
   "cell_type": "code",
   "execution_count": 5,
   "metadata": {},
   "outputs": [],
   "source": [
    "for i in range(N_sample):\n",
    "    T,rho_l,L,E_corde,I,h,nu,E_table,rhoT,Lx,Ly = param_dataset[i]\n",
    "    F  = f.Main(T,rho_l,L,E_corde,I,h,nu,E_table,rhoT,Lx,Ly,Fe)\n",
    "    write(Fichier + str(i) + '.wav',rate=Fe ,data = F[-1,:] / max(F[-1,:]))\n"
   ]
  },
  {
   "cell_type": "code",
   "execution_count": null,
   "metadata": {},
   "outputs": [],
   "source": [
    "dico = {}\n",
    "for i in range(N_sample):\n",
    "    kle = str(i) + \".wav\"\n",
    "    dico[kle] = {}\n",
    "    dico[kle]['T_corde'] = param_dataset[i][0]\n",
    "    dico[kle]['rho_l_corde'] = param_dataset[i][1]\n",
    "    dico[kle]['L_corde'] = param_dataset[i][2]\n",
    "    dico[kle]['E_corde'] = param_dataset[i][3]\n",
    "    dico[kle]['I_corde'] = param_dataset[i][4]\n",
    "    dico[kle]['h_table'] = param_dataset[i][5]\n",
    "    dico[kle]['nu_table'] = param_dataset[i][6]\n",
    "    dico[kle]['E_table'] = param_dataset[i][7]\n",
    "    dico[kle]['rho_table'] = param_dataset[i][8]\n",
    "    dico[kle]['Lx_table'] = param_dataset[i][9]\n",
    "    dico[kle]['Ly_table'] = param_dataset[i][10]\n",
    "\n",
    "with open(Fichier + 'parametres.pickle', 'wb') as f:\n",
    "    pickle.dump(dico, f)"
   ]
  }
 ],
 "metadata": {
  "kernelspec": {
   "display_name": "Python 3.10.7 64-bit",
   "language": "python",
   "name": "python3"
  },
  "language_info": {
   "codemirror_mode": {
    "name": "ipython",
    "version": 3
   },
   "file_extension": ".py",
   "mimetype": "text/x-python",
   "name": "python",
   "nbconvert_exporter": "python",
   "pygments_lexer": "ipython3",
   "version": "3.10.7"
  },
  "orig_nbformat": 4,
  "vscode": {
   "interpreter": {
    "hash": "aee8b7b246df8f9039afb4144a1f6fd8d2ca17a180786b69acc140d282b71a49"
   }
  }
 },
 "nbformat": 4,
 "nbformat_minor": 2
}
