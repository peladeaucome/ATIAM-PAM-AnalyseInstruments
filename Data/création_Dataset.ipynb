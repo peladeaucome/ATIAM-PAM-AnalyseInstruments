{
 "cells": [
  {
   "cell_type": "code",
   "execution_count": 1,
   "metadata": {},
   "outputs": [],
   "source": [
    "from création_data import param_Dataset\n",
    "import fonction_model as f\n",
    "from IPython.display import display, Audio\n",
    "from scipy.io.wavfile import write\n",
    "import pickle\n"
   ]
  },
  {
   "cell_type": "code",
   "execution_count": 2,
   "metadata": {},
   "outputs": [],
   "source": [
    "Fe = 2**15"
   ]
  },
  {
   "cell_type": "markdown",
   "metadata": {},
   "source": [
    "## Medium 1:"
   ]
  },
  {
   "cell_type": "code",
   "execution_count": 3,
   "metadata": {},
   "outputs": [
    {
     "name": "stdout",
     "output_type": "stream",
     "text": [
      "94634.57769887915 104587.731763282\n"
     ]
    }
   ],
   "source": [
    "Fichier = \"\"\n",
    "N_sample, param_dataset, xinB = param_Dataset(N_sample=200,\n",
    "                                             article_C = True,\n",
    "                                             acier_1C = False,\n",
    "                                             acier_2C = False, \n",
    "                                             medium_1T = True, \n",
    "                                             medium_2T = False, \n",
    "                                             metal_T = False,\n",
    "                                             plexi_T = False)"
   ]
  },
  {
   "cell_type": "code",
   "execution_count": 4,
   "metadata": {},
   "outputs": [
    {
     "name": "stdout",
     "output_type": "stream",
     "text": [
      "[[ 9.86675222e-01  1.33247072e-02 -1.33248493e-02 ... -4.55668155e-02\n",
      "   3.38118938e-02  2.04781508e-02]\n",
      " [ 1.33247072e-02  9.86646596e-01  1.32960109e-02 ...  4.55911668e-02\n",
      "  -3.38299631e-02 -2.04890945e-02]\n",
      " [-1.33248493e-02  1.32960109e-02  9.86646313e-01 ... -4.55424644e-02\n",
      "   3.37938246e-02  2.04672072e-02]\n",
      " ...\n",
      " [-5.35091784e-05  5.35377742e-05 -5.34805829e-05 ...  9.99816990e-01\n",
      "   1.35798942e-04  8.22465382e-05]\n",
      " [ 3.97053565e-05 -3.97265754e-05  3.96841378e-05 ...  1.35798942e-04\n",
      "   9.99899233e-01 -6.10293079e-05]\n",
      " [ 2.40475226e-05 -2.40603738e-05  2.40346715e-05 ...  8.22465382e-05\n",
      "  -6.10293079e-05  9.99963038e-01]] [[-1.56473067e-05  1.56472232e-05 -1.56473901e-05 ... -5.35091784e-05\n",
      "   3.97053565e-05  2.40475226e-05]\n",
      " [ 1.56472232e-05 -1.56809217e-05  1.56135251e-05 ...  5.35377742e-05\n",
      "  -3.97265754e-05 -2.40603738e-05]\n",
      " [-1.56473901e-05  1.56135251e-05 -1.56812548e-05 ... -5.34805829e-05\n",
      "   3.96841378e-05  2.40346715e-05]\n",
      " ...\n",
      " [-5.35091784e-05  5.35377742e-05 -5.34805829e-05 ... -1.83010315e-04\n",
      "   1.35798942e-04  8.22465382e-05]\n",
      " [ 3.97053565e-05 -3.97265754e-05  3.96841378e-05 ...  1.35798942e-04\n",
      "  -1.00766739e-04 -6.10293079e-05]\n",
      " [ 2.40475226e-05 -2.40603738e-05  2.40346715e-05 ...  8.22465382e-05\n",
      "  -6.10293079e-05 -3.69623594e-05]]\n"
     ]
    }
   ],
   "source": [
    "T,rho_l,L,E_corde,I,h,E_nu,rhoT,Lx,Ly = param_dataset[0]\n",
    "Q,F,F_2 = f.Main(T,rho_l,L,E_corde,I,h,E_nu,rhoT,Lx,Ly,xinB,Fe,obs = True) "
   ]
  },
  {
   "cell_type": "code",
   "execution_count": null,
   "metadata": {},
   "outputs": [],
   "source": [
    "display(Audio(F_2,rate=Fe))"
   ]
  },
  {
   "cell_type": "code",
   "execution_count": null,
   "metadata": {},
   "outputs": [],
   "source": [
    "from scipy.io import wavfile, loadmat\n",
    "C1P1mat = loadmat(\"../../Mesures/Mesures_2023.01.27_LAM_normalise/Medium_1/Corde_Acier/C_2_P_1.mat\")\n",
    "acc = C1P1mat[\"acc_t\"].reshape(-1)\n",
    "fs2 = int(C1P1mat[\"fs\"].reshape(-1))"
   ]
  },
  {
   "cell_type": "code",
   "execution_count": null,
   "metadata": {},
   "outputs": [],
   "source": [
    "display(Audio(acc,rate = fs2))"
   ]
  },
  {
   "cell_type": "code",
   "execution_count": null,
   "metadata": {},
   "outputs": [],
   "source": [
    "import numpy as np\n",
    "Nfft = len(acc)\n",
    "Y2 = np.fft.rfft(acc, Nfft)\n",
    "fy2 = np.fft.rfftfreq(Nfft,1/fs2)"
   ]
  },
  {
   "cell_type": "code",
   "execution_count": null,
   "metadata": {},
   "outputs": [],
   "source": [
    "\n",
    "Q_f = np.fft.rfft(Q)\n",
    "F_f = np.fft.rfft(F)\n",
    "F_f2 = np.fft.rfft(F_2)\n",
    "\n",
    "freq = np.fft.rfftfreq(len(F)) * Fe\n",
    "\n",
    "import matplotlib.pyplot as plt\n",
    "%matplotlib widget\n",
    "\n",
    "plt.figure()\n",
    "plt.semilogx(freq,20*np.log10(np.abs(Q_f)),label='accel')\n",
    "plt.semilogx(freq,20*np.log10(np.abs(F_f)),label='Force_corde')\n",
    "plt.semilogx(freq,20*np.log10(np.abs(F_f2)),label='Force_table')\n",
    "plt.semilogx(freq,20*np.log10(np.abs(F_f2 / F_f)),label='Force dif')\n",
    "\n",
    "plt.semilogx(fy2, 20*np.log10(np.abs(Y2)),label='Mesure')\n",
    "\n",
    "plt.xlim(20,12000)\n",
    "plt.legend()\n",
    "plt.grid()\n",
    "plt.show()"
   ]
  },
  {
   "cell_type": "code",
   "execution_count": null,
   "metadata": {},
   "outputs": [],
   "source": [
    "display(Audio(Q,rate=Fe))"
   ]
  },
  {
   "cell_type": "code",
   "execution_count": null,
   "metadata": {},
   "outputs": [],
   "source": [
    "for i in range(1):\n",
    "    T,rho_l,L,E_corde,I,h,E_nu,rhoT,Lx,Ly = param_dataset[i]\n",
    "    F = f.Main(T,rho_l,L,E_corde,I,h,E_nu,rhoT,Lx,Ly,xinB,Fe) \n",
    "    display(Audio(F,rate=Fe))  \n",
    "    #write(Fichier + str(i) + '.wav',rate=Fe ,data = F / max(F))"
   ]
  },
  {
   "cell_type": "code",
   "execution_count": null,
   "metadata": {},
   "outputs": [],
   "source": [
    "T,rho_l,L,E_corde,I,h,E_nu,rhoT,Lx,Ly "
   ]
  },
  {
   "cell_type": "code",
   "execution_count": null,
   "metadata": {},
   "outputs": [],
   "source": [
    "dico = {}\n",
    "for i in range(N_sample):\n",
    "    kle = str(i) + \".wav\"\n",
    "    dico[kle] = {}\n",
    "    dico[kle]['T_corde'] = param_dataset[i][0]\n",
    "    dico[kle]['rho_l_corde'] = param_dataset[i][1]\n",
    "    dico[kle]['L_corde'] = param_dataset[i][2]\n",
    "    dico[kle]['E_corde'] = param_dataset[i][3]\n",
    "    dico[kle]['I_corde'] = param_dataset[i][4]\n",
    "    dico[kle]['h_table'] = param_dataset[i][5]\n",
    "    dico[kle]['E_nu_table'] = param_dataset[i][6]\n",
    "    dico[kle]['rho_table'] = param_dataset[i][7]\n",
    "    dico[kle]['Lx_table'] = param_dataset[i][8]\n",
    "    dico[kle]['Ly_table'] = param_dataset[i][9]\n",
    "\n",
    "with open(Fichier + 'parametres.pickle', 'wb') as f:\n",
    "    pickle.dump(dico, f)\n"
   ]
  },
  {
   "cell_type": "markdown",
   "metadata": {},
   "source": [
    "## medium 2"
   ]
  },
  {
   "cell_type": "code",
   "execution_count": null,
   "metadata": {},
   "outputs": [],
   "source": [
    "Fichier = \"1ier_data_set/medium_2/\"\n",
    "N_sample, param_dataset, xinB = param_Dataset(N_sample=200,\n",
    "                                             article_C = True,\n",
    "                                             acier_1C = False,\n",
    "                                             acier_2C = False, \n",
    "                                             medium_1T = False, \n",
    "                                             medium_2T = True, \n",
    "                                             metal_T = False,\n",
    "                                             plexi_T = False)"
   ]
  },
  {
   "cell_type": "code",
   "execution_count": null,
   "metadata": {},
   "outputs": [],
   "source": [
    "for i in range(N_sample):\n",
    "    T,rho_l,L,E_corde,I,h,E_nu,rhoT,Lx,Ly = param_dataset[i]\n",
    "    F = f.Main(T,rho_l,L,E_corde,I,h,E_nu,rhoT,Lx,Ly,xinB,Fe)   \n",
    "    write(Fichier + str(i) + '.wav',rate=Fe ,data = F / max(F))"
   ]
  },
  {
   "cell_type": "code",
   "execution_count": null,
   "metadata": {},
   "outputs": [],
   "source": [
    "dico = {}\n",
    "for i in range(N_sample):\n",
    "    kle = str(i) + \".wav\"\n",
    "    dico[kle] = {}\n",
    "    dico[kle]['T_corde'] = param_dataset[i][0]\n",
    "    dico[kle]['rho_l_corde'] = param_dataset[i][1]\n",
    "    dico[kle]['L_corde'] = param_dataset[i][2]\n",
    "    dico[kle]['E_corde'] = param_dataset[i][3]\n",
    "    dico[kle]['I_corde'] = param_dataset[i][4]\n",
    "    dico[kle]['h_table'] = param_dataset[i][5]\n",
    "    dico[kle]['E_nu_table'] = param_dataset[i][6]\n",
    "    dico[kle]['rho_table'] = param_dataset[i][7]\n",
    "    dico[kle]['Lx_table'] = param_dataset[i][8]\n",
    "    dico[kle]['Ly_table'] = param_dataset[i][9]\n",
    "\n",
    "with open(Fichier + 'parametres.pickle', 'wb') as f:\n",
    "    pickle.dump(dico, f)\n"
   ]
  },
  {
   "cell_type": "markdown",
   "metadata": {},
   "source": [
    "## Acier : "
   ]
  },
  {
   "cell_type": "code",
   "execution_count": null,
   "metadata": {},
   "outputs": [],
   "source": [
    "Fichier = \"1ier_data_set/acier/\"\n",
    "N_sample, param_dataset, xinB = param_Dataset(N_sample=200,\n",
    "                                             article_C = True,\n",
    "                                             acier_1C = False,\n",
    "                                             acier_2C = False, \n",
    "                                             medium_1T = False, \n",
    "                                             medium_2T = False, \n",
    "                                             metal_T = True,\n",
    "                                             plexi_T = False)"
   ]
  },
  {
   "cell_type": "code",
   "execution_count": null,
   "metadata": {},
   "outputs": [],
   "source": [
    "for i in range(N_sample):\n",
    "    T,rho_l,L,E_corde,I,h,E_nu,rhoT,Lx,Ly = param_dataset[i]\n",
    "    F = f.Main(T,rho_l,L,E_corde,I,h,E_nu,rhoT,Lx,Ly,xinB,Fe)  \n",
    "    #display(Audio(F,rate=Fe)) \n",
    "    write(Fichier + str(i) + '.wav',rate=Fe ,data = F / max(F))"
   ]
  },
  {
   "cell_type": "code",
   "execution_count": null,
   "metadata": {},
   "outputs": [],
   "source": [
    "dico = {}\n",
    "for i in range(N_sample):\n",
    "    kle = str(i) + \".wav\"\n",
    "    dico[kle] = {}\n",
    "    dico[kle]['T_corde'] = param_dataset[i][0]\n",
    "    dico[kle]['rho_l_corde'] = param_dataset[i][1]\n",
    "    dico[kle]['L_corde'] = param_dataset[i][2]\n",
    "    dico[kle]['E_corde'] = param_dataset[i][3]\n",
    "    dico[kle]['I_corde'] = param_dataset[i][4]\n",
    "    dico[kle]['h_table'] = param_dataset[i][5]\n",
    "    dico[kle]['E_nu_table'] = param_dataset[i][6]\n",
    "    dico[kle]['rho_table'] = param_dataset[i][7]\n",
    "    dico[kle]['Lx_table'] = param_dataset[i][8]\n",
    "    dico[kle]['Ly_table'] = param_dataset[i][9]\n",
    "\n",
    "with open(Fichier + 'parametres.pickle', 'wb') as f:\n",
    "    pickle.dump(dico, f)\n"
   ]
  },
  {
   "cell_type": "markdown",
   "metadata": {},
   "source": [
    "## Plexi : "
   ]
  },
  {
   "cell_type": "code",
   "execution_count": null,
   "metadata": {},
   "outputs": [],
   "source": [
    "Fichier = \"1ier_data_set/plexi/\"\n",
    "N_sample, param_dataset, xinB = param_Dataset(N_sample=200,\n",
    "                                             article_C = True,\n",
    "                                             acier_1C = False,\n",
    "                                             acier_2C = False, \n",
    "                                             medium_1T = False, \n",
    "                                             medium_2T = False, \n",
    "                                             metal_T = False,\n",
    "                                             plexi_T = True)"
   ]
  },
  {
   "cell_type": "code",
   "execution_count": null,
   "metadata": {},
   "outputs": [],
   "source": [
    "for i in range(N_sample):\n",
    "    T,rho_l,L,E_corde,I,h,E_nu,rhoT,Lx,Ly = param_dataset[i]\n",
    "    F = f.Main(T,rho_l,L,E_corde,I,h,E_nu,rhoT,Lx,Ly,xinB,Fe)   \n",
    "    write(Fichier + str(i) + '.wav',rate=Fe ,data = F / max(F))"
   ]
  },
  {
   "cell_type": "code",
   "execution_count": null,
   "metadata": {},
   "outputs": [],
   "source": [
    "dico = {}\n",
    "for i in range(N_sample):\n",
    "    kle = str(i) + \".wav\"\n",
    "    dico[kle] = {}\n",
    "    dico[kle]['T_corde'] = param_dataset[i][0]\n",
    "    dico[kle]['rho_l_corde'] = param_dataset[i][1]\n",
    "    dico[kle]['L_corde'] = param_dataset[i][2]\n",
    "    dico[kle]['E_corde'] = param_dataset[i][3]\n",
    "    dico[kle]['I_corde'] = param_dataset[i][4]\n",
    "    dico[kle]['h_table'] = param_dataset[i][5]\n",
    "    dico[kle]['E_nu_table'] = param_dataset[i][6]\n",
    "    dico[kle]['rho_table'] = param_dataset[i][7]\n",
    "    dico[kle]['Lx_table'] = param_dataset[i][8]\n",
    "    dico[kle]['Ly_table'] = param_dataset[i][9]\n",
    "\n",
    "with open(Fichier + 'parametres.pickle', 'wb') as f:\n",
    "    pickle.dump(dico, f)\n"
   ]
  },
  {
   "cell_type": "code",
   "execution_count": null,
   "metadata": {},
   "outputs": [],
   "source": []
  }
 ],
 "metadata": {
  "kernelspec": {
   "display_name": "Python 3 (ipykernel)",
   "language": "python",
   "name": "python3"
  },
  "language_info": {
   "codemirror_mode": {
    "name": "ipython",
    "version": 3
   },
   "file_extension": ".py",
   "mimetype": "text/x-python",
   "name": "python",
   "nbconvert_exporter": "python",
   "pygments_lexer": "ipython3",
   "version": "3.9.1"
  },
  "vscode": {
   "interpreter": {
    "hash": "aee8b7b246df8f9039afb4144a1f6fd8d2ca17a180786b69acc140d282b71a49"
   }
  }
 },
 "nbformat": 4,
 "nbformat_minor": 4
}
