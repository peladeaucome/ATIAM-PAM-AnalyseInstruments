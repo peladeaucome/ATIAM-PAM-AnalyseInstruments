{
 "cells": [
  {
   "cell_type": "code",
   "execution_count": 1,
   "metadata": {},
   "outputs": [],
   "source": [
    "import numpy as np\n",
    "import scipy.signal as sig\n",
    "import scipy.io\n",
    "import os\n",
    "import librosa\n",
    "import sys\n",
    "from IPython.display import display, Audio\n",
    "\n",
    "\n",
    "import matplotlib.pyplot as plt\n",
    "plt.rc('text', usetex=True)\n",
    "plt.rc('font', size=10)\n",
    "plt.rc('font', family='serif')\n",
    "plt.rc('lines', linewidth = .5)\n",
    "cm = 2.54\n",
    "# setting path\n",
    "sys.path.append(\"../\")\n",
    "from Utils.dB import *\n",
    "from HN_decomposition.Subspace.preprocessing import *\n",
    "from HN_decomposition.Subspace.ESPRIT import *\n",
    "\n",
    "def RMS(x):\n",
    "        return np.std(x)\n",
    "\n",
    "figsize = (8.5/cm, 6/cm)\n",
    "\n",
    "def normalize(input_array, value = 1):\n",
    "        return input_array/np.amax(np.abs(input_array))*value"
   ]
  },
  {
   "attachments": {},
   "cell_type": "markdown",
   "metadata": {},
   "source": [
    "### Creating a basic modulated sine-wave"
   ]
  },
  {
   "cell_type": "code",
   "execution_count": 2,
   "metadata": {},
   "outputs": [],
   "source": [
    "sr_hz = 22050\n",
    "t = np.arange(2*sr_hz)\n",
    "baseFreq = 440/sr_hz #Hz\n",
    "modFreq = 1/sr_hz #Hz\n",
    "modAmp = 100/sr_hz #Hz\n",
    "sineAmp = 1\n",
    "noiseAmp = .1\n",
    "\n",
    "full_phase = baseFreq*t + modAmp/(2*np.pi*modFreq)*np.cos(2*np.pi*modFreq*t)\n",
    "full_phase *= 2*np.pi\n",
    "#x = sineAmp*np.sin(full_phase)\n",
    "#x += noiseAmp*np.random.randn(np.shape(t)[0])\n"
   ]
  },
  {
   "attachments": {},
   "cell_type": "markdown",
   "metadata": {},
   "source": [
    "## Loading the audio file"
   ]
  },
  {
   "cell_type": "code",
   "execution_count": 3,
   "metadata": {},
   "outputs": [],
   "source": [
    "fileName = os.path.join('..', 'Data', 'Test', '69.wav')\n",
    "x, sr_hz = librosa.load(fileName)\n",
    "x = x[:2*sr_hz]\n",
    "\n"
   ]
  },
  {
   "cell_type": "code",
   "execution_count": 4,
   "metadata": {},
   "outputs": [],
   "source": [
    "save_folder = os.path.join(\"..\", \"..\", \"PAM_overleaf\", \"Notes\", \"HR\", \"preprocessing\", \"Figures\")"
   ]
  },
  {
   "attachments": {},
   "cell_type": "markdown",
   "metadata": {},
   "source": [
    "## Sub-band decomposition"
   ]
  },
  {
   "cell_type": "code",
   "execution_count": 5,
   "metadata": {},
   "outputs": [
    {
     "name": "stdout",
     "output_type": "stream",
     "text": [
      "(44100,)\n"
     ]
    },
    {
     "data": {
      "image/png": "[encoded data removed]",
      "text/plain": [
       "<Figure size 800x400 with 1 Axes>"
      ]
     },
     "metadata": {},
     "output_type": "display_data"
    }
   ],
   "source": [
    "\n",
    "def filter_n_decimate(filterLength_smp : int, numBands : int, inputSignal : np.array):\n",
    "    \"\"\"\n",
    "    args :\n",
    "        - filterLength : [int]\n",
    "            Digital filter length, in samples\n",
    "        - numBands : [int]\n",
    "            Number of frequency channels in which the signal is to be separated\n",
    "        - inputSignal : [(1, N) np.array]\n",
    "            Input signal \n",
    "    returns :\n",
    "        - outputSignals : [(numBands, N) np.array]\n",
    "            Output signal\"\"\"\n",
    "    signalLength_smp = np.shape(inputSignal)[0] #Input signal length\n",
    "    filteredSignal = np.zeros((signalLength_smp, numBands)) #initializing the output signal\n",
    "    \n",
    "    #h = scipy.signal.remez(numtaps = filterLength_smp, bands = [0, 1/(2*numBands), 1/(2*numBands), .5], fs = 1)\n",
    "\n",
    "    for i in range(numBands):\n",
    "        filteredSignal[:,i] = inputSignal\n",
    "\n",
    "    filters = np.zeros((filterLength_smp, numBands))\n",
    "\n",
    "    n = np.arange(filterLength_smp)\n",
    "    base_filter = np.zeros(filterLength_smp)\n",
    "    for i in range(filters):\n",
    "        filters[i] = base_filter\n",
    "    \n",
    "    outputSignal = filteredSignal[::numBands]\n",
    "    return outputSignal\n",
    "\n",
    "\n",
    "\n",
    "print(np.shape(x))\n",
    "plt.figure(figsize=(8,4))\n",
    "plt.plot(np.arange(len(x))/sr_hz, x, 'k', linewidth = .2)\n",
    "plt.show()"
   ]
  },
  {
   "attachments": {},
   "cell_type": "markdown",
   "metadata": {},
   "source": [
    "## Whitening the noise"
   ]
  },
  {
   "cell_type": "code",
   "execution_count": 6,
   "metadata": {},
   "outputs": [],
   "source": [
    "rankFilter_bins = 21\n",
    "rankFilter_rank = .3\n",
    "\n",
    "n_fft = 512\n",
    "hop_length = n_fft"
   ]
  },
  {
   "cell_type": "code",
   "execution_count": 7,
   "metadata": {},
   "outputs": [
    {
     "name": "stdout",
     "output_type": "stream",
     "text": [
      "(44100,)\n",
      "sample rate : 22050\n"
     ]
    }
   ],
   "source": [
    "\n",
    "print(np.shape(x))\n",
    "x_stft = librosa.stft(x ,n_fft = n_fft, hop_length = hop_length, center=False)\n",
    "\n",
    "xRankFiltered_stft = rankFilter_stft(x_stft, rankFilter_bins = rankFilter_bins, rankFilter_rank = rankFilter_rank)\n",
    "\n",
    "window_type = 'hann'\n",
    "xWhitened, xChopped, ARFilters = whiten_signal(\n",
    "    x = x,\n",
    "    n_fft = n_fft,\n",
    "    hop_length = hop_length,\n",
    "    rankFilter_bins = rankFilter_bins,\n",
    "    rankFilter_rank = rankFilter_rank,\n",
    "    ARFilter_length = 12,\n",
    "    window_type=window_type)\n",
    "xWhitened_stft = compute_stft_from_whitened(xWhitened, window_type=window_type)\n",
    "\n",
    "t_list = librosa.frames_to_samples(np.arange(np.shape(x_stft)[1]), n_fft = n_fft, hop_length=hop_length)/sr_hz\n",
    "f_list = librosa.fft_frequencies(sr = sr_hz, n_fft = n_fft)\n",
    "\n",
    "print(f'sample rate : {sr_hz}')\n",
    "\n",
    "time_frame_display = 11\n"
   ]
  },
  {
   "attachments": {},
   "cell_type": "markdown",
   "metadata": {},
   "source": [
    "## Base ESPRIT"
   ]
  },
  {
   "cell_type": "code",
   "execution_count": 8,
   "metadata": {},
   "outputs": [
    {
     "ename": "NameError",
     "evalue": "name 'dpi' is not defined",
     "output_type": "error",
     "traceback": [
      "\u001b[1;31m---------------------------------------------------------------------------\u001b[0m",
      "\u001b[1;31mNameError\u001b[0m                                 Traceback (most recent call last)",
      "Cell \u001b[1;32mIn [8], line 3\u001b[0m\n\u001b[0;32m      1\u001b[0m num_poles \u001b[39m=\u001b[39m \u001b[39m32\u001b[39m\n\u001b[1;32m----> 3\u001b[0m plt\u001b[39m.\u001b[39mfigure(figsize \u001b[39m=\u001b[39m figsize, dpi \u001b[39m=\u001b[39m dpi)\n\u001b[0;32m      4\u001b[0m plt\u001b[39m.\u001b[39mpcolormesh(t_list, f_list, dB20(x_stft), cmap \u001b[39m=\u001b[39m cmap, vmax \u001b[39m=\u001b[39m \u001b[39m20\u001b[39m, vmin \u001b[39m=\u001b[39m \u001b[39m-\u001b[39m\u001b[39m100\u001b[39m, rasterized\u001b[39m=\u001b[39m\u001b[39mTrue\u001b[39;00m)\n\u001b[0;32m      6\u001b[0m xHarmoChopped \u001b[39m=\u001b[39m np\u001b[39m.\u001b[39mzeros(np\u001b[39m.\u001b[39mshape(xChopped))\n",
      "\u001b[1;31mNameError\u001b[0m: name 'dpi' is not defined"
     ]
    }
   ],
   "source": [
    "num_poles = 32\n",
    "\n",
    "plt.figure(figsize = figsize, dpi = dpi)\n",
    "plt.pcolormesh(t_list, f_list, dB20(x_stft), cmap = cmap, vmax = 20, vmin = -100, rasterized=True)\n",
    "\n",
    "xHarmoChopped = np.zeros(np.shape(xChopped))\n",
    "xHarmo = np.zeros(np.shape(x))\n",
    "\n",
    "for timeFrame in range(np.shape(xWhitened)[1]):\n",
    "    poles, complexAmp, Lambda = ESPRIT(xWhitened[:,timeFrame], num_poles = num_poles)\n",
    "    freqs = np.sort(sr_hz/(2*np.pi)*np.angle(poles))[num_poles//2:]\n",
    "    plt.plot(np.ones(num_poles//2)*t_list[timeFrame], freqs, 'r.', markersize = 1)\n",
    "    for i, pole in enumerate(poles):\n",
    "        xHarmoChopped[:,timeFrame] += np.real(np.power(pole*np.ones(np.shape(xHarmoChopped)[0]), np.arange(np.shape(xHarmoChopped)[0]))*complexAmp[i])\n",
    "    xHarmoChopped[:,timeFrame] = sig.lfilter([1], ARFilters[:,timeFrame], xHarmoChopped[:,timeFrame])\n",
    "    xHarmo[hop_length*timeFrame:hop_length*timeFrame+n_fft] += xHarmoChopped[:,timeFrame]\n",
    "    \n",
    "display(Audio(x, rate = sr_hz))\n",
    "display(Audio(xHarmo, rate = sr_hz))\n",
    "display(Audio(x-xHarmo, rate = sr_hz))\n",
    "\n",
    "scipy.io.wavfile.write(os.path.join('HN/Preprocessing/Audio', 'input.wav'), rate =sr_hz, data = normalize(x))\n",
    "scipy.io.wavfile.write(os.path.join('HN/Preprocessing/Audio', 'harmo.wav'), rate =sr_hz, data = normalize(xHarmo))\n",
    "scipy.io.wavfile.write(os.path.join('HN/Preprocessing/Audio', 'noise.wav'), rate =sr_hz, data = normalize(x-xHarmo))\n",
    "\n",
    "plt.xlabel(\"$t$ [s]\")\n",
    "plt.ylabel(\"$f$ [Hz]\")\n",
    "plt.colorbar(label = '$|X|^2$')\n",
    "plt.tight_layout()\n",
    "plt.savefig(fname = os.path.join(save_folder, \"ESPRIT_stft.pdf\"), dpi = dpi, bbox_inches = \"tight\", format = \"pdf\")\n",
    "plt.show()\n",
    "plt.close()\n",
    "\n",
    "\n"
   ]
  },
  {
   "attachments": {},
   "cell_type": "markdown",
   "metadata": {},
   "source": [
    "## Adaptative ESPRIT"
   ]
  },
  {
   "cell_type": "code",
   "execution_count": null,
   "metadata": {},
   "outputs": [],
   "source": [
    "\n",
    "def ESPRIT_adaptive(xChopped:npt.ArrayLike,num_poles:int, beta:float = 1):\n",
    "    \"\"\"\n",
    "    Performs the ESPRIT algorithm over the input signal based on [1]\n",
    "\n",
    "   \n",
    "    args :\n",
    "        - x : array-like\n",
    "            input signal\n",
    "        - signalSpace_dim : int\n",
    "            dimension of the signal space \n",
    "        - beta : float\n",
    "            forgetting factor\n",
    "    returns:\n",
    "        - delta : array-like\n",
    "            dampening factors\n",
    "        - f\n",
    "\n",
    "    References :\n",
    "    [1] R. Badeau, B. David, and G. Richard, 'Fast Approximated Power Iteration Subspace Tracking,' IEEE Trans. Signal Processing, vol. 53, no. 8, Aug. 2005.\n",
    "\n",
    "    \"\"\"\n",
    "\n",
    "    # Getting the number of samples in each window and the number of samples\n",
    "    window_size, num_windows = np.shape(xChopped)\n",
    "    J = np.array([\n",
    "        [1, 0],\n",
    "        [0, -np.power(beta, window_size)]\n",
    "    ])\n",
    "\n",
    "    #Initializing output arrays\n",
    "    poles_list = np.zeros(num_poles, num_windows)\n",
    "    complexAmp_list = np.zeros(num_poles, num_windows)\n",
    "    correlation_matrix_size = window_size//2\n",
    "    exp_window = np.power(beta, np.arange(num_windows)+1-num_windows)[:,None]\n",
    "\n",
    "    # Initializing\n",
    "    W = np.concatenate((np.eye(num_poles),np.zeros((correlation_matrix_size, num_poles))), axis = 0)\n",
    "    Z = np.eye(num_poles)\n",
    "    X = np.zeros(correlation_matrix_size, window_size)\n",
    "    Vhat = np.zeros(num_poles, window_size)\n",
    "\n",
    "    for window_idx in range(num_windows):\n",
    "        #Input vector\n",
    "        x = (xChopped[:,window_idx]*exp_window)\n",
    "\n",
    "        x_tl = X[:,0]\n",
    "        X = np.concatenate((X[:,1:],x), axis=1)\n",
    "\n",
    "        y = (W.H)@X\n",
    "\n",
    "        vhat_tl = Vhat[:,0]\n",
    "        Yhat = np.concatenate((Vhat[:,1:], y), axis=1)\n",
    "\n",
    "        v_tl = (W.H)@x_tl\n",
    "\n",
    "        xline = np.concatenate((x, x_tl), axis=1)\n",
    "\n",
    "        ylinehat = np.concatenate((y, vhat_tl), axis=1)\n",
    "\n",
    "        yline = np.concatenate((y, v), axis=1)\n",
    "\n",
    "        hline = Z@ylinehat\n",
    "\n",
    "        gline = hline@np.linalg.inv(beta*np.linalg.inv(J) + (y.H)@hline)\n",
    "\n",
    "        ## TW - API main section\n",
    "\n",
    "        eline = xline - W@y\n",
    "\n",
    "        Theta  = np.sqrt(np.eye(num_poles) + gline@((eline.H)@eline)@(gline.H))\n",
    "\n",
    "        Z = (Theta.H)@(np.eye(num_poles) - gline@(yline.H))@Z@(Theta.H)\n",
    "\n",
    "        W = (W + eline@(gline.H))@Theta\n",
    "\n",
    "        Vhat = (Theta.H)@Yhat\n",
    "\n"
   ]
  },
  {
   "cell_type": "code",
   "execution_count": 15,
   "metadata": {},
   "outputs": [
    {
     "data": {
      "text/plain": [
       "array([2, 4, 8], dtype=int32)"
      ]
     },
     "execution_count": 15,
     "metadata": {},
     "output_type": "execute_result"
    }
   ],
   "source": [
    "np.power(2, np.array([1,2,3]))"
   ]
  }
 ],
 "metadata": {
  "kernelspec": {
   "display_name": "Python 3",
   "language": "python",
   "name": "python3"
  },
  "language_info": {
   "codemirror_mode": {
    "name": "ipython",
    "version": 3
   },
   "file_extension": ".py",
   "mimetype": "text/x-python",
   "name": "python",
   "nbconvert_exporter": "python",
   "pygments_lexer": "ipython3",
   "version": "3.10.8"
  },
  "orig_nbformat": 4,
  "vscode": {
   "interpreter": {
    "hash": "9efb172c041349b47316013e29af3faacd6b3a4d09728c6653b30153a8dadfc4"
   }
  }
 },
 "nbformat": 4,
 "nbformat_minor": 2
}
