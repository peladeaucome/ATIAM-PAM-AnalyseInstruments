{
 "cells": [
  {
   "cell_type": "code",
   "execution_count": 9,
   "metadata": {},
   "outputs": [],
   "source": [
    "import numpy as np\n",
    "import scipy.signal as sig\n",
    "import scipy.io\n",
    "import os\n",
    "import librosa\n",
    "import sys\n",
    "from IPython.display import display, Audio\n",
    "\n",
    "\n",
    "import matplotlib.pyplot as plt\n",
    "plt.rc('text', usetex=True)\n",
    "plt.rc('font', size=10)\n",
    "plt.rc('font', family='serif')\n",
    "plt.rc('lines', linewidth = .5)\n",
    "\n",
    "dpi = 300\n",
    "cm = 2.54\n",
    "# setting path\n",
    "sys.path.append(\"../\")\n",
    "from Utils.dB import *\n",
    "from HN_decomposition.Subspace.ESPRIT_numpy import *\n",
    "\n",
    "def RMS(x):\n",
    "        return np.std(x)\n",
    "\n",
    "figsize = (8.5/cm, 6/cm)\n",
    "\n",
    "def normalize(input_array, value = 1):\n",
    "        return input_array/np.amax(np.abs(input_array))*value"
   ]
  },
  {
   "attachments": {},
   "cell_type": "markdown",
   "metadata": {},
   "source": [
    "### Creating a basic modulated sine-wave"
   ]
  },
  {
   "cell_type": "code",
   "execution_count": 10,
   "metadata": {},
   "outputs": [],
   "source": [
    "sr_hz = 22050\n",
    "t = np.arange(2*sr_hz)\n",
    "baseFreq = 440/sr_hz #Hz\n",
    "modFreq = 1/sr_hz #Hz\n",
    "modAmp = 100/sr_hz #Hz\n",
    "sineAmp = 1\n",
    "noiseAmp = .1\n",
    "\n",
    "full_phase = baseFreq*t + modAmp/(2*np.pi*modFreq)*np.cos(2*np.pi*modFreq*t)\n",
    "full_phase *= 2*np.pi\n",
    "#x = sineAmp*np.sin(full_phase)\n",
    "#x += noiseAmp*np.random.randn(np.shape(t)[0])\n"
   ]
  },
  {
   "attachments": {},
   "cell_type": "markdown",
   "metadata": {},
   "source": [
    "## Loading the audio file"
   ]
  },
  {
   "cell_type": "code",
   "execution_count": 11,
   "metadata": {},
   "outputs": [],
   "source": [
    "fileName = os.path.join('..', 'Data', 'Test', '69.wav')\n",
    "x, sr_hz = librosa.load(fileName)\n",
    "x = x[:2*sr_hz]\n",
    "\n"
   ]
  },
  {
   "attachments": {},
   "cell_type": "markdown",
   "metadata": {},
   "source": [
    "# Preprocessing"
   ]
  },
  {
   "cell_type": "code",
   "execution_count": 12,
   "metadata": {},
   "outputs": [],
   "source": [
    "save_folder = os.path.join(\"..\", \"..\", \"PAM_overleaf\", \"Notes\", \"HR\", \"preprocessing\", \"Figures\")"
   ]
  },
  {
   "attachments": {},
   "cell_type": "markdown",
   "metadata": {},
   "source": [
    "## Sub-band decomposition"
   ]
  },
  {
   "attachments": {},
   "cell_type": "markdown",
   "metadata": {},
   "source": [
    "## Whitening the noise"
   ]
  },
  {
   "cell_type": "code",
   "execution_count": 14,
   "metadata": {},
   "outputs": [],
   "source": [
    "rankFilter_bins = 21\n",
    "rankFilter_rank = .3\n",
    "\n",
    "window_length = 512\n",
    "hop_length = window_length"
   ]
  },
  {
   "cell_type": "code",
   "execution_count": 19,
   "metadata": {},
   "outputs": [
    {
     "name": "stderr",
     "output_type": "stream",
     "text": [
      "c:\\Users\\pelad\\AppData\\Local\\Programs\\Python\\Python310\\lib\\site-packages\\numpy\\fft\\_pocketfft.py:70: ComplexWarning: Casting complex values to real discards the imaginary part\n",
      "  r = pfi.execute(a, is_real, is_forward, fct)\n"
     ]
    },
    {
     "ename": "TypeError",
     "evalue": "Dimensions of C (257, 87) are incompatible with X (86) and/or Y (257); see help(pcolormesh)",
     "output_type": "error",
     "traceback": [
      "\u001b[1;31m---------------------------------------------------------------------------\u001b[0m",
      "\u001b[1;31mTypeError\u001b[0m                                 Traceback (most recent call last)",
      "Cell \u001b[1;32mIn [19], line 47\u001b[0m\n\u001b[0;32m     43\u001b[0m plt\u001b[39m.\u001b[39mclose()\n\u001b[0;32m     46\u001b[0m plt\u001b[39m.\u001b[39mfigure(figsize \u001b[39m=\u001b[39m figsize, dpi \u001b[39m=\u001b[39m dpi)\n\u001b[1;32m---> 47\u001b[0m plt\u001b[39m.\u001b[39;49mpcolormesh(t_list, f_list, dB20(xWhitened_stft), cmap \u001b[39m=\u001b[39;49m cmap, rasterized\u001b[39m=\u001b[39;49m\u001b[39mTrue\u001b[39;49;00m)\n\u001b[0;32m     48\u001b[0m plt\u001b[39m.\u001b[39mxlabel(\u001b[39m\"\u001b[39m\u001b[39m$t$ [s]\u001b[39m\u001b[39m\"\u001b[39m)\n\u001b[0;32m     49\u001b[0m plt\u001b[39m.\u001b[39mylabel(\u001b[39m\"\u001b[39m\u001b[39m$f$ [Hz]\u001b[39m\u001b[39m\"\u001b[39m)\n",
      "File \u001b[1;32mc:\\Users\\pelad\\AppData\\Local\\Programs\\Python\\Python310\\lib\\site-packages\\matplotlib\\pyplot.py:2709\u001b[0m, in \u001b[0;36mpcolormesh\u001b[1;34m(alpha, norm, cmap, vmin, vmax, shading, antialiased, data, *args, **kwargs)\u001b[0m\n\u001b[0;32m   2704\u001b[0m \u001b[39m@_copy_docstring_and_deprecators\u001b[39m(Axes\u001b[39m.\u001b[39mpcolormesh)\n\u001b[0;32m   2705\u001b[0m \u001b[39mdef\u001b[39;00m \u001b[39mpcolormesh\u001b[39m(\n\u001b[0;32m   2706\u001b[0m         \u001b[39m*\u001b[39margs, alpha\u001b[39m=\u001b[39m\u001b[39mNone\u001b[39;00m, norm\u001b[39m=\u001b[39m\u001b[39mNone\u001b[39;00m, cmap\u001b[39m=\u001b[39m\u001b[39mNone\u001b[39;00m, vmin\u001b[39m=\u001b[39m\u001b[39mNone\u001b[39;00m,\n\u001b[0;32m   2707\u001b[0m         vmax\u001b[39m=\u001b[39m\u001b[39mNone\u001b[39;00m, shading\u001b[39m=\u001b[39m\u001b[39mNone\u001b[39;00m, antialiased\u001b[39m=\u001b[39m\u001b[39mFalse\u001b[39;00m, data\u001b[39m=\u001b[39m\u001b[39mNone\u001b[39;00m,\n\u001b[0;32m   2708\u001b[0m         \u001b[39m*\u001b[39m\u001b[39m*\u001b[39mkwargs):\n\u001b[1;32m-> 2709\u001b[0m     __ret \u001b[39m=\u001b[39m gca()\u001b[39m.\u001b[39mpcolormesh(\n\u001b[0;32m   2710\u001b[0m         \u001b[39m*\u001b[39margs, alpha\u001b[39m=\u001b[39malpha, norm\u001b[39m=\u001b[39mnorm, cmap\u001b[39m=\u001b[39mcmap, vmin\u001b[39m=\u001b[39mvmin,\n\u001b[0;32m   2711\u001b[0m         vmax\u001b[39m=\u001b[39mvmax, shading\u001b[39m=\u001b[39mshading, antialiased\u001b[39m=\u001b[39mantialiased,\n\u001b[0;32m   2712\u001b[0m         \u001b[39m*\u001b[39m\u001b[39m*\u001b[39m({\u001b[39m\"\u001b[39m\u001b[39mdata\u001b[39m\u001b[39m\"\u001b[39m: data} \u001b[39mif\u001b[39;00m data \u001b[39mis\u001b[39;00m \u001b[39mnot\u001b[39;00m \u001b[39mNone\u001b[39;00m \u001b[39melse\u001b[39;00m {}), \u001b[39m*\u001b[39m\u001b[39m*\u001b[39mkwargs)\n\u001b[0;32m   2713\u001b[0m     sci(__ret)\n\u001b[0;32m   2714\u001b[0m     \u001b[39mreturn\u001b[39;00m __ret\n",
      "File \u001b[1;32mc:\\Users\\pelad\\AppData\\Local\\Programs\\Python\\Python310\\lib\\site-packages\\matplotlib\\__init__.py:1433\u001b[0m, in \u001b[0;36m_preprocess_data.<locals>.inner\u001b[1;34m(ax, data, *args, **kwargs)\u001b[0m\n\u001b[0;32m   1430\u001b[0m \u001b[39m@functools\u001b[39m\u001b[39m.\u001b[39mwraps(func)\n\u001b[0;32m   1431\u001b[0m \u001b[39mdef\u001b[39;00m \u001b[39minner\u001b[39m(ax, \u001b[39m*\u001b[39margs, data\u001b[39m=\u001b[39m\u001b[39mNone\u001b[39;00m, \u001b[39m*\u001b[39m\u001b[39m*\u001b[39mkwargs):\n\u001b[0;32m   1432\u001b[0m     \u001b[39mif\u001b[39;00m data \u001b[39mis\u001b[39;00m \u001b[39mNone\u001b[39;00m:\n\u001b[1;32m-> 1433\u001b[0m         \u001b[39mreturn\u001b[39;00m func(ax, \u001b[39m*\u001b[39m\u001b[39mmap\u001b[39m(sanitize_sequence, args), \u001b[39m*\u001b[39m\u001b[39m*\u001b[39mkwargs)\n\u001b[0;32m   1435\u001b[0m     bound \u001b[39m=\u001b[39m new_sig\u001b[39m.\u001b[39mbind(ax, \u001b[39m*\u001b[39margs, \u001b[39m*\u001b[39m\u001b[39m*\u001b[39mkwargs)\n\u001b[0;32m   1436\u001b[0m     auto_label \u001b[39m=\u001b[39m (bound\u001b[39m.\u001b[39marguments\u001b[39m.\u001b[39mget(label_namer)\n\u001b[0;32m   1437\u001b[0m                   \u001b[39mor\u001b[39;00m bound\u001b[39m.\u001b[39mkwargs\u001b[39m.\u001b[39mget(label_namer))\n",
      "File \u001b[1;32mc:\\Users\\pelad\\AppData\\Local\\Programs\\Python\\Python310\\lib\\site-packages\\matplotlib\\axes\\_axes.py:6169\u001b[0m, in \u001b[0;36mAxes.pcolormesh\u001b[1;34m(self, alpha, norm, cmap, vmin, vmax, shading, antialiased, *args, **kwargs)\u001b[0m\n\u001b[0;32m   6166\u001b[0m shading \u001b[39m=\u001b[39m shading\u001b[39m.\u001b[39mlower()\n\u001b[0;32m   6167\u001b[0m kwargs\u001b[39m.\u001b[39msetdefault(\u001b[39m'\u001b[39m\u001b[39medgecolors\u001b[39m\u001b[39m'\u001b[39m, \u001b[39m'\u001b[39m\u001b[39mnone\u001b[39m\u001b[39m'\u001b[39m)\n\u001b[1;32m-> 6169\u001b[0m X, Y, C, shading \u001b[39m=\u001b[39m \u001b[39mself\u001b[39;49m\u001b[39m.\u001b[39;49m_pcolorargs(\u001b[39m'\u001b[39;49m\u001b[39mpcolormesh\u001b[39;49m\u001b[39m'\u001b[39;49m, \u001b[39m*\u001b[39;49margs,\n\u001b[0;32m   6170\u001b[0m                                     shading\u001b[39m=\u001b[39;49mshading, kwargs\u001b[39m=\u001b[39;49mkwargs)\n\u001b[0;32m   6171\u001b[0m coords \u001b[39m=\u001b[39m np\u001b[39m.\u001b[39mstack([X, Y], axis\u001b[39m=\u001b[39m\u001b[39m-\u001b[39m\u001b[39m1\u001b[39m)\n\u001b[0;32m   6172\u001b[0m \u001b[39m# convert to one dimensional array\u001b[39;00m\n",
      "File \u001b[1;32mc:\\Users\\pelad\\AppData\\Local\\Programs\\Python\\Python310\\lib\\site-packages\\matplotlib\\axes\\_axes.py:5697\u001b[0m, in \u001b[0;36mAxes._pcolorargs\u001b[1;34m(self, funcname, shading, *args, **kwargs)\u001b[0m\n\u001b[0;32m   5695\u001b[0m \u001b[39mif\u001b[39;00m shading \u001b[39m==\u001b[39m \u001b[39m'\u001b[39m\u001b[39mflat\u001b[39m\u001b[39m'\u001b[39m:\n\u001b[0;32m   5696\u001b[0m     \u001b[39mif\u001b[39;00m (Nx, Ny) \u001b[39m!=\u001b[39m (ncols \u001b[39m+\u001b[39m \u001b[39m1\u001b[39m, nrows \u001b[39m+\u001b[39m \u001b[39m1\u001b[39m):\n\u001b[1;32m-> 5697\u001b[0m         \u001b[39mraise\u001b[39;00m \u001b[39mTypeError\u001b[39;00m(\u001b[39m'\u001b[39m\u001b[39mDimensions of C \u001b[39m\u001b[39m%s\u001b[39;00m\u001b[39m are incompatible with\u001b[39m\u001b[39m'\u001b[39m\n\u001b[0;32m   5698\u001b[0m                         \u001b[39m'\u001b[39m\u001b[39m X (\u001b[39m\u001b[39m%d\u001b[39;00m\u001b[39m) and/or Y (\u001b[39m\u001b[39m%d\u001b[39;00m\u001b[39m); see help(\u001b[39m\u001b[39m%s\u001b[39;00m\u001b[39m)\u001b[39m\u001b[39m'\u001b[39m \u001b[39m%\u001b[39m (\n\u001b[0;32m   5699\u001b[0m                             C\u001b[39m.\u001b[39mshape, Nx, Ny, funcname))\n\u001b[0;32m   5700\u001b[0m \u001b[39melse\u001b[39;00m:    \u001b[39m# ['nearest', 'gouraud']:\u001b[39;00m\n\u001b[0;32m   5701\u001b[0m     \u001b[39mif\u001b[39;00m (Nx, Ny) \u001b[39m!=\u001b[39m (ncols, nrows):\n",
      "\u001b[1;31mTypeError\u001b[0m: Dimensions of C (257, 87) are incompatible with X (86) and/or Y (257); see help(pcolormesh)"
     ]
    },
    {
     "data": {
      "image/png": "[encoded data removed]",
      "text/plain": [
       "<Figure size 1003.94x708.661 with 1 Axes>"
      ]
     },
     "metadata": {},
     "output_type": "display_data"
    }
   ],
   "source": [
    "window_type = 'hann'\n",
    "xWhitened, ARFilters = whiten_signal(\n",
    "    x = x,\n",
    "    n_fft = 512,\n",
    "    rankFilter_bins = rankFilter_bins,\n",
    "    rankFilter_rank = rankFilter_rank,\n",
    "    ARFilter_length = 12,\n",
    "    window_type=window_type)\n",
    "\n",
    "xWhitenedWindowed = window_signal(\n",
    "    x = xWhitened,\n",
    "    window_length = window_length,\n",
    "    hop_length = hop_length,\n",
    ")\n",
    "xWindowed = window_signal(\n",
    "    x = x,\n",
    "    window_length = window_length,\n",
    "    hop_length = hop_length,\n",
    ")\n",
    "xWhitened_stft = compute_stft_from_windowed(xWhitenedWindowed, window_type=window_type)\n",
    "\n",
    "cmap = 'gray'\n",
    "dpi = 300\n",
    "\n",
    "plt.figure(figsize = figsize, dpi = dpi)\n",
    "plt.pcolormesh(t_list, f_list, dB20(x_stft), cmap = cmap, rasterized=True)\n",
    "plt.xlabel(\"$t$ [s]\")\n",
    "plt.ylabel(\"$f$ [Hz]\")\n",
    "plt.colorbar(label = '$|X|^2$')\n",
    "plt.tight_layout()\n",
    "plt.savefig(fname = os.path.join(save_folder, \"input_stft.pdf\"), dpi = dpi, bbox_inches = \"tight\", format = \"pdf\")\n",
    "#plt.show()\n",
    "plt.close()\n",
    "\n",
    "plt.figure(figsize = figsize, dpi = dpi)\n",
    "plt.pcolormesh(t_list, f_list, dB10(xRankFiltered_stft), cmap = cmap, rasterized=True)\n",
    "plt.xlabel(\"$t$ [s]\")\n",
    "plt.ylabel(\"$f$ [Hz]\")\n",
    "plt.colorbar(label = '$|N|^2$')\n",
    "plt.tight_layout()\n",
    "plt.savefig(fname = os.path.join(save_folder, \"noise_stft.pdf\"), dpi = dpi, bbox_inches = \"tight\", format = \"pdf\")\n",
    "#plt.show()\n",
    "plt.close()\n",
    "\n",
    "\n",
    "plt.figure(figsize = figsize, dpi = dpi)\n",
    "plt.pcolormesh(t_list, f_list, dB20(xWhitened_stft), cmap = cmap, rasterized=True)\n",
    "plt.xlabel(\"$t$ [s]\")\n",
    "plt.ylabel(\"$f$ [Hz]\")\n",
    "plt.colorbar(label = \"$|X_{\\mathrm{blanchi}}|^2$\")\n",
    "plt.tight_layout()\n",
    "plt.savefig(fname = os.path.join(save_folder, \"whitened_stft.pdf\"), dpi = dpi, bbox_inches = \"tight\", format = \"pdf\")\n",
    "plt.show()\n",
    "plt.close()\n"
   ]
  },
  {
   "cell_type": "code",
   "execution_count": null,
   "metadata": {},
   "outputs": [],
   "source": [
    "time_frame_display = 11\n",
    "\n",
    "plt.figure(figsize = figsize)\n",
    "#plt.figure(figsize = (15, 5))\n",
    "plt.plot(f_list, dB20(x_stft[:,time_frame_display]), 'k', linewidth = .5, label = '$|X|^2$')\n",
    "plt.plot(f_list, dB10(xRankFiltered_stft[:,time_frame_display]), 'r--', linewidth = .5, label = \"$|N|^2$\")\n",
    "plt.legend(ncols = 1)\n",
    "plt.xlabel(\"$f$ [Hz]\")\n",
    "plt.ylabel(\"[dB]\")\n",
    "plt.tight_layout()\n",
    "plt.savefig(fname = os.path.join(save_folder, \"spectre_bruit.pdf\"), dpi = dpi, bbox_inches = \"tight\", format = \"pdf\")\n",
    "plt.show()\n",
    "plt.close()\n",
    "\n",
    "plt.figure(figsize = figsize)\n",
    "#plt.figure(figsize = (15, 5))\n",
    "plt.plot(f_list, dB20(x_stft[:,time_frame_display]), 'k', linewidth = .5, label = '$|X(f)|^2$')\n",
    "plt.plot(f_list, dB20(1/np.fft.rfft(ARFilters[time_frame_display], n=window_length)/300), 'r--', linewidth = .5, label = \"|H(f)|\")\n",
    "plt.legend(ncols = 1)\n",
    "plt.xlabel(\"$f$ [Hz]\")\n",
    "plt.ylabel(\"[dB]\")\n",
    "plt.tight_layout()\n",
    "plt.savefig(fname = os.path.join(save_folder, \"spectre_AR.pdf\"), dpi = dpi, bbox_inches = \"tight\", format = \"pdf\")\n",
    "plt.show()\n",
    "plt.close()"
   ]
  },
  {
   "cell_type": "code",
   "execution_count": null,
   "metadata": {},
   "outputs": [],
   "source": []
  },
  {
   "cell_type": "code",
   "execution_count": null,
   "metadata": {},
   "outputs": [],
   "source": [
    "time_frame_display = 11\n",
    "\n",
    "plt.figure(figsize = figsize)\n",
    "#plt.figure(figsize = (15, 5))\n",
    "plt.plot(f_list, dB20(x_stft[:,time_frame_display]), 'b--', linewidth = .5, label = '$|X|^2$')\n",
    "#plt.plot(f_list, dB10(xRankFiltered_stft[:,time_frame_display]), 'k--', linewidth = .5)\n",
    "plt.plot(f_list, dB20(1/np.fft.rfft(ARFilters[time_frame_display], n=window_length)/300), 'r-.', linewidth = .5, label = \"$|H|^2$\")\n",
    "plt.plot(f_list, dB20(xWhitened_stft[:,time_frame_display]), 'k-', linewidth = .5, label = \"$|X_{\\mathrm{blanchi}}|^2$\")\n",
    "plt.legend(ncols = 1)\n",
    "plt.xlabel(\"$f$ [Hz]\")\n",
    "plt.ylabel(\"[dB]\")\n",
    "plt.tight_layout()\n",
    "plt.savefig(fname = os.path.join(save_folder, \"blanchissement_spectre.pdf\"), dpi = dpi, bbox_inches = \"tight\", format = \"pdf\")\n",
    "plt.show()\n",
    "plt.close()"
   ]
  },
  {
   "cell_type": "code",
   "execution_count": null,
   "metadata": {},
   "outputs": [],
   "source": [
    "num_poles = 32\n",
    "time_frame_display = 11\n",
    "\n",
    "poles, complexAmp, Lambda = ESPRIT(xChopped[time_frame_display], num_poles = num_poles)\n",
    "freqs = np.sort(sr_hz/(2*np.pi)*np.angle(poles))[num_poles//2:]\n",
    "\n",
    "plt.figure(figsize = figsize)\n",
    "plt.plot(f_list, dB20(np.fft.rfft(xChopped[time_frame_display]*np.hanning(window_length))), 'k')\n",
    "for f in freqs:\n",
    "    plt.axvline(f,0,1, color = 'r', linestyle = '--')\n",
    "plt.xlabel(\"$f$ [Hz]\")\n",
    "plt.ylabel(\"$|X|^2$ [dB]\")\n",
    "plt.tight_layout()\n",
    "plt.savefig(fname = os.path.join(save_folder, \"ESPRIT_input.pdf\"), dpi = dpi, bbox_inches = \"tight\", format = \"pdf\")\n",
    "plt.show()\n",
    "plt.close()\n",
    "\n",
    "\n",
    "poles, complexAmp, Lambda = ESPRIT(xWhitened[time_frame_display], num_poles = num_poles)\n",
    "freqs = np.sort(sr_hz/(2*np.pi)*np.angle(poles))[num_poles//2:]\n",
    "\n",
    "plt.figure(figsize = figsize)\n",
    "plt.plot(f_list, dB20(np.fft.rfft(xWhitened[time_frame_display]*np.hanning(window_length))),'k')\n",
    "for f in freqs:\n",
    "    plt.axvline(f,0,1, color = 'r', linestyle = '--')\n",
    "plt.xlabel(\"$f$ [Hz]\")\n",
    "plt.ylabel(\"$|X_{\\mathrm{blanchi}}|^2$ [dB]\")\n",
    "plt.tight_layout()\n",
    "plt.savefig(fname = os.path.join(save_folder, \"ESPRIT_whitened.pdf\"), dpi = dpi, bbox_inches = \"tight\", format = \"pdf\")\n",
    "plt.show()\n",
    "plt.close()"
   ]
  },
  {
   "cell_type": "code",
   "execution_count": null,
   "metadata": {},
   "outputs": [],
   "source": []
  },
  {
   "cell_type": "code",
   "execution_count": null,
   "metadata": {},
   "outputs": [],
   "source": []
  }
 ],
 "metadata": {
  "kernelspec": {
   "display_name": "Python 3",
   "language": "python",
   "name": "python3"
  },
  "language_info": {
   "codemirror_mode": {
    "name": "ipython",
    "version": 3
   },
   "file_extension": ".py",
   "mimetype": "text/x-python",
   "name": "python",
   "nbconvert_exporter": "python",
   "pygments_lexer": "ipython3",
   "version": "3.10.8"
  },
  "orig_nbformat": 4,
  "vscode": {
   "interpreter": {
    "hash": "9efb172c041349b47316013e29af3faacd6b3a4d09728c6653b30153a8dadfc4"
   }
  }
 },
 "nbformat": 4,
 "nbformat_minor": 2
}
