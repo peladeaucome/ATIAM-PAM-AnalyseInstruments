{
 "cells": [
  {
   "cell_type": "code",
   "execution_count": 2,
   "metadata": {},
   "outputs": [
    {
     "ename": "NameError",
     "evalue": "name 'npt' is not defined",
     "output_type": "error",
     "traceback": [
      "\u001b[1;31m---------------------------------------------------------------------------\u001b[0m",
      "\u001b[1;31mNameError\u001b[0m                                 Traceback (most recent call last)",
      "Cell \u001b[1;32mIn [2], line 20\u001b[0m\n\u001b[0;32m     18\u001b[0m sys\u001b[39m.\u001b[39mpath\u001b[39m.\u001b[39mappend(\u001b[39m\"\u001b[39m\u001b[39m../\u001b[39m\u001b[39m\"\u001b[39m)\n\u001b[0;32m     19\u001b[0m \u001b[39mfrom\u001b[39;00m \u001b[39mUtils\u001b[39;00m\u001b[39m.\u001b[39;00m\u001b[39mdB\u001b[39;00m \u001b[39mimport\u001b[39;00m \u001b[39m*\u001b[39m\n\u001b[1;32m---> 20\u001b[0m \u001b[39mfrom\u001b[39;00m \u001b[39mHN_decomposition\u001b[39;00m\u001b[39m.\u001b[39;00m\u001b[39mSubspace\u001b[39;00m\u001b[39m.\u001b[39;00m\u001b[39mESPRIT_numpy\u001b[39;00m \u001b[39mimport\u001b[39;00m \u001b[39m*\u001b[39m\n\u001b[0;32m     21\u001b[0m \u001b[39mfrom\u001b[39;00m \u001b[39mHN_decomposition\u001b[39;00m\u001b[39m.\u001b[39;00m\u001b[39mSubspace\u001b[39;00m\u001b[39m.\u001b[39;00m\u001b[39mPQMF\u001b[39;00m \u001b[39mimport\u001b[39;00m \u001b[39m*\u001b[39m\n\u001b[0;32m     23\u001b[0m \u001b[39mdef\u001b[39;00m \u001b[39mRMS\u001b[39m(x):\n",
      "File \u001b[1;32mc:\\Users\\pelad\\Documents\\Scolarite\\sorbonne_universite\\2022_2023\\Cours\\Projet d'Application Musicale\\Projet\\ATIAM-PAM-AnalyseInstruments\\Notebooks\\..\\HN_decomposition\\Subspace\\ESPRIT_numpy.py:6\u001b[0m\n\u001b[0;32m      4\u001b[0m \u001b[39mimport\u001b[39;00m \u001b[39mnumpy\u001b[39;00m\u001b[39m.\u001b[39;00m\u001b[39mtyping\u001b[39;00m \u001b[39mas\u001b[39;00m \u001b[39mnpt\u001b[39;00m\n\u001b[0;32m      5\u001b[0m \u001b[39mimport\u001b[39;00m \u001b[39mscipy\u001b[39;00m\n\u001b[1;32m----> 6\u001b[0m \u001b[39mfrom\u001b[39;00m \u001b[39m.\u001b[39;00m \u001b[39mimport\u001b[39;00m PQMF\n\u001b[0;32m      8\u001b[0m \u001b[39mdef\u001b[39;00m \u001b[39mLeastSquare\u001b[39m(x:npt\u001b[39m.\u001b[39mArrayLike, damp:npt\u001b[39m.\u001b[39mArrayLike, redFreq:npt\u001b[39m.\u001b[39mArrayLike):\n\u001b[0;32m      9\u001b[0m     \u001b[39m\"\"\"\u001b[39;00m\n\u001b[0;32m     10\u001b[0m \u001b[39m    Estimates the complex amplitudes of the signal poles given their frequencies\u001b[39;00m\n\u001b[0;32m     11\u001b[0m \u001b[39m    and damping (or growing) factors using the least-squares method :\u001b[39;00m\n\u001b[1;32m   (...)\u001b[0m\n\u001b[0;32m     26\u001b[0m \n\u001b[0;32m     27\u001b[0m \u001b[39m    \"\"\"\u001b[39;00m\n",
      "File \u001b[1;32mc:\\Users\\pelad\\Documents\\Scolarite\\sorbonne_universite\\2022_2023\\Cours\\Projet d'Application Musicale\\Projet\\ATIAM-PAM-AnalyseInstruments\\Notebooks\\..\\HN_decomposition\\Subspace\\PQMF.py:3\u001b[0m\n\u001b[0;32m      2\u001b[0m \u001b[39mdef\u001b[39;00m \u001b[39mphi1\u001b[39m(\n\u001b[1;32m----> 3\u001b[0m     impulse_response:npt\u001b[39m.\u001b[39mArrayLike,\n\u001b[0;32m      4\u001b[0m     num_bands:\u001b[39mint\u001b[39m,\n\u001b[0;32m      5\u001b[0m     \u001b[39m*\u001b[39m\u001b[39m*\u001b[39mkwargs\n\u001b[0;32m      6\u001b[0m     ):\n\u001b[0;32m      7\u001b[0m     \u001b[39m\"\"\"\u001b[39;00m\n\u001b[0;32m      8\u001b[0m \u001b[39m    phi_1 function defined in [1, p. 365]. Estimates the flatness of the\u001b[39;00m\n\u001b[0;32m      9\u001b[0m \u001b[39m    filter-bank response\u001b[39;00m\n\u001b[1;32m   (...)\u001b[0m\n\u001b[0;32m     28\u001b[0m \n\u001b[0;32m     29\u001b[0m \u001b[39m    \"\"\"\u001b[39;00m\n\u001b[0;32m     30\u001b[0m     \u001b[39mif\u001b[39;00m \u001b[39m'\u001b[39m\u001b[39mn_fft\u001b[39m\u001b[39m'\u001b[39m \u001b[39min\u001b[39;00m kwargs:\n",
      "\u001b[1;31mNameError\u001b[0m: name 'npt' is not defined"
     ]
    }
   ],
   "source": [
    "import numpy as np\n",
    "import scipy.signal as sig\n",
    "import scipy.io\n",
    "import os\n",
    "import librosa\n",
    "import sys\n",
    "from IPython.display import display, Audio\n",
    "import time\n",
    "import pickle\n",
    "\n",
    "import matplotlib.pyplot as plt\n",
    "plt.rc('text', usetex=True)\n",
    "plt.rc('font', size=10)\n",
    "plt.rc('font', family='serif')\n",
    "plt.rc('lines', linewidth = .5)\n",
    "cm = 2.54\n",
    "# setting path\n",
    "sys.path.append(\"../\")\n",
    "from Utils.dB import *\n",
    "from HN_decomposition.Subspace.ESPRIT_numpy import *\n",
    "from HN_decomposition.Subspace.PQMF import *\n",
    "\n",
    "def RMS(x):\n",
    "        return np.std(x)\n",
    "\n",
    "figsize = (8.5/cm, 6/cm)\n",
    "\n",
    "def normalize(input_array, value = 1):\n",
    "        return input_array/np.amax(np.abs(input_array))*value"
   ]
  },
  {
   "cell_type": "code",
   "execution_count": null,
   "metadata": {},
   "outputs": [],
   "source": [
    "## Base params\n",
    "\n",
    "dpi = 300\n",
    "cmap = 'gray_r'"
   ]
  },
  {
   "attachments": {},
   "cell_type": "markdown",
   "metadata": {},
   "source": [
    "## ESTER Criterion"
   ]
  },
  {
   "cell_type": "code",
   "execution_count": null,
   "metadata": {},
   "outputs": [],
   "source": [
    "\n",
    "\n",
    "        "
   ]
  },
  {
   "cell_type": "code",
   "execution_count": null,
   "metadata": {},
   "outputs": [],
   "source": [
    "amps_nus = [[1, .1], [1, .2], [1, .4], [.9, .04]]\n",
    "\n",
    "amp_noise = .1\n",
    "length_smp = 512\n",
    "\n",
    "x = np.zeros(length_smp, dtype= np.complex128)\n",
    "\n",
    "for amp_nu in amps_nus:\n",
    "    amp = amp_nu[0]\n",
    "    nu = amp_nu[1]\n",
    "    x += amp*np.sin(2*np.pi*nu*np.arange(length_smp))\n",
    "\n",
    "x += amp_noise*np.random.randn(length_smp)\n",
    "\n",
    "\n",
    "_, J_list = ESTER(\n",
    "    x=x,\n",
    "    start_idx = 15,\n",
    "    window_length = 256,\n",
    "    max_poles = 30,\n",
    "    factor = 10\n",
    ")\n",
    "\n",
    "plt.stem(J_list)\n",
    "plt.show()"
   ]
  },
  {
   "attachments": {},
   "cell_type": "markdown",
   "metadata": {},
   "source": [
    "## Loading the audio file"
   ]
  },
  {
   "cell_type": "code",
   "execution_count": null,
   "metadata": {},
   "outputs": [],
   "source": [
    "start_sec = .82\n",
    "length_sec = 4\n",
    "\n",
    "start_sec = 0\n",
    "length_sec = 5\n",
    "\n",
    "fileName = os.path.join('..', '..', 'Mesures', 'Mesures_2023.01.27_LAM', 'Medium_1', 'Corde_Acier', 'C_3_P_3_1.mat')\n",
    "print(fileName)\n",
    "data = scipy.io.loadmat(fileName)\n",
    "print(data.keys())\n",
    "\n",
    "sr_hz_old =  data['fs'][0,0]\n",
    "x = data['acc_t'][int(sr_hz_old*start_sec):int(sr_hz_old*(start_sec+length_sec)),0].T\n",
    "t = np.arange(len(x))/sr_hz_old\n",
    "\n",
    "print(f'sample rate : {sr_hz_old} Hz')\n",
    "\n",
    "plt.figure(figsize = figsize)\n",
    "plt.plot(t,x,'k', linewidth = .5)\n",
    "plt.show()\n",
    "\n",
    "plt.figure(figsize = figsize)\n",
    "plt.plot(np.fft.rfftfreq(len(x), 1/sr_hz_old), dB20(np.fft.rfft(x)))\n",
    "#plt.semilogx()\n",
    "plt.xlim(0, sr_hz_old/2)\n",
    "plt.show()"
   ]
  },
  {
   "attachments": {},
   "cell_type": "markdown",
   "metadata": {},
   "source": [
    "## Resampling"
   ]
  },
  {
   "cell_type": "code",
   "execution_count": null,
   "metadata": {},
   "outputs": [],
   "source": [
    "sr_hz = 22050/2\n",
    "x = librosa.resample(x, orig_sr = sr_hz_old, target_sr = sr_hz)\n",
    "t = np.arange(len(x))/sr_hz\n",
    "plt.figure(figsize = figsize)\n",
    "plt.plot(t,x)\n",
    "plt.show()\n",
    "plt.figure(figsize = figsize)\n",
    "plt.plot(np.fft.rfftfreq(len(x), 1/sr_hz), dB20(np.fft.rfft(x)))\n",
    "plt.xlim(0, sr_hz/2)\n",
    "plt.show()"
   ]
  },
  {
   "cell_type": "code",
   "execution_count": null,
   "metadata": {},
   "outputs": [],
   "source": [
    "save_folder = os.path.join(\"..\", \"..\", \"PAM_overleaf\", \"Notes\", \"HR\", \"Partials_Tracking\", \"Figures\")"
   ]
  },
  {
   "attachments": {},
   "cell_type": "markdown",
   "metadata": {},
   "source": [
    "## Harmonic+Noise Decomposition"
   ]
  },
  {
   "cell_type": "code",
   "execution_count": null,
   "metadata": {},
   "outputs": [],
   "source": [
    "start_idx = np.argmax(np.abs(sig.hilbert(x)))\n",
    "factor = 10\n",
    "\n",
    "## Computations\n",
    "xWhitened, ARFilter = whiten_signal(\n",
    "    x = x,\n",
    "    n_fft = 512,\n",
    "    rankFilter_bins = 200,\n",
    "    rankFilter_rank = .3,\n",
    "    ARFilter_length = 18,\n",
    ")\n",
    "\n",
    "num_poles, J_list = ESTER(\n",
    "    x = xWhitened,\n",
    "    start_idx=start_idx,\n",
    "    window_length=512,\n",
    "    max_poles = 50,\n",
    "    factor = factor\n",
    ")\n",
    "\n",
    "\n",
    "print(num_poles)\n",
    "plt.figure(figsize=figsize)\n",
    "markerline, stemline, baseline = plt.stem(J_list)\n",
    "plt.setp(markerline, markersize = 3)\n",
    "plt.axhline(np.amax(J_list)/factor)\n",
    "plt.xlabel('Nombre de pôles')\n",
    "plt.ylabel('Critère')\n",
    "plt.tight_layout()\n",
    "plt.savefig('ESTER.pdf')\n",
    "plt.show()"
   ]
  },
  {
   "cell_type": "markdown",
   "metadata": {},
   "source": [
    "## Filter Bank Design"
   ]
  },
  {
   "cell_type": "code",
   "execution_count": null,
   "metadata": {},
   "outputs": [],
   "source": []
  },
  {
   "cell_type": "code",
   "execution_count": null,
   "metadata": {},
   "outputs": [],
   "source": [
    "\n",
    "num_bands = 16\n",
    "num_taps = num_bands*8 - (1*(num_bands%2==0))\n",
    "tol_transitionBand = .2/num_bands\n",
    "\n",
    "x_test = np.zeros(2048)\n",
    "x_test[0] = 1\n",
    "\n",
    "Analysis_filters, Synthesis_filters = nearPR_CMFB(\n",
    "    num_bands = num_bands,\n",
    "    num_taps = num_taps,\n",
    "    tol_transitionBand=tol_transitionBand)\n",
    "## Plotting\n",
    "save_folder = os.path.join(\n",
    "    \"..\", \"..\", \"PAM_overleaf\", \"Notes\", \"HR\", \"Preprocessing\", \"Figures\")\n",
    "n_fft = 2048\n",
    "xRecons = np.zeros(len(x_test))\n",
    "\n",
    "for band_idx in range(num_bands):\n",
    "    xFilter = sig.lfilter(Analysis_filters[band_idx], [1], x_test)\n",
    "    xInsert = np.zeros(len(x_test))\n",
    "    xInsert[::num_bands] = xFilter[::num_bands]*num_bands\n",
    "    xRecons+=sig.lfilter(Synthesis_filters[band_idx], [1], xInsert)\n",
    "\n",
    "\n",
    "f = np.fft.rfftfreq(n_fft, 1)\n",
    "plt.figure(figsize = figsize)\n",
    "for band_idx in range(num_bands):\n",
    "    plt.plot(f, dB20(np.fft.rfft(Analysis_filters[band_idx], n = n_fft)), '--')\n",
    "plt.plot(f, dB20(np.fft.rfft(xRecons)), 'k', linewidth = 2)\n",
    "plt.xlim(0,.5)\n",
    "plt.ylim(-5, 5)\n",
    "plt.ylabel('Amplitude [dB]')\n",
    "plt.xlabel(\"Fréquence réduite\")\n",
    "plt.tight_layout()\n",
    "plt.savefig(\n",
    "    fname = os.path.join(save_folder, \"filterBank.pdf\"),\n",
    "    bbox_inches = 'tight'\n",
    ")\n",
    "plt.show()\n",
    "\n",
    "xRecons = np.zeros(len(x))\n",
    "for band_idx in range(num_bands):\n",
    "    xFilter = sig.lfilter(Analysis_filters[band_idx], [1], x)\n",
    "    xInsert = np.zeros(len(x))\n",
    "    xInsert[::num_bands] = xFilter[::num_bands]*num_bands\n",
    "    xRecons+=sig.lfilter(Synthesis_filters[band_idx], [1], xInsert)\n",
    "\n",
    "plt.plot(dB20(np.fft.rfft(x)), linewidth = 2)\n",
    "plt.plot(dB20(np.fft.rfft(xRecons)))\n",
    "plt.show()\n",
    "display(Audio(data = x, rate = sr_hz))\n",
    "display(Audio(data = xRecons, rate = sr_hz))\n"
   ]
  },
  {
   "cell_type": "code",
   "execution_count": null,
   "metadata": {},
   "outputs": [],
   "source": []
  },
  {
   "cell_type": "code",
   "execution_count": null,
   "metadata": {},
   "outputs": [],
   "source": [
    "##Parameters\n",
    "window_length = 32\n",
    "hop_length = 8\n",
    "window_type = 'hann'\n",
    "ester_factor = 50\n",
    "\n",
    "num_bands = 16\n",
    "\n",
    "## Initializing output vectors\n",
    "\n",
    "## Computations\n",
    "tic = time.time()\n",
    "xHarmo, xNoise = multiband_HN(\n",
    "    x,\n",
    "    tracking_method = 'FAPI',\n",
    "    num_bands = num_bands,\n",
    "    ester_factor=ester_factor,\n",
    "    window_length=window_length,\n",
    "    hop_length=hop_length,\n",
    "    FAPI_beta = .9)\n",
    "\n",
    "toc = time.time()\n",
    "\n",
    "print(f'Processing time : {round(toc-tic, 2)}s')\n",
    "\n",
    "display(Audio(data = x, rate = sr_hz))\n",
    "display(Audio(data = np.real(xHarmo), rate = sr_hz))\n",
    "display(Audio(data = np.real(xNoise), rate = sr_hz))\n",
    "\n",
    "fig, ax = plt.subplots(nrows= 1, ncols = 3, sharey = True, figsize = (15/cm, 7/cm))\n",
    "save_folder = os.path.join(\"HN\", \"Subspace\", \"Audio\")\n",
    "cmap = 'inferno'\n",
    "\n",
    "f, t, x_stft = sig.stft(np.real(x), fs = sr_hz, return_onesided=True, scaling = 'psd')\n",
    "ax[0].pcolormesh(t, f, dB10(x_stft), cmap = cmap, rasterized = True)\n",
    "ax[0].set_title(\"Signal\")\n",
    "ax[0].set_ylabel(\"Fréquence [Hz]\")\n",
    "ax[0].set_xlabel(\"Temps [s]\")\n",
    "f, t, x_stft = sig.stft(np.real(xHarmo), fs = sr_hz, return_onesided=True, scaling = 'psd')\n",
    "ax[1].pcolormesh(t, f, dB10(x_stft), cmap = cmap, rasterized = True)\n",
    "ax[1].set_title(\"Composantes\\nharmoniques\")\n",
    "ax[1].set_xlabel(\"Temps [s]\")\n",
    "f, t, x_stft = sig.stft(np.real(xNoise), fs = sr_hz, return_onesided=True, scaling = 'psd')\n",
    "ax[2].pcolormesh(t, f, dB10(x_stft), cmap = cmap, rasterized = True)\n",
    "ax[2].set_title(\"Bruit\")\n",
    "ax[2].set_xlabel(\"Temps [s]\")\n",
    "plt.tight_layout()\n",
    "\n",
    "plt.savefig(os.path.join(save_folder, 'spectrogrammesHN.pdf'))\n",
    "plt.show()\n",
    "\n",
    "save_dict = {\n",
    "    \"input\" : x,\n",
    "    \"harmonic\" : xHarmo,\n",
    "    \"noise\" : xNoise,\n",
    "    \"sampleRate\" : sr_hz\n",
    "}\n",
    "\n",
    "with open(\"test_HN.pickle\", \"wb\") as file:\n",
    "    pickle.dump(save_dict, file, pickle.HIGHEST_PROTOCOL)\n",
    "\n",
    "print(sr_hz)\n",
    "scipy.io.wavfile.write(filename = os.path.join(save_folder, \"input.wav\"), rate = int(sr_hz), data = normalize(x))\n",
    "scipy.io.wavfile.write(filename = os.path.join(save_folder, \"input.wav\"), rate = int(sr_hz), data = normalize(np.real(xHarmo)))\n",
    "scipy.io.wavfile.write(filename = os.path.join(save_folder, \"input.wav\"), rate = int(sr_hz), data = normalize(np.real(xNoise)))"
   ]
  }
 ],
 "metadata": {
  "kernelspec": {
   "display_name": "Python 3",
   "language": "python",
   "name": "python3"
  },
  "language_info": {
   "codemirror_mode": {
    "name": "ipython",
    "version": 3
   },
   "file_extension": ".py",
   "mimetype": "text/x-python",
   "name": "python",
   "nbconvert_exporter": "python",
   "pygments_lexer": "ipython3",
   "version": "3.10.8"
  },
  "orig_nbformat": 4,
  "vscode": {
   "interpreter": {
    "hash": "9efb172c041349b47316013e29af3faacd6b3a4d09728c6653b30153a8dadfc4"
   }
  }
 },
 "nbformat": 4,
 "nbformat_minor": 2
}
