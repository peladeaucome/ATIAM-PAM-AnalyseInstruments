{
 "cells": [
  {
   "attachments": {},
   "cell_type": "markdown",
   "metadata": {},
   "source": [
    "Ce code a pour but d'identifier les rapports $\\frac{E}{(1-\\nu^2)}$ pour chaque plaque, à partir des analyses modales. Nous testerons pour chacune avec un encastrement et un appuis simple.\n",
    "\n",
    "Pour vérifier la \"validité\" entre AS et encastrement, on dispose des modules d'Young de constructeurs pour certaines plaques qui donnent un ordre de grandeur. En effet, si le rapport $\\frac{E}{(1-\\nu^2)}$ implique $\\nu >> 0.5$ pour avoir $E$ de l'ordre de grandeur des constructeurs, c'est surement qu'il y a un problème dans le modèle théorique.\n",
    "\n",
    "Dans un second temps, le code exporte un dictionnaire pour chaque plaque, contenant les paramètres utiles au modèle : $\\rho$, $\\frac{E}{(1-\\nu^2)}$, $L_x, L_y, h$, "
   ]
  },
  {
   "cell_type": "markdown",
   "metadata": {},
   "source": []
  },
  {
   "cell_type": "code",
   "execution_count": 51,
   "metadata": {},
   "outputs": [
    {
     "name": "stdout",
     "output_type": "stream",
     "text": [
      "Propriétés physiques des matériaux par les constructeurs\n"
     ]
    },
    {
     "data": {
      "text/html": [
       "<div>\n",
       "<style scoped>\n",
       "    .dataframe tbody tr th:only-of-type {\n",
       "        vertical-align: middle;\n",
       "    }\n",
       "\n",
       "    .dataframe tbody tr th {\n",
       "        vertical-align: top;\n",
       "    }\n",
       "\n",
       "    .dataframe thead th {\n",
       "        text-align: right;\n",
       "    }\n",
       "</style>\n",
       "<table border=\"1\" class=\"dataframe\">\n",
       "  <thead>\n",
       "    <tr style=\"text-align: right;\">\n",
       "      <th></th>\n",
       "      <th>matériaux</th>\n",
       "      <th>rho (kg/m3)</th>\n",
       "      <th>E (GPa)</th>\n",
       "      <th>url</th>\n",
       "    </tr>\n",
       "  </thead>\n",
       "  <tbody>\n",
       "    <tr>\n",
       "      <th>0</th>\n",
       "      <td>Polypropylène</td>\n",
       "      <td>900</td>\n",
       "      <td>1.1</td>\n",
       "      <td>https://fr.wikipedia.org/wiki/Polypropyl%C3%A8ne</td>\n",
       "    </tr>\n",
       "    <tr>\n",
       "      <th>1</th>\n",
       "      <td>MDF</td>\n",
       "      <td>780</td>\n",
       "      <td>2.7</td>\n",
       "      <td>https://www.bigmat.fr/wp-content/uploads/2018/...</td>\n",
       "    </tr>\n",
       "    <tr>\n",
       "      <th>2</th>\n",
       "      <td>Duralumin-Alu</td>\n",
       "      <td>2670</td>\n",
       "      <td>70.0</td>\n",
       "      <td>https://www.metallservice.ch/msm/msm-home/serv...</td>\n",
       "    </tr>\n",
       "  </tbody>\n",
       "</table>\n",
       "</div>"
      ],
      "text/plain": [
       "       matériaux  rho (kg/m3)  E (GPa)  \\\n",
       "0  Polypropylène          900      1.1   \n",
       "1            MDF          780      2.7   \n",
       "2  Duralumin-Alu         2670     70.0   \n",
       "\n",
       "                                                 url  \n",
       "0   https://fr.wikipedia.org/wiki/Polypropyl%C3%A8ne  \n",
       "1  https://www.bigmat.fr/wp-content/uploads/2018/...  \n",
       "2  https://www.metallservice.ch/msm/msm-home/serv...  "
      ]
     },
     "execution_count": 51,
     "metadata": {},
     "output_type": "execute_result"
    }
   ],
   "source": [
    "E_construc = {\n",
    "    \"matériaux\" : [\"Polypropylène\", \"MDF\", \"Duralumin-Alu\"],\n",
    "    \"rho (kg/m3)\" : [900, 780, 2670],\n",
    "    \"E (GPa)\" : [1.1, 2.7, 70],\n",
    "    \"url\" : [\"https://fr.wikipedia.org/wiki/Polypropyl%C3%A8ne\", \"https://www.bigmat.fr/wp-content/uploads/2018/03/ftcaracteristiques_kronodium_mdf_2010v1.pdf\", \"https://www.metallservice.ch/msm/msm-home/services/infos-t%C3%A9l%C3%A9chargement/infos-produits-fiches-techniques/plaques-d'aluminium/fiche-technique-pour-plaques-en-aluminium-en-aw-5754-nq.pdf\"]\n",
    "}\n",
    "import pandas as pd\n",
    "print(\"Propriétés physiques des matériaux par les constructeurs\")\n",
    "pd.DataFrame(E_construc)"
   ]
  },
  {
   "cell_type": "code",
   "execution_count": 52,
   "metadata": {},
   "outputs": [],
   "source": [
    "import pickle\n",
    "\n",
    "with open('modal_plexi.pkl', 'rb') as f:\n",
    "    modal_analysis_plexi = pickle.load(f)\n",
    "\n",
    "with open('modal_m2.pkl', 'rb') as f:\n",
    "    modal_analysis_m2 = pickle.load(f)\n",
    "\n",
    "with open('modal_m1.pkl', 'rb') as f:\n",
    "    modal_analysis_m1 = pickle.load(f)\n",
    "\n",
    "with open('modal_metal.pkl', 'rb') as f:\n",
    "    modal_analysis_metal = pickle.load(f)"
   ]
  },
  {
   "cell_type": "code",
   "execution_count": 53,
   "metadata": {},
   "outputs": [
    {
     "data": {
      "text/plain": [
       "array([2., 1.])"
      ]
     },
     "execution_count": 53,
     "metadata": {},
     "output_type": "execute_result"
    }
   ],
   "source": [
    "import sys\n",
    "sys.path.append(\"../\")\n",
    "from vico_modphy.guitare_config import *\n",
    "\n",
    "NmB_idx[:,1]"
   ]
  },
  {
   "cell_type": "code",
   "execution_count": 63,
   "metadata": {},
   "outputs": [],
   "source": [
    "import numpy as np\n",
    "\n",
    "def Enu_AS (mode_idx, Lx, Ly, h, rho, modal_analysis) :\n",
    "    n, m = NmB_idx[:,mode_idx]\n",
    "    fnm = modal_analysis_metal[\"freq\"][mode_idx]\n",
    "    Anm = ((n**2*Ly**2 + m**2*Lx**2)/(Lx**2*Ly**2))**2\n",
    "    I = h**2*np.pi**4/12/rho\n",
    "    Enu = (2*np.pi*fnm)**2/I/Anm\n",
    "    return Enu\n",
    "\n",
    "def Enu_clamped (mode_idx, Lx, Ly, h, rho, modal_analysis) :\n",
    "    n, m = NmB_idx[:,mode_idx]\n",
    "    fnm = modal_analysis_metal[\"freq\"][mode_idx]\n",
    "    Anm = ((n**2*Ly**2 + m**2*Lx**2)/(Lx**2*Ly**2))**2\n",
    "    I = h**2*np.pi**2/12/rho\n",
    "    Enu = (2*np.pi*fnm)**2/I/Anm\n",
    "    return Enu"
   ]
  },
  {
   "cell_type": "code",
   "execution_count": 70,
   "metadata": {},
   "outputs": [
    {
     "name": "stdout",
     "output_type": "stream",
     "text": [
      "Masse volumique : 2623.2 (kg/m3)\n",
      "E constructeur : 70.0 (GPa)\n",
      "================================================\n",
      "Pour un appuis simple :\n",
      "\n",
      "E/(1-nu^2) calculé sur f11, f21, f12 : 22268531070.80035 24990271594.501747 10938757407.662296\n",
      "E/(1-nu^2) moyenné sur les 2 premiers : 23629401332.651047\n",
      "nu sachant E constructeur : nan nan\n"
     ]
    },
    {
     "name": "stderr",
     "output_type": "stream",
     "text": [
      "/var/folders/9z/kzhjdk9j47z0026s88r_0ssh0000gn/T/ipykernel_91736/853518350.py:20: RuntimeWarning: invalid value encountered in sqrt\n",
      "  nu_cons0 = np.sqrt(1-E/Enu_AS_0)\n",
      "/var/folders/9z/kzhjdk9j47z0026s88r_0ssh0000gn/T/ipykernel_91736/853518350.py:21: RuntimeWarning: invalid value encountered in sqrt\n",
      "  nu_cons1 = np.sqrt(1-E/Enu_AS_1)\n"
     ]
    }
   ],
   "source": [
    "#Metal (qui est enfait un alliage aluminium-duralumin)\n",
    "Lx=395e-3\n",
    "Ly=255e-3\n",
    "h=6.01e-3\n",
    "rho=1588e-3/Lx/Ly/h\n",
    "print(f\"Masse volumique : {rho:.1f} (kg/m3)\")\n",
    "\n",
    "E = E_construc[\"E (GPa)\"][2]*1e9\n",
    "print(f\"E constructeur : {E*1e-9} (GPa)\")\n",
    "\n",
    "Enu_AS_0 = Enu_AS(0, Lx, Ly, h, rho ,  modal_analysis=modal_analysis_metal)\n",
    "Enu_AS_1 = Enu_AS(1, Lx, Ly, h, rho ,  modal_analysis=modal_analysis_metal)\n",
    "Enu_AS_2 = Enu_AS(2, Lx, Ly, h, rho ,  modal_analysis=modal_analysis_metal)\n",
    "\n",
    "print(\"================================================\\nPour un appuis simple :\\n\")\n",
    "\n",
    "print(\"E/(1-nu^2) calculé sur f11, f21, f12 :\", Enu_AS_0, Enu_AS_1, Enu_AS_2)\n",
    "print(\"E/(1-nu^2) moyenné sur les 2 premiers :\", np.mean([Enu_AS_0, Enu_AS_1]))\n",
    "# print(E/Enu_AS_0)\n",
    "nu_cons0 = np.sqrt(1-E/Enu_AS_0)\n",
    "nu_cons1 = np.sqrt(1-E/Enu_AS_1)\n",
    "print(\"nu sachant E constructeur :\", nu_cons0, nu_cons1)"
   ]
  },
  {
   "cell_type": "code",
   "execution_count": 66,
   "metadata": {},
   "outputs": [
    {
     "name": "stdout",
     "output_type": "stream",
     "text": [
      "Masse volumique : 814.4 (kg/m3)\n",
      "E constructeur : 1.1 (GPa)\n",
      "================================================\n",
      "Pour un appuis simple :\n",
      "\n",
      "E/(1-nu^2) calculé sur f11, f21, f12 : 13162031867.728558 14637567540.149456 6501045391.293302\n",
      "E/(1-nu^2) moyenné sur les 2 premiers : 13899799703.939007\n",
      "nu sachant E constructeur : 0.9573015603312286 0.9616916875137549\n"
     ]
    }
   ],
   "source": [
    "#Polypropylène\n",
    "Lx=400e-3\n",
    "Ly=260e-3\n",
    "h=4.51e-3\n",
    "rho=382e-3/Lx/Ly/h\n",
    "print(f\"Masse volumique : {rho:.1f} (kg/m3)\")\n",
    "\n",
    "E = E_construc[\"E (GPa)\"][0]*1e9\n",
    "print(f\"E constructeur : {E*1e-9} (GPa)\")\n",
    "\n",
    "Enu_AS_0 = Enu_AS(0, Lx, Ly, h, rho ,  modal_analysis=modal_analysis_plexi)\n",
    "Enu_AS_1 = Enu_AS(1, Lx, Ly, h, rho ,  modal_analysis=modal_analysis_plexi)\n",
    "Enu_AS_2 = Enu_AS(2, Lx, Ly, h, rho ,  modal_analysis=modal_analysis_plexi)\n",
    "\n",
    "print(\"================================================\\nPour un appuis simple :\\n\")\n",
    "\n",
    "print(\"E/(1-nu^2) calculé sur f11, f21, f12 :\", Enu_AS_0, Enu_AS_1, Enu_AS_2)\n",
    "print(\"E/(1-nu^2) moyenné sur les 2 premiers :\", np.mean([Enu_AS_0, Enu_AS_1]))\n",
    "nu_cons0 = np.sqrt(1-E/Enu_AS_0)\n",
    "nu_cons1 = np.sqrt(1-E/Enu_AS_1)\n",
    "print(\"nu sachant E constructeur :\", nu_cons0, nu_cons1)"
   ]
  },
  {
   "cell_type": "code",
   "execution_count": 67,
   "metadata": {},
   "outputs": [
    {
     "name": "stdout",
     "output_type": "stream",
     "text": [
      "Masse volumique : 807.1 (kg/m3)\n",
      "E constructeur : 2.7 (GPa)\n",
      "================================================\n",
      "Pour un appuis simple :\n",
      "\n",
      "E/(1-nu^2) calculé sur f11, f21, f12 : 7272543777.119565 8087835662.158468 3592084997.236915\n",
      "E/(1-nu^2) moyenné sur les 2 premiers : 7680189719.639017\n",
      "nu sachant E constructeur : 0.7929316697460834 0.8161895145921698\n"
     ]
    }
   ],
   "source": [
    "#MDF2\n",
    "Lx=400e-3\n",
    "Ly=260e-3\n",
    "h=6.04e-3\n",
    "rho=507e-3/Lx/Ly/h\n",
    "print(f\"Masse volumique : {rho:.1f} (kg/m3)\")\n",
    "\n",
    "E = E_construc[\"E (GPa)\"][1]*1e9\n",
    "print(f\"E constructeur : {E*1e-9} (GPa)\")\n",
    "\n",
    "Enu_AS_0 = Enu_AS(0, Lx, Ly, h, rho ,  modal_analysis=modal_analysis_m2)\n",
    "Enu_AS_1 = Enu_AS(1, Lx, Ly, h, rho ,  modal_analysis=modal_analysis_m2)\n",
    "Enu_AS_2 = Enu_AS(2, Lx, Ly, h, rho ,  modal_analysis=modal_analysis_m2)\n",
    "\n",
    "print(\"================================================\\nPour un appuis simple :\\n\")\n",
    "\n",
    "print(\"E/(1-nu^2) calculé sur f11, f21, f12 :\", Enu_AS_0, Enu_AS_1, Enu_AS_2)\n",
    "print(\"E/(1-nu^2) moyenné sur les 2 premiers :\", np.mean([Enu_AS_0, Enu_AS_1]))\n",
    "nu_cons0 = np.sqrt(1-E/Enu_AS_0)\n",
    "nu_cons1 = np.sqrt(1-E/Enu_AS_1)\n",
    "print(\"nu sachant E constructeur :\", nu_cons0, nu_cons1)"
   ]
  },
  {
   "cell_type": "code",
   "execution_count": 68,
   "metadata": {},
   "outputs": [
    {
     "name": "stdout",
     "output_type": "stream",
     "text": [
      "Masse volumique : 772.2 (kg/m3)\n",
      "E constructeur : 2.7 (GPa)\n",
      "================================================\n",
      "Pour un appuis simple :\n",
      "\n",
      "E/(1-nu^2) calculé sur f11, f21, f12 : 28853421717.07133 32252254948.23811 14207313966.420094\n",
      "E/(1-nu^2) moyenné sur les 2 premiers : 30552838332.65472\n",
      "nu sachant E constructeur : 0.9520628008946148 0.9572277279722484\n"
     ]
    }
   ],
   "source": [
    "#MDF1\n",
    "Lx=400e-3\n",
    "Ly=259e-3\n",
    "h=2.95e-3\n",
    "rho=236e-3/Lx/Ly/h\n",
    "print(f\"Masse volumique : {rho:.1f} (kg/m3)\")\n",
    "\n",
    "E = E_construc[\"E (GPa)\"][1]*1e9\n",
    "print(f\"E constructeur : {E*1e-9} (GPa)\")\n",
    "\n",
    "Enu_AS_0 = Enu_AS(0, Lx, Ly, h, rho ,  modal_analysis=modal_analysis_m1)\n",
    "Enu_AS_1 = Enu_AS(1, Lx, Ly, h, rho ,  modal_analysis=modal_analysis_m1)\n",
    "Enu_AS_2 = Enu_AS(2, Lx, Ly, h, rho ,  modal_analysis=modal_analysis_m1)\n",
    "\n",
    "print(\"================================================\\nPour un appuis simple :\\n\")\n",
    "\n",
    "print(\"E/(1-nu^2) calculé sur f11, f21, f12 :\", Enu_AS_0, Enu_AS_1, Enu_AS_2)\n",
    "print(\"E/(1-nu^2) moyenné sur les 2 premiers :\", np.mean([Enu_AS_0, Enu_AS_1]))\n",
    "nu_cons0 = np.sqrt(1-E/Enu_AS_0)\n",
    "nu_cons1 = np.sqrt(1-E/Enu_AS_1)\n",
    "print(\"nu sachant E constructeur :\", nu_cons0, nu_cons1)"
   ]
  },
  {
   "cell_type": "code",
   "execution_count": null,
   "metadata": {},
   "outputs": [],
   "source": []
  }
 ],
 "metadata": {
  "kernelspec": {
   "display_name": "Python 3",
   "language": "python",
   "name": "python3"
  },
  "language_info": {
   "codemirror_mode": {
    "name": "ipython",
    "version": 3
   },
   "file_extension": ".py",
   "mimetype": "text/x-python",
   "name": "python",
   "nbconvert_exporter": "python",
   "pygments_lexer": "ipython3",
   "version": "3.9.13"
  },
  "orig_nbformat": 4,
  "vscode": {
   "interpreter": {
    "hash": "397704579725e15f5c7cb49fe5f0341eb7531c82d19f2c29d197e8b64ab5776b"
   }
  }
 },
 "nbformat": 4,
 "nbformat_minor": 2
}
