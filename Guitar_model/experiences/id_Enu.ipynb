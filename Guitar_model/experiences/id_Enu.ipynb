{
 "cells": [
  {
   "attachments": {},
   "cell_type": "markdown",
   "metadata": {},
   "source": [
    "Ce code a pour but d'identifier les rapports $\\frac{E}{(1-\\nu^2)}$ pour chaque plaque, à partir des analyses modales. Nous testerons pour chacune avec un encastrement et un appuis simple.\n",
    "\n",
    "Pour vérifier la \"validité\" entre AS et encastrement, on dispose des modules d'Young de constructeurs pour certaines plaques qui donnent un ordre de grandeur. En effet, si le rapport $\\frac{E}{(1-\\nu^2)}$ implique $\\nu >> 0.5$ pour avoir $E$ de l'ordre de grandeur des constructeurs, c'est surement qu'il y a un problème dans le modèle théorique.\n",
    "\n",
    "Dans un second temps, le code exporte un dictionnaire pour chaque plaque, contenant les paramètres utiles au modèle : $\\rho$, $\\frac{E}{(1-\\nu^2)}$, $L_x, L_y, h$, "
   ]
  },
  {
   "cell_type": "code",
   "execution_count": 1,
   "metadata": {},
   "outputs": [
    {
     "name": "stdout",
     "output_type": "stream",
     "text": [
      "Propriétés physiques des matériaux par les constructeurs\n"
     ]
    },
    {
     "data": {
      "text/html": [
       "<div>\n",
       "<style scoped>\n",
       "    .dataframe tbody tr th:only-of-type {\n",
       "        vertical-align: middle;\n",
       "    }\n",
       "\n",
       "    .dataframe tbody tr th {\n",
       "        vertical-align: top;\n",
       "    }\n",
       "\n",
       "    .dataframe thead th {\n",
       "        text-align: right;\n",
       "    }\n",
       "</style>\n",
       "<table border=\"1\" class=\"dataframe\">\n",
       "  <thead>\n",
       "    <tr style=\"text-align: right;\">\n",
       "      <th></th>\n",
       "      <th>matériaux</th>\n",
       "      <th>rho (kg/m3)</th>\n",
       "      <th>E (GPa)</th>\n",
       "      <th>url</th>\n",
       "    </tr>\n",
       "  </thead>\n",
       "  <tbody>\n",
       "    <tr>\n",
       "      <th>0</th>\n",
       "      <td>Polypropylène</td>\n",
       "      <td>900</td>\n",
       "      <td>1.1</td>\n",
       "      <td>https://fr.wikipedia.org/wiki/Polypropyl%C3%A8ne</td>\n",
       "    </tr>\n",
       "    <tr>\n",
       "      <th>1</th>\n",
       "      <td>MDF</td>\n",
       "      <td>780</td>\n",
       "      <td>2.7</td>\n",
       "      <td>https://www.bigmat.fr/wp-content/uploads/2018/...</td>\n",
       "    </tr>\n",
       "    <tr>\n",
       "      <th>2</th>\n",
       "      <td>Duralumin-Alu</td>\n",
       "      <td>2670</td>\n",
       "      <td>70.0</td>\n",
       "      <td>https://www.metallservice.ch/msm/msm-home/serv...</td>\n",
       "    </tr>\n",
       "  </tbody>\n",
       "</table>\n",
       "</div>"
      ],
      "text/plain": [
       "       matériaux  rho (kg/m3)  E (GPa)  \\\n",
       "0  Polypropylène          900      1.1   \n",
       "1            MDF          780      2.7   \n",
       "2  Duralumin-Alu         2670     70.0   \n",
       "\n",
       "                                                 url  \n",
       "0   https://fr.wikipedia.org/wiki/Polypropyl%C3%A8ne  \n",
       "1  https://www.bigmat.fr/wp-content/uploads/2018/...  \n",
       "2  https://www.metallservice.ch/msm/msm-home/serv...  "
      ]
     },
     "execution_count": 1,
     "metadata": {},
     "output_type": "execute_result"
    }
   ],
   "source": [
    "E_construc = {\n",
    "    \"matériaux\" : [\"Polypropylène\", \"MDF\", \"Duralumin-Alu\"],\n",
    "    \"rho (kg/m3)\" : [900, 780, 2670],\n",
    "    \"E (GPa)\" : [1.1, 2.7, 70],\n",
    "    \"url\" : [\"https://fr.wikipedia.org/wiki/Polypropyl%C3%A8ne\", \"https://www.bigmat.fr/wp-content/uploads/2018/03/ftcaracteristiques_kronodium_mdf_2010v1.pdf\", \"https://www.metallservice.ch/msm/msm-home/services/infos-t%C3%A9l%C3%A9chargement/infos-produits-fiches-techniques/plaques-d'aluminium/fiche-technique-pour-plaques-en-aluminium-en-aw-5754-nq.pdf ; https://lugand-aciers.fr/la5083-cp-alliage-daluminium/\"]\n",
    "}\n",
    "\n",
    "import pandas as pd\n",
    "print(\"Propriétés physiques des matériaux par les constructeurs\")\n",
    "pd.DataFrame(E_construc)"
   ]
  },
  {
   "cell_type": "code",
   "execution_count": 2,
   "metadata": {},
   "outputs": [],
   "source": [
    "import pickle\n",
    "\n",
    "with open('modal_plexi.pkl', 'rb') as f:\n",
    "    modal_analysis_plexi = pickle.load(f)\n",
    "\n",
    "with open('modal_m2.pkl', 'rb') as f:\n",
    "    modal_analysis_m2 = pickle.load(f)\n",
    "\n",
    "with open('modal_m1.pkl', 'rb') as f:\n",
    "    modal_analysis_m1 = pickle.load(f)\n",
    "\n",
    "with open('modal_metal.pkl', 'rb') as f:\n",
    "    modal_analysis_metal = pickle.load(f)"
   ]
  },
  {
   "cell_type": "code",
   "execution_count": 3,
   "metadata": {},
   "outputs": [
    {
     "data": {
      "text/plain": [
       "array([1., 1.])"
      ]
     },
     "execution_count": 3,
     "metadata": {},
     "output_type": "execute_result"
    }
   ],
   "source": [
    "import sys\n",
    "sys.path.append(\"../\")\n",
    "from vico_modphy.guitare_config import *\n",
    "\n",
    "NmB_idx[:,0]"
   ]
  },
  {
   "cell_type": "code",
   "execution_count": 4,
   "metadata": {},
   "outputs": [
    {
     "data": {
      "text/plain": [
       "array([1., 1.])"
      ]
     },
     "execution_count": 4,
     "metadata": {},
     "output_type": "execute_result"
    }
   ],
   "source": [
    "NmB_idx[:,0]"
   ]
  },
  {
   "cell_type": "code",
   "execution_count": 5,
   "metadata": {},
   "outputs": [],
   "source": [
    "import numpy as np\n",
    "\n",
    "def Enu_AS (mode_idx, Lx, Ly, h, rho, modal_analysis) :\n",
    "    n, m = NmB_idx[:,mode_idx]\n",
    "    fnm = modal_analysis[\"freq\"][mode_idx]\n",
    "    Anm = ((n**2*Ly**2 + m**2*Lx**2)/(Lx**2*Ly**2))**2\n",
    "    I = h**2*np.pi**4/12/rho\n",
    "    Enu = (2*np.pi*fnm)**2/I/Anm\n",
    "    return Enu"
   ]
  },
  {
   "cell_type": "code",
   "execution_count": 6,
   "metadata": {},
   "outputs": [
    {
     "name": "stdout",
     "output_type": "stream",
     "text": [
      "Masse volumique : 2623.2 (kg/m3)\n",
      "E constructeur : 70.0 (GPa)\n",
      "================================================\n",
      "Pour un appuis simple :\n",
      "\n",
      "E/(1-nu^2) calculé sur f11, f21, f12 : 22268531070.80035 24990271594.501747 10938757407.662296\n",
      "E/(1-nu^2) moyenné sur les 2 premiers : 23629401332.651047\n",
      "nu sachant E constructeur : nan nan\n"
     ]
    },
    {
     "name": "stderr",
     "output_type": "stream",
     "text": [
      "/var/folders/9z/kzhjdk9j47z0026s88r_0ssh0000gn/T/ipykernel_93129/853518350.py:20: RuntimeWarning: invalid value encountered in sqrt\n",
      "  nu_cons0 = np.sqrt(1-E/Enu_AS_0)\n",
      "/var/folders/9z/kzhjdk9j47z0026s88r_0ssh0000gn/T/ipykernel_93129/853518350.py:21: RuntimeWarning: invalid value encountered in sqrt\n",
      "  nu_cons1 = np.sqrt(1-E/Enu_AS_1)\n"
     ]
    }
   ],
   "source": [
    "#Metal (qui est enfait un alliage aluminium-duralumin)\n",
    "Lx=395e-3\n",
    "Ly=255e-3\n",
    "h=6.01e-3\n",
    "rho=1588e-3/Lx/Ly/h\n",
    "print(f\"Masse volumique : {rho:.1f} (kg/m3)\")\n",
    "\n",
    "E = E_construc[\"E (GPa)\"][2]*1e9\n",
    "print(f\"E constructeur : {E*1e-9} (GPa)\")\n",
    "\n",
    "Enu_AS_0 = Enu_AS(0, Lx, Ly, h, rho ,  modal_analysis=modal_analysis_metal)\n",
    "Enu_AS_1 = Enu_AS(1, Lx, Ly, h, rho ,  modal_analysis=modal_analysis_metal)\n",
    "Enu_AS_2 = Enu_AS(2, Lx, Ly, h, rho ,  modal_analysis=modal_analysis_metal)\n",
    "\n",
    "print(\"================================================\\nPour un appuis simple :\\n\")\n",
    "\n",
    "print(\"E/(1-nu^2) calculé sur f11, f21, f12 :\", Enu_AS_0, Enu_AS_1, Enu_AS_2)\n",
    "print(\"E/(1-nu^2) moyenné sur les 2 premiers :\", np.mean([Enu_AS_0, Enu_AS_1]))\n",
    "# print(E/Enu_AS_0)\n",
    "nu_cons0 = np.sqrt(1-E/Enu_AS_0)\n",
    "nu_cons1 = np.sqrt(1-E/Enu_AS_1)\n",
    "print(\"nu sachant E constructeur :\", nu_cons0, nu_cons1)"
   ]
  },
  {
   "cell_type": "code",
   "execution_count": 7,
   "metadata": {},
   "outputs": [
    {
     "name": "stdout",
     "output_type": "stream",
     "text": [
      "Masse volumique : 814.4 (kg/m3)\n",
      "E constructeur : 1.1 (GPa)\n",
      "================================================\n",
      "Pour un appuis simple :\n",
      "\n",
      "E/(1-nu^2) calculé sur f11, f21, f12 : 2285967714.144355 2484714707.31419 1115650607.2154143\n",
      "E/(1-nu^2) moyenné sur les 2 premiers : 2385341210.7292724\n",
      "nu sachant E constructeur : 0.7202800515414235 0.7465207559297051\n"
     ]
    }
   ],
   "source": [
    "#Polypropylène\n",
    "Lx=400e-3\n",
    "Ly=260e-3\n",
    "h=4.51e-3\n",
    "rho=382e-3/Lx/Ly/h\n",
    "print(f\"Masse volumique : {rho:.1f} (kg/m3)\")\n",
    "\n",
    "E = E_construc[\"E (GPa)\"][0]*1e9\n",
    "print(f\"E constructeur : {E*1e-9} (GPa)\")\n",
    "\n",
    "Enu_AS_0 = Enu_AS(0, Lx, Ly, h, rho ,  modal_analysis=modal_analysis_plexi)\n",
    "Enu_AS_1 = Enu_AS(1, Lx, Ly, h, rho ,  modal_analysis=modal_analysis_plexi)\n",
    "Enu_AS_2 = Enu_AS(2, Lx, Ly, h, rho ,  modal_analysis=modal_analysis_plexi)\n",
    "\n",
    "print(\"================================================\\nPour un appuis simple :\\n\")\n",
    "\n",
    "print(\"E/(1-nu^2) calculé sur f11, f21, f12 :\", Enu_AS_0, Enu_AS_1, Enu_AS_2)\n",
    "print(\"E/(1-nu^2) moyenné sur les 2 premiers :\", np.mean([Enu_AS_0, Enu_AS_1]))\n",
    "nu_cons0 = np.sqrt(1-E/Enu_AS_0)\n",
    "nu_cons1 = np.sqrt(1-E/Enu_AS_1)\n",
    "print(\"nu sachant E constructeur :\", nu_cons0, nu_cons1)"
   ]
  },
  {
   "cell_type": "code",
   "execution_count": 8,
   "metadata": {},
   "outputs": [
    {
     "name": "stdout",
     "output_type": "stream",
     "text": [
      "Masse volumique : 807.1 (kg/m3)\n",
      "E constructeur : 2.7 (GPa)\n",
      "================================================\n",
      "Pour un appuis simple :\n",
      "\n",
      "E/(1-nu^2) calculé sur f11, f21, f12 : 2787725397.3611646 1810502731.9665265 908343256.8168987\n",
      "E/(1-nu^2) moyenné sur les 2 premiers : 2299114064.6638455\n",
      "nu sachant E constructeur : 0.17739348925172904 nan\n"
     ]
    },
    {
     "name": "stderr",
     "output_type": "stream",
     "text": [
      "/var/folders/9z/kzhjdk9j47z0026s88r_0ssh0000gn/T/ipykernel_93129/248347123.py:20: RuntimeWarning: invalid value encountered in sqrt\n",
      "  nu_cons1 = np.sqrt(1-E/Enu_AS_1)\n"
     ]
    }
   ],
   "source": [
    "#MDF2\n",
    "Lx=400e-3\n",
    "Ly=260e-3\n",
    "h=6.04e-3\n",
    "rho=507e-3/Lx/Ly/h\n",
    "print(f\"Masse volumique : {rho:.1f} (kg/m3)\")\n",
    "\n",
    "E = E_construc[\"E (GPa)\"][1]*1e9\n",
    "print(f\"E constructeur : {E*1e-9} (GPa)\")\n",
    "\n",
    "Enu_AS_0 = Enu_AS(0, Lx, Ly, h, rho ,  modal_analysis=modal_analysis_m2)\n",
    "Enu_AS_1 = Enu_AS(1, Lx, Ly, h, rho ,  modal_analysis=modal_analysis_m2)\n",
    "Enu_AS_2 = Enu_AS(2, Lx, Ly, h, rho ,  modal_analysis=modal_analysis_m2)\n",
    "\n",
    "print(\"================================================\\nPour un appuis simple :\\n\")\n",
    "\n",
    "print(\"E/(1-nu^2) calculé sur f11, f21, f12 :\", Enu_AS_0, Enu_AS_1, Enu_AS_2)\n",
    "print(\"E/(1-nu^2) moyenné sur les 2 premiers :\", np.mean([Enu_AS_0, Enu_AS_1]))\n",
    "nu_cons0 = np.sqrt(1-E/Enu_AS_0)\n",
    "nu_cons1 = np.sqrt(1-E/Enu_AS_1)\n",
    "print(\"nu sachant E constructeur :\", nu_cons0, nu_cons1)"
   ]
  },
  {
   "cell_type": "code",
   "execution_count": 9,
   "metadata": {},
   "outputs": [
    {
     "name": "stdout",
     "output_type": "stream",
     "text": [
      "Masse volumique : 772.2 (kg/m3)\n",
      "E constructeur : 2.7 (GPa)\n",
      "================================================\n",
      "Pour un appuis simple :\n",
      "\n",
      "E/(1-nu^2) calculé sur f11, f21, f12 : 5422850651.826864 6015814426.430029 2545472114.025044\n",
      "E/(1-nu^2) moyenné sur les 2 premiers : 5719332539.128447\n",
      "nu sachant E constructeur : 0.7085950081629058 0.7424169744822622\n"
     ]
    }
   ],
   "source": [
    "#MDF1\n",
    "Lx=400e-3\n",
    "Ly=259e-3\n",
    "h=2.95e-3\n",
    "rho=236e-3/Lx/Ly/h\n",
    "print(f\"Masse volumique : {rho:.1f} (kg/m3)\")\n",
    "\n",
    "E = E_construc[\"E (GPa)\"][1]*1e9\n",
    "print(f\"E constructeur : {E*1e-9} (GPa)\")\n",
    "\n",
    "Enu_AS_0 = Enu_AS(0, Lx, Ly, h, rho ,  modal_analysis=modal_analysis_m1)\n",
    "Enu_AS_1 = Enu_AS(1, Lx, Ly, h, rho ,  modal_analysis=modal_analysis_m1)\n",
    "Enu_AS_2 = Enu_AS(2, Lx, Ly, h, rho ,  modal_analysis=modal_analysis_m1)\n",
    "\n",
    "print(\"================================================\\nPour un appuis simple :\\n\")\n",
    "\n",
    "print(\"E/(1-nu^2) calculé sur f11, f21, f12 :\", Enu_AS_0, Enu_AS_1, Enu_AS_2)\n",
    "print(\"E/(1-nu^2) moyenné sur les 2 premiers :\", np.mean([Enu_AS_0, Enu_AS_1]))\n",
    "nu_cons0 = np.sqrt(1-E/Enu_AS_0)\n",
    "nu_cons1 = np.sqrt(1-E/Enu_AS_1)\n",
    "print(\"nu sachant E constructeur :\", nu_cons0, nu_cons1)"
   ]
  },
  {
   "attachments": {},
   "cell_type": "markdown",
   "metadata": {},
   "source": [
    "# Etude de l'influence des dimensions de la plaque pour approcher les valeurs constructeurs"
   ]
  },
  {
   "attachments": {},
   "cell_type": "markdown",
   "metadata": {},
   "source": [
    "## Plaque M1"
   ]
  },
  {
   "cell_type": "code",
   "execution_count": 33,
   "metadata": {},
   "outputs": [
    {
     "name": "stdout",
     "output_type": "stream",
     "text": [
      "772.2007722007722 2.7\n"
     ]
    },
    {
     "name": "stderr",
     "output_type": "stream",
     "text": [
      "/var/folders/9z/kzhjdk9j47z0026s88r_0ssh0000gn/T/ipykernel_93129/3481850861.py:21: RuntimeWarning: invalid value encountered in sqrt\n",
      "  nu_cons0 = np.sqrt(1-E/Enu_AS_0)\n"
     ]
    }
   ],
   "source": [
    "#Testons de faire varier Lx, Ly pour obtenir de meilleures valeures de nu\n",
    "Lx=400e-3\n",
    "Ly=259e-3\n",
    "h=2.95e-3\n",
    "rho=236e-3/Lx/Ly/h\n",
    "\n",
    "E = E_construc[\"E (GPa)\"][1]*1e9\n",
    "print(rho,E*1e-9)\n",
    "\n",
    "delta = 100e-3\n",
    "deltah = 0\n",
    "Lxs = np.linspace(Lx-delta, Lx)\n",
    "Lys = np.linspace(Ly-delta, Ly)\n",
    "hs = np.linspace(h, h+deltah, 2)\n",
    "\n",
    "nus = np.zeros((len(Lxs),len(Lys), len(hs)))\n",
    "for i in range(len(Lxs)) :\n",
    "    for j in range(len(Lys)) :\n",
    "        for k in range(len(hs)) :\n",
    "            Enu_AS_0 = Enu_AS(0, Lxs[i], Lys[j], hs[k], rho ,  modal_analysis=modal_analysis_m1)\n",
    "            nu_cons0 = np.sqrt(1-E/Enu_AS_0)\n",
    "            nus[i,j,k] = nu_cons0"
   ]
  },
  {
   "cell_type": "code",
   "execution_count": 34,
   "metadata": {},
   "outputs": [
    {
     "data": {
      "application/vnd.jupyter.widget-view+json": {
       "model_id": "535ae981c71942fc82cee7b7f1168f44",
       "version_major": 2,
       "version_minor": 0
      },
      "image/png": "[encoded data removed]",
      "text/html": [
       "\n",
       "            <div style=\"display: inline-block;\">\n",
       "                <div class=\"jupyter-widgets widget-label\" style=\"text-align: center;\">\n",
       "                    Figure\n",
       "                </div>\n",
       "                <img src='data:image/png;base64,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' width=1200.0/>\n",
       "            </div>\n",
       "        "
      ],
      "text/plain": [
       "Canvas(toolbar=Toolbar(toolitems=[('Home', 'Reset original view', 'home', 'home'), ('Back', 'Back to previous …"
      ]
     },
     "metadata": {},
     "output_type": "display_data"
    },
    {
     "data": {
      "application/vnd.jupyter.widget-view+json": {
       "model_id": "778a673098ea4c59b629220b6036e995",
       "version_major": 2,
       "version_minor": 0
      },
      "image/png": "[encoded data removed]",
      "text/html": [
       "\n",
       "            <div style=\"display: inline-block;\">\n",
       "                <div class=\"jupyter-widgets widget-label\" style=\"text-align: center;\">\n",
       "                    Figure\n",
       "                </div>\n",
       "                <img src='data:image/png;base64,iVBORw0KGgoAAAANSUhEUgAABLAAAAGQCAYAAAC+tZleAAAAOXRFWHRTb2Z0d2FyZQBNYXRwbG90bGliIHZlcnNpb24zLjYuMywgaHR0cHM6Ly9tYXRwbG90bGliLm9yZy/P9b71AAAACXBIWXMAAA9hAAAPYQGoP6dpAACRL0lEQVR4nO3deZgU1b3/8c8sMKBkRhQBQRRco0bEsMUtJnmIJOai5rovYFxjDG4YF3IVNUYBJQSDClcStxv9YcyNiYkGFwI3esUYVG5ijDsgQQdEZEZAlump3x9FD9MzvdSpOlVdVf1+Pc88zFSdrYcGpj98z+kqx3EcAQAAAAAAADFVXe4FAAAAAAAAAMUQYAEAAAAAACDWCLAAAAAAAAAQawRYAAAAAAAAiDUCLAAAAAAAAMQaARYAAAAAAABijQALAAAAAAAAsUaABQAAAAAAgFgjwAIAAAAAAECsEWABAAAAAAAg1giwAAAAAAAAEGsEWAAAAAAAAIg1AiwAAAAAAADEGgEWAAAAAAAAYo0ACwCQ1/3336+qqiotW7as3EsBAAAAUOEIsAAgxrIhUqGPF198sdxLTL2//vWvGj9+vA466CDtuOOO2mOPPXTKKaforbfe8jzGM888oyOPPFI77LCDevbsqZNOOqlkMPjuu++qW7duqqqq0uLFi32PuX79el1++eXafffdVVdXpwMOOECzZs0KtE7GjPeYCxcuLPr3xi233JJ3bAAAgDirchzHKfciAAD53X///TrnnHP0ox/9SIMGDep0/xvf+IZ69eoVytyZTEZbt25VXV2dqqqqQpkjCU466ST97//+r04++WQNHjxYjY2NuvPOO7V+/Xq9+OKL+sIXvlC0/x/+8Acdf/zx+uIXv6ixY8equblZd9xxh+rq6vTqq69q1113zdvvuOOO05/+9Cdt2LBBf/3rXzVs2DDjMTOZjL785S9r8eLF+v73v699991XTz31lH73u9/plltu0Q9/+EPGTOGYq1at0jPPPNPpOfVf//Vfevrpp/XSSy9p+PDhhZ+0AAAAceQAAGLrvvvucyQ5f/3rX8u9lMRZv369lXH+93//19m8eXPOtbfeesupq6tzzjzzzJL9DzzwQGefffbJGWPJkiVOdXW1M2HChLx95s2b53Tt2tW57rrr8v7+ex3zV7/6lSPJ+cUvfpHT/8QTT3S6devmrFq1ijFTOGYh++yzj7PvvvuWbAcAABBHbCEEgBRYtmyZqqqqNG3aNP30pz/Vnnvuqe7du+voo4/Wa6+9ltP2b3/7m77zne9or732Urdu3dS3b1+de+65+vjjj3Pa5TsDa/HixRo9erR69eql7t27a9CgQTr33HNz+s2dO1dDhw7V5z73OdXX1+vggw/WHXfckdNm3bp1uvzyyzVgwADV1dVpn3320dSpU9Xa2trWJrsNauHChXkf6/3339927Tvf+Y569Oihd999V8cee6w+97nP6cwzzyz6PXvjjTf0/vvvF20jSYcffri6du2ac23ffffVQQcdpH/+859F+65du1avv/66vv3tb+eMccghh+iAAw7Q3LlzO/XZunWrLrvsMl122WXae++9A4353HPPSZJOO+20nDFOO+00bdq0Sb/73e8YM4Vj5vPSSy/pnXfeKfnnQtr+Z//555/XpZdeql133VU77bSTvvvd72rLli1at26dxo0bp549e6pnz566+uqr5bQr6G//99Fdd92lvfbaSzvssIOOOeYYrVixQo7j6Oabb9buu++u7t276/jjj9fatWtLrgsAAFQ2AiwASICmpiatWbMm56Nj4CRJDz74oH72s5/p+9//viZOnKjXXntNX/va17Rq1aq2Ns8884zee+89nXPOOZo5c6ZOO+00zZ07V8cee2zOi9COVq9erWOOOUbLli3Ttddeq5kzZ+rMM8/MOYfrmWee0emnn66ePXtq6tSpmjJlir7yla/of//3f9vabNy4UUcffbR++ctfaty4cfrZz36mI444QhMnTtSECRN8f49aWlo0evRo9e7dW9OmTdOJJ55YtP0BBxygcePG+ZrLcRytWrWq5PbNzZs3S5K6d+/e6d4OO+ygDz74QI2NjTnXZ8yYoU8++UTXXXdd4DE3b96smpqaTgHcDjvsIEl6+eWXGTOFY+bz0EMPSZKnACvrkksu0dtvv62bbrpJxx13nO655x5df/31GjNmjDKZjG699VYdeeSRuv322/Vf//Vfeee8++67dckll+jKK6/U//zP/+iUU07Rddddp3nz5umaa67RhRdeqN///vf6wQ9+4HldAACgMtWWewEAgNJGjRrV6VpdXZ02bdqUc+2dd97R22+/rf79+0tyz8gaOXKkpk6dqunTp0uSLr74Yl155ZU5/b70pS/p9NNP1/PPP6+jjjoq7xpeeOEFffLJJ3r66adzzmP68Y9/3Pb5E088ofr6ej311FOqqanJO8706dP17rvv6tVXX9W+++4rSfrud7+rfv366fbbb9eVV16pAQMGlPqWdLJ582adfPLJmjx5snFfUw899JBWrlypH/3oR0Xb9enTRzvttFNOgCdJH3/8sV5//XVJ0sqVK9W3b19JUmNjo26++WZNmzZN9fX1gcfcf//9lclk9OKLL+rII49sa5ut+lm5ciVjpnDMjjKZjB555BGNGDFC++yzT6f7hfTp00dPPvmkqqqqdPHFF+udd97R7bffru9+97tth8xfeOGFGjhwoO69995OgfDKlSv19ttvq6GhoW0dkydP1meffabFixerttb9MfSjjz7SQw89pFmzZqmurs7z+gAAQGWhAgsAEuCuu+7SM888k/Pxxz/+sVO7E044oS28kqQRI0Zo5MiRevLJJ9uuta/g2LRpk9asWaMvfelLkqRXXnml4Bp22mknSe5B0lu3bi3YZsOGDXkPkM569NFHddRRR6lnz545FWWjRo1SJpPRn//854J9S/ne977nua3jOJ22J3rxxhtv6Pvf/74OO+wwnX322UXbVldX67vf/a7mz5+viRMn6u2339bLL7+sU045RVu2bJEkffbZZ23tr7nmGu211146//zzrYx5xhlnqKGhQeeee66eeeYZLVu2TPfcc4/uvvvunHaMma4xO5o/f75WrVplVH0lSeedd17OGziMHDlSjuPovPPOa7tWU1OjYcOG6b333uvU/+STT24Lr7L9Jemss85qC6+y17ds2dIW1gEAAORVzgO4AADFeT3EfenSpY4kZ9KkSZ3ujR071qmrq2v7+uOPP3YuvfRSp3fv3o6knI+bbrqp09xLly51HMdxWltbnRNPPNGR5NTX1zvHHXecc++99zqbNm1q67Nq1SrngAMOcCQ5/fv3d8455xznj3/8Y856unfv3mne9h/Tp093HMdxFixY4EhyFixYkPex3nfffW3Xzj77bKe2ttbJZDJFv09Bffjhh85ee+3lDBgwwFm5cqWnPps3b3bOO+88p7q6uu0xHnPMMc5FF13kSHJeffVVx3EcZ9GiRU5VVZXzpz/9qa1vod9/r2M6juP8z//8j7PHHnu0tauvr3ceeOABR5Jz/PHHM2ZKx2xv3LhxTk1NjdPY2Jj3fkfZ592LL76Yc/2GG25wJHUa5+yzz3Z69OjR9nX2z+iUKVNy2mX/TM+dOzfvfIsXL/a0PgAAUJmowAKACnPKKadozpw5uuiii/Sb3/xGTz/9tObNmydJOYeod1RVVaVf//rXWrRokcaPH6+VK1fq3HPP1dChQ7V+/XpJUu/evbVkyRI9/vjjOu6447RgwQJ985vfzKlUam1t1de//vVOFWXZj+zZVe0rP9rLZDJ5r9fV1am6Orx/1pqamvTNb35T69at07x589SvXz9P/bp27aqf//zn+uCDD/TnP/9Zb775pp566ik1NTWpurq6bUvX1VdfraOOOkqDBg3SsmXLtGzZMq1Zs0aS9OGHH+YcOO91TEn68pe/rPfee0+vvvqqnn/+ea1cubKt4m6//fZjzJSOmfXZZ5/pscce06hRo9SnT59O94sptA0433Unz/l5Jv0LjQEAAJDFGVgAkCJvv/12p2tvvfWWBg4cKEn65JNPNH/+fN10002aNGlS0X6FfOlLX9KXvvQl3XLLLXr44Yd15plnau7cuW3b3rp27aoxY8ZozJgxam1t1cUXX6z//M//1PXXX6999tlHe++9t9avX5/3XK/2evbsKcl9x8L2li9f7nmttmzatEljxozRW2+9pWeffVYHHnig8Rh9+vRpCxAymYwWLlyokSNHqkePHpKk999/X8uXL9egQYM69T3uuOPU0NDQ6XtRasysmpoaDRkypO3rZ599VlL+s9UYMz1jStLjjz+uTz/91Hj7IAAAQNxQgQUAKfLb3/425xyZl156SX/5y1/0zW9+U9L2yoeOlQ4zZswoOfYnn3zSqV/2BXf2HdI6vjNidXW1Bg8enNPmlFNO0aJFi/TUU091mmPdunVqaWmRJO25556qqanpdCZW9mygoN54442cqqZCMpmMTj31VC1atEiPPvqoDjvssIJtP/zwQ73xxhsFzwjLmjZtmj788MOcw/TvuecePfbYYzkfl1xySVv77LvImYyZz0cffaSpU6dq8ODBJUNExkz+mA8//LB22GEHffvb3y46DgAAQNxRgQUACfDHP/5Rb7zxRqfrhx9+uPbaa6+2r/fZZx8deeSR+t73vqfNmzdrxowZ2mWXXXT11VdLkurr6/XlL39Zt912m7Zu3ar+/fvr6aef1tKlS0uu4YEHHtDdd9+tb3/729p777316aefas6cOaqvr9exxx4rSTr//PO1du1afe1rX9Puu++u5cuXa+bMmRoyZIgOOOAASdJVV12lxx9/XP/2b/+m73znOxo6dKg2bNigv//97/r1r3+tZcuWqVevXmpoaNDJJ5+smTNnqqqqSnvvvbf+8Ic/aPXq1Ta+pTrggAN09NFHlzzI/corr9Tjjz+uMWPGaO3atfrlL3+Zc/+ss85q+3zixIl64IEHtHTp0raqt1/+8pf67//+b335y19Wjx499Oyzz+pXv/qVzj///LbtkpJ0zDHHdJo7W3F19NFH57zzo9cxs30PO+ww7bPPPmpsbNQ999yj9evX6w9/+EPOlkvGTNeYkrR27Vr98Y9/1Iknnpi3OgsAACBJCLAAIAHab/dr77777ssJsMaNG6fq6mrNmDFDq1ev1ogRI3TnnXdqt912a2vz8MMP65JLLtFdd90lx3F0zDHH6I9//GPJM52OPvpovfTSS5o7d65WrVqlhoYGjRgxQg899FDbtrezzjqr7R3U1q1bp759++rUU0/VjTfe2PZCfIcddtD//M//6NZbb9Wjjz6qBx98UPX19dpvv/1000035bxr2cyZM7V161bNnj1bdXV1OuWUU3T77bfrC1/4gu/vpaklS5ZIkn7/+9/r97//faf77QOsfPbbbz+tXbtWN998sz777DPtv//+mj17ti688ELfazIZc+jQoXr00Ue1cuVK1dfX6+tf/7puvvnmnOcNY6ZvTMl9x8+tW7fqjDPOyHsfAAAgSaocTswEgMRbtmyZBg0apNtvv10/+MEPyr0cAAAAALCKM7AAAAAAAAAQawRYAAAAAAAAiDUCLAAAAAAAAMQaARYApMDAgQPlOA7nXwEAACBSf/7znzVmzBj169dPVVVV+u1vf1uyz8KFC/XFL35RdXV12meffXT//feHvk4kHwEWAAAAAADwZcOGDTrkkEN01113eWq/dOlSfetb39JXv/pVLVmyRJdffrnOP/98PfXUUyGvFEnHuxACAAAAAIDAqqqq9Nhjj+mEE04o2Oaaa67RE088oddee63t2mmnnaZ169Zp3rx5EawSSVVb7gUkRWtrqz744AN97nOfU1VVVbmXAwAAAADwyXEcffrpp+rXr5+qq9O5MWnTpk3asmWLr76O43R63VtXV6e6urrA61q0aJFGjRqVc2306NG6/PLLA4+NdCPA8uiDDz7QgAEDyr0MAAAAAIAlK1as0O67717uZVi3adMm7dq9u9b77N+jRw+tX5/b+4YbbtCNN94YeG2NjY3q06dPzrU+ffqoublZn332mbp37x54DqQTAZZHn/vc5yRJ319xmerqzVPnGrWUuJ8JdN/WGLUW5pGkak/jFP+emKzJHa/VQxtvY5m0rbb8OEzmdtuWfty57b2t13Qd0bQ3e6xuH++PN8vk9yrLy3M+H9PvwfZ+5o9Lkmp9fA+3z+lvrUH7ev0zFsbcUrDvma012BpDCv79zKrN2FlPTYudcbaPZ+9khBo736octXYfriSpKoQxLT1N8gtjvVlhrlsKd+1RjJ8V9vcp6nminisr+D8P5srxOMs5b1YIfzaaN0oDTtv+Oi9ttmzZovWSrpBk+up1s6Sfrl+vFStWqL6+vu26jeorIAgCLI+y5ZN19XU+A6yaovdLvWC2E2CV/pfHVoDlrY23Ul3vAZa9OU3a1sjbltLaEOZ225qGQN7Venxs28cOu735Ty81Mn8x6+cvRpPvq51+/l6kB/lL3++cwfsGK+sPMrck1Qbs764h+NZzG2PYHKc2Y2k9LXa35VdkgBXGC0sCrPKMT4CVjLmyovr9ao8Ay7q0Hw+zo6Ruhn2yPy/W19fnBFi29O3bV6tWrcq5tmrVKtXX11N9haIIsAxlVK1MkZechV5gZ7Z9qwuFSC3bxiwU1mTnLPYCvlSbUmvwsg5ba/G6Hq9rMl1XqXZex3PbmT0OyftjMVmnl7Zue2/rlczW3H4tXoMmv+3N+mz/a85r1ZLp4/a7tmD9vP8+tufnsW2f0+z3K19fP/39/B7amlsK9j2ztQZbY7jjBPt+ZrXUtPu+BKjGytTm/psatCIrU7s98KxpCVYekenwU5KNQKul3cO1FWY57dZpLczq+BOizRev7X/Lbb8oDXPdHccP4wV9xx8xw3rRHvb3Kep58s0V9nxSdL9f7UX5PS02b5RzS/n/x68cAWICddn2YSLsb+1hhx2mJ598MufaM888o8MOOyzkmZF0BFiW5Qu32r/QyOT5lrd/AdGSp39tTv/i49tYg5d12FpLofX4XZPXOcNp5+1xSN4fi8n85m29r1cKvubiazFr77+P2WOW8j9uyVvIa7I2v/0KPSa3n/dQtT2TgLXznN6DTn99/T/eYnN7nb/Q90zyF3b6WYOtMdxxgn0/s9qHWR2ZhlsdA62cNRmGW+3DrPzjmQVcHQOtzuMZDZcTZuXjJ+ByPPxk5yvkKjWu3xeyXspQg7ySCmvdXsYOOr4U/vcnK4rH4nUeW3N5nS+scLYYm+mAyau5MAPdqOeW/Jex2+qfELUyf9Fv2n79+vV655132r5eunSplixZop133ll77LGHJk6cqJUrV+rBBx+UJF100UW68847dfXVV+vcc8/Vn/70J/3qV7/SE088YTgzKg0BlqGMaoq+cJBKhzilAhzT4MZPkOQlRCpnqGVzTWZz2m3nti39OCSzMCFoqFW8vbf1SuYBCMFWdMGW28/8cUnBQpogwUrwYMzf47U1P+FWfsXCLcks4CoWbkl2Ay4/1VtJCLik0iFXKAGXFM+QK+yAIy4hlxQ8NIkyfIoyeIo6VJPKE3RJ5XmscZi7wtXKvALL9Ldh8eLF+upXv9r29YQJEyRJZ599tu6//359+OGHev/999vuDxo0SE888YSuuOIK3XHHHdp9993185//XKNHjzacGZWmynEce4dFpFhzc7MaGho0vuk/VFdvuou49IuGoOdX2Ti7ytsZUvE6R8vmmszm9P4Thc3HkRXegfCm52mZ/fNmuv0q7EPh/feJ5mB4/we8++3n/6dGv1vr3HmD/YQe7HD58h4QLwX73tlch91x4nVQfJbNA+ODbk/MP6bd8cI4b0sK6cwtKbnnbknJP3srK6otWWk+G6tSzuLKKmfgFHDu5g1Sw7ekpqamUM55Krfs69efSDI9VeozSVcqvd8bJBcVWIa8VGBl5W7bK7WtL9yth/nmsLXdL6mVWl7X5XVthdcXvy2IhdcQXrWWZLbuQuuxX32VvIotd64w+tnfjiixJbGUuFRu2R0nftVbUry3J7pjFr9vu4JLCmebou+AK6lVXFI6Krmk9G1Z9DpXkueTzLbCVWJVV1j9E8LPGVgUwiGuKuSPbXmYBkZJ2HroZR1+1mJzPV7X5HVdZvMmYwui+RqiPVtLsrcNMdo+0QRb7lzJ2I4o+X+M7rxBwqlwtiS6/dMRbpmsJYpwyx0r/dsT3fHKH3BJCTuHSwr3TKtKCLmCziHFK+SSkhs8lSv4ifv2RYn0BEBBBFiGMqop+oKiI5PAKOwqLYlQq9SavK7LbF7/7Qq3DXZOVVyqtdz2BFv5JD3Ycvsmr2rLe/90hFu21mIrJHPHslO9JUV3uLxEwGUqkVVcUukX/0Ff9EdRmZSmc7mk9AdPlRZ0SZyXZVkUh7gDUeG5aSijWqP/PQ4aGBFq2Qu1vK7J77q8rs1kfWZjBtuCKBFsRd/HXrAlxWs7otuXcKtz/2Dhltc1lPqPljRuTXTHiuf2RKlyAy4pgVVcUrhbFaV4V3JFNYdE0FWO+WzOKSVj+2JY/RPCzyHuW8NYCGBBhfyxjVbQ86oIteyEWn7XFGRdQdZmtr5g1Vpu2/JvQyzenmArf7/4V2156xuvLYnu3PEPt2ysQUrO1kSTcdyxCLhyxzQLuUoFXO6YRkNKKl8VlxTTkEuKx3ZFKRlbFiWCLpvzmcxpe95yhl0VjAospAnPTUP+D3En1PLexk6oZXNNXtdle22F2tlpG06wZR5UJSPYKr6maIItt1/8q7aK9Y1r1ZY7N+GWFE31lsl6CLhcft5BsdKruCRCrpLiUs1lYx6JoMv2nCbzlmsLo0TYVYKfQ9xN2wNRIcAylFG15x+mg4ZGpoFR0EPiTdfnZ41+1hFkLR3XE2RNXtdle2355i3UNqxD2KM+X8tf+3CDLX9rsheGFevj9vNX0ZSGqi23b+WGW+4Y0WxNlOJ19lapcczHSm7AJSVjm6I7rvGwhFyFxCXkkgi6ColzhVUaqroks7CrvdKFrKlAgIU0IcAKQbHgyDQ0KhWE2KzS8rM+L2s0Xaf3NvbOr7J/IHv41Vr55k5atZbpOvy1j1+wFW0fu9sRpeirtrz1rdxwyx2D6i0/Y5mM444V34BLSsY2RXfcUmMaDymJkKugqMKaqM7NimoeKZ5Bl1Q5VV225wWQeARYhlpUo2qP/5plf1A3DZbitPWw1Pq8rNHGOr22sbWeQvOFva5Ca8u3PrO5CbY6t6/sYMvtF4+qLXfOcCq+3L6EW4XHiC7cktJdveWOV1kBlztmcqq4pPDO45JCfGdFKT7vHEg1V35RBl1SvCusbAdOhF2BcQYW0oTnpqFS70JYLFzyGthEvfWw8/jm903X6HedftYSZD0d11RozrC3IBZaX9AzqKLchui2r5xgS4rmnC3bfdx+0VZtuXP6XWt4W/OSHG55HyMZWxMle9VbJmtKcsAlJWObojtmfEIuL1VcUnjvrCiFXMklpaeaS4ou6LIxlxTfoEsqT1WXzXn9zF0hr4T9vAthhXxrkEA8Ny0rFpQECZbiGGp5aVNqjabr9DKP9zbhbkH0ui7ba8u3vjDWaNrWbZ++YMvtk56qrdL90hFulerr9g8n3JKCPWZ3/vJXb7njJC/gsrkmm2GZO569gEsqT8gVRhWXO258Qi6p/NsVJYIuSdFWBcXxjC4p2WFXOeetIFRgIU14bhpqVY2nH1il9uFTOkMtb2vwFySVWqeXtXpZi5/1eF1ToTnLdbZWvvUVmjvf/ARb5qFOEqu2gvVLTrgVvG+wbXlpqN5yxwl3e6LJWuIYcNkfq/SPbbZDrjhUcbnjEnJ1FOq5XBJBV9hz2ZqPsCv8eROOQ9yRJgRYhjIqfgaWjbOtkhZqdZ4j/FDLy1q9z2VnPUHW5HVdXtdmsr58ayw0f5Tna7nt4x9sFe9jfsZUuau2/PaL+rwtiXCr8PzhVm95H8NONREBV/m2KUrJ2arojpvOkEuKcTWXFJ/zuaTogi4peVVdEmGXnzYpQAUW0oTnpmVhhUtxDrW8zWFji2J5Qy0v6/G6Jq/r8rs2k/UVWmMY52vZaOu2Dx5sSWaPsfh6krUdsdjaivWLU9WWlL5wy+0f7tZEdw02thbGY3tiqbWYrCepAZf5eNFXcUmEXNvHNh5aEtVcnkUVdEnpruqSov1eZlFhBaAEAixDpSqw2vMSIJmGS7a2ACYh1PK7Tltr9bMer2vyui6vc5q1K9/5WrbaFm4f7jsLpmU7ov+1JWNLopTMcMvtT/XW9nEqN+CS4l3F5Y5Z3q2KUvJCLnfs0m2o5vKAoCs+85Wjqkuy8yq2Ql4Jc4g70oTnpqEWVavK4w+xfgOk4veKv7i1HWoFndtkfi9r8DJGobWanqvlfS7/FVFxqdYqtL4gazSfP7xwyDQUCLtqy+Z2RLdPec/aKk+/dIVb3vrHu3rLXQMBVzFpqeJyx7Qbcnmp4pKSVcnljp3Mai4pJUGXFM0ZXVJ6ty/anNPk+ynZDbwqGFsIkSY8N0NQLEQKI9Ry74ez/TDo3H7nN1+DnS1/tg6Mt7kmr+uyvTZbazRZZ7412AqHbJ1TlaSzttw+hFud+/o7UF7yv2XTnZeAK40Bl8mabIZcUVdxmY7njpme7YpSMqu53PF9DR+boEtKWVWXFG3YJaV/G2MWgVdeHOKONCHAMpRRraoNvm1eQqS4hFpe1xR0bi/z+12D6Tq9rLXQeuO6DdH22vK1M1mjyTrN1xC8beH24W7ls3nWVvE+9g6Sl5Ifbrl9k1e9Zad/eNsTpfgEXN7HsReu2KyWSvJWRdPx3DGTEXJJyazmcsf31i6uQZeUsqouKdqwS4p3dZfNs6xMAy/T9glFBRbShOemIa9nYBXbdhd1qOV1PX7WFHRuk/m9zFGoTbmqtbzP5zVgItjytgY7VU82tiNK9qq2Cq2pWB+bVVtS8sOt0n3jF265c8e7ekuKT8Bld5x0V3FJhFylJK2ayx2boKuUQEGXRNiVldStjBWGM7CQJjw3DbWqxtOLKtNzrMIMtYKsp9Sags5tY36/a/DXJtxgy+b5Wh3XFXRtQdZnskaTdZqvwbQKy04oFMU2vnJvSZSSEW4Fm7M8WxPduQm43HWkM+CyuSaJkKvwmOavfJNWzeWOTdBVSmTbF6VoD1VPe9hlOmcpFVKBxRZCpAkBlmX+K6cItaLegmi3Tfm3IXpdl9e1hbG+IGs0WafpGoq1D3M7ots+flVbxfskO9wK0jeuWxPduf2v205/Aq7840S3TdEdy17IZRJwSXYDOC/j+RszfSGXRNDlRSLCrqjDoEoIuwCkDgGWIfcHPo9l5wFDpqhCrSDrKbWmUusyW1vw6id7lVjhVmtJ4R0c73VtxdbnN9iysUaTdUrxqdoq3D7cd0j0syb/feIRbrnz2Q+pwtqa6PZNbvWWtzGSEXC5a4luHHeseIZcXqq4JLuHzkv2K7nMx/T2o3FctixKBF1eVHTYJaV7G6NE4FUCZ2AhTXhuGsqoRlUef9gs9uI/DqGW9znNg6VyV2vZWIOXdfhrYy88SmqwFWSNJuuUylO1ZdreViCU1HDL7Wdvm6U7X7yqt0r3TW7AZWMMGyGOrW1zhFx2K7mk8m5XDG/M9AZdkr+wKy5BlzuHrykkRbOFUYrpNkYp2rBLKk/gFbRfwtTWSF2qDPs4svN7A1hWIX9s7XEDrNIvjPwETcVe3NoMtbLzuX39BWml+5a3WqvQGmxsQ+w8D8GWydpsrdFknW7bcKq28q2jWHsbQZjbJz3hltvP3jbLrDhVbwXvW9kBlztGPKq43LUEfzxexjEbi5Cro3JXc7njJi/oksKt6vIadLnjxzfsMqnqkhJS2SXFu7pLIlTxobZWqiXAQkoQYFlWPISyuyXQdK6g8xW6V+p+0FApaLVW7vrsHMJOsGVnbR3XZzK3edvgVVtS/Lckun2SF24V7xfd1kR3vmRVb7n9wzl/SwoecLlriCIkCz/gkqKt4vIylu3tcWkJuaTyVXP5G7e8QZdUmdsX3Tm8t2UbYx5xPrsryrFirIuPCqwuTjhrAYIiwDJUqgKro1LBTtSHtydlC2KpdZmsrdT6vKyh0DpsvbOgnwApicGW3/UVm9tknfnb2gl74rQlsVB7t088wy2//cIIt6Toq7fC7Rss2InD4epRBFzuOPGp4nLXE21Y5o6X7JBLKn81l9dxTcd0xw0n6JIqY/uiO374YVeQoEuKZ9glJbC6C5ICVGABMUSAZahVNUY/7PgJmuIeagWZ0+uaSq2r0NpsVmv5XYOXdfhZS6F2YW73i3KbXxTbEc3bRl+1VXgt5Qu3bJ5PFZdwy+0Xn+qtMPuW6l8JAZeXMdxx4lPF5a7HTvVV0kMudzyquczGTmbQJcWnqsudI75bGLOiCrukmFd3SQReQAUgwDLUoho5Hn8wMtn65yfUcu/lPyw+aMBkewtiqXnjXq3lZQ0m67C1lmJtOrcLP9jqOGextuXcjmiyzvxtw61iilu45edFvZ9Qw/8WQ7/97B8sL/mv3nLntF/5FbR/0LDCRpiQlHO43HHSuVXRfDx7IZc7XnqquSTTwDCccd2xyx90SfGs6nLniFfY5c7jaxpJ8T23SypT4FUhr4S71EhdvD+V3T7+CxWBUFXIH1t73H/oS7/oMTmovfR5VubVU6bvgJg7ZjKqtUqtK+ja2o/vvU2wdQRdi9d2XtbstjOrNvM6Z7F2ftdXbI0m6+w4v3nbygq33D52D2C3vX3Pf9VXtNsT3TntV6jZ6B/kDC63f/LP4fIyhjtO8kIud03RV3PZDk/KVc0lhVPRJcWnqsvr75U7NmFX6Tnif2aXFN/qriwroVclqJFkGGDJcMshEBUCrBCYhEp+333Qb/WUabAVx2ots/vJDra8rMXfeuxVRXkNIqKs2uq4RpN1Fps//xoIt4r3iaZ6y53LT/gWbfWWVJ4KLi/9kxxwSYRchUR9JpfXsczGI+gqJS5Blzs2YVfpOczSBKq78vMTeuX0N1xzYtXKPMCiAgsxRYBlKKNqyeM/+lnFzrWy9e6DYVRPhVGtlZ0zaHAUxvla2bVJ8Qm2vKzF7nqCVUXZPqA9jLAorIPZgwZESQ+3/PdJbvVW8X7RB1zuvOUJqYKHa8EDHUKu/GwGK3Gu5nLHi37bojsmQZefsd3xw9vCKKUj7HLniV91lzuX76mMAy/JTuhVkQiwkCIEWIbcf8jN/jE3OdfKb5WUaRVXqTVIdg+Mz70fzjbEoOsqtTa/6/OyRi/rMF2LzfV4HyvYdkSpMqq2irU3rWKKW7jlp4/NECjK6q1S/Yr1rbSAy07/8A9Yj+LAeS9jeB/HXmBDNVfH8So76JLiFXaFXdUlxSvskuJf3eXOZdY+yi2NEoFXGwIspAgBliGvh7hL/g5y93NYu/+KLDtrKLYO72tJ7jbEQuszWaP3NuUPtry281sRFceqLZN1StFtSXTbxyvc8tMnjBAoDtVbpfoGqUiqxICr9PzpqeKyO076Q65wxktX0CXFp6or/LGTH3ZJ6avucucyax924OWnCgxAeRFgGWpV6UPcJfPAqfhY5lsQ/VdkmYVMXiqn/K6l0JzZecuxDdHr2rLSEmz5W5PXseJXtZW/bbzDrfzt7YVbktna860n2j7xqN5y5/LXr3jf9AVcpfoHnd/tT8iVfxx7YU3StyyajOeOmYygS6KqK//4lRd2SdFVd7lzJafCK7XMT8ABYosAy1BG3iuwTNis1jKdo/Q8xfqEUzmVxmAruz7Jf7DlZR221tJ+PcXms1m11bkd4ZbXNZi2tx3wmFZv5VtTqT62Kr7cPvEPuIL0DTPgksp30HzY/d0xkhNyuWuJZhx3LIIu/2PaD0rCCnfiUNUlhRt2+Rvf7OfusA+ol+IfeLlzxXdLo2n7xKqVeYDFuxAipirlj601XgIs09CpnNVaxebxU61VbA1e1iHl/wHERlVUuYOtUuuToj6wPX5VW2btgm1JlNIbbuVfh2kYFm71lr81RVO95faLT8Dlzme7+itYSBNmFZc7d3z7u2PEI+Ry1xKvai53rGi3LUp2gy6pcqu63HHTH3ZFMz6Bl7+5oq3yqggEWEgRAixDLapWtfHfAHaV82ytYvN4uxfd+Vq59+0eHG82t/9KKZMqqbCDLdP1BF2T/3b2A6OkhVvm6zANw5JXvWWzj9vPfsAlxeddFN2+5anicucm5JLshTdpr+aS7G+PS9P2RXdcwq724lbd5c4Rr+2MUnSBlxR96OX2cyQ5vudNjBqZB1hATBFgGcqoVo6Pb5ut0MnPYe6mgVKQMMm0eipo5VSQcCloNZSdiiz/FWVZUW1HtLUes/niF25FdUC7rXBLinZrotu+vNVbhdcV74BLStc5XG7fcKq43Pn9h3NR9Pc2hp1KpSRWc3kfi6Ar6JjuuParutxx7QdzUrhhl0R1l1dRBV5StFVeFYcKLKQIAZah1kyNnEyRF3M15mdTdRoj5FDLzxyl5pEKB1R+q7XcMe0fHF9ordvXVBnBlq21BF2P1zX5WZfZeHbP2zKZ27xteO88aHNrYv724VdvlVqXnzAn6i18cQm4gvet3Coue2PYCR6iDLnc9cRv26I7XjqCrvDGTFZVl1RZYZf/OQi88o/hSD4fK4DyIMAylGmpUZWf91zN06VYdVGY4lyt5Xcd2bVI6Qu2vK7PvW9n+5+tqq2oDmH3U43ldTy3XTrCLbd9dFsT/bW3t36pvNVbwfrFK+By50xeFZdU/pArijHcceKzZdFdT/yqudzx0hF0Scmp6nLHTV7YJcVvK6PpHH7Gd+eIZ+AlBQu9KlaNeNWP1OCpbMh3gJVPiNlVscDF31im/yATbGXnLhUQ2Amu7IRJYVdtma6n2JraryvKLYmd2wZ/HJL3KrTO89urgApza2L+tfgJkpK5PdFvv6gDLomQq/P8canESlY1l2TvbC53TdGN5Y5XnqBLIuwKK+xyx66swMt0fD9zuPOYv+aIMvQqPFaFVGDVyPx1ZwUcDYZkIsAy1NJSbS/AKsSgWsv0nQr9VFIVH6sygy0v80qlt9YFPb/KRvgVZJ0ma90+V3zCrdw57YRGfsItKX3VW1L8tie6fcKv4Mq3Ni/97AZj/kOfMN9hMKwte0kIudw1xH8Md5x4BV3umuxVYtkdy34wY7uqSyrvFkbzccOr/olT4BX2dkYp/Aovv3O480QXelW8WvGqH6nBU9lQJlOrqpYyfNtCzswKT1ve87X8zuXtnr/KKS9bAksHT8GqtkrNH+R+bpvotiQWa2e74inuB8q7bZNVveW2D297Yv712K3gcvuYBVxSercpun2jfTdFd850hlzuGuJSiUXQFefti+6Ydg7vzwqjqksqf2WXO3Z4796X5O2MUjwDL7/zuHPZfQ3WKkfSZqtjxhIBFlKEp7Ihq1sI86ipzShjMr5BU9NqLT/8zBG3YEsqXpEU9iHucT5ry2SdxdbqZb2m6ym2Jj/rMpvXbju3bbyrt/K3D297Yqn12Kt4snvIvBT/bYqF+rl9k7VVMWj/oIGMjSAmXpVYwcMyd5zo3m1Rim/Q5XU8d8z4b2GUyr+N0WRcd+zKqO6S4ht4RTkPtiHAQorwVDbktNTICXsLYUCm74Roeqh7qQoikzmKSUuw5WVN7tjhBFul5jdZQ5B1tl9rsfWaBkiVEG51bht9uNVxDaXax317ov8+8Q24ytMvvK2KUjxDLrc/1VwmY3gbx15gU46gSypP2FXOLYxS+cOuMMd1x45HdZc7friBlxT+GV5S/Ku8UqlaRkUPkqTWMBYCBEeAZaqlxv0ooLWlRqr1/xdmpqVWNbUh7e8OOXerxGDLy3qkcM7ZKjW31/ml0kFE2FVbXtbafr3e50tuuGXSNoqtiSZrKNU2f3sCrkKiPIfLdj+3LyFX4f7BQi4pXdVc3saxFyjYDmrsbzm0PR5hV1Kru9zxw69aimOVlxRe6JXhpHIgcQiwTLXUuh+l2nQIofIFW60tNar2GHaZBFuZlhrVmIRoKQm2iq/BX7BVetxwztnysi4b4ZaNLX5xCbcke9sSTddVam1hnFEVRvWW2zacs7c6ryNZAVf+NfnpY/+geYmQq5QgIZc7d1j9g1cdJS3oimocd6zoq7qkaN990XQ872PaD2PCCkfCDaXiE3i544e3pdEdP35VXhIVWIH52UJItoeYim2Addddd+n2229XY2OjDjnkEM2cOVMjRozI23bOnDl68MEH9dprr0mShg4dqltvvbVg+4suukj/+Z//qZ/+9Ke6/PLLzRaWqZJaqjw09PatjXV1ZsKCrVJhih/lqNpy75fvrK1S83tZQ3aeKMMtKV7vlth+bbaCoDCqtzq3LU8FV+d1lDfgktJVxSUlJ+Qq3DfckEtKdjWXO0b8g654jhPfw9XDqEQKZ8zyVndJ6Q+83PHjVeXlzpHc0KtiKrAIsJAisQywHnnkEU2YMEGzZ8/WyJEjNWPGDI0ePVpvvvmmevfu3an9woULdfrpp+vwww9Xt27dNHXqVB1zzDH6xz/+of79++e0feyxx/Tiiy+qX79+/hbXsu2jZLuqzt/dli5SbYe/DTxWaxViUm3V0lKj2gDbG9uEHGzZ5rdKqlxVW1LhH1CiqNoqNb9kJyiKItxy20X3bomd2wUP3ryuz2SNJm2DBEVJCrjcPumt4pKSE3IFmzP8Q9jjWs3ljkHQFWQcb2OlI+yS7Fd3hRF2ueMSePkfP9wqL3eO9IReqVUj89dvsa6yQCWrchwndvnqyJEjNXz4cN15552SpNbWVg0YMECXXHKJrr322pL9M5mMevbsqTvvvFPjxo1ru75y5UqNHDlSTz31lL71rW/p8ssv91yB1dzcrIaGBun5JqlHvbcHku/fjLzX8vwWFNoumCeAyrcNsVColW8bYqFQq/AYBa7XFLhe4B/CQv+wFPtHrdC9Yv/Y2pyn1FzF5gsyp7f7/tcVxfw21mCzjdsu+JrN57S3NsnsBzTbazRva/ZDsekPn6Y/EJu3D3f97hzR9HH7+Ttv0e+LAv/r9P8iJFjfYOdRBnnxZGPri50xgp/JaetFpK3tQDa3Fdkdy+75p7ZfvIexHSucMUM6R1bhBSJhb3ULf/zwvue589h/HJ82t+rgho/V1NSk+nqPr+8SJPv6tekkqb6LYd+tUsOvldrvDZIrdhVYW7Zs0csvv6yJEye2XauurtaoUaO0aNEiT2Ns3LhRW7du1c4779x2rbW1VWPHjtVVV12lgw46qOQYmzdv1ubNm9u+bm5udj/xWoGVbdupCivfNY/VWgUEDchDPTheslax5WeLYKmKJdvCOES+1P2gVVNBtyRuX1/wA9rtVWXZq5Aq37sS2q3esrXGYG3jdVB7Ercp5l9XeNVKtg6dd+dLTiWX27d87zQYl8PX41LR5a4lXlVd9seKb2WXlM6tjO643n/+jcOB9VlJ3tbozmH+uiOKQ+xTq0bmr/p9vMA0OQJIkmbMmKFZs2bp/fffV69evXTSSSdp8uTJ6tatm/nkqBixC7DWrFmjTCajPn365Fzv06eP3njjDU9jXHPNNerXr59GjRrVdm3q1Kmqra3VpZde6mmMyZMn66abbup8Y7OKf9c8BVZer9nfhmhycHzoyrgVMbx3K7S/HdFPcOdlTaXW5XVtUvnDre3z2GkjBQ+3JPOtfzbW1n59pdYYxuHywdqmO+By+wR7DH7W5aVP4X7RncflzhdeyBVO3/C3LEoEXR3Z2L7orif8cWyP5Y6XnrBLshsWmozpjhuP7YxSuKFXnLY1unPEY2tjRl7ONYYXpkcAPfzww7r22mt177336vDDD9dbb72l73znO6qqqtL06dPL8AiQFLELsIKaMmWK5s6dq4ULF7alty+//LLuuOMOvfLKK6qq8vYX1cSJEzVhwoS2r5ubmzVgwIDSFVjZe7UdrsUk2JLyB+r5gq1C52slpWIrDYKEW96qutIRbnmZx24bu4e3lyvgsvkug3EIuNz23qvTpHDfSbFje7dPuI/B67ryry2cx+P2M69Ok+yeyRVF30L9kxJ0uWsIMyyzE7xEXdXlrid+YZe38coXdknJCby8jxte8BJm6BW3Ki9/c9h/2dpaKQc91cj89ZVh++nTp+uCCy7QOeecI0maPXu2nnjiCd177715jwB64YUXdMQRR+iMM86QJA0cOFCnn366/vKXvxguFJUmdgFWr169VFNTo1WrVuVcX7Vqlfr27Vu077Rp0zRlyhQ9++yzGjx4cNv15557TqtXr9Yee+zRdi2TyejKK6/UjBkztGzZsk5j1dXVqa6urvMkng9xV+cQS3muJTDYKqRQsFXo8PjCAVmB66opeM5WJQrrIPnt98MLt2yswcs6bK3FpI1kJ0AKc+tfmgKuzu2TVcWVv0/4WxX9ry2cSi63X7QHz7tz2u3rtX+QbYtu/3CCLncN4T/+UmO448SnqstdT/RhV6mxTMezGXa546Un8Ap33Hhsa8yKS+gV1RyQv3ch3PbCsO0YnW3yvUb2cwTQ4Ycfrl/+8pd66aWXNGLECL333nt68sknNXbsWMOFotLELsDq2rWrhg4dqvnz5+uEE06Q5J5fNX/+fI0fP75gv9tuu0233HKLnnrqKQ0bNizn3tixY3O2E0rS6NGjNXbs2LaU2DPbZ2BZD7HyXYsu2DJ5V0Sryly1FfWWxFLiHm5JXiqzglVCxa16K7dd9NsTS7X1EwKZhAsmL+ptV0LFuYrLT58wtipK0YZc+fvFs5rLnTM+fd3+0QRdUnq2L7rjJCvsKudY3sYj8Apn3HC314X1bo1SVJVY9n7or5gthAECrAEDBuRcvuGGG3TjjTfmXPNzBNAZZ5yhNWvW6Mgjj5TjOGppadFFF12kH/7wh4YLRaWJXYAlSRMmTNDZZ5+tYcOGacSIEZoxY4Y2bNjQFjaNGzdO/fv31+TJkyW551tNmjRJDz/8sAYOHKjGxkZJUo8ePdSjRw/tsssu2mWXXXLm6NKli/r27av999/fbHGbVTosMQ2obAdWXoUQbMWOxWAryFlUtvk9b0sK7zD5UuvysrZS6/OyBq/rkKIJt7y2S8r2RJM1mqzTfA3preLquB4vfaI4j0uyu6UvKdVc7pxBqqqSG3RJydq+WGwMdxzCLq9jhTMegZepOIReYZ/nJVGJFboAAdaKFSty3oUw7w4lHxYuXKhbb71Vd999t0aOHKl33nlHl112mW6++WZdf/31VuZAOsUywDr11FP10UcfadKkSWpsbNSQIUM0b968tlT3/fffV3V1dVv7WbNmacuWLTrppJNyxsmXEAfmpQLLz/ZBm4FV4KArz/9GULEVwhL8H+wexpyl+4YfbknRvFNhlFsTvaynVJvcdgRc3tZgd6tflFVcpuvx0j5/n3BCLslOaBesX3ghl2S/mito/6iCLneM+G5fNBmj9DiEXeUczx0znYGXVP4qL3fseIVeUjTVXrljVEgFVrXMX/tse6ldX1+fE2Dl4+cIoOuvv15jx47V+eefL0k6+OCDtWHDBl144YX6j//4j5zX+kB7sQywJGn8+PEFtwwuXLgw5+t8Z1iV4qePJLMzsCSz0MrvOVlRnK8lBa/YKvDOiPmYHiBv65wtSbEIt4oJUkFVTJzDLS/rs3XulhTN1kQv68ldEwFXsXWar8G0KstuFZfbPt5bFd0+0VU7+d966Lef/+qktAddxedPzvZFdx3pDLskO2FgFoFXfmFtt0tilZc7fry2N0rm1V6wz88RQBs3buwUUtXUuL//juPk6wJIinGAFVub1ZZIF1QsXCr1dfaal4DKZj8v1/LNIXkPtqS84VahYMvkAHmbojpEPqMaox8ayilIuGVn/mRsTTRZi0TA5XeNJuuU/J3DFU378odcndfkp0+0Z1eFWc2Vr2/cgy537ngFZW7/6Kq6pHSGXe5YBF5hjOeOaT+MCSuACfNsqbDPrfJ7nmvY1V5u3wrhZwuh4UsU0yOAxowZo+nTp+vQQw9t20J4/fXXa8yYMW1BFpAPAZYpr1sIpWBBlu3QymY1VpDD46XAVVum2xFNq7b8qORwq5SgwZGNs8eiqN7a3oaAS/IXGtkMufwGP5UWcvlZk/8+4QVdtqq5gvQNEtgEDWrKWZUVZVWXO0Y8wi53LeGO445lp7pLKt92Rin+gZeXMd1xy1/lJYVX6SVVTrVXRYkgwDI9Aui6665TVVWVrrvuOq1cuVK77rqrxowZo1tuucVwoag0VQ41ep40NzeroaFBur1J6l58H3CnvyBKfe2nj58xwu5ncq1g2wJPxzwBVKHtiIWqtgptGcwXbkkqGG4VHqfw3/SFwq1i/9AW++Gk0A8AxX4wKPWPup/5St0LOq+38YPeL/3DjpcfFL38UOatjZ312FyTWTvvPzzafBz+2tpfq591RNPe/Id6P9sy/ATv/vr4e5Hid6tJkP9QCNbX/4uxoNtqgv4nSrn7u2MEfzFra3uSrf+UsvmfWzZf7NvexhXGf+IlZ8xwQpgwt9qF/Z+uYY2/vjmjoxveUlNTU8lznpIo+/q16Uqp3vDs9ebNUsNPlNrvDZKLCixTGZlXYPndNmhSweWlT742NvuZXCvYNpyqrSj4OpA+JhWy5doiGLQyKg7VWxIVXLnt7G3/K3cVl9vWfKui6TqiaW9+llWlVnNJ8ajocvuWZ/uiO3e5tyCmp7LLXUv0WxlLjxXP7YxSWFsGkzJmOJVHYR6sHv42xHDHT70IKrCAqBBgmdrkoY3fbYJhBF1+25j083vN67xtPL47YgGmZ22Zbkm0LgXhVpAAKexwy0sbG4GSlxDGS/hisnUuyoDLtJ07r51tipLZY8kq14HzEiGXn3V57ZO/H0FXbl//QZcUbPuiO39YWxCTF3ZJ4W9ltD9WegIvqXS4kZQx3XHD226X1C2OXsavmIymRuav+tmNiZgiwDJlcgaW5H6HbQdZYVVjxer8LI/XpMCHyEv2DpK39S6JJRX49zijWs8/kFQ6G9VbpQKuqKu3pOgDrnDapbOKS6qMkMvtY/aYJfPH3XFtwfoRdHXuX76qLnf+dIddUnmqu9w1pT/wkiq3ysv7uP5eBia12iufVmsjxZyfCixSAsQUT01Tmw3adgyvCgVb+doqwNeFxvcyht825byWvZ5vO2LetsHDrdYW9x/PMA+TLxZuFQ2+fIRbLaop+oKDEuzObGxPjJqtLYqSt+Bt+5zpqOLKnd9uyOW2j892xfZ9/AQmBF3RBl3unPb6uv39hzQ2qmuiDLvCHcNOiBPXdxwsZ+Dljhdd6BXGNrawtsaFueUuqcEXgHQgwDK1SZKXHWtBwiuvbQt9LZUOoUqFX37bFLtmuxrLy7wF+4cXbmWvh/1OiYXHKhJ8ye67JZZC+FWczTOvojqDy2RNkr3qrO3r89rOXhWXFF7Ildve7pols3W3X4vXPkGCMbdPZQddbl/zxyalJ+ySyr+NsRxjFBqnXIGXFM8tjaXHs1flJcWj0ksq51bEygq+KmbPQo0K/gd30T5ADBFgmdqs0gFWoVCp0D0v4VXU2w+9tDGtloqs8qrANc/9kxFuFeNna2KxcMtv9VYls3OAfLwCLptr8rqu7JxSGGFY+UMu0/ZJ3LJop0+8gi53ruD93L7hVnVJhF2588ejMst0HBvbGd1x7FUs2Qq8pORWeUnpDr28jBv+2OEFXxWDLYRIEZ6apjap9IbpQoGV1/AqX+AT1fZDk5DKb/VV0CDLejVWnmsF2xq8S6KUmnBLUuT/ExNm9VbQw9ttvGtj0gKu7fNFV8Vle23ZdlIyQq7sGry2D3PLohR+NZedPtEEXe5cyajqkvw/Rnfeygi7pHhUdxUax15oFr/AS0pXlZc7XjJCL6myg69MvjeISiMCLKQIT01TpQKsYqGU1/AqSDgVpwot0zbZa6UCJhvVWIEqtPJckxIVbtk+d8vv1sS0Vm8FfQdFd4z4BFxSeaq4pNI/5Ie1VdFszHBCLi9ryF2HafVU+au5Oq/J7DH4nyc9QVf+vtFXdbnz+nusJn0L9w8WdknxqO4yHSfM0Mwdx154U87ASyL0KiSZ2xHt/K9qxtO5MClQLfP/iK4OYyFAcARYpjIqvmG62NbB9p8HCbny3VOBtnEIssKs0CpXYGVStSUVDrcM/wiavluK72ori6I+dysN4hRwue3sbVOUvAVD5ari8rK+7WsMZ+tfuUOu3PbhVnN5XVPQyiw/87h94h90Bekb1UHtNrcw2ukfvArJxjsIxiuoKt82vSjO8ZLsPkY/45UaMy6hl1S+ai+/Y3PeaglUYCFFeGqaWi+pS4k2xYIrG5/bupevrdetiu37FgqygvTJ18a0X6lrXucodc1L24JjFDlvS+pcudWyrWGHyqrsuyLaqtySZO1Q+ZL3igRcYZ29FffD5Ys97qjZrOLyPp/d7X1xD7m2t/UeloS97S9uQZefF/pR9XH7mQdBfgOQIC/Co6jqcvuWJ+xy57bb3x0jWCBjI4ix9aI+buO4Y5WvykuyEzC2F/dKL3fMdAVffsetmAosIEUIsExtljy97i0VRIUVYBUKjArdC9I27uFWVNey14NWeeVtG27Alb1OwJVnzhI/MMYlYEqKSgq5TNZo0tZPWFRpQZefNYXdp3O/8Kq6JHvVTlGFXW5/f49VSmfgJdnZbhe36qw0hV5SdMFXOEGa/5eANs9Fywor+CqlYgIsKrCQIjw1Ta1X8e9a0LDKb2hV6HM/AZWN8CpIUGUSXCUl3ArSNns93/OuTOduSXbP3io2XinlCLhKr6l4wJXWs7+CSkPIJcWjmssd19vjksKriIpb0CVFX9Vl0i9oVZcU/7CrY1+3fzTVXRKBV5aNwMtdS9jVWfEMvaTyb3GU7Fd7lRrTHdd+1VeQf/v5ecqDGpmfgRVOZggERoBlarNU5O9fl58QK0hFVhhhVrF7xYIvBfi62FpKjeFlXK/9wriWvR5KlVah6xbDLcko4CpebWX3cPmSivwDXK6AKwomW9KCzxP+eV3bx4pvyOW2TUY11/a24VZExS3okiq7qsvtV96wK3jfYGFPuQ9qT2rgJRF6mY2XzGqvsMZ0x7UffEnBwi8qsEr0AWKIp6apTfKWSBcLpqIIsLyGUn4rsfIFQlFWZQUNqeJYpRW4GstkDMOtiVIk1VvFhLE9UZLv/2EqFXDF/ZwtL2yGRaXn8hqE2a2WsrGu3Lb21mcSAvl5J8Kwti1KyQ263D7hb1/MXVu0W/yiCLuk4N8XP33z9y9fdZc7v//Hbtq/8BjBAy/JzvfDXU8ctySW/2yquFd7SekKvipKjcxf9VOBhZgiwDK1QaXfVtRLUGV6z/Tzjr+zNqu0oqzKslGBlZQgK+pwq+j1cLcmZu9FUb1Vekx/528FFXbAlfQKMr/KEXJtnzfeWxa3zx9OWyn5QZfbJ5zHIEVX1WWvXzThj61D6k37l7O6SwpW1bZ9DWGMYSd8iVuVV5zHcscrf+glJSf4Kj1u6e9nxfyURAUWUoSnpqkmSVUe2hUKpfz+WuqayX0/n9toF/TrjkFZofYmlV4mbUpdsx1klZrXpL/pGEWv2zlYXvJ/uLykyM7fKhVwSfJ1BpdUPGQqfZB8+BVeaagiCyKMdzC0fRBt0oKu7e3jEXRtX4+fyqnwqrokf4/FnSu6yq7c+fyHP1FVd7nzlufsLrd/sMBLCh56hbV9Lw2hl7umeI5VeDz/L+Vsb3OU7FXdtRdW+OX2bw3UH0D0CLBMbTBs3z5UyhdOBQmwvIZXYQRaNsKtfG29BEsm7aMIs/wGXqWu5Zuj1DUvbU3G9XXd5/ZEqVPI5ff8LalwwOXey/ND87Z+hc7gKjRm9r7fKq4g53AFDbm8vJuija2SlR6EmUpr0GXa3vQcN9OqujSGXe5c4W5jbN/P73xuv/QHXp37Bw954lDlZWscW1vDbFYaxSGsiurdCON0GHsYVV9S6e2JFaNG5lsC2UKImCLAMrZRpb9tXba3yb6YL1Q51DHEChJkxaVayyTcKhVQFWtr+2sZtrEZXEVVlRVpkFXoeoGASyq+RVEyDrikwlVccdmmKBUPuYK+o2EcKrm88BaEBQ/c0iRJQZc7djyqutz24YZdQaqgwg67JP/hXVYUVWGd50xe4GWnf/KqvNx1hLcVsJzVXhLBV1KqvqTSj71iKrDav8Y06QPEEE9NY6slfVbkfpdtH5L77W0XZpUKtkyCLJNAK2iIFWaAVaydl/O4wvpa6hzA2KrU8jJ2oWtexyt1zW//SK7bC7ik4ofMS/EIuErOGaCKS4pHJVelK9fZXNvnLm/QJZmFP3E51N1vNVRUh7n7DTei3Mpo2tfWFr+kBF7u3Mmu8pLSGXq5Y4W3zVFKZ/BVfMx4hV8tBFjF+wAxxFPT2CeStha5ny+86tLuXqFQq2r7C/pCoVaQX21dC/Nzk8Cq2L04hFt+20R1zU//IONave4z4CoQOvkNuCS72xSz44ZRxRUHhFx22T6fyx3T7kH0fsRl++L29t4fZ1Tndfnt4/YL7/FI/oMce6GVvzndvuUJvNy5k1Xl5Y4Rj9DLXUs447hjBf/eSPa31sUh+Co0XpAxbR9yX0qr8vzMmEbVMt8SWOpNy4AyIcAy1NR0qOrr68u9jEhVDVe0YVapdjbCrFIhk9eqqyjCrWL9gl7z09ZGMJU3fLJ13ecZXIYBV/ZevoBLoorLjySGXKbVNnEV1uMwqTyTzMKf8Ku0wqnqcvtEc16X3z5uv3DDLin66q72fcu5tS9pgVf+MeIRerlrodqroyiCrziNV2xMiAospApPTZS2ftuvfqq0yhl2mdwz/bpjeOW1f7EArFAb+ehnei3fHCbXvFw3aRv0eqF5pdIBl9Q55PLxTort78WpiqvQnNL2HxzDPI9LKvU/rOEfPO9lHu9tvIVulXQ2V1YYWxfTIOzzuiR/gaSf368otzJKyQq8Os/rP/AJGvTYCBmSHHpJ6a32cseyF3xJ9kLCLNtVXzbHrJgzsIAUIcBCaevUOZDyGlbZDLJMqrSCtjMZJ/u1l5Cp1Ne2Aq5yXrPRNsh10wqxvPfSH3IVGjd7P0jIJZV+l6KgZ3K5cyQn6PKqEoMuUyYBkJ9Kp/C3JYa3jdHtQ+DVnt/qQhvBVdJCLyl48BU09Oo8hp1QJy3BV/6x/L+cS2L4FXTM3HEqJMCiAgspwlMTpXWswPL6q9d7Jvdtfm5yL0jb7NdBzt4K0kZlvNb+epghVGjVWgWuS/63KkqxCLmk0tsVC42bvR/kTK6g1VxtcwQIwrysw9ZavLbxymvQ5XXOuLwbZTklPeza3ic9gdf2ftEFOX6rvNw5kx16Scmt9uo8RjqCL3dNhF9+Vfq/a21qZH4GFgXUiCkCLJTmN8CyEV7FNdAyDbvCDq8KhUhxCrOiqNYKGkz5CrIK9Slx2LzkL+TyeR6XVJ6Qq+j9gCGXZOdsrriFN3FbDzqLW9jlp4/fs7sksxepQbf9xb3KK0h4U47D6/P3L2/o5a7BxhbF9AVf7prKf2C7zS2P7njhh19S6cebqZR/a6nAQorw1IQHjgq+S2JW+78Yg1RoeW3v5fOgoVWQcKtYtU8U1Vvy2cbPNT/VVn6qtWxUX9kKsmyMJZUOuSxWcWXv+z10XvIXcpUeO9i5XG6bdFVzeVWJQZdJcBTmOxqaCDvscudIV3WXlN7AS/L/GN15bVVqJS/0koIFhtvXEUZ4Vt7gS7ITCmaFWfXljheP8CvI9ztRamT+qr9CvjVIHgIsePDptl9rJXVp97kkbXsB3qL8VUPZX00DKr9hV1ifl2rnNbAKWo1VrjCrWBgURkAVVjhlq7LLdF7fY4VUxSXlDbmKbVWUSodchQIuKVjI5em+hWquUqI8+L2SzsJK2mHvcQq7JPPAy3+lVrjVXW6/9AdeUnKqvOz3DxZ6Semq9nLHsRN8Semr+io8nr2Xr5yBVaIPEEM8NVGS49SXewk5qgZs+ySqSi4/n9u6F6St3z4dAy6TcUttfbRxTQHa+g2zin0/bIwfqE9VkXvhhVxS56Ar0+6e3+2KkkLdsigFP4Beyv8Df/t54hR0eTn03uuavK7L69pM5jVtG5Yww0XTx+cn8ImrqCq8JH9Vbu580Z7j5fb1/3vs93G68/qv9LLbP3iljo2qJlshjL1xgr2Es1ENl2WjKi7LZuVXvvEqFmdgIUUIsJA867b96qeSy2uYVY4qrkLtgrS18XWhNqVCrnIFWl6vlWpbzuvt73kNuYr28RBySZ2DrpZ2jUM4eF5KZtDltim9bVEqHXRJxX/A9vqOi26b9IddZnMnKxiLQhSBVxTnd23v46+iJymhlxSsainq7Y3u3OXtnztG8Oqmcm51dNdifxx3rODBYFZctj1K5gFYKykNkDgEWEie9R2+9hpW1ea5VujzqEKtqCu4/H5tGlb5DaWCBFK2gqskhlw2+kjhblmUfAddQc7mksofdEmlq7qiepdDm4GS7SDJxjZPv3OjMqQ99NretzzVXlL5gy87a4hH1Ze7lvKHX53Hikf4JQUPwJK0fT2Q9q+BTPoAMcRTEwm0dduv256+Le3O4eooX2hlUpVVznArint+v/YSVhXrYzJOOSu2bLSN4nr7e1Yqtor18VnNJYWybVGKf9AleTujS4pP0JVdk62zutIWdlVKdVeQMMSrKA6t99tne79khF5S0IPh/T1OKXilUhqCL3cM/+FhVtzCL5tj2dz6KAUPwNKyBbskDnFHihBgIYHWbvu1Vp0Ple/S7vNt75xYKMQwCbBM75Xq4/VzG32CtPX7tWkw5bWNynjNRttyXm9/z0bIVfKe/WouKfgh9FLxoCvoQfTFx48u6JJyX8jkm8cdJ15VXV7nNGtnP+xCfmkKvPz2K9e7GkYdemX7Bw1sCL6yY/j/c1Mp4Zc7lt2/XzIJ/c8FY5yBhRQhwEICfbzt1/ZhVRflhlkd73UItaTiVUOlQi6vgZTtQMtPuGV6r1iwFPRrr33kc5x8/cK4ZqNt++umQZOt62H3KXnPZ8gl+a7man8/jGouyVvQVeodF4utQSoddLlt7B0CH+czsbxIa9iV5OouKZrAy6+kVHlJ0YZe7rzlrfaSkht82R7DHYfwy+t4FatW5q/64/lXM8BTE8njOAeWewnWVR2w7ZMggVZUAZjJOPm+Djp+kDaF+vndkmjaXxba2rze8V6h67b7eB1PKr5lUSq+bdHCIfRSsIPo3fud525p1z/o1sWibbKVVjGr6vLWzlsAV2pd7ee1XdkllT48XzIL5ExDqTC3M4Yd6CU9gEuqcr6zYTmqvdz+5a34ctcQjzFyxwn2UtDGmV+Sne/v9jV5D9M4A6tEHyCGeGoCcbBu26/FKrNsV3AFDbyCtA3ja699Sp3XZXrN5nlcftpGcb3jPSvBVMDx8o4Z8rstSoHCrlJVXW6bygi7cuazEop5C5Nsrq192zACL8lbMGeyBtO2pqKoYCP0Kp9yBV9B2Qi/bAQ08Qquyl/95Y5lNwBz1+R9rIoJsIAUIcAC4mCdOodSxQKrcgZctu4Faeu3TzmqtOIaaAUJp+IQdAW6Z+Egesl6VZdk70B6KRlhlxTf6q7s2rxWd3mZN9vWe9jkPRAKq8orzIowtz2hF4orV9XX9v7lq/yS7IR/caz+cscqbwBWMQEWFVhIEZ6aQBxs6vC1SYjlJdwqNVbQz/22C9LWxteF2pSq9ElyoBV2FZbNCqxIwqxi9yLYvigFquqSwnv3xfbzhB12ue3sVnfZDLtKrav9+io98IqmfTxDryiDsiAHt0fZb3tffy85yln1lZbwS4pXcBWnAKxSDnF3qiXH8NvuVIezFiAoAiwgFrZu+3XbH8nsC+dCZy55+bXQ51FVakVdweXna6994hpoRRFc2QqtbAZjcbsnydOB9FLnoEtSkHdebH8/aFWX2yb8sKvY4fRSPLcymrULJ/AKo2IqrMDLdB1IryQGX1Kw8MtWtVMawi93LfEap72MKiOlydS6H6Z9gDjiqQnEwlpt/+PY8d0U1e6eh3dRNA2tyhFo2boXpG32ay/hlJ8+UQRaYYVcYYzhZXw/18O+lzeQ8jmmFOugSwq+hVEqHXZ5DrJKvFujtC0ksVDZJdkPk8r5zoxxCLxMxa3KC9uV4/yqcgZfkv/gJw5nXcUh/JLsVn8FHaeQStlCSICFNOGpCcSA4/Qp9xLaVH1O3gIv01As6Oe27kXxtd82hfr5DbSKzWHSP8j2xlLtbV43uec1eCoVVtoIz/Le93hOl9Q57Aq4fbFjm7C3MEqlw67i85RuI5lVdknpqO7yssbs/GEFXpK39UrhV3kRevkTxZbNNChn1Zc7f/nDL3cMewFY2AFTpQRYLTVVaqmpKt0wp48jKc9/pgFlRoAFINf6IvdqVTzQMg2yog66yh1shRl0hXUtSChW6HrYgVZYfcK61/F+ucIuyVfgZRJ2SflDJpNtjFJyAy+peKBkGnh5a+u9As3LGk3nb9/e9rs1SmZBXXYtpiGWux7v45u0d/uYPWbJ/HFvnysZoZxpmIl0sfHOj5L5nw8A8UeABaCDVdr+V0OX3M9banNfLLfXMcDyGlhFFWzZqtiKS4gVdkVXsfGCVm95bev3ugrMW+y67T5h3Qvct6rEfUvvwtjWJtwD6t02yQm83Halwwo/YZKtKi+va8wyrfTyvgbT4MjsPC/J7MVtFNVb/vqYV0f5CYf8Bl/lCMwIv/yx9W6HdsYI/hLVSwhWKRVYmdpaZWrNKrAytY62n9ELxAcBFoAO/rXt12x41f7Xjudztfu1pap4oFAsqAojzLJdoRUkqLIRUNkMsLz2C7p1MaxtilFct90nrHsd75vcK9nXIOySggdePsIuKfmBlxT8wHrJfFujO2b5Qi+TiinvazAPvdz24W1xNFlPtk+agi93rsoIv5JS3RaWuARg28cp/TLXRlCWBJmaGmUMtxBmagiwEE+V8acWgIGV237NF2AV+rXQvSKHzmeVCrP8BlW2gixboVYYAZWNPmFd83vovJ+2UVy33afjPVuhVFhBmKf7RbYySnaru3ye3SV5O0TexmH17ecqPZ+HNRkGXpL90MtmiBRmeORn219YoZcU/tle0fbhPKw4Chr82Kp6CsLWmVcm34tKqcBqVY0yMguwWjn/CjFFgAWgg2VyA6juKh5U5bufr520/a8aS++qWOq+aTAV5HNb98L4Okgbv9VXQa/JY1s/Y9i83vFe0NAqbtVZCQ+7pHhVd0lmgZeXd2j01M7itkYpnO2CYZ+PFYfQy21vFvxEtc0v7sFX1FVf8CcOAZhkHoJlVB3iauKjRTVqMQywWgiwEFPl/5sGQKw4zqXlXkKsVR287ZM4V3OZjud3jHJfC3JuV1TXledeoet+74URhNka18r9iLcySiUDL8nO+V1uu87raekwV5AtjUbtYlDl5Y5p/xB7t204Z3p5WUf79mFXe0ne1t9+XXENvtx+yQm/yhWcce6XPzYOik+CjGqMw7qMWkNaDRAMARYAmFi37VeTwKqclVxhBFdJC7tstQ0z7CrVRz7mKdan1L18970GXqbjmszr6b5h4CV1Dr1M351R6hR6dbqv+IVexecML/SS7B9i746Z7uDLa3u3j3m1WpZp1ZrZusz7tO/np/LL7Wd+3pdkFgRun9P/mV+S+WPc3t//9s6gAZiN4K4c4V8cqsai4C/AMqvYAqIS2z+1d911l26//XY1NjbqkEMO0cyZMzVixIi8befMmaMHH3xQr732miRp6NChuvXWW9vab926Vdddd52efPJJvffee2poaNCoUaM0ZcoU9evXL7LHBCAF1m37tVg45TfE8hNg2QyvbH/tt005r9lo6/e6zYAqjFCrXFVatgOxvPNbrvKSSodePqu8JHuhlyTjw+uLz+mtnRRutZeUvOBLSm74Jfmv/DJZl98+2X5RV39J0QZgwfsGO98sDlVgpo+/tUIqsIA0iWWA9cgjj2jChAmaPXu2Ro4cqRkzZmj06NF688031bt3707tFy5cqNNPP12HH364unXrpqlTp+qYY47RP/7xD/Xv318bN27UK6+8ouuvv16HHHKIPvnkE1122WU67rjjtHjx4jI8QgCJtb7D1x0DqmLhVZAQK98YXvua3Ivi6zDb2LiWhK2JSdyy6HW+UuPG4n6JwEsyO8dL8lXlla9NXEIvr3MatfMYerltkxV8ue39VU2Fec6XSXu3TzrDLz/93L6VE4C5/ZMVglXKIe5UYCFNqhzHid0JbSNHjtTw4cN15513SpJaW1s1YMAAXXLJJbr22mtL9s9kMurZs6fuvPNOjRs3Lm+bv/71rxoxYoSWL1+uPfbYo+SYzc3NamhoUFNTk+rr680eEIDUqKraqtxXqyX+gTcJuPze7/i5jT5B2nr52lYfm/1MrtloG+YYcekT1r0w+8bhvpQ/9OrUpsQLxRKHvGcVCr3aK3Vg/PZ2pV+8Fgu9/M3p/QVvqeCrrZ3Bi3CTF9ym4YBJe9PgwDQo8BNs+OtjHoD4CT38BjXR9/MXCAUJgoJu5Qve338IJnl/7FubP9PjDRem9vVd9vXrK0399Ll6swDr0+ZWfbHhg9R+b5BcsavA2rJli15++WVNnDix7Vp1dbVGjRqlRYsWeRpj48aN2rp1q3beeeeCbZqamlRVVaWddtop7/3Nmzdr8+bNbV83Nzd7ewAAUm6ttv/VGeBdFts3a/+5jQAryOelvja5Zzq2l6/DbGN6LYxKrThWY9muxLJxL8y+He/nra4yuO9nfkkl36lRslLlJZXe2tixTbHAK4x3bpSKh15eK7hM2sah2qv9OsLYLhj2dsf2azKtlIriXQ79VjkFOeMq2n7m1XBZcTgTKwotFfIuhBnVGD9WPxVYJkcASdK6dev0H//xH/rNb36jtWvXas8999SMGTN07LHHGs+NyhG7AGvNmjXKZDLq06dPzvU+ffrojTfe8DTGNddco379+mnUqFF572/atEnXXHONTj/99IKJ8uTJk3XTTTeZLR5A6jlOn9KNEqZq322f2K7ish1eRRV2ee0XZDwbY9q+HvZh9KXGU4B7ce1bqE3Q+3nbGG5rlHyHXl62NuZrV+oQe8nu9kbJTvAVxtleblt/wZdUOnQJ+6ysuJ315beP28886AkSfrlzRbmNMdoD8LOChGDBD7T31r9yDnGv9bGF0OxdCE2PANqyZYu+/vWvq3fv3vr1r3+t/v37a/ny5QWLS4Cs1P2pnTJliubOnauFCxeqW7dune5v3bpVp5xyihzH0axZswqOM3HiRE2YMKHt6+bmZg0YMCCUNQNAWa1R6YDK5L6X9qb3ovjab5tyXjO9HnYQVqpPsWDLT59S45kGU2H2tXm/UJtS9zu1yfM/7J2CMR/v2ih5C76kTuGXn3dvzMoXLHUMvtx2pd/FUSocfvk91L5o2zxn8YTxro5SssMvKV4BmMnvQ3t+qtnc+fyFdO37+u3nr6/Z73VHQc4Cc+cvfsZVS8CtikmRUbXxeV+m3/Hp06frggsu0DnnnCNJmj17tp544gnde++9eY8Auvfee7V27Vq98MIL6tLF/Xdm4MCBhrOiEsUuwOrVq5dqamq0atWqnOurVq1S3759i/adNm2apkyZomeffVaDBw/udD8bXi1fvlx/+tOfiu7nraurU11dnb8HAQBJsq7d5x0DqWJhlUnQVeyen7ArSFs/X/ttE6RfkDlMx7SxhiDjRxlslSv0isN9a2NYCr4kfxVfUt6qLz8H2kvlq/oqNrdx2w4vTuMQfrlj223v9ok2APO6ro79/IRgfqrApOhDsCB9g2yHdPvbC506PjfQWcdjdPK9RvZzBNDjjz+uww47TN///vf1u9/9TrvuuqvOOOMMXXPNNaqp4fcFhcUuwOratauGDh2q+fPn64QTTpDkHuI+f/58jR8/vmC/2267TbfccoueeuopDRs2rNP9bHj19ttva8GCBdpll13CeggAkDBbt/1au+3Fa1XhF+rbmhX91fTzoKGXyb0wvrbVp5zXTK+bBkum1233KTWeAoxZqG9SQq+oxpAqNvhy25Yv/Cp5LpjPbY9SvLY+eu9jHoYEOf/L67r89nH7RRuCuXNGX9EVZN5Sa0kz910I/VVgddyBdMMNN+jGG2/MuebnCKD33ntPf/rTn3TmmWfqySef1DvvvKOLL75YW7du1Q033GC0VlSW2AVYkjRhwgSdffbZGjZsmEaMGKEZM2Zow4YNbSWJ48aNU//+/TV58mRJ0tSpUzVp0iQ9/PDDGjhwoBobGyVJPXr0UI8ePbR161addNJJeuWVV/SHP/xBmUymrc3OO++srl27lueBAkAsrFLxA+k73Mu+CPVSNeOnWstmpVY5q7jCbBPVNRtt/V63GXjJ53jF+gW5F2ZfG/fztfEVWJW477mNj/O9pMiDLym6qi/J3yH3xeY2bSuZhV9ue+9BSxRbB6OqmIoqAAvWr3Zbn2gOw3fnjP5sr3xjpF2LaoyrzbLPghUrVuTsWrK1Q6m1tVW9e/fWPffco5qaGg0dOlQrV67U7bffToCFomIZYJ166qn66KOPNGnSJDU2NmrIkCGaN29eW6r7/vvvq7p6+0F0s2bN0pYtW3TSSSfljJNNiFeuXKnHH39ckjRkyJCcNgsWLNBXvvKVUB8PAMTb2m2/tg+vOgZZ+a7lCbc6Vm+VCgfiGGxRseXvmul1vyFVoetRBV5h3ct3P8rQKq6hl982kr2D7SVPwZdk94B7KfzgS0pn+CXF9+D4qAIwdy5/7wKZFUUVmFT+ECztWlVr/Fhbt70LYX19fdFjdyR/RwDttttu6tKlS852wQMOOECNjY3asmULBSYoKJYBliSNHz++4JbBhQsX5ny9bNmyomMNHDhQjlPgBxIAqHCO0/nMQLiqDt72STkrufyGSkkIt6Ko5Cp0PS7nbtneuljqfrlDL9MxIm/jYZujZLXiSwo/+JKSFX6VbG9w5pfbvsNjDLn6y50jnhVgUvyrwNx+/kIwyfvja62QACvIFkIv/BwBdMQRR+jhhx9Wa2trW2HKW2+9pd12243wCkXFNsACAKDs1iiairBSX9uo4opLEBZW/3Jet90n6D0vZ9j57Rv0voq0KXXfZIyo20j5w69OY+UJvqTO4Ve+d3aUOgVgebc7SnkDsCDv8Ch5f5dHt23nb1q+d3qUCodgZiFcsABMMjv4Xgr3/K/tc9jv4/YzC/Sk/AeeR3Ugvnlfby9xMxYPhI+zsAMsyfwIoO9973u68847ddlll+mSSy7R22+/rVtvvVWXXnqp4cyoNARYAAAUsm7br7UdfvXyuZ8gK26VXXGp9Iq6rc3rtvsEveen4ivo/aDBlUmYFMtgy0sbD+GXlIgATApWAea29XbovWQnAPPVvgwhmGQehPk5DN97v+iCMHc+f2FY4fGqSzeCJ6ZHAA0YMEBPPfWUrrjiCg0ePFj9+/fXZZddpmuuuaZcDwEJUeWwt86T5uZmNTQ0qKmpqeQ+YABAOlQVeE3ZpmNY5TfI8hpc2Qq4klrRFWX/KK7b7uN3vDDmC3veKOaPaxvrY3l8KVBka2Hntt6ChUIBWD6lztTKbet9rcW2QQZdh6/2Hs4Dy2nvo4rIz1lTfsIivwGTn8ckmT+uTPN6vdVwdGpf32Vfv/6+abh2rDerW9nQ3KIxDX9N7fcGyUUFFgAABTUr959KC+/I6OXzpFVvhRlcxTHwKuf1Un1Mz/by0i/qc7q8jl2of1wqtnxVYnmYy/pYls/9kvJXgAV4x8dCbaOuAJPMqsDyraXk4fYBDsNv62P5TDApunPBgvXb/ri8PKZKOcTd37sQUuOCeCLAAgCgoI+3/dqlw6+13r5u/8LQ67lEYVduRR1mxSHIijLEiiLYqvQD6MMKpWyHVpFvQ/TQJshYedt5DL8k/wffSwWrv+IQgLntOwRCIQZgpdaSr49pCGb6rpBSeCGYO5edbZEdtWqrp/mTLqNaz+eCbe8DxBMBFgAABTjOoHIvIbba3qFRChZi2Qqv4hZwlSP0imqsMO+V44wur/dVpE2p+yZjRN0maDu/Y0nBqr+k1AZgbvvyhWC+QjMLlWBSuEFYR5XyLoStPg5xb6UCCzFlLcB6//33tXz5cm3cuFG77rqrDjroINXV1dkaHgAAxMmabb/arA6L4mu/bcK4ZqNtOa/7vRdG+BVmX1v3gwRo5WijEu28tDEdy6SdVPjw+05jFgjApM4hWKED8KVOQVjBQ/ClTkFYsbYm7wYpBX9HSMnOu0IWW0+xPqaH40vmB+R70aotvvoljb93ISTAQjwFCrCWLVumWbNmae7cufrXv/6l9ufBd+3aVUcddZQuvPBCnXjiiTnvOgAAABJujUqHUl5CKz+hl8m9fF+H1SeMa1G39XPddh+/44Uxn9e+NsKpUveDhknlaFOOsUzbeg3BJDtBmNezwNrae3tHSKk8QZhkLwwzrQor1acUJ1MZFVhAmvgOsC699FI98MADGj16tH784x9rxIgR6tevn7p37661a9fqtdde03PPPadJkybppptu0n333afhw4fbXDsAACiXFqf4C7+sYsGWnyotv8FVFJVbNsOroAGVjXAqrgFXGCFVuau7wtz+6HUMRdymHGOVauu3nVT478MgIZhkJwgz2BYp2QnC3D7hVoUVW5eXYMspFhymSIuqfRzi3hrSaoBgfAdYO+64o9577z3tsssune717t1bX/va1/S1r31NN9xwg+bNm6cVK1YQYAEAkBprt/3a/sVYbYdrtdteAJZ4t8b2XW1+butevq/D6lPOazba2rxuu0857nnpW86zu2yOYbNNsXZ+QqtytSvWNkgIJgU/F0zKG4JJdoKwQueDSeahk82qsPacTUXCxBTxd4g7WwgRT74DrMmTJ3tu+41vfMPvNAAAIJZWbfu10DsxdslzrdDXCvaOjcU+t9EujK/DbGNyLaz+pmPYGj+MPkHvmYQdpn05mD7YWHFsF2RMKbwQTAq1GqxQH9MgzGRLoZPx/VI4UfydgUUFFuKpMv7UAgAAqxznwHIvIfWqDstzMc4VXGEGXOUOscpVnVXsXpzfldHmGF7bFGuXpACs3GNKZiGYFPtqsII2dfXeNsEIsJAmVgKsjz/+WJMmTdKCBQu0evVqtbbmPuHXrl1boCcAAADyyvdOj2F87bdNVNdsXS939Vfc7iXhvq02Xl/x2FqPyVilzi9rP5bXtmGMadpWKn1OYk7bEtv5TN4tUioYiOWOURlnYGVUY3wGFgEW4spKgDV27Fi98847Ou+889SnTx9VVXk41BUAAACFeXmnx46fm9zz83WYbQpdC6t/Oa/b7lPqXrnGjeK+zTGCHoZfrrGy7eRxXpN2sWlr+KYhpQIxSdrMGViF+3AGFuLJSoD13HPP6fnnn9chhxxiYzgAAACs2/araYjlJ+gK0jbf12G2MbkWdVs/1233idu9ONyPaoxsm6iDMJWhnZ8xw2zrpX1HmwzbAyg7KwHW5z//eX322Wc2hgIAAIAkaaukWu/v5JhV2+HXjp/buleqrel9m21M21ZayBW3Kq8w+9oaw1YwZTuUKlfAVapt3Cq48jENvBIqo2ofZ2B5PwwfiJKVAOvuu+/Wtddeq0mTJukLX/iCunTJLcesr6+3MQ0AAEAFyZ4hmv1xrf3PVx2vtfuRrsVH2OX181JfB63cCrNKK6rgKuwwK+5BVlqruGyFZJUScIURhNlsK0mbS9xPCX+HuFfG+WBIHisB1k477aTm5mZ97Wtfy7nuOI6qqqqUyZDgAgAAmHCcPuVeQqpVDZf9Cq24V3JFFWSFVW1VziouW+FUKTbnSUPAZbMiq6MK2UJIgIU0sRJgnXnmmerSpYsefvhhDnEHAABA/K3r8HUY1WI2+5WjbbHrUY0V1r0w+0ZxP6ltytmuowqqwDJ/F0ICLMSTlQDrtdde06uvvqr999/fxnAAAABAuNa0+9zvtsgwtkQmpQKMLY7R9LVxP81tTNp1VDEVWH7ehbA1pNUAwVgJsIYNG6YVK1YQYAEAACAZ1hW4XiigMv08iq/9tjG5ZqNtOa8n6V4S7sexjUm79iokwALSxEqAdckll+iyyy7TVVddpYMPPrjTIe6DBw+2MQ0AAABgycZtv3Y4HN/vuz52/NzWPT9fe72WlGovm9dt9wnrXph9o7gfxzYdVdAWQs7AQlpYCbBOPfVUSdK5557bdq2qqopD3AEAABBTq7b92qXDr+1/PO54Lc87Qba0O/vV6yHScQq24h5qEXQlO8iyET6FFWBVSAVWRtU+AqzqkFYDBGMlwFq6dKmNYQAAAIBIOM6gci8BHlUd1eFCnIIu28FTOSq2KjXEqpAKrBYfh7ibto+a4zh68cUXtXr1ah122GHq3bt3uZeEiFgJsPbcc08bwwAAAABAruyB+2FvlYy6bbHrtvuU414c7hdTMRVYfg5xj/cOqt69e+uzzz5T9+7d1dTUpLPOOks/+9nP1KNHj3IvDSHz/Uf+xRdf1Je+9CVPbTdu3KilS5fqoIMO8jsdAAAAgEqUL8BKwjlhNtpGcT1J92zcz6qQCqxWH2dgtca8AuvRRx/V0UcfraqqKi1ZskQTJkzQyJEjNX/+fPXt27fcy0OIfAdYY8eO1V577aXzzz9fxx57rHbcccdObV5//XX98pe/1H333aepU6cSYAEAAAAws0Z2zg0L48ywcl4r5/Uw7oW1RbKQLT76IBa+8pWvtH0+ZMgQzZ8/X1dffbWOOuoo/fnPf9Zuu+1WvsUhVL4DrNdff12zZs3SddddpzPOOEP77bef+vXrp27duumTTz7RG2+8ofXr1+vb3/62nn76aR188ME21w0AAACgIjjtDsiv8n5YvmQWWoVR1RW3cKucwVbcKrkqJMCqhHch3LBhg8477zz94x//0DHHHKO///3v5V4SQuI7wOrSpYsuvfRSXXrppVq8eLGef/55LV++XJ999pkOOeQQXXHFFfrqV7+qnXfe2eZ6AQAAAFSU1e0+z758yfOOkDnXt11rkSQf7xTZcdhyhVtpCbbiEIR1tNWgbYKl8V0IzznnHK1cuVL/+te/tHLlSq1fv16Se7h7t27dyrw6hCnIsXdthg0bpmHDhtkYCgAAAADaWbXt1yJBVU6g1fFex/terktqsRB82fjab5ug12y0jeJ6qXuFVEiA1aIa1aTsXQhXr16tgQMH6ogjjlD//v1zPnbZZZdyLw8hshJgAQAAAEAYHGdwuZcAj6oGbfskzFDOtG0hJqFkgvl7F8J4xwRPPPFEuZeAMon3MxMAAAAAkAxrOnwd9Zljha7lk/HYLuHS+C6EqFwEWAAAAACA4NYbtq/t8GvHzwtd8xN2ddTqoU0KVMIh7qgcBFgAAAAAAAs6nleW74yxdtdasofttztvzKugIZZjPiWA8rISYL333nvaa6+9bAwFAAAAAEikf6nwAfv5Ds8vdhh/ocP2t91rO8NqW/hVIWdamWpRjapTdog7KpeVAGufffbR0UcfrfPOO08nnXQSb10JAAAAABVn9bZfC4VXpl+3v9bxc4/vJlnQRo/tks3dQmh6iDsBFuLJSoD1yiuv6L777tOECRM0fvx4nXrqqTrvvPM0YsQIG8MDAAAAAGLOcb5Z7iV41tzcooaGcq8ifJyBhTSptjHIkCFDdMcdd+iDDz7Qvffeqw8//FBHHnmkvvCFL2j69On66KOPbEwDAAAAAAA8ygZYph9AHFkJsLJqa2v17//+73r00Uc1depUvfPOO/rBD36gAQMGaNy4cfrwww9tTgcAAAAAAApo9RFetRJgIaasBliLFy/WxRdfrN12203Tp0/XD37wA7377rt65pln9MEHH+j444+3OR0AAAAAAAAqgJUzsKZPn6777rtPb775po499lg9+OCDOvbYY1Vd7eZjgwYN0v3336+BAwfamA4AAAAAAJTQohpV8S6ESAkrFVizZs3SGWecoeXLl+u3v/2t/u3f/k3V1dX617/+pQsvvFCS1Lt3b/3iF7+wMR0AAAAAACgh+y6EZh8EWIgnKxVYb7/9dt7rH3/8sX7xi1/onnvuUdeuXXX22WfbmA4AAAAAAJSQUY2qeRdCpISVAAsAAAAAAMQLARbShAALAAAAAIAU4gwspInVdyEEAAAAAAAAbAtUgfXv//7vRe+vW7cuyPAAAAAAAMCn1m0Hs5v2AeIo0DOzoaGh5P1x48YFmQIAAAAAAPiQ8bGFkDOwEFeBAqz77rvP1joAAAAAAIBFGVX7CLA4aQjxFNtn5l133aWBAweqW7duGjlypF566aWCbefMmaOjjjpKPXv2VM+ePTVq1KhO7R3H0aRJk7Tbbrupe/fuGjVqlN5+++2wHwYAAAAAAGXRohpfH0AcxTLAeuSRRzRhwgTdcMMNeuWVV3TIIYdo9OjRWr16dd72Cxcu1Omnn64FCxZo0aJFGjBggI455hitXLmyrc1tt92mn/3sZ5o9e7b+8pe/aMcdd9To0aO1adOmqB4WAAAAAACRyWw7A8v0A4ijKsdxnHIvoqORI0dq+PDhuvPOOyVJra2tGjBggC655BJde+21JftnMhn17NlTd955p8aNGyfHcdSvXz9deeWV+sEPfiBJampqUp8+fXT//ffrtNNOKzlmc3OzGhoa1NTUpPr6+mAPEAAAAABQNml/fZd9fEObnlRN/Y5GfTPNG/Ryw7Gp/d4guWJXgbVlyxa9/PLLGjVqVNu16upqjRo1SosWLfI0xsaNG7V161btvPPOkqSlS5eqsbExZ8yGhgaNHDnS85gAAAAAAKAzkyOA2ps7d66qqqp0wgknhLtApELsAqw1a9Yok8moT58+Odf79OmjxsZGT2Ncc8016tevX1tgle1nMubmzZvV3Nyc8wEAAAAAQFJkVOPrw4TpEUBZy5Yt0w9+8AMdddRRQR4iKkjsAqygpkyZorlz5+qxxx5Tt27dfI8zefJkNTQ0tH0MGDDA4ioBAAAAAAhXFAHW9OnTdcEFF+icc87RgQceqNmzZ2uHHXbQvffeW3hdmYzOPPNM3XTTTdprr72CPkxUiNgFWL169VJNTY1WrVqVc33VqlXq27dv0b7Tpk3TlClT9PTTT2vw4MFt17P9TMacOHGimpqa2j5WrFjh5+EAAAAAAFAWLar28S6E3mMCv0cA/ehHP1Lv3r113nnnBXp8qCyxC7C6du2qoUOHav78+W3XWltbNX/+fB122GEF+9122226+eabNW/ePA0bNizn3qBBg9S3b9+cMZubm/WXv/yl4Jh1dXWqr6/P+QAAAAAAICmCvAthxyN1Nm/e3Gl8P0cAPf/88/rFL36hOXPm2H/ASLXYBViSNGHCBM2ZM0cPPPCA/vnPf+p73/ueNmzYoHPOOUeSNG7cOE2cOLGt/dSpU3X99dfr3nvv1cCBA9XY2KjGxkatX79eklRVVaXLL79cP/7xj/X444/r73//u8aNG6d+/fpxWBwAAAAAIJWCbCEcMGBAzrE6kydPDryeTz/9VGPHjtWcOXPUq1evwOOhstSWewH5nHrqqfroo480adIkNTY2asiQIZo3b15bqvv++++runp79jZr1ixt2bJFJ510Us44N9xwg2688UZJ0tVXX60NGzbowgsv1Lp163TkkUdq3rx5gc7JAgAAAAAgjVasWJGzE6murq5TG9MjgN59910tW7ZMY8aMabvW2toqSaqtrdWbb76pvffe29ZDQMpUOY7jlHsRSdDc3KyGhgY1NTWxnRAAAAAAEiztr++yj29Q04uqru9h1Le1eb2WNnzJ8/dm5MiRGjFihGbOnOn2b23VHnvsofHjx+vaa6/Nabtp0ya98847Odeuu+46ffrpp7rjjju03377qWvXrkbrReWIZQUWAAAAAAAIpkU1qjZ8V8FWw/YTJkzQ2WefrWHDhmnEiBGaMWNGpyOA+vfvr8mTJ6tbt276whe+kNN/p512kqRO14GOCLAAAAAAAEihjGrkGL7sNw2wTI8AAvxiC6FHaS8xBQAAAIBKkfbXd9nH16fp/1Rd/zmjvq3Nn2pVwyGp/d4guajAAgAAAAAghdwKrHC3EAJRoY4PAAAAAAAAsUYFFgAAAAAAKZRprZHTaliBZdgeiAoBFgAAAAAAKZRpqVFri1kg5Ri2B6JCgAUAAAAAQAplWmpV1WL2st8xbA9EhWcmAAAAAAAplGmpVpVxBRZHZSOeCLAAAAAAAEihTEuNjwCLLYSIJ6JVAAAAAAAAxBoVWAAAAAAApFBLS42qtlKBhXQgwAIAAAAAIIWcTK2cjOHLftP2QER4ZgIAAAAAkEYtNe6HaR8ghgiwAAAAAABIIwIspAgBFgAAAAAAaZSpklqqzPsAMUSABQAAAABAGrVs+zDtA8RQdbkXAAAAAAAAABRDBRYAAAAAAGlEBRZShAALAAAAAIA0IsBCihBgAQAAAACQRi2StvroA8QQARYAAAAAAGmU2fZh2geIIQIsAAAAAADSiC2ESBHehRAAAAAAAACxRgUWAAAAAABpRAUWUoQACwAAAACANCLAQooQYAEAAAAAkEYZmQdSHOKOmCLAAgAAAAAgjajAQooQYAEAAAAAkEYEWEgR3oUQAAAAAAAAsUYFFgAAAAAAabR124dpHyCGCLAAAAAAAEijjMwPZecQd8QUARYAAAAAAGnEuxAiRQiwAAAAAABIIw5xR4oQYAEAAAAAkEYEWEgRAiwAAAAAANKIAAspUl3uBQAAAAAAAADFUIEFAAAAAEAacYg7UoQACwAAAACANGILIVKEAAsAAAAAgDTaKqnGRx8ghgiwAAAAAABIo4zMtwSyhRAxRYAFAAAAAEAasYUQKcK7EAIAAAAAACDWqMACAAAAACCNeBdCpAgBFgAAAAAAadQi80Pc2UKImCLAAgAAAAAgjbbK/OAg3oUQMUWABQAAAABAGvEuhEgRAiwAAAAAANKIM7CQIrwLIQAAAAAAAGKNCiwAAAAAANKoReZlKxzijpiKZQXWXXfdpYEDB6pbt24aOXKkXnrppYJt//GPf+jEE0/UwIEDVVVVpRkzZnRqk8lkdP3112vQoEHq3r279t57b918881yHCfERwEAAAAAQBlt9fkBxFDsAqxHHnlEEyZM0A033KBXXnlFhxxyiEaPHq3Vq1fnbb9x40bttddemjJlivr27Zu3zdSpUzVr1izdeeed+uc//6mpU6fqtttu08yZM8N8KAAAAAAAlE/G5wcQQ7ELsKZPn64LLrhA55xzjg488EDNnj1bO+ywg+6999687YcPH67bb79dp512murq6vK2eeGFF3T88cfrW9/6lgYOHKiTTjpJxxxzTNHKLgAAAAAAEq3F5wcQQ7EKsLZs2aKXX35Zo0aNartWXV2tUaNGadGiRb7HPfzwwzV//ny99dZbkqT/+7//0/PPP69vfvObgdcMAAAAAEAsZd+F0OTDRwWWyTFAc+bM0VFHHaWePXuqZ8+eGjVqFMUl8CRWAdaaNWuUyWTUp0+fnOt9+vRRY2Oj73GvvfZanXbaafr85z+vLl266NBDD9Xll1+uM888s2CfzZs3q7m5OecDAAAAAABsZ3oM0MKFC3X66adrwYIFWrRokQYMGKBjjjlGK1eujHjlSJpYBVhh+dWvfqWHHnpIDz/8sF555RU98MADmjZtmh544IGCfSZPnqyGhoa2jwEDBkS4YgAAAAAAAorgEHfTY4AeeughXXzxxRoyZIg+//nP6+c//7laW1s1f/58f48RFSNWAVavXr1UU1OjVatW5VxftWpVwQPavbjqqqvaqrAOPvhgjR07VldccYUmT55csM/EiRPV1NTU9rFixQrf8wMAAAAAELmQD3G3cQzQxo0btXXrVu28887eJ0ZFilWA1bVrVw0dOjQnec0msYcddpjvcTdu3Kjq6tyHWlNTo9bW1oJ96urqVF9fn/MBAAAAAEBiBDjEveOROps3b+40vI1jgK655hr169cvJwQD8qkt9wI6mjBhgs4++2wNGzZMI0aM0IwZM7Rhwwadc845kqRx48apf//+bdVTW7Zs0euvv972+cqVK7VkyRL16NFD++yzjyRpzJgxuuWWW7THHnvooIMO0quvvqrp06fr3HPPLc+DBAAAAAAgbC2Sqnz0kTodo3PDDTfoxhtvtLGqNlOmTNHcuXO1cOFCdevWzerYSJ/YBVinnnqqPvroI02aNEmNjY0aMmSI5s2b15bovv/++znVVB988IEOPfTQtq+nTZumadOm6eijj9bChQslSTNnztT111+viy++WKtXr1a/fv303e9+V5MmTYr0sQEAAAAAEJkW/31WrFiRsxOprq6uU9MgxwBNmzZNU6ZM0bPPPqvBgwf7WCgqTZXjOE65F5EEzc3NamhoUFNTE9sJAQAAACDB0v76Lvv4dFSTVGv4+Fqapee8f29GjhypESNGaObMmZLcY4D22GMPjR8/Xtdee23ePrfddptuueUWPfXUU/rSl75ktj5UrNhVYAEAAAAAgGQwPQZo6tSpmjRpkh5++GENHDiw7aysHj16qEePHmV7HIg/AiwAAAAAANIowBZCr0yPAZo1a5a2bNmik046KWecMM7YQrqwhdCjtJeYAgAAAEClSPvru7YthMN9biH8a3q/N0guKrAAAAAAAEijFkmmJSuZMBYCBEeABQAAAABAGvkJowiwEFMEWAAAAAAApBEVWEiR6tJNAAAAAAAAgPKhAgsAAAAAgDSiAgspQoAFAAAAAEAatUhqNexj2h6ICAEWAAAAAABplJF5BRYBFmKKAAsAAAAAgDRqkfnJ1wRYiCkCLAAAAAAA0ogACynCuxACAAAAAAAg1qjAAgAAAAAgjbaKCiykBgEWAAAAAABp1CrzQ9xN2wMRIcACAAAAACCNWiRVGfYhwEJMEWABAAAAAJBGBFhIEQIsAAAAAADSaKsIsJAaBFgAAAAAAKRRRgRYSA3T9yMAAAAAAAAAIkUFFgAAAAAAaUVFFVKCCiwAAAAAAADEGgEWAAAAAAAAYo0ACwAAAAAAALHGGVgAAAAAAKTS1m0fpn2A+KECCwAAAAAAALFGBRYAAAAAAKnUsu3DtA8QPwRYAAAAAACkElsIkR4EWAAAAAAApBIVWEgPAiwAAAAAAFKpReYVVQRYiCcCLAAAAAAAUokthEgP3oUQAAAAAAAAsUYFFgAAAAAAqcQZWEgPAiwAAAAAAFKJM7CQHgRYAAAAAACkEhVYSA8CLAAAAAAAUolD3JEeBFgAAAAAAKQSFVhID96FEAAAAAAAALFGBRYAAAAAAKnEIe5IDwIsAAAAAABSiS2ESA8CLAAAAAAAUolD3JEeBFgAAAAAAKQSFVhIDwIsAAAAAABSiTOwkB4EWAAAAAAApBIVWEiP6nIvAAAAAAAAACiGCiwAAAAAAFKJQ9yRHgRYAAAAAACkEgEW0oMACwAAAACAVOIMLKQHARYAAAAAAKnEuxAiPQiwAAAAAABIJSqwkB6xfBfCu+66SwMHDlS3bt00cuRIvfTSSwXb/uMf/9CJJ56ogQMHqqqqSjNmzMjbbuXKlTrrrLO0yy67qHv37jr44IO1ePHikB4BAAAAAAAAbIldgPXII49owoQJuuGGG/TKK6/okEMO0ejRo7V69eq87Tdu3Ki99tpLU6ZMUd++ffO2+eSTT3TEEUeoS5cu+uMf/6jXX39dP/nJT9SzZ88wHwoAAAAAAGW01ecHED+x20I4ffp0XXDBBTrnnHMkSbNnz9YTTzyhe++9V9dee22n9sOHD9fw4cMlKe99SZo6daoGDBig++67r+3aoEGDQlg9AAAAAABxwRZCpEesKrC2bNmil19+WaNGjWq7Vl1drVGjRmnRokW+x3388cc1bNgwnXzyyerdu7cOPfRQzZkzx8aSAQAAAACIqewh7iYf5gGWyTFAkvToo4/q85//vLp166aDDz5YTz75pPGcqDyxCrDWrFmjTCajPn365Fzv06ePGhsbfY/73nvvadasWdp333311FNP6Xvf+54uvfRSPfDAAwX7bN68Wc3NzTkfAAAAAAAkR4vPD+9MjwF64YUXdPrpp+u8887Tq6++qhNOOEEnnHCCXnvtNZ+PEZUiVgFWWFpbW/XFL35Rt956qw499FBdeOGFuuCCCzR79uyCfSZPnqyGhoa2jwEDBkS4YgAAAAAAggr/DKz2xwAdeOCBmj17tnbYYQfde++9edvfcccd+sY3vqGrrrpKBxxwgG6++WZ98Ytf1J133unzMaJSxCrA6tWrl2pqarRq1aqc66tWrSp4QLsXu+22mw488MCcawcccIDef//9gn0mTpyopqamto8VK1b4nh8AAAAAgLTxcwzQokWLctpL0ujRowMdG4TKEKtD3Lt27aqhQ4dq/vz5OuGEEyS51VPz58/X+PHjfY97xBFH6M0338y59tZbb2nPPfcs2Keurk51dXVtXzuOI0lsJQQAAACAhMu+rsu+zkuvDTI/02qzpM6vfTu+RpaKHwP0xhtv5B29sbHR+rFBqAyxCrAkacKECTr77LM1bNgwjRgxQjNmzNCGDRva3pVw3Lhx6t+/vyZPnizJTXxff/31ts9XrlypJUuWqEePHtpnn30kSVdccYUOP/xw3XrrrTrllFP00ksv6Z577tE999zjeV0ff/yxJLGVEAAAAABS4uOPP1ZDQ0O5l2Fd165d1bdvXzU2/tRX/x49enR67XvDDTfoxhtvtLA6wJ/YBVinnnqqPvroI02aNEmNjY0aMmSI5s2b15bQvv/++6qu3r7z8YMPPtChhx7a9vW0adM0bdo0HX300Vq4cKEkafjw4Xrsscc0ceJE/ehHP9KgQYM0Y8YMnXnmmZ7XtfPOO7fNn8a/4FAZmpubNWDAAK1YsUL19fXlXg5gjOcw0oDnMZKO5zDSoKmpSXvssUfb67y06datm5YuXaotW7b46u84jqqqqnKuday+kvwdA9S3b1/rxwahMlQ56a+ZtKK5uVkNDQ1qamriH2okFs9jJB3PYaQBz2MkHc9hpAHPY3tGjhypESNGaObMmZLcY4D22GMPjR8/Xtdee22n9qeeeqo2btyo3//+923XDj/8cA0ePLjoG60BsavAAgAAAAAAyWB6DNBll12mo48+Wj/5yU/0rW99S3PnztXixYuNjvhBZSLAAgAAAAAAvpgeA3T44Yfr4Ycf1nXXXacf/vCH2nffffXb3/5WX/jCF8r1EJAQBFge1dXV6YYbbsi77xdICp7HSDqew0gDnsdIOp7DSAOex3aNHz9e48ePz3svezZ1eyeffLJOPvnkkFeFtOEMLAAAAAAAAMRadekmAAAAAAAAQPkQYAEAAAAAACDWCLAAAAAAAAAQaxUdYN11110aOHCgunXrppEjR+qll14q2PY3v/mNhg0bpp122kk77rijhgwZov/6r//KaeM4jiZNmqTddttN3bt316hRo/T222+H/TBQwWw+h7du3aprrrlGBx98sHbccUf169dP48aN0wcffBDFQ0EFs/13cXsXXXSRqqqqNGPGjBBWDrjCeA7/85//1HHHHaeGhgbtuOOOGj58uN5///0wHwYqnO3n8fr16zV+/Hjtvvvu6t69uw488EDNnj077IeBCmfyPG5v7ty5qqqq0gknnJBzndd3QMw4FWru3LlO165dnXvvvdf5xz/+4VxwwQXOTjvt5KxatSpv+wULFji/+c1vnNdff9155513nBkzZjg1NTXOvHnz2tpMmTLFaWhocH772986//d//+ccd9xxzqBBg5zPPvssqoeFCmL7Obxu3Tpn1KhRziOPPOK88cYbzqJFi5wRI0Y4Q4cOjfJhocKE8Xdx1m9+8xvnkEMOcfr16+f89Kc/DfmRoFKF8Rx+5513nJ133tm56qqrnFdeecV55513nN/97ncFxwSCCuN5fMEFFzh77723s2DBAmfp0qXOf/7nfzo1NTXO7373u6geFiqM6fM4a+nSpU7//v2do446yjn++ONz7vH6DoiXig2wRowY4Xz/+99v+zqTyTj9+vVzJk+e7HmMQw891Lnuuuscx3Gc1tZWp2/fvs7tt9/edn/dunVOXV2d8//+3/+zt3BgG9vP4XxeeuklR5KzfPnyQGsFCgnrefyvf/3L6d+/v/Paa685e+65JwEWQhPGc/jUU091zjrrLKvrBIoJ43l80EEHOT/60Y9y2nzxi190/uM//iP4goE8/DyPW1panMMPP9z5+c9/7px99tk5ARav74D4qcgthFu2bNHLL7+sUaNGtV2rrq7WqFGjtGjRopL9HcfR/Pnz9eabb+rLX/6yJGnp0qVqbGzMGbOhoUEjR470NCZgIozncD5NTU2qqqrSTjvtZGPZQI6wnsetra0aO3asrrrqKh100EGhrB2QwnkOt7a26oknntB+++2n0aNHq3fv3ho5cqR++9vfhvUwUOHC+rv48MMP1+OPP66VK1fKcRwtWLBAb731lo455phQHgcqm9/n8Y9+9CP17t1b5513Xqd7vL4D4qe23AsohzVr1iiTyahPnz451/v06aM33nijYL+mpib1799fmzdvVk1Nje6++259/etflyQ1Nja2jdFxzOw9wJYwnsMdbdq0Sddcc41OP/101dfXW10/IIX3PJ46dapqa2t16aWXhrZ2QArnObx69WqtX79eU6ZM0Y9//GNNnTpV8+bN07//+79rwYIFOvroo0N9TKg8Yf1dPHPmTF144YXafffdVVtbq+rqas2ZM6fof5wBfvl5Hj///PP6xS9+oSVLluS9z+s7IH4qMsDy63Of+5yWLFmi9evXa/78+ZowYYL22msvfeUrXyn30gBPvD6Ht27dqlNOOUWO42jWrFnlWSxQQLHn8csvv6w77rhDr7zyiqqqqsq9VCCvYs/h1tZWSdLxxx+vK664QpI0ZMgQvfDCC5o9ezYBFmKj1M8UM2fO1IsvvqjHH39ce+65p/785z/r+9//vvr165dT0QKUw6effqqxY8dqzpw56tWrV7mXA8CjigywevXqpZqaGq1atSrn+qpVq9S3b9+C/aqrq7XPPvtIcn+Y/Oc//6nJkyfrK1/5Slu/VatWabfddssZc8iQIfYfBCpaGM/hrGx4tXz5cv3pT3+i+gqhCeN5/Nxzz2n16tXaY4892tpnMhldeeWVmjFjhpYtWxbKY0FlCuM53KtXL9XW1urAAw/M6XPAAQfo+eeft/8gUPHCeB5/9tln+uEPf6jHHntM3/rWtyRJgwcP1pIlSzRt2jQCLFhn+jx+9913tWzZMo0ZM6btWvY/EGpra/Xmm2/y+g6IoYo8A6tr164aOnSo5s+f33attbVV8+fP12GHHeZ5nNbWVm3evFmSNGjQIPXt2zdnzObmZv3lL38xGhPwIoznsLQ9vHr77bf17LPPapdddrG6bqC9MJ7HY8eO1d/+9jctWbKk7aNfv3666qqr9NRTT1l/DKhsYTyHu3btquHDh+vNN9/MafPWW29pzz33tLNwoJ0wnsdbt27V1q1bVV2d+1KjpqamLSQAbDJ9Hn/+85/X3//+95yfF4477jh99atf1ZIlSzRgwABe3wFxVMYD5Mtq7ty5Tl1dnXP//fc7r7/+unPhhRc6O+20k9PY2Og4juOMHTvWufbaa9va33rrrc7TTz/tvPvuu87rr7/uTJs2zamtrXXmzJnT1mbKlCnOTjvt5Pzud79z/va3vznHH388b7OK0Nh+Dm/ZssU57rjjnN13391ZsmSJ8+GHH7Z9bN68uSyPEekXxt/FHfEuhAhTGM/h3/zmN06XLl2ce+65x3n77bedmTNnOjU1Nc5zzz0X+eNDZQjjeXz00Uc7Bx10kLNgwQLnvffec+677z6nW7duzt133x3540NlMH0ed9TxXQgdh9d3QNxU5BZCSTr11FP10UcfadKkSWpsbNSQIUM0b968tkP63n///Zz/NdqwYYMuvvhi/etf/1L37t31+c9/Xr/85S916qmntrW5+uqrtWHDBl144YVat26djjzySM2bN0/dunWL/PEh/Ww/h1euXKnHH39ckjqVRS9YsICz3hCKMP4uBqIUxnP429/+tmbPnq3Jkyfr0ksv1f7776///u//1pFHHhn540NlCON5PHfuXE2cOFFnnnmm1q5dqz333FO33HKLLrroosgfHyqD6fPYC17fAfFS5TiOU+5FAAAAAAAAAIVU5BlYAAAAAAAASA4CLAAAAAAAAMQaARYAAAAAAABijQALAAAAAAAAsUaABQAAAAAAgFgjwAIAAAAAAECsEWABAAAAAAAg1giwAAAAAAAAEGsEWAAAAAAAAIg1AiwAANDJ2LFjdeuttwYaY968eRoyZIhaW1strQoAAACVigALAIAE+853vqMTTjjB6pj/93//pyeffFKXXnppoHG+8Y1vqEuXLnrooYcsrQwAAACVigALAADkmDlzpk4++WT16NEj8Fjf+c539LOf/czCqgAAAFDJCLAAAEiphQsXqmvXrnruuefart12223q3bu3Vq1albdPJpPRr3/9a40ZMybn+sCBA/XjH/9Y48aNU48ePbTnnnvq8ccf10cffaTjjz9ePXr00ODBg7V48eKcfmPGjNHixYv17rvv2n+AAAAAqBgEWAAApNRXvvIVXX755Ro7dqyampr06quv6vrrr9fPf/5z9enTJ2+fv/3tb2pqatKwYcM63fvpT3+qI444Qq+++qq+9a1vaezYsRo3bpzOOussvfLKK9p77701btw4OY7T1mePPfZQnz59ckI0AAAAwBQBFgAAKfbjH/9YPXv21IUXXqizzjpLZ599to477riC7ZcvX66amhr17t27071jjz1W3/3ud7Xvvvtq0qRJam5u1vDhw3XyySdrv/320zXXXKN//vOfnaq7+vXrp+XLl1t/bAAAAKgcBFgAAKRY165d9dBDD+m///u/tWnTJv30pz8t2v6zzz5TXV2dqqqqOt0bPHhw2+fZCq6DDz6407XVq1fn9Ovevbs2btzo+zEAAAAABFgAAKTcCy+8IElau3at1q5dW7Rtr169tHHjRm3ZsqXTvS5durR9ng248l1rbW3N6bd27Vrtuuuu/hYPAAAAiAALAIBUe/fdd3XFFVdozpw5GjlypM4+++xOAVN7Q4YMkSS9/vrrVubftGmT3n33XR166KFWxgMAAEBlIsACACDhmpqatGTJkpyPFStWKJPJ6KyzztLo0aN1zjnn6L777tPf/vY3/eQnPyk41q677qovfvGLev75562s7cUXX1RdXZ0OO+wwK+MBAACgMtWWewEAACCYhQsXdqpwOu+887THHnto+fLl+sMf/iBJ2m233XTPPffo9NNP1zHHHKNDDjkk73jnn3++HnzwQY0fPz7w2v7f//t/OvPMM7XDDjsEHgsAAACVq8pp/17XAACg4n322Wfaf//99cgjjwSqnFqzZo32339/LV68WIMGDbK4QgAAAFQathACAIAc3bt314MPPqg1a9YEGmfZsmW6++67Ca8AAAAQGBVYAAAAAAAAiDUqsAAAAAAAABBrBFgAAAAAAACINQIsAAAAAAAAxBoBFgAAAAAAAGKNAAsAAAAAAACxRoAFAAAAAACAWCPAAgAAAAAAQKwRYAEAAAAAACDWCLAAAAAAAAAQawRYAAAAAAAAiDUCLAAAAAAAAMQaARYAAAAAAABijQALAAAAAAAAsUaABQAAAAAAgFj7/8Z+JGhsVVkkAAAAAElFTkSuQmCC' width=1200.0/>\n",
       "            </div>\n",
       "        "
      ],
      "text/plain": [
       "Canvas(toolbar=Toolbar(toolitems=[('Home', 'Reset original view', 'home', 'home'), ('Back', 'Back to previous …"
      ]
     },
     "metadata": {},
     "output_type": "display_data"
    }
   ],
   "source": [
    "import matplotlib.pyplot as plt\n",
    "\n",
    "%matplotlib widget\n",
    "plt.rcParams[\"figure.figsize\"] = (12,4)\n",
    "\n",
    "\n",
    "for k in range(len(hs)) :\n",
    "    fig = plt.figure()\n",
    "    ax1 = fig.add_subplot(111)\n",
    "    img = ax1.imshow(nus[:,:,k].T,\n",
    "        extent=[Lxs[0], Lxs[-1] , Lys[0], Lys[-1]] ,\n",
    "        cmap=\"jet\" ,\n",
    "        interpolation = \"bilinear\",\n",
    "        aspect=\"auto\" ,\n",
    "        origin=\"lower\")\n",
    "\n",
    "    cbar = fig.colorbar(img,ax=ax1)\n",
    "    img.set_clim(0, 1)\n",
    "    cbar.set_label(r\"$\\nu$\")\n",
    "    ax1.set_ylabel(\"Ly (m)\")\n",
    "    ax1.set_xlabel(r\"Lx (m)\")\n",
    "    ax1.set_title(fr\"Epaisseur : {hs[k]*1e3} mm\")\n",
    "\n",
    "    fig.tight_layout()\n",
    "\n",
    "    plt.show()"
   ]
  },
  {
   "attachments": {},
   "cell_type": "markdown",
   "metadata": {},
   "source": [
    "**Rappel :** ces courbes sont pour le medium 1\n",
    "\n",
    "On voit alors que pour matcher avec des valeurs de $\\nu$ habituelles (de l'ordre de 0.3,0.5) tout en restant sur une hypothèse d'appuis simple, on peut ajuster les dimensions de notre plaque."
   ]
  },
  {
   "cell_type": "code",
   "execution_count": 45,
   "metadata": {},
   "outputs": [
    {
     "data": {
      "text/plain": [
       "(0.3081632653061225, 0.2426734693877551, 0.00295, 0.3977064767371278)"
      ]
     },
     "execution_count": 45,
     "metadata": {},
     "output_type": "execute_result"
    }
   ],
   "source": [
    "eps = 3e-3\n",
    "ps = np.argwhere(np.abs(nus-0.4) < eps)\n",
    "# print(ps)\n",
    "p = ps[2]\n",
    "q = ps[0]\n",
    "Lxs[p[0]], Lys[p[1]], hs[p[-1]], nus[p[0],p[1],p[-1]]"
   ]
  },
  {
   "attachments": {},
   "cell_type": "markdown",
   "metadata": {},
   "source": [
    "Par exemple, pour cette plaque m1, on ajuste de quelques centimètre les largeurs et longueurs et cela permet d'obtenir une valeur de $\\nu$ à 0.4. Cela permet de corriger en quelque sorte le modèle réel pour qu'il s'ajuste mieux à une description analytique par appuis simple."
   ]
  },
  {
   "attachments": {},
   "cell_type": "markdown",
   "metadata": {},
   "source": [
    "Désormais, on peut alors regarder avec ces modifications de dimensionnement si les rapports de fréquences sont plus adaptés par rapport à la réponse de table mesurée."
   ]
  },
  {
   "cell_type": "code",
   "execution_count": 40,
   "metadata": {},
   "outputs": [
    {
     "data": {
      "text/plain": [
       "[1.0, 2.148296940621798, 2.851703059378202, 4.0, 5.937874825008538]"
      ]
     },
     "execution_count": 40,
     "metadata": {},
     "output_type": "execute_result"
    }
   ],
   "source": [
    "Lx, Ly, h = Lxs[p[0]], Lys[p[1]], hs[p[-1]]\n",
    "nu = nus[p[0],p[1],p[-1]]"
   ]
  },
  {
   "cell_type": "code",
   "execution_count": 41,
   "metadata": {},
   "outputs": [],
   "source": [
    "## Calcul des modes\n",
    "def omega_pq (p,q) :    #Calcul analytique des pulsations propres d'une plaque en appuis simple\n",
    "    return np.sqrt(E*h**2/(12*rho*(1-nu**2))) * ((p*np.pi/Lx)**2+(q*np.pi/Ly)**2)\n",
    "\n",
    "wnB = np.zeros(9)\n",
    "NmB_idx = np.zeros((2,9))   #Cette liste permet de remonter du mode contracté \"i\" au mode réel (n_i,m_i) en appelant NmB_idx[:,i]\n",
    "j = 0\n",
    "for n in range(1,3+1) :\n",
    "    for m in range(1,3+1) :\n",
    "        wnB[j] = omega_pq(n,m)\n",
    "        NmB_idx[0,j] = n\n",
    "        NmB_idx[1,j] = m\n",
    "        j += 1\n",
    "\n",
    "### Tri par ordre de fréquences croissantes\n",
    "tri_idx = np.argsort(wnB)\n",
    "\n",
    "wnB = wnB[tri_idx]    #On range les pulsations par ordre croissant\n",
    "fnB = wnB/(2*np.pi)"
   ]
  },
  {
   "cell_type": "code",
   "execution_count": 44,
   "metadata": {},
   "outputs": [
    {
     "data": {
      "text/html": [
       "<div>\n",
       "<style scoped>\n",
       "    .dataframe tbody tr th:only-of-type {\n",
       "        vertical-align: middle;\n",
       "    }\n",
       "\n",
       "    .dataframe tbody tr th {\n",
       "        vertical-align: top;\n",
       "    }\n",
       "\n",
       "    .dataframe thead th {\n",
       "        text-align: right;\n",
       "    }\n",
       "</style>\n",
       "<table border=\"1\" class=\"dataframe\">\n",
       "  <thead>\n",
       "    <tr style=\"text-align: right;\">\n",
       "      <th></th>\n",
       "      <th>0</th>\n",
       "      <th>1</th>\n",
       "      <th>2</th>\n",
       "      <th>3</th>\n",
       "      <th>4</th>\n",
       "      <th>5</th>\n",
       "      <th>6</th>\n",
       "      <th>7</th>\n",
       "      <th>8</th>\n",
       "      <th>9</th>\n",
       "      <th>10</th>\n",
       "      <th>11</th>\n",
       "      <th>12</th>\n",
       "    </tr>\n",
       "  </thead>\n",
       "  <tbody>\n",
       "    <tr>\n",
       "      <th>table</th>\n",
       "      <td>Medium_1</td>\n",
       "      <td>Medium_1</td>\n",
       "      <td>Medium_1</td>\n",
       "      <td>Medium_1</td>\n",
       "      <td>Medium_1</td>\n",
       "      <td>Medium_1</td>\n",
       "      <td>Medium_1</td>\n",
       "      <td>Medium_1</td>\n",
       "      <td>Medium_1</td>\n",
       "      <td>Medium_1</td>\n",
       "      <td>Medium_1</td>\n",
       "      <td>Medium_1</td>\n",
       "      <td>Medium_1</td>\n",
       "    </tr>\n",
       "    <tr>\n",
       "      <th>freq</th>\n",
       "      <td>75</td>\n",
       "      <td>149</td>\n",
       "      <td>160</td>\n",
       "      <td>184</td>\n",
       "      <td>268</td>\n",
       "      <td>286</td>\n",
       "      <td>319</td>\n",
       "      <td>345</td>\n",
       "      <td>427</td>\n",
       "      <td>460</td>\n",
       "      <td>515</td>\n",
       "      <td>602</td>\n",
       "      <td>654</td>\n",
       "    </tr>\n",
       "    <tr>\n",
       "      <th>xi</th>\n",
       "      <td>-0.00026</td>\n",
       "      <td>-0.000179</td>\n",
       "      <td>-0.000337</td>\n",
       "      <td>-0.000808</td>\n",
       "      <td>-0.000549</td>\n",
       "      <td>-0.000603</td>\n",
       "      <td>-0.000752</td>\n",
       "      <td>-0.000908</td>\n",
       "      <td>-0.000219</td>\n",
       "      <td>-0.000758</td>\n",
       "      <td>-0.001235</td>\n",
       "      <td>-0.001077</td>\n",
       "      <td>-0.000958</td>\n",
       "    </tr>\n",
       "    <tr>\n",
       "      <th>ratios</th>\n",
       "      <td>1.0</td>\n",
       "      <td>1.986667</td>\n",
       "      <td>2.133333</td>\n",
       "      <td>2.453333</td>\n",
       "      <td>3.573333</td>\n",
       "      <td>3.813333</td>\n",
       "      <td>4.253333</td>\n",
       "      <td>4.6</td>\n",
       "      <td>5.693333</td>\n",
       "      <td>6.133333</td>\n",
       "      <td>6.866667</td>\n",
       "      <td>8.026667</td>\n",
       "      <td>8.72</td>\n",
       "    </tr>\n",
       "    <tr>\n",
       "      <th>xi_mod</th>\n",
       "      <td>-0.088747</td>\n",
       "      <td>-0.030742</td>\n",
       "      <td>-0.05392</td>\n",
       "      <td>-0.112417</td>\n",
       "      <td>-0.052442</td>\n",
       "      <td>-0.053975</td>\n",
       "      <td>-0.060349</td>\n",
       "      <td>-0.067376</td>\n",
       "      <td>-0.01313</td>\n",
       "      <td>-0.042184</td>\n",
       "      <td>-0.06139</td>\n",
       "      <td>-0.045799</td>\n",
       "      <td>-0.0375</td>\n",
       "    </tr>\n",
       "  </tbody>\n",
       "</table>\n",
       "</div>"
      ],
      "text/plain": [
       "              0         1         2         3         4         5         6   \\\n",
       "table   Medium_1  Medium_1  Medium_1  Medium_1  Medium_1  Medium_1  Medium_1   \n",
       "freq          75       149       160       184       268       286       319   \n",
       "xi      -0.00026 -0.000179 -0.000337 -0.000808 -0.000549 -0.000603 -0.000752   \n",
       "ratios       1.0  1.986667  2.133333  2.453333  3.573333  3.813333  4.253333   \n",
       "xi_mod -0.088747 -0.030742  -0.05392 -0.112417 -0.052442 -0.053975 -0.060349   \n",
       "\n",
       "              7         8         9         10        11        12  \n",
       "table   Medium_1  Medium_1  Medium_1  Medium_1  Medium_1  Medium_1  \n",
       "freq         345       427       460       515       602       654  \n",
       "xi     -0.000908 -0.000219 -0.000758 -0.001235 -0.001077 -0.000958  \n",
       "ratios       4.6  5.693333  6.133333  6.866667  8.026667      8.72  \n",
       "xi_mod -0.067376  -0.01313 -0.042184  -0.06139 -0.045799   -0.0375  "
      ]
     },
     "execution_count": 44,
     "metadata": {},
     "output_type": "execute_result"
    }
   ],
   "source": [
    "print(fnB)\n",
    "pd.DataFrame(modal_analysis_m1).T"
   ]
  },
  {
   "attachments": {},
   "cell_type": "markdown",
   "metadata": {},
   "source": [
    "En corrigeant sur la première fréquence, on retrouve évidemment la première fréquence puis il y a étonnement une bonne concordance sur le 2e (avec le 3e mesuré : qui est peut être dû à autre chose)."
   ]
  },
  {
   "attachments": {},
   "cell_type": "markdown",
   "metadata": {},
   "source": [
    "Mettons ce processus dans une fonction pour observer l'influence de cette correction sur les autres plaques."
   ]
  },
  {
   "cell_type": "code",
   "execution_count": 85,
   "metadata": {},
   "outputs": [],
   "source": [
    "def corr_dim_AS(modal_analysis, Lx_init, Ly_init, h_init, rho, E, delta_l, delta_h=0, Nh=1, mode_idx=0, plot=False, nu_cible = 0.4, eps=3e-3) :\n",
    "    \"\"\"\n",
    "    Prends une plaque d'entrée avec son analyse modale, retourne une plaque pour laquelle on corrige les dimensions pour approcher un appuis simple,\n",
    "    avec des valeurs de E et nu qui sont celles d'un constructeur.\n",
    "\n",
    "    ## Inputs (not optional)\n",
    "    - `modal_analysis` : dictionnaire contenant une clef [\"freq\"] avec les fréquences propres en Hz\n",
    "    - `Lx_init` : longueur réelle mesurée de la plaque (en m)\n",
    "    - `Lx_init` : largeur réelle mesurée de la plaque (en m)\n",
    "    - `h_init` : épaisseur réelle mesurée de la plaque (en m)\n",
    "    - `rho` : masse volumique du matériau (kg/m3)\n",
    "    - `E` : module d'Young du matériau (Pa)\n",
    "    - `delta_l` : corrections maximales à appliquer sur les longueurs et largeurs (en m)\n",
    "\n",
    "    ### Optional\n",
    "    - `delta_h` : correction maximale à appliquer sur l'épaisseur (en m) (0 par défaut : pas de correction d'épaisseur)\n",
    "    - `Nh` : nombre de test de correction d'epaisseur (1 par défaut)\n",
    "    - `mode_idx` : choix du mode pour accorder la plaque (premier mode de l'analyse modal par défaut)\n",
    "    - `plot` : si True, montre une cartographie des valeurs de nu en fonction des dimensions\n",
    "    - `nu_cible` : valeur de nu à viser pour établir la correction (0.4 par défaut)\n",
    "    - `eps` : tolérance pour comparer l'égalité entre 2 valeurs (3e-3 par défaut)\n",
    "\n",
    "    ## Outputs (dans l'ordre)\n",
    "    - `Lx_corr` : nouvelle longueur de plaque après correction\n",
    "    - `Ly_corr` : nouvelle largeur de plaque après correction\n",
    "    - `h_corr` : nouvelle épaisseur de plaque après correction\n",
    "    - `nu_corr` : nu réel le plus proche de la cible demandé\n",
    "    \"\"\"\n",
    "\n",
    "    Lys = np.linspace(Ly_init-delta_l, Ly_init+delta_l)\n",
    "    # Lys = np.insert(Lys, 0,Ly_init)\n",
    "    Lxs = np.linspace(Lx_init-delta_l, Lx_init+delta_l)\n",
    "    # Lxs = np.insert(Lxs, 0,Lx_init)\n",
    "    hs = np.linspace(h_init-delta_h, h_init+delta_h, Nh)\n",
    "    # hs = np.insert(hs, 0,h_init)\n",
    "    nus = np.zeros((len(Lxs),len(Lys), len(hs)))\n",
    "    for i in range(len(Lxs)) :\n",
    "        for j in range(len(Lys)) :\n",
    "            for k in range(len(hs)) :\n",
    "                Enu_AS_0 = Enu_AS(mode_idx, Lxs[i], Lys[j], hs[k], rho ,  modal_analysis=modal_analysis)\n",
    "                nu_cons0 = np.sqrt(1-E/Enu_AS_0)\n",
    "                nus[i,j,k] = nu_cons0\n",
    "    if plot :\n",
    "        for k in range(len(hs)) :\n",
    "            fig = plt.figure()\n",
    "            ax1 = fig.add_subplot(111)\n",
    "            img = ax1.imshow(nus[:,:,k].T,\n",
    "                extent=[Lxs[0], Lxs[-1] , Lys[0], Lys[-1]] ,\n",
    "                cmap=\"jet\" ,\n",
    "                interpolation = \"bilinear\",\n",
    "                aspect=\"auto\" ,\n",
    "                origin=\"lower\")\n",
    "\n",
    "            cbar = fig.colorbar(img,ax=ax1)\n",
    "            img.set_clim(0, 1)\n",
    "            cbar.set_label(r\"$\\nu$\")\n",
    "            ax1.set_ylabel(\"Ly (m)\")\n",
    "            ax1.set_xlabel(r\"Lx (m)\")\n",
    "            ax1.set_title(fr\"Epaisseur : {hs[k]*1e3:.2f} mm\")\n",
    "\n",
    "            fig.tight_layout()\n",
    "\n",
    "            plt.show()\n",
    "    #Détermination des correctoions nécessaires pour approcher une valeure classique de nu\n",
    "    ps = np.argwhere(np.abs(nus-nu_cible) < eps)\n",
    "\n",
    "    dico_init = {\n",
    "        \"Lx_init\" : [Lx_init],\n",
    "        \"Ly_init\" : [Ly_init],\n",
    "        \"h_init\" : [h_init],\n",
    "    }\n",
    "    print(pd.DataFrame(dico_init))\n",
    "    dico_corr = {\n",
    "        \"Lx_corr\" : Lxs[ps[:,0]],\n",
    "        \"Ly_corr\" : Lxs[ps[:,1]],\n",
    "        \"h_corr\" : hs[ps[:,2]],\n",
    "    }\n",
    "    print(pd.DataFrame(dico_corr))\n",
    "    \n",
    "    idx_choice = int(input(\"Choisir l'indice de la correction à appliqué :\"))\n",
    "\n",
    "    Lx_corr, Ly_corr, h_corr = Lxs[ps[idx_choice,0]], Lys[ps[idx_choice,1]], hs[ps[idx_choice,2]]\n",
    "    nu_corr = nus[ps[idx_choice,0],ps[idx_choice,1],ps[idx_choice,2]]\n",
    "\n",
    "    return Lx_corr, Ly_corr, h_corr, nu_corr"
   ]
  },
  {
   "cell_type": "code",
   "execution_count": 86,
   "metadata": {},
   "outputs": [],
   "source": [
    "def compute_AS_frequencies(Lx, Ly, h, nu, E, rho) :\n",
    "    \"\"\"\n",
    "    Calcul les modes d'une plaque simplement supportée pour une configuration donnée.\n",
    "\n",
    "    ## Outputs\n",
    "    - fnB : arrayLike, vecteur des fréquence propres (aplati)\n",
    "    - NmB_idx : arrayLike, matrice permettant de remonté au réel indice n,m du mode aplatit i en appelant NmB_idx[:,i]\n",
    "    \"\"\"\n",
    "    ## Calcul des modes\n",
    "    def omega_pq (p,q) :    #Calcul analytique des pulsations propres d'une plaque en appuis simple\n",
    "        return np.sqrt(E*h**2/(12*rho*(1-nu**2))) * ((p*np.pi/Lx)**2+(q*np.pi/Ly)**2)\n",
    "\n",
    "    wnB = np.zeros(9)\n",
    "    NmB_idx = np.zeros((2,9))   #Cette liste permet de remonter du mode contracté \"i\" au mode réel (n_i,m_i) en appelant NmB_idx[:,i]\n",
    "    j = 0\n",
    "    for n in range(1,3+1) :\n",
    "        for m in range(1,3+1) :\n",
    "            wnB[j] = omega_pq(n,m)\n",
    "            NmB_idx[0,j] = n\n",
    "            NmB_idx[1,j] = m\n",
    "            j += 1\n",
    "\n",
    "    ### Tri par ordre de fréquences croissantes\n",
    "    tri_idx = np.argsort(wnB)\n",
    "\n",
    "    wnB = wnB[tri_idx]    #On range les pulsations par ordre croissant\n",
    "    fnB = wnB/(2*np.pi)\n",
    "    return fnB, NmB_idx"
   ]
  },
  {
   "attachments": {},
   "cell_type": "markdown",
   "metadata": {},
   "source": [
    "## Plaque M2"
   ]
  },
  {
   "cell_type": "code",
   "execution_count": 105,
   "metadata": {},
   "outputs": [
    {
     "data": {
      "text/html": [
       "<div>\n",
       "<style scoped>\n",
       "    .dataframe tbody tr th:only-of-type {\n",
       "        vertical-align: middle;\n",
       "    }\n",
       "\n",
       "    .dataframe tbody tr th {\n",
       "        vertical-align: top;\n",
       "    }\n",
       "\n",
       "    .dataframe thead th {\n",
       "        text-align: right;\n",
       "    }\n",
       "</style>\n",
       "<table border=\"1\" class=\"dataframe\">\n",
       "  <thead>\n",
       "    <tr style=\"text-align: right;\">\n",
       "      <th></th>\n",
       "      <th>matériaux</th>\n",
       "      <th>rho (kg/m3)</th>\n",
       "      <th>E (GPa)</th>\n",
       "      <th>url</th>\n",
       "    </tr>\n",
       "  </thead>\n",
       "  <tbody>\n",
       "    <tr>\n",
       "      <th>0</th>\n",
       "      <td>Polypropylène</td>\n",
       "      <td>900</td>\n",
       "      <td>1.1</td>\n",
       "      <td>https://fr.wikipedia.org/wiki/Polypropyl%C3%A8ne</td>\n",
       "    </tr>\n",
       "    <tr>\n",
       "      <th>1</th>\n",
       "      <td>MDF</td>\n",
       "      <td>780</td>\n",
       "      <td>2.7</td>\n",
       "      <td>https://www.bigmat.fr/wp-content/uploads/2018/...</td>\n",
       "    </tr>\n",
       "    <tr>\n",
       "      <th>2</th>\n",
       "      <td>Duralumin-Alu</td>\n",
       "      <td>2670</td>\n",
       "      <td>70.0</td>\n",
       "      <td>https://www.metallservice.ch/msm/msm-home/serv...</td>\n",
       "    </tr>\n",
       "  </tbody>\n",
       "</table>\n",
       "</div>"
      ],
      "text/plain": [
       "       matériaux  rho (kg/m3)  E (GPa)  \\\n",
       "0  Polypropylène          900      1.1   \n",
       "1            MDF          780      2.7   \n",
       "2  Duralumin-Alu         2670     70.0   \n",
       "\n",
       "                                                 url  \n",
       "0   https://fr.wikipedia.org/wiki/Polypropyl%C3%A8ne  \n",
       "1  https://www.bigmat.fr/wp-content/uploads/2018/...  \n",
       "2  https://www.metallservice.ch/msm/msm-home/serv...  "
      ]
     },
     "execution_count": 105,
     "metadata": {},
     "output_type": "execute_result"
    }
   ],
   "source": [
    "pd.DataFrame(E_construc)"
   ]
  },
  {
   "cell_type": "code",
   "execution_count": 106,
   "metadata": {},
   "outputs": [
    {
     "name": "stderr",
     "output_type": "stream",
     "text": [
      "/var/folders/9z/kzhjdk9j47z0026s88r_0ssh0000gn/T/ipykernel_93129/2961342474.py:41: RuntimeWarning: invalid value encountered in sqrt\n",
      "  nu_cons0 = np.sqrt(1-E/Enu_AS_0)\n"
     ]
    },
    {
     "name": "stdout",
     "output_type": "stream",
     "text": [
      "   Lx_init  Ly_init   h_init\n",
      "0      0.4     0.26  0.00604\n",
      "    Lx_corr   Ly_corr    h_corr\n",
      "0  0.340816  0.385714  0.004707\n",
      "1  0.353061  0.381633  0.004707\n",
      "2  0.373469  0.475510  0.007373\n",
      "3  0.385714  0.467347  0.007373\n",
      "4  0.418367  0.451020  0.007373\n",
      "5  0.455102  0.438776  0.007373\n",
      "6  0.459184  0.361224  0.004707\n",
      "7  0.487755  0.430612  0.007373\n",
      "8  0.495918  0.500000  0.010040\n"
     ]
    }
   ],
   "source": [
    "Lx_corr, Ly_corr, h_corr, nu_corr = corr_dim_AS(modal_analysis_m2, 400e-3, 260e-3, 6.04e-3, 507e-3/400e-3/260e-3/6.04e-3, E_construc[\"E (GPa)\"][1]*1e9, 10e-2, delta_h=4e-3, Nh=4, plot=False)"
   ]
  },
  {
   "cell_type": "code",
   "execution_count": 107,
   "metadata": {},
   "outputs": [
    {
     "data": {
      "text/plain": [
       "(array([107.10948395, 167.64263593, 268.53122256, 367.90478382,\n",
       "        428.4379358 , 529.32652243, 802.56361694, 863.09676892,\n",
       "        963.98535555]),\n",
       " array([[1., 1., 1., 2., 2., 2., 3., 3., 3.],\n",
       "        [1., 2., 3., 1., 2., 3., 1., 2., 3.]]))"
      ]
     },
     "execution_count": 107,
     "metadata": {},
     "output_type": "execute_result"
    }
   ],
   "source": [
    "compute_AS_frequencies(Lx_corr,Ly_corr, h_corr, nu_corr, E, 507e-3/400e-3/260e-3/6.04e-3)"
   ]
  },
  {
   "cell_type": "code",
   "execution_count": 91,
   "metadata": {},
   "outputs": [
    {
     "data": {
      "text/html": [
       "<div>\n",
       "<style scoped>\n",
       "    .dataframe tbody tr th:only-of-type {\n",
       "        vertical-align: middle;\n",
       "    }\n",
       "\n",
       "    .dataframe tbody tr th {\n",
       "        vertical-align: top;\n",
       "    }\n",
       "\n",
       "    .dataframe thead th {\n",
       "        text-align: right;\n",
       "    }\n",
       "</style>\n",
       "<table border=\"1\" class=\"dataframe\">\n",
       "  <thead>\n",
       "    <tr style=\"text-align: right;\">\n",
       "      <th></th>\n",
       "      <th>0</th>\n",
       "      <th>1</th>\n",
       "      <th>2</th>\n",
       "      <th>3</th>\n",
       "      <th>4</th>\n",
       "      <th>5</th>\n",
       "      <th>6</th>\n",
       "      <th>7</th>\n",
       "      <th>8</th>\n",
       "      <th>9</th>\n",
       "      <th>10</th>\n",
       "      <th>11</th>\n",
       "      <th>12</th>\n",
       "      <th>13</th>\n",
       "      <th>14</th>\n",
       "      <th>15</th>\n",
       "    </tr>\n",
       "  </thead>\n",
       "  <tbody>\n",
       "    <tr>\n",
       "      <th>table</th>\n",
       "      <td>Medium_2</td>\n",
       "      <td>Medium_2</td>\n",
       "      <td>Medium_2</td>\n",
       "      <td>Medium_2</td>\n",
       "      <td>Medium_2</td>\n",
       "      <td>Medium_2</td>\n",
       "      <td>Medium_2</td>\n",
       "      <td>Medium_2</td>\n",
       "      <td>Medium_2</td>\n",
       "      <td>Medium_2</td>\n",
       "      <td>Medium_2</td>\n",
       "      <td>Medium_2</td>\n",
       "      <td>Medium_2</td>\n",
       "      <td>Medium_2</td>\n",
       "      <td>Medium_2</td>\n",
       "      <td>Medium_2</td>\n",
       "    </tr>\n",
       "    <tr>\n",
       "      <th>freq</th>\n",
       "      <td>107.109484</td>\n",
       "      <td>163.230958</td>\n",
       "      <td>190.083095</td>\n",
       "      <td>265.824204</td>\n",
       "      <td>413.324927</td>\n",
       "      <td>429.22436</td>\n",
       "      <td>460.312744</td>\n",
       "      <td>533.201989</td>\n",
       "      <td>604.013371</td>\n",
       "      <td>695.290919</td>\n",
       "      <td>759.978194</td>\n",
       "      <td>816.237921</td>\n",
       "      <td>872.904512</td>\n",
       "      <td>909.5429</td>\n",
       "      <td>1043.627614</td>\n",
       "      <td>1094.671593</td>\n",
       "    </tr>\n",
       "    <tr>\n",
       "      <th>xi</th>\n",
       "      <td>-0.000471</td>\n",
       "      <td>-0.001456</td>\n",
       "      <td>-0.000493</td>\n",
       "      <td>-0.000567</td>\n",
       "      <td>-0.002309</td>\n",
       "      <td>-0.00096</td>\n",
       "      <td>-0.000979</td>\n",
       "      <td>-0.000899</td>\n",
       "      <td>-0.0014</td>\n",
       "      <td>-0.000975</td>\n",
       "      <td>-0.001144</td>\n",
       "      <td>-0.002126</td>\n",
       "      <td>-0.002223</td>\n",
       "      <td>-0.001305</td>\n",
       "      <td>-0.0017</td>\n",
       "      <td>-0.00364</td>\n",
       "    </tr>\n",
       "    <tr>\n",
       "      <th>ratios</th>\n",
       "      <td>1.0</td>\n",
       "      <td>1.523964</td>\n",
       "      <td>1.774662</td>\n",
       "      <td>2.481799</td>\n",
       "      <td>3.858901</td>\n",
       "      <td>4.007342</td>\n",
       "      <td>4.297591</td>\n",
       "      <td>4.978102</td>\n",
       "      <td>5.639215</td>\n",
       "      <td>6.491404</td>\n",
       "      <td>7.09534</td>\n",
       "      <td>7.620594</td>\n",
       "      <td>8.149647</td>\n",
       "      <td>8.491712</td>\n",
       "      <td>9.743559</td>\n",
       "      <td>10.220118</td>\n",
       "    </tr>\n",
       "    <tr>\n",
       "      <th>xi_mod</th>\n",
       "      <td>-0.112532</td>\n",
       "      <td>-0.228424</td>\n",
       "      <td>-0.066335</td>\n",
       "      <td>-0.054624</td>\n",
       "      <td>-0.143033</td>\n",
       "      <td>-0.05725</td>\n",
       "      <td>-0.05447</td>\n",
       "      <td>-0.04318</td>\n",
       "      <td>-0.059321</td>\n",
       "      <td>-0.035913</td>\n",
       "      <td>-0.038542</td>\n",
       "      <td>-0.066675</td>\n",
       "      <td>-0.065191</td>\n",
       "      <td>-0.03673</td>\n",
       "      <td>-0.041708</td>\n",
       "      <td>-0.085118</td>\n",
       "    </tr>\n",
       "  </tbody>\n",
       "</table>\n",
       "</div>"
      ],
      "text/plain": [
       "                0           1           2           3           4          5   \\\n",
       "table     Medium_2    Medium_2    Medium_2    Medium_2    Medium_2   Medium_2   \n",
       "freq    107.109484  163.230958  190.083095  265.824204  413.324927  429.22436   \n",
       "xi       -0.000471   -0.001456   -0.000493   -0.000567   -0.002309   -0.00096   \n",
       "ratios         1.0    1.523964    1.774662    2.481799    3.858901   4.007342   \n",
       "xi_mod   -0.112532   -0.228424   -0.066335   -0.054624   -0.143033   -0.05725   \n",
       "\n",
       "                6           7           8           9           10  \\\n",
       "table     Medium_2    Medium_2    Medium_2    Medium_2    Medium_2   \n",
       "freq    460.312744  533.201989  604.013371  695.290919  759.978194   \n",
       "xi       -0.000979   -0.000899     -0.0014   -0.000975   -0.001144   \n",
       "ratios    4.297591    4.978102    5.639215    6.491404     7.09534   \n",
       "xi_mod    -0.05447    -0.04318   -0.059321   -0.035913   -0.038542   \n",
       "\n",
       "                11          12        13           14           15  \n",
       "table     Medium_2    Medium_2  Medium_2     Medium_2     Medium_2  \n",
       "freq    816.237921  872.904512  909.5429  1043.627614  1094.671593  \n",
       "xi       -0.002126   -0.002223 -0.001305      -0.0017     -0.00364  \n",
       "ratios    7.620594    8.149647  8.491712     9.743559    10.220118  \n",
       "xi_mod   -0.066675   -0.065191  -0.03673    -0.041708    -0.085118  "
      ]
     },
     "execution_count": 91,
     "metadata": {},
     "output_type": "execute_result"
    }
   ],
   "source": [
    "pd.DataFrame(modal_analysis_m2).T"
   ]
  },
  {
   "attachments": {},
   "cell_type": "markdown",
   "metadata": {},
   "source": [
    "Pour la plaque MDF2, la correction semble super efficace pour le modèle ! En effet, on approche les 2 premières fréquences propres beaucoup mieux, et à part quelques fréquences supplémentaires observées lors de l'analyse modale, on retrouve les fréquences dans chaque liste. Il semblerait que la correction à appliquer soit donc la suivante :"
   ]
  },
  {
   "cell_type": "code",
   "execution_count": 93,
   "metadata": {},
   "outputs": [
    {
     "name": "stdout",
     "output_type": "stream",
     "text": [
      "0.4591836734693878 0.22122448979591836 0.004706666666666666 0.3977126067216919 2700000000.0 772.2007722007722\n"
     ]
    }
   ],
   "source": [
    "print(Lx_corr, Ly_corr, h_corr, nu_corr, E, rho)"
   ]
  },
  {
   "attachments": {},
   "cell_type": "markdown",
   "metadata": {},
   "source": [
    "## Plaque aluminium"
   ]
  },
  {
   "cell_type": "code",
   "execution_count": 101,
   "metadata": {},
   "outputs": [
    {
     "name": "stderr",
     "output_type": "stream",
     "text": [
      "/var/folders/9z/kzhjdk9j47z0026s88r_0ssh0000gn/T/ipykernel_93129/2961342474.py:41: RuntimeWarning: invalid value encountered in sqrt\n",
      "  nu_cons0 = np.sqrt(1-E/Enu_AS_0)\n"
     ]
    },
    {
     "name": "stdout",
     "output_type": "stream",
     "text": [
      "   Lx_init  Ly_init   h_init\n",
      "0    0.395    0.255  0.00601\n",
      "     Lx_corr   Ly_corr    h_corr\n",
      "0   0.295000  0.352143  0.002010\n",
      "1   0.307245  0.348061  0.002010\n",
      "2   0.339898  0.339898  0.002010\n",
      "3   0.392959  0.331735  0.002010\n",
      "4   0.397041  0.490918  0.004677\n",
      "5   0.409286  0.482755  0.004677\n",
      "6   0.417449  0.478673  0.004677\n",
      "7   0.433776  0.327653  0.002010\n",
      "8   0.433776  0.470510  0.004677\n",
      "9   0.454184  0.462347  0.004677\n",
      "10  0.466429  0.458265  0.004677\n",
      "11  0.495000  0.450102  0.004677\n"
     ]
    }
   ],
   "source": [
    "Lx_corr, Ly_corr, h_corr, nu_corr = corr_dim_AS(modal_analysis_metal, 395e-3, 255e-3, 6.01e-3, 1588e-3/395e-3/255e-3/6.01e-3, E_construc[\"E (GPa)\"][2]*1e9, 10e-2, delta_h=4e-3, Nh=4, plot=False)"
   ]
  },
  {
   "cell_type": "code",
   "execution_count": 102,
   "metadata": {},
   "outputs": [
    {
     "name": "stdout",
     "output_type": "stream",
     "text": [
      "[ 173.          349.91021261  515.08978739  644.76056697  692.\n",
      "  986.85035436 1085.23943303 1262.14964564 1557.        ]\n"
     ]
    },
    {
     "data": {
      "text/html": [
       "<div>\n",
       "<style scoped>\n",
       "    .dataframe tbody tr th:only-of-type {\n",
       "        vertical-align: middle;\n",
       "    }\n",
       "\n",
       "    .dataframe tbody tr th {\n",
       "        vertical-align: top;\n",
       "    }\n",
       "\n",
       "    .dataframe thead th {\n",
       "        text-align: right;\n",
       "    }\n",
       "</style>\n",
       "<table border=\"1\" class=\"dataframe\">\n",
       "  <thead>\n",
       "    <tr style=\"text-align: right;\">\n",
       "      <th></th>\n",
       "      <th>0</th>\n",
       "      <th>1</th>\n",
       "      <th>2</th>\n",
       "      <th>3</th>\n",
       "      <th>4</th>\n",
       "      <th>5</th>\n",
       "      <th>6</th>\n",
       "      <th>7</th>\n",
       "      <th>8</th>\n",
       "      <th>9</th>\n",
       "      <th>10</th>\n",
       "      <th>11</th>\n",
       "      <th>12</th>\n",
       "    </tr>\n",
       "  </thead>\n",
       "  <tbody>\n",
       "    <tr>\n",
       "      <th>table</th>\n",
       "      <td>Metal</td>\n",
       "      <td>Metal</td>\n",
       "      <td>Metal</td>\n",
       "      <td>Metal</td>\n",
       "      <td>Metal</td>\n",
       "      <td>Metal</td>\n",
       "      <td>Metal</td>\n",
       "      <td>Metal</td>\n",
       "      <td>Metal</td>\n",
       "      <td>Metal</td>\n",
       "      <td>Metal</td>\n",
       "      <td>Metal</td>\n",
       "      <td>Metal</td>\n",
       "    </tr>\n",
       "    <tr>\n",
       "      <th>freq</th>\n",
       "      <td>173</td>\n",
       "      <td>345</td>\n",
       "      <td>378</td>\n",
       "      <td>506</td>\n",
       "      <td>606</td>\n",
       "      <td>711</td>\n",
       "      <td>776</td>\n",
       "      <td>842</td>\n",
       "      <td>889</td>\n",
       "      <td>967</td>\n",
       "      <td>1049</td>\n",
       "      <td>1097</td>\n",
       "      <td>1184</td>\n",
       "    </tr>\n",
       "    <tr>\n",
       "      <th>xi</th>\n",
       "      <td>-0.000429</td>\n",
       "      <td>-0.000814</td>\n",
       "      <td>-0.000775</td>\n",
       "      <td>-0.000819</td>\n",
       "      <td>-0.000982</td>\n",
       "      <td>-0.0006</td>\n",
       "      <td>-0.001486</td>\n",
       "      <td>-0.001408</td>\n",
       "      <td>-0.001427</td>\n",
       "      <td>-0.001286</td>\n",
       "      <td>-0.00196</td>\n",
       "      <td>-0.001712</td>\n",
       "      <td>-0.001862</td>\n",
       "    </tr>\n",
       "    <tr>\n",
       "      <th>ratios</th>\n",
       "      <td>1.0</td>\n",
       "      <td>1.99422</td>\n",
       "      <td>2.184971</td>\n",
       "      <td>2.924855</td>\n",
       "      <td>3.50289</td>\n",
       "      <td>4.109827</td>\n",
       "      <td>4.485549</td>\n",
       "      <td>4.867052</td>\n",
       "      <td>5.138728</td>\n",
       "      <td>5.589595</td>\n",
       "      <td>6.063584</td>\n",
       "      <td>6.34104</td>\n",
       "      <td>6.843931</td>\n",
       "    </tr>\n",
       "    <tr>\n",
       "      <th>xi_mod</th>\n",
       "      <td>-0.063436</td>\n",
       "      <td>-0.060403</td>\n",
       "      <td>-0.052469</td>\n",
       "      <td>-0.041436</td>\n",
       "      <td>-0.041484</td>\n",
       "      <td>-0.021603</td>\n",
       "      <td>-0.049023</td>\n",
       "      <td>-0.042809</td>\n",
       "      <td>-0.041092</td>\n",
       "      <td>-0.034045</td>\n",
       "      <td>-0.047832</td>\n",
       "      <td>-0.039952</td>\n",
       "      <td>-0.040259</td>\n",
       "    </tr>\n",
       "  </tbody>\n",
       "</table>\n",
       "</div>"
      ],
      "text/plain": [
       "              0         1         2         3         4         5         6   \\\n",
       "table      Metal     Metal     Metal     Metal     Metal     Metal     Metal   \n",
       "freq         173       345       378       506       606       711       776   \n",
       "xi     -0.000429 -0.000814 -0.000775 -0.000819 -0.000982   -0.0006 -0.001486   \n",
       "ratios       1.0   1.99422  2.184971  2.924855   3.50289  4.109827  4.485549   \n",
       "xi_mod -0.063436 -0.060403 -0.052469 -0.041436 -0.041484 -0.021603 -0.049023   \n",
       "\n",
       "              7         8         9         10        11        12  \n",
       "table      Metal     Metal     Metal     Metal     Metal     Metal  \n",
       "freq         842       889       967      1049      1097      1184  \n",
       "xi     -0.001408 -0.001427 -0.001286  -0.00196 -0.001712 -0.001862  \n",
       "ratios  4.867052  5.138728  5.589595  6.063584   6.34104  6.843931  \n",
       "xi_mod -0.042809 -0.041092 -0.034045 -0.047832 -0.039952 -0.040259  "
      ]
     },
     "execution_count": 102,
     "metadata": {},
     "output_type": "execute_result"
    }
   ],
   "source": [
    "fnB, Nmb_idx = compute_AS_frequencies(Lx_corr,Ly_corr, h_corr, nu_corr, E_construc[\"E (GPa)\"][2]*1e9, 1588e-3/395e-3/255e-3/6.01e-3)\n",
    "print(fnB)\n",
    "pd.DataFrame(modal_analysis_metal).T"
   ]
  },
  {
   "attachments": {},
   "cell_type": "markdown",
   "metadata": {},
   "source": [
    "## Plaque polypropylène"
   ]
  },
  {
   "cell_type": "code",
   "execution_count": 103,
   "metadata": {},
   "outputs": [
    {
     "name": "stderr",
     "output_type": "stream",
     "text": [
      "/var/folders/9z/kzhjdk9j47z0026s88r_0ssh0000gn/T/ipykernel_93129/2961342474.py:41: RuntimeWarning: invalid value encountered in sqrt\n",
      "  nu_cons0 = np.sqrt(1-E/Enu_AS_0)\n"
     ]
    },
    {
     "name": "stdout",
     "output_type": "stream",
     "text": [
      "   Lx_init  Ly_init   h_init\n",
      "0      0.4     0.26  0.00451\n",
      "     Lx_corr   Ly_corr    h_corr\n",
      "0   0.300000  0.451020  0.005843\n",
      "1   0.304082  0.446939  0.005843\n",
      "2   0.308163  0.442857  0.005843\n",
      "3   0.312245  0.438776  0.005843\n",
      "4   0.328571  0.426531  0.005843\n",
      "5   0.369388  0.316327  0.003177\n",
      "6   0.369388  0.406122  0.005843\n",
      "7   0.377551  0.500000  0.008510\n",
      "8   0.381633  0.402041  0.005843\n",
      "9   0.393878  0.397959  0.005843\n",
      "10  0.393878  0.487755  0.008510\n",
      "11  0.406122  0.479592  0.008510\n",
      "12  0.410204  0.393878  0.005843\n",
      "13  0.418367  0.312245  0.003177\n",
      "14  0.430612  0.467347  0.008510\n",
      "15  0.451020  0.385714  0.005843\n",
      "16  0.451020  0.459184  0.008510\n",
      "17  0.463265  0.455102  0.008510\n",
      "18  0.479592  0.381633  0.005843\n",
      "19  0.491837  0.308163  0.003177\n",
      "20  0.491837  0.446939  0.008510\n",
      "21  0.495918  0.308163  0.003177\n"
     ]
    }
   ],
   "source": [
    "Lx_corr, Ly_corr, h_corr, nu_corr = corr_dim_AS(modal_analysis_plexi, 400e-3, 260e-3, 4.51e-3, 382e-3/400e-3/260e-3/4.51e-3, E_construc[\"E (GPa)\"][0]*1e9, 10e-2, delta_h=4e-3, Nh=4, plot=False)"
   ]
  },
  {
   "cell_type": "code",
   "execution_count": 104,
   "metadata": {},
   "outputs": [
    {
     "name": "stdout",
     "output_type": "stream",
     "text": [
      "[ 72.09741278 103.44591513 155.69341904 257.04114877 288.38965112\n",
      " 340.63715503 565.28070876 596.62921111 648.87671502]\n"
     ]
    },
    {
     "data": {
      "text/html": [
       "<div>\n",
       "<style scoped>\n",
       "    .dataframe tbody tr th:only-of-type {\n",
       "        vertical-align: middle;\n",
       "    }\n",
       "\n",
       "    .dataframe tbody tr th {\n",
       "        vertical-align: top;\n",
       "    }\n",
       "\n",
       "    .dataframe thead th {\n",
       "        text-align: right;\n",
       "    }\n",
       "</style>\n",
       "<table border=\"1\" class=\"dataframe\">\n",
       "  <thead>\n",
       "    <tr style=\"text-align: right;\">\n",
       "      <th></th>\n",
       "      <th>0</th>\n",
       "      <th>1</th>\n",
       "      <th>2</th>\n",
       "      <th>3</th>\n",
       "      <th>4</th>\n",
       "      <th>5</th>\n",
       "      <th>6</th>\n",
       "      <th>7</th>\n",
       "      <th>8</th>\n",
       "      <th>9</th>\n",
       "      <th>10</th>\n",
       "      <th>11</th>\n",
       "      <th>12</th>\n",
       "      <th>13</th>\n",
       "      <th>14</th>\n",
       "      <th>15</th>\n",
       "      <th>16</th>\n",
       "    </tr>\n",
       "  </thead>\n",
       "  <tbody>\n",
       "    <tr>\n",
       "      <th>table</th>\n",
       "      <td>Plexi</td>\n",
       "      <td>Plexi</td>\n",
       "      <td>Plexi</td>\n",
       "      <td>Plexi</td>\n",
       "      <td>Plexi</td>\n",
       "      <td>Plexi</td>\n",
       "      <td>Plexi</td>\n",
       "      <td>Plexi</td>\n",
       "      <td>Plexi</td>\n",
       "      <td>Plexi</td>\n",
       "      <td>Plexi</td>\n",
       "      <td>Plexi</td>\n",
       "      <td>Plexi</td>\n",
       "      <td>Plexi</td>\n",
       "      <td>Plexi</td>\n",
       "      <td>Plexi</td>\n",
       "      <td>Plexi</td>\n",
       "    </tr>\n",
       "    <tr>\n",
       "      <th>freq</th>\n",
       "      <td>72.097413</td>\n",
       "      <td>142.142158</td>\n",
       "      <td>156.590101</td>\n",
       "      <td>236.72695</td>\n",
       "      <td>248.253002</td>\n",
       "      <td>294.943587</td>\n",
       "      <td>337.500398</td>\n",
       "      <td>402.021668</td>\n",
       "      <td>444.456305</td>\n",
       "      <td>480.0</td>\n",
       "      <td>496.899323</td>\n",
       "      <td>545.1771</td>\n",
       "      <td>561.253466</td>\n",
       "      <td>587.926653</td>\n",
       "      <td>652.493822</td>\n",
       "      <td>667.709243</td>\n",
       "      <td>691.521475</td>\n",
       "    </tr>\n",
       "    <tr>\n",
       "      <th>xi</th>\n",
       "      <td>-0.000201</td>\n",
       "      <td>-0.00021</td>\n",
       "      <td>-0.00045</td>\n",
       "      <td>-0.000356</td>\n",
       "      <td>-0.000392</td>\n",
       "      <td>-0.000153</td>\n",
       "      <td>-0.000507</td>\n",
       "      <td>-0.000319</td>\n",
       "      <td>-0.000362</td>\n",
       "      <td>-0.000275</td>\n",
       "      <td>-0.000584</td>\n",
       "      <td>-0.000823</td>\n",
       "      <td>-0.000755</td>\n",
       "      <td>-0.000377</td>\n",
       "      <td>-0.000542</td>\n",
       "      <td>-0.003401</td>\n",
       "      <td>-0.000542</td>\n",
       "    </tr>\n",
       "    <tr>\n",
       "      <th>ratios</th>\n",
       "      <td>1.0</td>\n",
       "      <td>1.971529</td>\n",
       "      <td>2.171924</td>\n",
       "      <td>3.283432</td>\n",
       "      <td>3.4433</td>\n",
       "      <td>4.090904</td>\n",
       "      <td>4.681172</td>\n",
       "      <td>5.57609</td>\n",
       "      <td>6.164664</td>\n",
       "      <td>6.657659</td>\n",
       "      <td>6.892055</td>\n",
       "      <td>7.561674</td>\n",
       "      <td>7.784655</td>\n",
       "      <td>8.154615</td>\n",
       "      <td>9.05017</td>\n",
       "      <td>9.261209</td>\n",
       "      <td>9.591488</td>\n",
       "    </tr>\n",
       "    <tr>\n",
       "      <th>xi_mod</th>\n",
       "      <td>-0.071505</td>\n",
       "      <td>-0.037908</td>\n",
       "      <td>-0.073574</td>\n",
       "      <td>-0.038456</td>\n",
       "      <td>-0.040453</td>\n",
       "      <td>-0.013247</td>\n",
       "      <td>-0.03843</td>\n",
       "      <td>-0.020312</td>\n",
       "      <td>-0.020856</td>\n",
       "      <td>-0.014682</td>\n",
       "      <td>-0.030071</td>\n",
       "      <td>-0.038635</td>\n",
       "      <td>-0.034432</td>\n",
       "      <td>-0.016427</td>\n",
       "      <td>-0.021269</td>\n",
       "      <td>-0.130382</td>\n",
       "      <td>-0.020069</td>\n",
       "    </tr>\n",
       "  </tbody>\n",
       "</table>\n",
       "</div>"
      ],
      "text/plain": [
       "               0           1           2          3           4           5   \\\n",
       "table       Plexi       Plexi       Plexi      Plexi       Plexi       Plexi   \n",
       "freq    72.097413  142.142158  156.590101  236.72695  248.253002  294.943587   \n",
       "xi      -0.000201    -0.00021    -0.00045  -0.000356   -0.000392   -0.000153   \n",
       "ratios        1.0    1.971529    2.171924   3.283432      3.4433    4.090904   \n",
       "xi_mod  -0.071505   -0.037908   -0.073574  -0.038456   -0.040453   -0.013247   \n",
       "\n",
       "                6           7           8         9           10        11  \\\n",
       "table        Plexi       Plexi       Plexi     Plexi       Plexi     Plexi   \n",
       "freq    337.500398  402.021668  444.456305     480.0  496.899323  545.1771   \n",
       "xi       -0.000507   -0.000319   -0.000362 -0.000275   -0.000584 -0.000823   \n",
       "ratios    4.681172     5.57609    6.164664  6.657659    6.892055  7.561674   \n",
       "xi_mod    -0.03843   -0.020312   -0.020856 -0.014682   -0.030071 -0.038635   \n",
       "\n",
       "                12          13          14          15          16  \n",
       "table        Plexi       Plexi       Plexi       Plexi       Plexi  \n",
       "freq    561.253466  587.926653  652.493822  667.709243  691.521475  \n",
       "xi       -0.000755   -0.000377   -0.000542   -0.003401   -0.000542  \n",
       "ratios    7.784655    8.154615     9.05017    9.261209    9.591488  \n",
       "xi_mod   -0.034432   -0.016427   -0.021269   -0.130382   -0.020069  "
      ]
     },
     "execution_count": 104,
     "metadata": {},
     "output_type": "execute_result"
    }
   ],
   "source": [
    "fnB, Nmb_idx = compute_AS_frequencies(Lx_corr,Ly_corr, h_corr, nu_corr, E_construc[\"E (GPa)\"][0]*1e9, 382e-3/400e-3/260e-3/4.51e-3)\n",
    "print(fnB)\n",
    "pd.DataFrame(modal_analysis_plexi).T"
   ]
  },
  {
   "attachments": {},
   "cell_type": "markdown",
   "metadata": {},
   "source": [
    "# Encastrement"
   ]
  },
  {
   "cell_type": "code",
   "execution_count": 206,
   "metadata": {},
   "outputs": [],
   "source": [
    "Nmx = 7\n",
    "Nmy = 7\n",
    "\n",
    "Gx_Nmx = np.arange(2,Nmx+2)-1/2\n",
    "Gx_Nmx[0] = 1.506\n",
    "\n",
    "Hx_Nmx = (np.arange(2,Nmx+2)-1/2)**2*(1-2/((np.arange(2,Nmx+2)-1/2)*np.pi))\n",
    "Hx_Nmx[0] = 1.248\n",
    "\n",
    "Jx_Nmx = Hx_Nmx\n",
    "\n",
    "Gy_Nmy = np.arange(2,Nmy+2)-1/2\n",
    "Gy_Nmy[0] = 1.506\n",
    "\n",
    "Hy_Nmy = (np.arange(2,Nmy+2)-1/2)**2*(1-2/((np.arange(2,Nmy+2)-1/2)*np.pi))\n",
    "Hy_Nmy[0] = 1.248\n",
    "\n",
    "Jy_Nmy = Hy_Nmy"
   ]
  },
  {
   "cell_type": "code",
   "execution_count": 197,
   "metadata": {},
   "outputs": [],
   "source": [
    "D = E*h**3/(12*(1-nu**2))\n",
    "#Formule de l'article qui ne va pas pour l'appuis simple : \n",
    "w2_Nmx_Nmy = np.pi**4*D/(Lx**4*rho*h) * (Gx_Nmx[:,np.newaxis]**4 + Gy_Nmy[np.newaxis,:]**4*(Lx/Ly)**4 + 2*(Lx/Ly)**2 * (nu*Hx_Nmx[:,np.newaxis]*Hy_Nmy[np.newaxis,:] + (1-nu)*Jx_Nmx[:,np.newaxis]*Jy_Nmy[np.newaxis,:]))\n",
    "# Formule corrigée pour retomber sur ces pattes lors d'un AS, mais jsp si ca convient pr un encastré\n",
    "# w2_Nmx_Nmy = np.pi**4*D/(Lx**2*rho*h) * (Gx_Nmx[:,np.newaxis]**4 + Gy_Nmy[np.newaxis,:]**4*(Lx/Ly)**4 + 2*(Lx/Ly)**2 * (nu*Hx_Nmx[:,np.newaxis]*Hy_Nmy[np.newaxis,:] + (1-nu)*Jx_Nmx[:,np.newaxis]*Jy_Nmy[np.newaxis,:]))\n",
    "w_Nmx_Nmy = np.sqrt(w2_Nmx_Nmy)\n",
    "f_Nmx_Nmy = w_Nmx_Nmy/2/np.pi"
   ]
  },
  {
   "cell_type": "code",
   "execution_count": 198,
   "metadata": {},
   "outputs": [
    {
     "name": "stdout",
     "output_type": "stream",
     "text": [
      "0.00395 0.30271658528000406 2700000000.0 0.3061224489795919 0.1610408163265306 772.2007722007722\n"
     ]
    }
   ],
   "source": [
    "print(h, nu, E, Lx, Ly, rho)"
   ]
  },
  {
   "cell_type": "code",
   "execution_count": 199,
   "metadata": {},
   "outputs": [
    {
     "data": {
      "text/plain": [
       "array([ 342.79331078,  456.5707481 ,  657.69787607,  885.16640798,\n",
       "        996.32793615, 1184.34128916, 1699.86771274, 1812.34249303,\n",
       "       1996.72461865])"
      ]
     },
     "execution_count": 199,
     "metadata": {},
     "output_type": "execute_result"
    }
   ],
   "source": [
    "f_NmB = f_Nmx_Nmy.reshape(-1)\n",
    "p = np.argsort(f_NmB)\n",
    "f_NmB = f_NmB[p]\n",
    "f_NmB"
   ]
  },
  {
   "cell_type": "code",
   "execution_count": 193,
   "metadata": {},
   "outputs": [
    {
     "data": {
      "text/plain": [
       "array([1.        , 1.33191265, 1.91864268, 2.58221611, 2.9064976 ,\n",
       "       3.454972  , 4.95887072, 5.28698325, 5.82486459])"
      ]
     },
     "execution_count": 193,
     "metadata": {},
     "output_type": "execute_result"
    }
   ],
   "source": [
    "f_NmB/f_NmB[0]"
   ]
  },
  {
   "cell_type": "code",
   "execution_count": 207,
   "metadata": {},
   "outputs": [],
   "source": [
    "def Enu_clamped (mode_idx, Lx, Ly, h, rho, modal_analysis) :\n",
    "    n, m = NmB_idx[:,mode_idx]\n",
    "    n,m = int(n), int(m)\n",
    "    fnm = modal_analysis[\"freq\"][mode_idx]\n",
    "    Anm = (Gx_Nmx[n]**4 + Gy_Nmy[m]**4*(Lx/Ly)**4 + 2*(Lx/Ly)**2 * Jx_Nmx[n]*Jy_Nmy[m])\n",
    "    I = h**2*np.pi**2/12/rho\n",
    "    Enu = (2*np.pi*fnm)**2/Lx**4/I/Anm\n",
    "    return Enu"
   ]
  },
  {
   "cell_type": "code",
   "execution_count": 208,
   "metadata": {},
   "outputs": [
    {
     "name": "stdout",
     "output_type": "stream",
     "text": [
      "Masse volumique : 2623.2 (kg/m3)\n",
      "E constructeur : 70.0 (GPa)\n",
      "================================================\n",
      "Pour un appuis simple :\n",
      "\n",
      "E/(1-nu^2) calculé sur f11, f21, f12 : 11642991020384.63 15122609606097.875 7337313314895.2705\n",
      "E/(1-nu^2) moyenné sur les 2 premiers : 13382800313241.254\n",
      "nu sachant E constructeur : 0.9969893676432778 0.9976829001612351\n"
     ]
    }
   ],
   "source": [
    "#Metal (qui est enfait un alliage aluminium-duralumin)\n",
    "Lx=395e-3\n",
    "Ly=255e-3\n",
    "h=6.01e-3\n",
    "rho=1588e-3/Lx/Ly/h\n",
    "print(f\"Masse volumique : {rho:.1f} (kg/m3)\")\n",
    "\n",
    "E = E_construc[\"E (GPa)\"][2]*1e9\n",
    "print(f\"E constructeur : {E*1e-9} (GPa)\")\n",
    "\n",
    "Enu_AS_0 = Enu_clamped(0, Lx, Ly, h, rho ,  modal_analysis=modal_analysis_metal)\n",
    "Enu_AS_1 = Enu_clamped(1, Lx, Ly, h, rho ,  modal_analysis=modal_analysis_metal)\n",
    "Enu_AS_2 = Enu_clamped(2, Lx, Ly, h, rho ,  modal_analysis=modal_analysis_metal)\n",
    "\n",
    "print(\"================================================\\nPour un appuis simple :\\n\")\n",
    "\n",
    "print(\"E/(1-nu^2) calculé sur f11, f21, f12 :\", Enu_AS_0, Enu_AS_1, Enu_AS_2)\n",
    "print(\"E/(1-nu^2) moyenné sur les 2 premiers :\", np.mean([Enu_AS_0, Enu_AS_1]))\n",
    "# print(E/Enu_AS_0)\n",
    "nu_cons0 = np.sqrt(1-E/Enu_AS_0)\n",
    "nu_cons1 = np.sqrt(1-E/Enu_AS_1)\n",
    "print(\"nu sachant E constructeur :\", nu_cons0, nu_cons1)"
   ]
  },
  {
   "cell_type": "code",
   "execution_count": 209,
   "metadata": {},
   "outputs": [
    {
     "name": "stdout",
     "output_type": "stream",
     "text": [
      "Masse volumique : 814.4 (kg/m3)\n",
      "E constructeur : 1.1 (GPa)\n",
      "================================================\n",
      "Pour un appuis simple :\n",
      "\n",
      "E/(1-nu^2) calculé sur f11, f21, f12 : 6230807723368.518 8118267364311.232 3944354635948.0117\n",
      "E/(1-nu^2) moyenné sur les 2 premiers : 7174537543839.875\n",
      "nu sachant E constructeur : 0.9999117250441509 0.99993224925869\n"
     ]
    }
   ],
   "source": [
    "#Polypropylène\n",
    "Lx=400e-3\n",
    "Ly=260e-3\n",
    "h=4.51e-3\n",
    "rho=382e-3/Lx/Ly/h\n",
    "print(f\"Masse volumique : {rho:.1f} (kg/m3)\")\n",
    "\n",
    "E = E_construc[\"E (GPa)\"][0]*1e9\n",
    "print(f\"E constructeur : {E*1e-9} (GPa)\")\n",
    "\n",
    "Enu_AS_0 = Enu_clamped(0, Lx, Ly, h, rho ,  modal_analysis=modal_analysis_plexi)\n",
    "Enu_AS_1 = Enu_clamped(1, Lx, Ly, h, rho ,  modal_analysis=modal_analysis_plexi)\n",
    "Enu_AS_2 = Enu_clamped(2, Lx, Ly, h, rho ,  modal_analysis=modal_analysis_plexi)\n",
    "\n",
    "print(\"================================================\\nPour un appuis simple :\\n\")\n",
    "\n",
    "print(\"E/(1-nu^2) calculé sur f11, f21, f12 :\", Enu_AS_0, Enu_AS_1, Enu_AS_2)\n",
    "print(\"E/(1-nu^2) moyenné sur les 2 premiers :\", np.mean([Enu_AS_0, Enu_AS_1]))\n",
    "nu_cons0 = np.sqrt(1-E/Enu_AS_0)\n",
    "nu_cons1 = np.sqrt(1-E/Enu_AS_1)\n",
    "print(\"nu sachant E constructeur :\", nu_cons0, nu_cons1)"
   ]
  },
  {
   "cell_type": "code",
   "execution_count": 210,
   "metadata": {},
   "outputs": [
    {
     "name": "stdout",
     "output_type": "stream",
     "text": [
      "Masse volumique : 807.1 (kg/m3)\n",
      "E constructeur : 2.7 (GPa)\n",
      "================================================\n",
      "Pour un appuis simple :\n",
      "\n",
      "E/(1-nu^2) calculé sur f11, f21, f12 : 7272543777.119565 2992272870.2732553 791316088.273878\n",
      "E/(1-nu^2) moyenné sur les 2 premiers : 5132408323.69641\n",
      "nu sachant E constructeur : 0.7929316697460834 0.31253139811816416\n"
     ]
    }
   ],
   "source": [
    "#MDF2\n",
    "Lx=400e-3\n",
    "Ly=260e-3\n",
    "h=6.04e-3\n",
    "rho=507e-3/Lx/Ly/h\n",
    "print(f\"Masse volumique : {rho:.1f} (kg/m3)\")\n",
    "\n",
    "E = E_construc[\"E (GPa)\"][1]*1e9\n",
    "print(f\"E constructeur : {E*1e-9} (GPa)\")\n",
    "\n",
    "Enu_AS_0 = Enu_AS(0, Lx, Ly, h, rho ,  modal_analysis=modal_analysis_m2)\n",
    "Enu_AS_1 = Enu_AS(1, Lx, Ly, h, rho ,  modal_analysis=modal_analysis_m2)\n",
    "Enu_AS_2 = Enu_AS(2, Lx, Ly, h, rho ,  modal_analysis=modal_analysis_m2)\n",
    "\n",
    "print(\"================================================\\nPour un appuis simple :\\n\")\n",
    "\n",
    "print(\"E/(1-nu^2) calculé sur f11, f21, f12 :\", Enu_AS_0, Enu_AS_1, Enu_AS_2)\n",
    "print(\"E/(1-nu^2) moyenné sur les 2 premiers :\", np.mean([Enu_AS_0, Enu_AS_1]))\n",
    "nu_cons0 = np.sqrt(1-E/Enu_AS_0)\n",
    "nu_cons1 = np.sqrt(1-E/Enu_AS_1)\n",
    "print(\"nu sachant E constructeur :\", nu_cons0, nu_cons1)"
   ]
  },
  {
   "cell_type": "code",
   "execution_count": 211,
   "metadata": {},
   "outputs": [
    {
     "name": "stdout",
     "output_type": "stream",
     "text": [
      "Masse volumique : 772.2 (kg/m3)\n",
      "E constructeur : 2.7 (GPa)\n",
      "================================================\n",
      "Pour un appuis simple :\n",
      "\n",
      "E/(1-nu^2) calculé sur f11, f21, f12 : 28853421717.07133 11834953842.649645 3127354574.2134757\n",
      "E/(1-nu^2) moyenné sur les 2 premiers : 20344187779.86049\n",
      "nu sachant E constructeur : 0.9520628008946148 0.8785569008988662\n"
     ]
    }
   ],
   "source": [
    "#MDF1\n",
    "Lx=400e-3\n",
    "Ly=259e-3\n",
    "h=2.95e-3\n",
    "rho=236e-3/Lx/Ly/h\n",
    "print(f\"Masse volumique : {rho:.1f} (kg/m3)\")\n",
    "\n",
    "E = E_construc[\"E (GPa)\"][1]*1e9\n",
    "print(f\"E constructeur : {E*1e-9} (GPa)\")\n",
    "\n",
    "Enu_AS_0 = Enu_AS(0, Lx, Ly, h, rho ,  modal_analysis=modal_analysis_m1)\n",
    "Enu_AS_1 = Enu_AS(1, Lx, Ly, h, rho ,  modal_analysis=modal_analysis_m1)\n",
    "Enu_AS_2 = Enu_AS(2, Lx, Ly, h, rho ,  modal_analysis=modal_analysis_m1)\n",
    "\n",
    "print(\"================================================\\nPour un appuis simple :\\n\")\n",
    "\n",
    "print(\"E/(1-nu^2) calculé sur f11, f21, f12 :\", Enu_AS_0, Enu_AS_1, Enu_AS_2)\n",
    "print(\"E/(1-nu^2) moyenné sur les 2 premiers :\", np.mean([Enu_AS_0, Enu_AS_1]))\n",
    "nu_cons0 = np.sqrt(1-E/Enu_AS_0)\n",
    "nu_cons1 = np.sqrt(1-E/Enu_AS_1)\n",
    "print(\"nu sachant E constructeur :\", nu_cons0, nu_cons1)"
   ]
  },
  {
   "cell_type": "code",
   "execution_count": null,
   "metadata": {},
   "outputs": [],
   "source": []
  }
 ],
 "metadata": {
  "kernelspec": {
   "display_name": "Python 3.10.7 64-bit",
   "language": "python",
   "name": "python3"
  },
  "language_info": {
   "codemirror_mode": {
    "name": "ipython",
    "version": 3
   },
   "file_extension": ".py",
   "mimetype": "text/x-python",
   "name": "python",
   "nbconvert_exporter": "python",
   "pygments_lexer": "ipython3",
   "version": "3.10.7"
  },
  "orig_nbformat": 4,
  "vscode": {
   "interpreter": {
    "hash": "aee8b7b246df8f9039afb4144a1f6fd8d2ca17a180786b69acc140d282b71a49"
   }
  }
 },
 "nbformat": 4,
 "nbformat_minor": 2
}
