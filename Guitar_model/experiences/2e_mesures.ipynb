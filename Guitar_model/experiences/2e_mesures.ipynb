{
 "cells": [
  {
   "cell_type": "code",
   "execution_count": 1,
   "metadata": {},
   "outputs": [
    {
     "name": "stderr",
     "output_type": "stream",
     "text": [
      "/usr/local/lib/python3.9/site-packages/scipy/io/matlab/_mio.py:227: MatReadWarning: Duplicate variable name \"None\" in stream - replacing previous with new\n",
      "Consider mio5.varmats_from_mat to split file into single variable files\n",
      "  matfile_dict = MR.get_variables(variable_names)\n"
     ]
    }
   ],
   "source": [
    "import numpy as np\n",
    "import matplotlib.pyplot as plt\n",
    "from scipy.io import wavfile\n",
    "\n",
    "import sys\n",
    "sys.path.append(\"../\")\n",
    "import mymodule2 as mm\n",
    "from exp_guitare_configs import *\n",
    "\n",
    "from data_loader import *\n",
    "\n",
    "%matplotlib widget\n",
    "\n",
    "# plt.rc('text', usetex=True)\n",
    "# plt.rc('font', family='serif')\n",
    "plt.rcParams[\"figure.figsize\"] = (12,4)"
   ]
  },
  {
   "cell_type": "code",
   "execution_count": 3,
   "metadata": {},
   "outputs": [
    {
     "data": {
      "text/plain": [
       "{'mat_table': 'Metal',\n",
       " 'pos': 'pos 1',\n",
       " 'acc': array([1.1224834 , 1.09806847, 1.08808055, ..., 1.23678965, 1.02926277,\n",
       "        1.07143401]),\n",
       " 'fs': 51200,\n",
       " 'temps': array([0.00000000e+00, 1.95312500e-05, 3.90625000e-05, ...,\n",
       "        4.99994141e+00, 4.99996094e+00, 4.99998047e+00]),\n",
       " 'mar': array([-0.00732938, -0.0028235 , -0.00390237, ...,  0.00107949,\n",
       "        -0.00047536,  0.00196797]),\n",
       " 'FRF': array([444.21885587  +0.j        ,  56.24355362-167.81856495j,\n",
       "          6.13733125 -92.26578155j, ..., 375.29820045 +58.24782043j,\n",
       "        497.84103665+120.27247067j, 446.78179365 +57.54509961j]),\n",
       " 'freq': array([0.00000000e+00, 1.95312500e-01, 3.90625000e-01, ...,\n",
       "        2.55994141e+04, 2.55996094e+04, 2.55998047e+04])}"
      ]
     },
     "execution_count": 3,
     "metadata": {},
     "output_type": "execute_result"
    }
   ],
   "source": [
    "deforme_Nta_Npos[0,0]"
   ]
  },
  {
   "cell_type": "code",
   "execution_count": null,
   "metadata": {},
   "outputs": [],
   "source": []
  }
 ],
 "metadata": {
  "kernelspec": {
   "display_name": "Python 3",
   "language": "python",
   "name": "python3"
  },
  "language_info": {
   "codemirror_mode": {
    "name": "ipython",
    "version": 3
   },
   "file_extension": ".py",
   "mimetype": "text/x-python",
   "name": "python",
   "nbconvert_exporter": "python",
   "pygments_lexer": "ipython3",
   "version": "3.9.13"
  },
  "orig_nbformat": 4,
  "vscode": {
   "interpreter": {
    "hash": "397704579725e15f5c7cb49fe5f0341eb7531c82d19f2c29d197e8b64ab5776b"
   }
  }
 },
 "nbformat": 4,
 "nbformat_minor": 2
}
