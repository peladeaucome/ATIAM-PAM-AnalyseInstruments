{
 "cells": [
  {
   "cell_type": "code",
   "execution_count": 18,
   "metadata": {},
   "outputs": [],
   "source": [
    "import utils as u\n",
    "import numpy as np\n",
    "import pickle\n",
    "import matplotlib.pyplot as plt\n",
    "with open('modal_plexi.pkl', 'rb') as f:\n",
    "    modal_analysis_plexi = pickle.load(f)\n",
    "\n",
    "with open('modal_m2.pkl', 'rb') as f:\n",
    "    modal_analysis_m2 = pickle.load(f)\n",
    "\n",
    "with open('modal_m1.pkl', 'rb') as f:\n",
    "    modal_analysis_m1 = pickle.load(f)\n",
    "\n",
    "with open('modal_metal.pkl', 'rb') as f:\n",
    "    modal_analysis_metal = pickle.load(f)"
   ]
  },
  {
   "cell_type": "code",
   "execution_count": 12,
   "metadata": {},
   "outputs": [],
   "source": [
    "Lx = 0.40\n",
    "Ly = 0.26\n",
    "\n",
    "\n",
    "h_metal = 6.01e-3\n",
    "E_nu_metal = 7291666666\n",
    "masse_metal = 1588e-3\n",
    "rho_metal = masse_metal / (Lx * Ly * h_metal)\n",
    "\n",
    "h_m2 = 6.04e-3 \n",
    "E_nu_m2 = 7291666666\n",
    "masse_m2 = 507e-3\n",
    "rho_m2 =masse_m2 / (Lx * Ly * h_m2)\n",
    "\n",
    "h_m1 = 2.95e-3 \n",
    "E_nu_m1 = 7291666666\n",
    "masse_m1 = 236e-3\n",
    "rho_m1 = masse_m1 / (Lx * Ly * h_m1)\n",
    "\n",
    "h_plexi = 4.51e-3\n",
    "E_nu_plexi = 7291666666 \n",
    "masse_plexi = 382e-3\n",
    "rho_plexi = masse_plexi / (Lx * Ly * h_plexi)"
   ]
  },
  {
   "cell_type": "code",
   "execution_count": 19,
   "metadata": {},
   "outputs": [],
   "source": [
    "def omega_pq (p,q,h,E_nu,rho,Lx,Ly) :    #Calcul analytique des pulsations propres d'une plaque en appuis simple\n",
    "    return np.sqrt(E_nu*h**2/(12*rho)) * ((p*np.pi/Lx)**2+(q*np.pi/Ly)**2)\n",
    "\n",
    "def phi_pq (p,q,x,y, Lx, Ly) :  #Calcul analytique des déformées des modes d'une plaque en appuis simple\n",
    "    \"\"\"\n",
    "    ## Inputs\n",
    "    - p : numéro du mode selon x\n",
    "    - q : numéro du mode selon y\n",
    "    - x : arrayLike, vecteur des abscisses\n",
    "    - y : arrayLike, vecteur des ordonnées\n",
    "\n",
    "    ## Outputs\n",
    "    - phi_pq : arrayLike, size (Nx,Ny), déformée du mode (p,q) en tous les points (x,y) du maillage\n",
    "    \"\"\"\n",
    "    return np.sin(p*np.pi*x[:,np.newaxis]/Lx)*np.sin(q*np.pi*y[np.newaxis,:]/Ly)\n",
    "\n",
    "def mode_plaque(Lx,Ly,h,E_nu,rhoT):\n",
    "    NB, MB = 3, 3 #Nombre de modes selon x, y\n",
    "    NmB = NB * MB   #Nombre de modes total considéré dans le modèle de plaque\n",
    "\n",
    "    dx, dy = 10e-3, 10e-3\n",
    "    x, y = np.arange(0,Lx,dx), np.arange(0,Ly,dy)\n",
    "    Nx, Ny = len(x), len(y)\n",
    "    X_plate, Y_plate = np.meshgrid(x, y)\n",
    "    X_ravel, Y_ravel = np.ravel(X_plate), np.ravel(Y_plate)\n",
    "\n",
    "    ## Calcul des modes\n",
    "\n",
    "    wnB = np.zeros(NmB)\n",
    "    NmB_idx = np.zeros((2,NmB))   #Cette liste permet de remonter du mode contracté \"i\" au mode réel (n_i,m_i) en appelant NmB_idx[:,i]\n",
    "    j = 0\n",
    "    for n in range(1,NB+1) :\n",
    "        for m in range(1,MB+1) :\n",
    "            wnB[j] = omega_pq(n,m, h, E_nu,rhoT,Lx,Ly)\n",
    "            NmB_idx[0,j] = n\n",
    "            NmB_idx[1,j] = m\n",
    "            j += 1\n",
    "\n",
    "    ### Tri par ordre de fréquences croissantes\n",
    "    tri_idx = np.argsort(wnB)\n",
    "\n",
    "    wnB = wnB[tri_idx]    #On range les pulsations par ordre croissant \n",
    "    NmB_idx = NmB_idx[:,tri_idx]      #On ordonne les modes par ordre croissant\n",
    "\n",
    "    ### Déformées\n",
    "\n",
    "    phiB_NxNy_NmB = np.zeros((Nx*Ny,NmB)) #Matrice des déformées avec les 2 dimensions spatiales applaties en 1 dimension\n",
    "    for mode in range (NmB) :\n",
    "        n, m = NmB_idx[0,mode], NmB_idx[1,mode]\n",
    "        phiB_NxNy_NmB[:,mode] = phi_pq(n, m , x, y, Lx, Ly).ravel()\n",
    "\n",
    "    return(wnB/2/np.pi,phiB_NxNy_NmB,Nx,Ny)\n",
    "\n",
    "##phiB_NxNy_NmB[:,j],(Nx,Ny)"
   ]
  },
  {
   "cell_type": "code",
   "execution_count": 27,
   "metadata": {},
   "outputs": [],
   "source": [
    "f,phiB_NxNy_NmB,Nx,Ny = mode_plaque(Lx,Ly,h_m1,E_nu_m1,rho_m1)"
   ]
  },
  {
   "cell_type": "code",
   "execution_count": 28,
   "metadata": {},
   "outputs": [
    {
     "data": {
      "image/png": "[encoded data removed]",
      "text/plain": [
       "<Figure size 1000x500 with 5 Axes>"
      ]
     },
     "metadata": {},
     "output_type": "display_data"
    }
   ],
   "source": [
    "fig, ax = plt.subplots(1,5,figsize = (10,5))\n",
    "for i in range(5):\n",
    "    ax[i].imshow(np.reshape(phiB_NxNy_NmB[:,i],(Nx,Ny)))\n",
    "plt.show()"
   ]
  },
  {
   "cell_type": "code",
   "execution_count": 17,
   "metadata": {},
   "outputs": [
    {
     "data": {
      "text/plain": [
       "(array([ 86.66463829, 163.88602952, 269.43716191, 292.58834824,\n",
       "        346.65855314, 475.36087186, 574.05803462, 651.27942585,\n",
       "        779.98174457]),\n",
       " array([[ 0.        ,  0.        ,  0.        , ...,  0.        ,\n",
       "          0.        ,  0.        ],\n",
       "        [ 0.        ,  0.        ,  0.        , ...,  0.        ,\n",
       "          0.        ,  0.        ],\n",
       "        [ 0.        ,  0.        ,  0.        , ...,  0.        ,\n",
       "          0.        ,  0.        ],\n",
       "        ...,\n",
       "        [ 0.02782198, -0.05547243, -0.052028  , ...,  0.06947208,\n",
       "         -0.13851584,  0.2067056 ],\n",
       "        [ 0.01877649, -0.03743722, -0.03646176, ...,  0.052028  ,\n",
       "         -0.10373524,  0.15480291],\n",
       "        [ 0.0094572 , -0.01885609, -0.01877649, ...,  0.02782198,\n",
       "         -0.05547243,  0.08278087]]))"
      ]
     },
     "execution_count": 17,
     "metadata": {},
     "output_type": "execute_result"
    }
   ],
   "source": []
  },
  {
   "cell_type": "code",
   "execution_count": 16,
   "metadata": {},
   "outputs": [
    {
     "data": {
      "text/plain": [
       "{'table': 'Medium_1',\n",
       " 'freq': array([ 75, 149, 160, 184, 268, 286, 319, 345, 427, 460, 515, 602, 654]),\n",
       " 'xi': array([-0.00026   , -0.00017893, -0.000337  , -0.000808  , -0.000549  ,\n",
       "        -0.000603  , -0.000752  , -0.000908  , -0.000219  , -0.000758  ,\n",
       "        -0.001235  , -0.001077  , -0.000958  ]),\n",
       " 'ratios': array([1.        , 1.98666667, 2.13333333, 2.45333333, 3.57333333,\n",
       "        3.81333333, 4.25333333, 4.6       , 5.69333333, 6.13333333,\n",
       "        6.86666667, 8.02666667, 8.72      ]),\n",
       " 'xi_mod': array([-0.08874667, -0.03074233, -0.05392   , -0.11241739, -0.05244179,\n",
       "        -0.05397483, -0.06034859, -0.06737623, -0.01312974, -0.04218435,\n",
       "        -0.06139029, -0.04579934, -0.03749969])}"
      ]
     },
     "execution_count": 16,
     "metadata": {},
     "output_type": "execute_result"
    }
   ],
   "source": [
    "modal_analysis_m1"
   ]
  },
  {
   "cell_type": "code",
   "execution_count": null,
   "metadata": {},
   "outputs": [],
   "source": []
  }
 ],
 "metadata": {
  "kernelspec": {
   "display_name": "Python 3.10.7 64-bit",
   "language": "python",
   "name": "python3"
  },
  "language_info": {
   "codemirror_mode": {
    "name": "ipython",
    "version": 3
   },
   "file_extension": ".py",
   "mimetype": "text/x-python",
   "name": "python",
   "nbconvert_exporter": "python",
   "pygments_lexer": "ipython3",
   "version": "3.10.7"
  },
  "orig_nbformat": 4,
  "vscode": {
   "interpreter": {
    "hash": "aee8b7b246df8f9039afb4144a1f6fd8d2ca17a180786b69acc140d282b71a49"
   }
  }
 },
 "nbformat": 4,
 "nbformat_minor": 2
}
