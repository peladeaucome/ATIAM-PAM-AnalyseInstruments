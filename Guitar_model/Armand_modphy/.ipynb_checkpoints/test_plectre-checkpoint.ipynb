{
 "cells": [
  {
   "cell_type": "code",
   "execution_count": 4,
   "id": "b7de07b3-f303-426c-aa3b-9fdf024cef6f",
   "metadata": {},
   "outputs": [
    {
     "ename": "ModuleNotFoundError",
     "evalue": "No module named 'plectre_parameters'",
     "output_type": "error",
     "traceback": [
      "\u001b[1;31m---------------------------------------------------------------------------\u001b[0m",
      "\u001b[1;31mModuleNotFoundError\u001b[0m                       Traceback (most recent call last)",
      "Input \u001b[1;32mIn [4]\u001b[0m, in \u001b[0;36m<cell line: 2>\u001b[1;34m()\u001b[0m\n\u001b[0;32m      1\u001b[0m \u001b[38;5;28;01mfrom\u001b[39;00m \u001b[38;5;21;01mplectre\u001b[39;00m \u001b[38;5;28;01mimport\u001b[39;00m \u001b[38;5;241m*\u001b[39m\n\u001b[1;32m----> 2\u001b[0m \u001b[38;5;28;01mfrom\u001b[39;00m \u001b[38;5;21;01mplectre_parameters\u001b[39;00m \u001b[38;5;28;01mimport\u001b[39;00m \u001b[38;5;241m*\u001b[39m\n\u001b[0;32m      3\u001b[0m \u001b[38;5;28;01mimport\u001b[39;00m \u001b[38;5;21;01mmatplotlib\u001b[39;00m\u001b[38;5;21;01m.\u001b[39;00m\u001b[38;5;21;01mpyplot\u001b[39;00m \u001b[38;5;28;01mas\u001b[39;00m \u001b[38;5;21;01mplt\u001b[39;00m\n",
      "\u001b[1;31mModuleNotFoundError\u001b[0m: No module named 'plectre_parameters'"
     ]
    }
   ],
   "source": [
    "from plectre_parameters import *\n",
    "from plectre import *\n",
    "import matplotlib.pyplot as plt"
   ]
  },
  {
   "cell_type": "code",
   "execution_count": 2,
   "id": "7057a3dd-2e72-4b62-9b19-9b7f00ceac77",
   "metadata": {},
   "outputs": [
    {
     "name": "stdout",
     "output_type": "stream",
     "text": [
      "0.4382750149164335\n",
      "0.0007791867495436414\n"
     ]
    }
   ],
   "source": [
    "Fe=40000\n",
    "duree = 1\n",
    "\n",
    "Z,alpha = parameters(T_corde, rho_l_corde, L_plectre, E_plectre, I_plectre)\n",
    "print(Z)\n",
    "print(alpha)"
   ]
  },
  {
   "cell_type": "code",
   "execution_count": 9,
   "id": "b75f20a2-f349-4caf-a830-e54184fd5c36",
   "metadata": {},
   "outputs": [],
   "source": [
    "temps, D = deplacement_main_linear(duree, Fe, slope=slope)"
   ]
  },
  {
   "cell_type": "code",
   "execution_count": 10,
   "id": "ff88335a-4c0a-4a1a-a9de-4a231889ad85",
   "metadata": {},
   "outputs": [
    {
     "ename": "TypeError",
     "evalue": "g() missing 1 required positional argument: 't'",
     "output_type": "error",
     "traceback": [
      "\u001b[1;31m---------------------------------------------------------------------------\u001b[0m",
      "\u001b[1;31mTypeError\u001b[0m                                 Traceback (most recent call last)",
      "Input \u001b[1;32mIn [10]\u001b[0m, in \u001b[0;36m<cell line: 1>\u001b[1;34m()\u001b[0m\n\u001b[1;32m----> 1\u001b[0m derivee \u001b[38;5;241m=\u001b[39m derivation(temps, \u001b[43mg\u001b[49m\u001b[43m(\u001b[49m\u001b[43mslope\u001b[49m\u001b[38;5;241;43m=\u001b[39;49m\u001b[43mslope\u001b[49m\u001b[43m)\u001b[49m)\n",
      "\u001b[1;31mTypeError\u001b[0m: g() missing 1 required positional argument: 't'"
     ]
    }
   ],
   "source": [
    "derivee = derivation(temps, g(slope=slope))"
   ]
  },
  {
   "cell_type": "code",
   "execution_count": null,
   "id": "53d059d0-de72-48f9-8cb7-0e80181a9ec8",
   "metadata": {},
   "outputs": [],
   "source": []
  },
  {
   "cell_type": "code",
   "execution_count": 5,
   "id": "0c6c8ff1-8d92-472f-a89c-088f39b918cb",
   "metadata": {},
   "outputs": [
    {
     "name": "stdout",
     "output_type": "stream",
     "text": [
      "La froce de relâchement est de 0.18749249999999998N\n",
      "Relâchement de la corde à 2.500062501562539e-05s\n"
     ]
    }
   ],
   "source": [
    "F, t_rel= force(temps, Z, alpha, f, L_plectre)"
   ]
  },
  {
   "cell_type": "code",
   "execution_count": 6,
   "id": "9bc111a6-3b96-4dba-939e-815e48d4dee1",
   "metadata": {},
   "outputs": [
    {
     "data": {
      "text/plain": [
       "[<matplotlib.lines.Line2D at 0x1737fc5e160>]"
      ]
     },
     "execution_count": 6,
     "metadata": {},
     "output_type": "execute_result"
    },
    {
     "data": {
      "image/png": "[encoded data removed]",
      "text/plain": [
       "<Figure size 432x288 with 1 Axes>"
      ]
     },
     "metadata": {
      "needs_background": "light"
     },
     "output_type": "display_data"
    }
   ],
   "source": [
    "plt.figure()\n",
    "plt.plot(temps[:int(t_rel*Fe)*2],F[:int(t_rel*Fe)*2])"
   ]
  },
  {
   "cell_type": "code",
   "execution_count": 45,
   "id": "51b2d4c7-ce08-4567-a05c-de1525bda841",
   "metadata": {},
   "outputs": [
    {
     "data": {
      "text/plain": [
       "[<matplotlib.lines.Line2D at 0x2235927aa00>]"
      ]
     },
     "execution_count": 45,
     "metadata": {},
     "output_type": "execute_result"
    },
    {
     "data": {
      "image/png": "[encoded data removed]",
      "text/plain": [
       "<Figure size 432x288 with 1 Axes>"
      ]
     },
     "metadata": {
      "needs_background": "light"
     },
     "output_type": "display_data"
    },
    {
     "data": {
      "image/png": "[encoded data removed]",
      "text/plain": [
       "<Figure size 432x288 with 1 Axes>"
      ]
     },
     "metadata": {
      "needs_background": "light"
     },
     "output_type": "display_data"
    }
   ],
   "source": [
    "plt.figure()\n",
    "plt.plot(temps[:int(t_rel*Fe)*2],D[:int(t_rel*Fe)*2])\n",
    "plt.figure()\n",
    "plt.plot(temps[:int(t_rel*Fe)*2],derivee[:int(t_rel*Fe)*2])"
   ]
  },
  {
   "cell_type": "code",
   "execution_count": null,
   "id": "06fc3153-4213-4c02-af78-6decaddbb947",
   "metadata": {},
   "outputs": [],
   "source": []
  }
 ],
 "metadata": {
  "kernelspec": {
   "display_name": "Python 3 (ipykernel)",
   "language": "python",
   "name": "python3"
  },
  "language_info": {
   "codemirror_mode": {
    "name": "ipython",
    "version": 3
   },
   "file_extension": ".py",
   "mimetype": "text/x-python",
   "name": "python",
   "nbconvert_exporter": "python",
   "pygments_lexer": "ipython3",
   "version": "3.9.1"
  }
 },
 "nbformat": 4,
 "nbformat_minor": 5
}
