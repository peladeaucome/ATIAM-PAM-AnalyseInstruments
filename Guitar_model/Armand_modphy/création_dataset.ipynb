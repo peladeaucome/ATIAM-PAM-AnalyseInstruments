{
 "cells": [
  {
   "cell_type": "code",
   "execution_count": 3,
   "metadata": {},
   "outputs": [],
   "source": [
    "import fonction as f\n",
    "import numpy as np\n",
    "import os \n",
    "import sys\n"
   ]
  },
  {
   "cell_type": "code",
   "execution_count": 4,
   "metadata": {},
   "outputs": [],
   "source": [
    "masse_volumique = [3.61 * 10**(-3), 50 * 10**(-3), 80 * 10 **(-3)] #pour 2 classes\n",
    "E = # pour 2 classes\n",
    "L = \n",
    "r =\n",
    "\n",
    "\n",
    "rho_l = masse_volumique /  (np.pi * r**2)\n",
    "\n",
    "I = #moment d'inertie de la corde\n"
   ]
  },
  {
   "cell_type": "code",
   "execution_count": null,
   "metadata": {},
   "outputs": [],
   "source": [
    "def creer_son(mettre_Tous_les_params):\n",
    "\n",
    "    Fe = 40000\n",
    "    MS,CS,KS, phiS_Nx_NmS,NmS,xS = f.corde(mettre_param_corde)\n",
    "    MB_mod,CB_mod,KB_mod,phiB_NxNy_NmB_mod,NmB_mod,x,y= f.plaque_model(mettre_param_corde)\n",
    "\n",
    "    t,FextS_NxS_Nt = f.Simu_config(xS, Fe, T=3)\n",
    "\n",
    "    M_mod,K_mod,C_mod = f.créer_matrice(MS,MB_mod,KS,KB_mod,CS,CB_mod)\n",
    "\n",
    "    W_mod_a2,Z_mod_a2 = f.UK_params(M_mod,NmS, NmB_mod, phiS_Nx_NmS, phiB_NxNy_NmB_mod, article = False, model = True, mode = 'A2',x = x, y = y)\n",
    "\n",
    "    Q, F = f.lounch_simu_article(t,FextS_NxS_Nt,phiS_Nx_NmS,NmS,NmB_mod,M_mod,C_mod,K_mod,Z_mod_a2,W_mod_a2)\n",
    "\n",
    "    FS = F[:NmS,:]\n",
    "    FB = F[NmS:,:]\n",
    "    FS_NxS_Nt = phiS_Nx_NmS @ FS\n",
    "    FB_NxNy_Nt = phiB_NxNy_NmB_mod @ FB\n",
    "    #display(Audio(FS_NxS_Nt[-1,:], rate=Fe))\n",
    "    ### save FS_NxS_Nt[-1,:]\n",
    "\n",
    "\n"
   ]
  }
 ],
 "metadata": {
  "kernelspec": {
   "display_name": "Python 3.10.7 64-bit",
   "language": "python",
   "name": "python3"
  },
  "language_info": {
   "codemirror_mode": {
    "name": "ipython",
    "version": 3
   },
   "file_extension": ".py",
   "mimetype": "text/x-python",
   "name": "python",
   "nbconvert_exporter": "python",
   "pygments_lexer": "ipython3",
   "version": "3.10.9 (main, Jan 18 2023, 18:56:11) [Clang 12.0.0 (clang-1200.0.32.27)]"
  },
  "orig_nbformat": 4,
  "vscode": {
   "interpreter": {
    "hash": "aee8b7b246df8f9039afb4144a1f6fd8d2ca17a180786b69acc140d282b71a49"
   }
  }
 },
 "nbformat": 4,
 "nbformat_minor": 2
}
