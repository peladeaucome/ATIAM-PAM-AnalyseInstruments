{
 "cells": [
  {
   "cell_type": "code",
   "execution_count": 1,
   "metadata": {},
   "outputs": [],
   "source": [
    "import fonction as f\n",
    "import numpy as np\n",
    "import os \n",
    "from IPython.display import display, Audio\n",
    "import time as time"
   ]
  },
  {
   "cell_type": "code",
   "execution_count": 11,
   "metadata": {},
   "outputs": [],
   "source": [
    "from scipy.io.wavfile import write"
   ]
  },
  {
   "cell_type": "code",
   "execution_count": 2,
   "metadata": {},
   "outputs": [],
   "source": [
    "import matplotlib.pyplot as plt"
   ]
  },
  {
   "cell_type": "code",
   "execution_count": 3,
   "metadata": {},
   "outputs": [],
   "source": [
    "from pyDOE import lhs\n",
    "\n",
    "def latin_hypercube_sample(n, dim, bounds):\n",
    "    \"\"\"\n",
    "    Generate a Latin Hypercube sample of size n in dim dimensions, with bounds on each dimension.\n",
    "    :param n: Number of samples to generate.\n",
    "    :param dim: Number of dimensions.\n",
    "    :param bounds: List of tuples specifying the lower and upper bounds for each dimension.\n",
    "    \"\"\"\n",
    "    # Normalize the bounds\n",
    "    normalized_bounds = [(b[0] - (b[1] - b[0]) / 2, (b[1] - b[0]) / 2) for b in bounds]\n",
    "\n",
    "    # Generate the Latin Hypercube sample\n",
    "    samples = lhs(dim, samples=n, criterion='center')\n",
    "\n",
    "    # Scale and translate the samples to the correct bounds\n",
    "    for i in range(dim):\n",
    "        samples[:, i] = samples[:, i] * normalized_bounds[i][1] + normalized_bounds[i][0]\n",
    "\n",
    "    return samples\n"
   ]
  },
  {
   "cell_type": "code",
   "execution_count": 12,
   "metadata": {},
   "outputs": [],
   "source": [
    "N_point = 10\n",
    "\n",
    "##corde article: \n",
    "\n",
    "T_min = 73.9 - 2\n",
    "T_max = 73.9 + 2\n",
    "\n",
    "rho_l_min = (3.61 - 0.12) * 10**(-3)\n",
    "rho_l_max = (3.61 + 0.12) * 10**(-3)\n",
    "\n",
    "Lc_min = 0.65 - 0.02\n",
    "Lc_max = 0.65 + 0.02 \n",
    "\n",
    "r_min = (0.40 - 0.02) * 10e-4\n",
    "r_max = (0.40 + 0.02) * 10e-4\n",
    "\n",
    "masseC_min = rho_l_min * Lc_min\n",
    "masseC_max = rho_l_max * Lc_max\n",
    "\n",
    "I_min =  masseC_min * r_min **2 / 2\n",
    "I_max = masseC_max * r_max **2 / 2\n",
    "\n",
    "B_min =  (4 - 0.3) * 10**(-5) \n",
    "B_max =  (4 + 0.3) *10**(-5)\n",
    "\n",
    "E_corde_min = B_min / I_min\n",
    "E_corde_max = B_max / I_max\n",
    "\n",
    "#table composite :\n",
    "\n",
    "masseT_min = (236e-3 - 0.03)\n",
    "masseT_max = (236e-3 + 0.03)\n",
    "\n",
    "L_xmin = 0.40 + 0.02\n",
    "L_xmax = 0.40 + 0.02\n",
    "\n",
    "L_ymin = 0.259 - 0.02 #largeur de la table (m)\n",
    "L_ymax= 0.259 + 0.02\n",
    "\n",
    "h_min = 2.8e-3 - 0.1e-3\n",
    "h_max = 2.8e-3 + 0.1e-3\n",
    "\n",
    "rhoT_min = masseT_min / (L_xmax * L_ymax * h_max)  #masse volumique composite\n",
    "rhoT_max = masseT_max / (L_ymin * h_min * L_xmin)  #masse volumique composite\n",
    "\n",
    "nu_min = 0.2 - 0.03\n",
    "nu_max = 0.2 + 0.03\n",
    "\n",
    "ET_min = 7e9 - 0.05e-9\n",
    "ET_max = 7e9 + 0.05e-9\n"
   ]
  },
  {
   "cell_type": "code",
   "execution_count": 13,
   "metadata": {},
   "outputs": [],
   "source": [
    "bounds = [(T_min,T_max),(rho_l_min,rho_l_max),(Lc_min,Lc_max), ( E_corde_min,E_corde_max),(I_min,I_max),(h_min,h_max),(nu_min,nu_max),\n",
    "           (ET_min,ET_max),(rhoT_min,rhoT_max),(L_xmin,L_xmax),(L_ymin,L_ymax)]\n",
    "\n",
    "XXX = latin_hypercube_sample(N_point,11,bounds)"
   ]
  },
  {
   "cell_type": "code",
   "execution_count": 20,
   "metadata": {},
   "outputs": [],
   "source": [
    "def creer_son(T,rho_l,L,E_corde,I,h,nu,E_table,rhoT,Lx,Ly,nom_fichier):\n",
    "    \n",
    "    Fe = 40000\n",
    "    MS, CS, KS, phiS_Nx_NmS, NmS, xS = f.corde(T,rho_l,L,E_corde,I) \n",
    "   #tic = time.time()\n",
    "    MB_mod, CB_mod, KB_mod, phiB_NxNy_NmB_mod, NmB_mod, x, y= f.plaque_model(h,nu,E_table,rhoT,Lx,Ly)\n",
    "    #tic2 = time.time()\n",
    "    t, FextS_NxS_Nt = f.Simu_config(xS, Fe, T=3)\n",
    "    #tic3 = time.time()\n",
    "    M_mod, K_mod, C_mod = f.créer_matrice(MS,MB_mod,KS,KB_mod,CS,CB_mod)\n",
    "    #tic4 = time.time()\n",
    "    W_mod_a2, Z_mod_a2 = f.UK_params(M_mod,NmS, NmB_mod, phiS_Nx_NmS, phiB_NxNy_NmB_mod, article = False, model = True, mode = 'A2',x = x, y = y)\n",
    "    #tic5 = time.time()\n",
    "    Q, F = f.lounch_simu_article(t,FextS_NxS_Nt,phiS_Nx_NmS,NmS,NmB_mod,M_mod,C_mod,K_mod,Z_mod_a2,W_mod_a2)\n",
    "    #tic6 = time.time()\n",
    "\n",
    "    FS = F[:NmS,:]\n",
    "    #FB = F[NmS:,:]\n",
    "    FS_NxS_Nt = phiS_Nx_NmS @ FS\n",
    "    #FB_NxNy_Nt = phiB_NxNy_NmB_mod @ FB\n",
    "    #tic7 = time.time()\n",
    "    write(\"1ier_essai/\"+ nom_fichier + '.wav',rate=Fe,data = FS_NxS_Nt[-1,:])\n",
    "    #display(Audio(FS_NxS_Nt[-1,:], rate=Fe))\n",
    "    "
   ]
  },
  {
   "cell_type": "code",
   "execution_count": 21,
   "metadata": {},
   "outputs": [
    {
     "name": "stdout",
     "output_type": "stream",
     "text": [
      "Fréquence du dernier mode de plaque calculé : 1631 Hz\n",
      "Fréquence du dernier mode de plaque calculé : 1817 Hz\n",
      "Fréquence du dernier mode de plaque calculé : 1774 Hz\n",
      "Fréquence du dernier mode de plaque calculé : 1686 Hz\n",
      "Fréquence du dernier mode de plaque calculé : 1768 Hz\n",
      "Fréquence du dernier mode de plaque calculé : 1721 Hz\n",
      "Fréquence du dernier mode de plaque calculé : 1920 Hz\n",
      "Fréquence du dernier mode de plaque calculé : 1755 Hz\n",
      "Fréquence du dernier mode de plaque calculé : 1982 Hz\n",
      "Fréquence du dernier mode de plaque calculé : 1830 Hz\n"
     ]
    }
   ],
   "source": [
    "for i in range(N_point):\n",
    "    T,rho_l,L,E_corde,I,h,nu,E_table,rhoT,Lx,Ly = XXX[i]\n",
    "    creer_son(T,rho_l,L,E_corde,I,h,nu,E_table,rhoT,Lx,Ly,str(i))\n",
    "    "
   ]
  },
  {
   "cell_type": "code",
   "execution_count": null,
   "metadata": {},
   "outputs": [],
   "source": [
    "T,rho_l,L,E_corde,I,h,nu,E_table,rhoT,Lx,Ly = XXX[0]\n",
    "creer_son(T,rho_l,L,E_corde,I,h,nu,E_table,rhoT,Lx,Ly)"
   ]
  },
  {
   "cell_type": "code",
   "execution_count": null,
   "metadata": {},
   "outputs": [],
   "source": [
    "dico = {}:\n",
    "for i in range(N_point):\n",
    "    kle = str(i) + \n",
    "    dico{}\n",
    "    "
   ]
  }
 ],
 "metadata": {
  "kernelspec": {
   "display_name": "Python 3.10.7 64-bit",
   "language": "python",
   "name": "python3"
  },
  "language_info": {
   "codemirror_mode": {
    "name": "ipython",
    "version": 3
   },
   "file_extension": ".py",
   "mimetype": "text/x-python",
   "name": "python",
   "nbconvert_exporter": "python",
   "pygments_lexer": "ipython3",
   "version": "3.10.7"
  },
  "orig_nbformat": 4,
  "vscode": {
   "interpreter": {
    "hash": "aee8b7b246df8f9039afb4144a1f6fd8d2ca17a180786b69acc140d282b71a49"
   }
  }
 },
 "nbformat": 4,
 "nbformat_minor": 2
}
