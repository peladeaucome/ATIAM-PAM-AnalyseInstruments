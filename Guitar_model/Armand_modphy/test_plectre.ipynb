{
 "cells": [
  {
   "cell_type": "code",
   "execution_count": 2,
   "id": "7057a3dd-2e72-4b62-9b19-9b7f00ceac77",
   "metadata": {},
   "outputs": [
    {
     "name": "stdout",
     "output_type": "stream",
     "text": [
      "0.4382750149164335\n",
      "0.0002597289165145471\n"
     ]
    }
   ],
   "source": [
    "Fe=51200\n",
    "duree = 1\n",
    "\n",
    "Z,alpha = parameters(T_corde, rho_l_corde, L_plectre, E_plectre, I_plectre)\n",
    "print(Z)\n",
    "print(alpha)"
   ]
  },
  {
   "cell_type": "code",
   "execution_count": 3,
   "id": "b75f20a2-f349-4caf-a830-e54184fd5c36",
   "metadata": {},
   "outputs": [],
   "source": [
    "temps, D = deplacement_main_linear(duree, Fe, slope=slope)"
   ]
  },
  {
   "cell_type": "code",
   "execution_count": 4,
   "id": "ff88335a-4c0a-4a1a-a9de-4a231889ad85",
   "metadata": {},
   "outputs": [],
   "source": [
    "derivee = derivation(temps, g)"
   ]
  },
  {
   "cell_type": "code",
   "execution_count": 5,
   "id": "0c6c8ff1-8d92-472f-a89c-088f39b918cb",
   "metadata": {},
   "outputs": [
    {
     "name": "stdout",
     "output_type": "stream",
     "text": [
      "La froce de relâchement est de 0.5624775N\n",
      "Relâchement de la corde à 0.18435906951307643s\n"
     ]
    },
    {
     "name": "stderr",
     "output_type": "stream",
     "text": [
      "/Users/armandschwarz/Documents/GitHub/ATIAM-PAM-AnalyseInstruments/Guitar_model/Armand_modphy/plectre.py:37: RuntimeWarning: overflow encountered in exp\n",
      "  I = integrate.quad(lambda t: derivation(t, g) * np.exp(t / alpha), 0, t_0)\n"
     ]
    }
   ],
   "source": [
    "F, t_rel= force(temps, Z, alpha, f, L_plectre)"
   ]
  },
  {
   "cell_type": "code",
   "execution_count": 6,
   "id": "9bc111a6-3b96-4dba-939e-815e48d4dee1",
   "metadata": {},
   "outputs": [
    {
     "data": {
      "text/plain": [
       "[<matplotlib.lines.Line2D at 0x13f80d8a0>]"
      ]
     },
     "execution_count": 6,
     "metadata": {},
     "output_type": "execute_result"
    },
    {
     "data": {
      "image/png": "[encoded data removed]",
      "text/plain": [
       "<Figure size 640x480 with 1 Axes>"
      ]
     },
     "metadata": {},
     "output_type": "display_data"
    }
   ],
   "source": [
    "plt.figure()\n",
    "plt.plot(temps[:int(t_rel*Fe)*2],F[:int(t_rel*Fe)*2])"
   ]
  },
  {
   "cell_type": "code",
   "execution_count": null,
   "id": "51b2d4c7-ce08-4567-a05c-de1525bda841",
   "metadata": {},
   "outputs": [],
   "source": [
    "plt.figure()\n",
    "plt.plot(temps[:int(t_rel*Fe)*2],D[:int(t_rel*Fe)*2])\n",
    "plt.figure()\n",
    "plt.plot(temps[:int(t_rel*Fe)*2],derivee[:int(t_rel*Fe)*2])"
   ]
  },
  {
   "cell_type": "code",
   "execution_count": null,
   "id": "06fc3153-4213-4c02-af78-6decaddbb947",
   "metadata": {},
   "outputs": [],
   "source": [
    "2/51200"
   ]
  },
  {
   "cell_type": "code",
   "execution_count": null,
   "id": "11d5289b-c235-454a-831f-f2de60e0f2d2",
   "metadata": {},
   "outputs": [],
   "source": []
  }
 ],
 "metadata": {
  "kernelspec": {
   "display_name": "Python 3.10.7 64-bit",
   "language": "python",
   "name": "python3"
  },
  "language_info": {
   "codemirror_mode": {
    "name": "ipython",
    "version": 3
   },
   "file_extension": ".py",
   "mimetype": "text/x-python",
   "name": "python",
   "nbconvert_exporter": "python",
   "pygments_lexer": "ipython3",
   "version": "3.10.7"
  },
  "vscode": {
   "interpreter": {
    "hash": "aee8b7b246df8f9039afb4144a1f6fd8d2ca17a180786b69acc140d282b71a49"
   }
  }
 },
 "nbformat": 4,
 "nbformat_minor": 5
}
