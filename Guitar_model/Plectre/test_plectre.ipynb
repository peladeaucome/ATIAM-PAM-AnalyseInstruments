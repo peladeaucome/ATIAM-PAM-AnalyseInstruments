{
 "cells": [
  {
   "cell_type": "code",
   "execution_count": 1,
   "id": "b7de07b3-f303-426c-aa3b-9fdf024cef6f",
   "metadata": {},
   "outputs": [],
   "source": [
    "from plectre import *\n",
    "import matplotlib.pyplot as plt"
   ]
  },
  {
   "cell_type": "code",
   "execution_count": 2,
   "id": "7057a3dd-2e72-4b62-9b19-9b7f00ceac77",
   "metadata": {},
   "outputs": [
    {
     "name": "stdout",
     "output_type": "stream",
     "text": [
      "0.41522126631472045\n",
      "0.0007382006681417844\n"
     ]
    }
   ],
   "source": [
    "Fe=51200*2\n",
    "duree = 1\n",
    "\n",
    "Z,alpha = parameters(T_corde, rho_l_corde, L_plectre, E_plectre, I_plectre)\n",
    "print(Z)\n",
    "print(alpha)"
   ]
  },
  {
   "cell_type": "code",
   "execution_count": 3,
   "id": "b75f20a2-f349-4caf-a830-e54184fd5c36",
   "metadata": {},
   "outputs": [],
   "source": [
    "temps, D = deplacement_main_linear(duree, Fe, slope=slope)"
   ]
  },
  {
   "cell_type": "code",
   "execution_count": 4,
   "id": "ff88335a-4c0a-4a1a-a9de-4a231889ad85",
   "metadata": {},
   "outputs": [],
   "source": [
    "derivee = derivation(temps, g)"
   ]
  },
  {
   "cell_type": "code",
   "execution_count": 5,
   "id": "0c6c8ff1-8d92-472f-a89c-088f39b918cb",
   "metadata": {},
   "outputs": [
    {
     "name": "stdout",
     "output_type": "stream",
     "text": [
      "La froce de relâchement est de 0.18749249999999998N\n",
      "Relâchement de la corde à 0.0004492231369446967s\n"
     ]
    }
   ],
   "source": [
    "F, t_rel= force(temps, Z, alpha, f, L_plectre)"
   ]
  },
  {
   "cell_type": "code",
   "execution_count": 6,
   "id": "9bc111a6-3b96-4dba-939e-815e48d4dee1",
   "metadata": {},
   "outputs": [
    {
     "data": {
      "text/plain": [
       "[<matplotlib.lines.Line2D at 0x1f040ff2880>]"
      ]
     },
     "execution_count": 6,
     "metadata": {},
     "output_type": "execute_result"
    },
    {
     "data": {
      "image/png": "[encoded data removed]",
      "text/plain": [
       "<Figure size 432x288 with 1 Axes>"
      ]
     },
     "metadata": {
      "needs_background": "light"
     },
     "output_type": "display_data"
    }
   ],
   "source": [
    "plt.figure()\n",
    "plt.plot(temps[:int(t_rel*Fe)*2],F[:int(t_rel*Fe)*2])"
   ]
  },
  {
   "cell_type": "code",
   "execution_count": null,
   "id": "96a5092d-17fc-43fd-8ea5-26b90750bae6",
   "metadata": {},
   "outputs": [],
   "source": []
  }
 ],
 "metadata": {
  "kernelspec": {
   "display_name": "Python 3 (ipykernel)",
   "language": "python",
   "name": "python3"
  },
  "language_info": {
   "codemirror_mode": {
    "name": "ipython",
    "version": 3
   },
   "file_extension": ".py",
   "mimetype": "text/x-python",
   "name": "python",
   "nbconvert_exporter": "python",
   "pygments_lexer": "ipython3",
   "version": "3.9.1"
  }
 },
 "nbformat": 4,
 "nbformat_minor": 5
}
