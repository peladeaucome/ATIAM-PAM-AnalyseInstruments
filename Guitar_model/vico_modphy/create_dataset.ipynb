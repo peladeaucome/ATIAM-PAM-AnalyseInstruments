{
 "cells": [
  {
   "cell_type": "code",
   "execution_count": 1,
   "metadata": {},
   "outputs": [],
   "source": [
    "import sys\n",
    "sys.path.append(\"../\")\n",
    "sys.path.append(\"../Armand_modphy/\")\n",
    "from exp_guitare_configs import * #contient des tables et cordes de références, à partir desquelles\n",
    "from fonction import *\n",
    "\n",
    "import numpy as np\n",
    "import matplotlib.pyplot as plt\n",
    "\n",
    "%matplotlib widget\n",
    "\n",
    "# plt.rc('text', usetex=True)\n",
    "# plt.rc('font', family='serif')\n",
    "plt.rcParams[\"figure.figsize\"] = (12,4)"
   ]
  },
  {
   "cell_type": "code",
   "execution_count": 9,
   "metadata": {},
   "outputs": [],
   "source": [
    "labels = [\"table_acier\", \"table_composite\", \"corde_nylon\", \"corde_acier\"]\n",
    "Nparams_table = len(list(table_acier.keys()))\n",
    "Nparams_corde = len(list(corde_acier.keys()))"
   ]
  },
  {
   "cell_type": "code",
   "execution_count": 3,
   "metadata": {},
   "outputs": [],
   "source": [
    "#==================== DÉFINITION PLAQUE ====================\n",
    "h = table_acier[\"h\"]\n",
    "nu = table_acier[\"nu\"] #Coeff de poisson (Pa)\n",
    "E = table_acier[\"E\"] #Module de Young (Pa)\n",
    "rho = table_acier[\"rho\"] #Masse volumique (kg/m3)\n",
    "D = E*h**3/(12*(1-nu**2)) #Raideur de la plaque\n",
    "eta = 0.02 #Amortissement interne à la plaque\n",
    "Lx, Ly = table_acier[\"Lx\"], table_acier[\"Ly\"]\n",
    "\n",
    "#==================== VARIABILITÉ PLAQUE ====================\n",
    "Nvar = 10 #nombre de points de variabilité par paramètre\n",
    "\n",
    "Lxs = np.random.uniform(low=(1-0.1)*Lx, high=(1+0.1)*Lx, size=(Nvar,))\n",
    "Lys = np.random.uniform(low=(1-0.1)*Ly, high=(1+0.1)*Ly, size=(Nvar,))\n",
    "hs = np.random.uniform(low=(1-0.1)*h, high=(1+0.1)*h, size=(Nvar,))\n",
    "Es = np.random.uniform(low=(1-0.1)*E, high=(1+0.1)*E, size=(Nvar,))\n",
    "nus = np.random.uniform(low=(1-0.1)*nu, high=(1+0.1)*nu, size=(Nvar,))\n",
    "rhos = np.random.uniform(low=(1-0.1)*rho, high=(1+0.1)*rho, size=(Nvar,))\n",
    "etas = np.random.uniform(low=(1-0.1)*eta, high=(1+0.1)*eta, size=(Nvar,))\n",
    "\n",
    "var_matrix_table_acier = np.array([Lxs, Lys, hs, Es, nus, rhos, etas])"
   ]
  },
  {
   "cell_type": "code",
   "execution_count": 4,
   "metadata": {},
   "outputs": [],
   "source": [
    "#==================== DÉFINITION PLAQUE ====================\n",
    "h = table_composite[\"h\"]\n",
    "nu = table_composite[\"nu\"] #Coeff de poisson (Pa)\n",
    "E = table_composite[\"E\"] #Module de Young (Pa)\n",
    "rho = table_composite[\"rho\"] #Masse volumique (kg/m3)\n",
    "D = E*h**3/(12*(1-nu**2)) #Raideur de la plaque\n",
    "eta = 0.02 #Amortissement interne à la plaque\n",
    "Lx, Ly = table_composite[\"Lx\"], table_composite[\"Ly\"]\n",
    "\n",
    "#==================== VARIABILITÉ PLAQUE ====================\n",
    "Nvar = 10 #nombre de points de variabilité par paramètre\n",
    "\n",
    "Lxs = np.random.uniform(low=(1-0.1)*Lx, high=(1+0.1)*Lx, size=(Nvar,))\n",
    "Lys = np.random.uniform(low=(1-0.1)*Ly, high=(1+0.1)*Ly, size=(Nvar,))\n",
    "hs = np.random.uniform(low=(1-0.1)*h, high=(1+0.1)*h, size=(Nvar,))\n",
    "Es = np.random.uniform(low=(1-0.1)*E, high=(1+0.1)*E, size=(Nvar,))\n",
    "nus = np.random.uniform(low=(1-0.1)*nu, high=(1+0.1)*nu, size=(Nvar,))\n",
    "rhos = np.random.uniform(low=(1-0.1)*rho, high=(1+0.1)*rho, size=(Nvar,))\n",
    "etas = np.random.uniform(low=(1-0.1)*eta, high=(1+0.1)*eta, size=(Nvar,))\n",
    "\n",
    "var_matrix_table_composite = np.array([Lxs, Lys, hs, Es, nus, rhos, etas])"
   ]
  },
  {
   "cell_type": "code",
   "execution_count": 20,
   "metadata": {},
   "outputs": [
    {
     "data": {
      "text/plain": [
       "(5474.351902923331, (7, 10))"
      ]
     },
     "execution_count": 20,
     "metadata": {},
     "output_type": "execute_result"
    }
   ],
   "source": [
    "1588e-3/(40e-2*25.9e-2*2.8e-3), var_matrix_table_acier.shape"
   ]
  },
  {
   "cell_type": "code",
   "execution_count": 6,
   "metadata": {},
   "outputs": [
    {
     "ename": "TypeError",
     "evalue": "unsupported operand type(s) for /: 'ellipsis' and 'float'",
     "output_type": "error",
     "traceback": [
      "\u001b[0;31m---------------------------------------------------------------------------\u001b[0m",
      "\u001b[0;31mTypeError\u001b[0m                                 Traceback (most recent call last)",
      "\u001b[1;32m/Users/bigand/Desktop_bis/M2 - Codes/PAM/ATIAM-PAM-AnalyseInstruments/Guitar_model/vico_modphy/create_dataset.ipynb Cellule 6\u001b[0m in \u001b[0;36m<module>\u001b[0;34m\u001b[0m\n\u001b[1;32m     <a href='vscode-notebook-cell:/Users/bigand/Desktop_bis/M2%20-%20Codes/PAM/ATIAM-PAM-AnalyseInstruments/Guitar_model/vico_modphy/create_dataset.ipynb#X10sZmlsZQ%3D%3D?line=10'>11</a>\u001b[0m I \u001b[39m=\u001b[39m m\u001b[39m*\u001b[39md\u001b[39m*\u001b[39m\u001b[39m*\u001b[39m\u001b[39m2\u001b[39m\u001b[39m/\u001b[39m\u001b[39m8\u001b[39m\n\u001b[1;32m     <a href='vscode-notebook-cell:/Users/bigand/Desktop_bis/M2%20-%20Codes/PAM/ATIAM-PAM-AnalyseInstruments/Guitar_model/vico_modphy/create_dataset.ipynb#X10sZmlsZQ%3D%3D?line=11'>12</a>\u001b[0m rho_l \u001b[39m=\u001b[39m rho_m \u001b[39m/\u001b[39m (np\u001b[39m.\u001b[39mpi\u001b[39m*\u001b[39m(d\u001b[39m/\u001b[39m\u001b[39m2\u001b[39m)\u001b[39m*\u001b[39m\u001b[39m*\u001b[39m\u001b[39m2\u001b[39m)\n\u001b[0;32m---> <a href='vscode-notebook-cell:/Users/bigand/Desktop_bis/M2%20-%20Codes/PAM/ATIAM-PAM-AnalyseInstruments/Guitar_model/vico_modphy/create_dataset.ipynb#X10sZmlsZQ%3D%3D?line=12'>13</a>\u001b[0m ct \u001b[39m=\u001b[39m np\u001b[39m.\u001b[39msqrt(T\u001b[39m/\u001b[39;49mrho_l) \u001b[39m#célérité des ondes transverse (M/s)\u001b[39;00m\n\u001b[1;32m     <a href='vscode-notebook-cell:/Users/bigand/Desktop_bis/M2%20-%20Codes/PAM/ATIAM-PAM-AnalyseInstruments/Guitar_model/vico_modphy/create_dataset.ipynb#X10sZmlsZQ%3D%3D?line=13'>14</a>\u001b[0m B \u001b[39m=\u001b[39m E\u001b[39m*\u001b[39mI \u001b[39m#coefficient d'inarmonicité : B = E*I (N*m**2)\u001b[39;00m\n\u001b[1;32m     <a href='vscode-notebook-cell:/Users/bigand/Desktop_bis/M2%20-%20Codes/PAM/ATIAM-PAM-AnalyseInstruments/Guitar_model/vico_modphy/create_dataset.ipynb#X10sZmlsZQ%3D%3D?line=15'>16</a>\u001b[0m \u001b[39m#==================== VARIABILITÉ CORDE ====================\u001b[39;00m\n",
      "\u001b[0;31mTypeError\u001b[0m: unsupported operand type(s) for /: 'ellipsis' and 'float'"
     ]
    }
   ],
   "source": [
    "#==================== DÉFINITION CORDE ====================\n",
    "\n",
    "L = corde_acier[\"L\"] #longueur de corde (m)\n",
    "f1 = corde_acier[\"f0\"] #freq de la corde (hz)\n",
    "T = corde_acier[\"T\"]#tension de la corde (N)\n",
    "rho_m = corde_acier[\"rho_m\"] #masse volumique (kg/m3)\n",
    "d = corde_acier[\"d\"]\n",
    "E = corde_acier[\"E\"]\n",
    "\n",
    "m = np.pi*(d/2)**2 * L * rho_m\n",
    "I = m*d**2/8\n",
    "rho_l = rho_m / (np.pi*(d/2)**2)\n",
    "ct = np.sqrt(T/rho_l) #célérité des ondes transverse (M/s)\n",
    "B = E*I #coefficient d'inarmonicité : B = E*I (N*m**2)\n",
    "\n",
    "#==================== VARIABILITÉ CORDE ====================\n",
    "Nvar = 10 #nombre de points de variabilité par paramètre\n",
    "\n",
    "Ls = np.random.uniform(low=(1-0.1)*L, high=(1+0.1)*L, size=(Nvar,))\n",
    "f1s = np.random.uniform(low=(1-0.1)*f1, high=(1+0.1)*f1, size=(Nvar,))\n",
    "Ts = np.random.uniform(low=(1-0.1)*T, high=(1+0.1)*T, size=(Nvar,))\n",
    "rho_ms = np.random.uniform(low=(1-0.1)*rho_m, high=(1+0.1)*rho_m, size=(Nvar,))\n",
    "ds = np.random.uniform(low=(1-0.1)*d, high=(1+0.1)*d, size=(Nvar,))\n",
    "Es = np.random.uniform(low=(1-0.1)*E, high=(1+0.1)*E, size=(Nvar,))\n",
    "\n",
    "var_matrix_corde_acier = np.array([Ls, f1s, Ts, rho_ms, ds, Es])"
   ]
  },
  {
   "cell_type": "code",
   "execution_count": 7,
   "metadata": {},
   "outputs": [
    {
     "ename": "TypeError",
     "evalue": "unsupported operand type(s) for /: 'ellipsis' and 'float'",
     "output_type": "error",
     "traceback": [
      "\u001b[0;31m---------------------------------------------------------------------------\u001b[0m",
      "\u001b[0;31mTypeError\u001b[0m                                 Traceback (most recent call last)",
      "\u001b[1;32m/Users/bigand/Desktop_bis/M2 - Codes/PAM/ATIAM-PAM-AnalyseInstruments/Guitar_model/vico_modphy/create_dataset.ipynb Cellule 7\u001b[0m in \u001b[0;36m<module>\u001b[0;34m\u001b[0m\n\u001b[1;32m     <a href='vscode-notebook-cell:/Users/bigand/Desktop_bis/M2%20-%20Codes/PAM/ATIAM-PAM-AnalyseInstruments/Guitar_model/vico_modphy/create_dataset.ipynb#X13sZmlsZQ%3D%3D?line=10'>11</a>\u001b[0m I \u001b[39m=\u001b[39m m\u001b[39m*\u001b[39md\u001b[39m*\u001b[39m\u001b[39m*\u001b[39m\u001b[39m2\u001b[39m\u001b[39m/\u001b[39m\u001b[39m8\u001b[39m\n\u001b[1;32m     <a href='vscode-notebook-cell:/Users/bigand/Desktop_bis/M2%20-%20Codes/PAM/ATIAM-PAM-AnalyseInstruments/Guitar_model/vico_modphy/create_dataset.ipynb#X13sZmlsZQ%3D%3D?line=11'>12</a>\u001b[0m rho_l \u001b[39m=\u001b[39m rho_m \u001b[39m/\u001b[39m (np\u001b[39m.\u001b[39mpi\u001b[39m*\u001b[39m(d\u001b[39m/\u001b[39m\u001b[39m2\u001b[39m)\u001b[39m*\u001b[39m\u001b[39m*\u001b[39m\u001b[39m2\u001b[39m)\n\u001b[0;32m---> <a href='vscode-notebook-cell:/Users/bigand/Desktop_bis/M2%20-%20Codes/PAM/ATIAM-PAM-AnalyseInstruments/Guitar_model/vico_modphy/create_dataset.ipynb#X13sZmlsZQ%3D%3D?line=12'>13</a>\u001b[0m ct \u001b[39m=\u001b[39m np\u001b[39m.\u001b[39msqrt(T\u001b[39m/\u001b[39;49mrho_l) \u001b[39m#célérité des ondes transverse (M/s)\u001b[39;00m\n\u001b[1;32m     <a href='vscode-notebook-cell:/Users/bigand/Desktop_bis/M2%20-%20Codes/PAM/ATIAM-PAM-AnalyseInstruments/Guitar_model/vico_modphy/create_dataset.ipynb#X13sZmlsZQ%3D%3D?line=13'>14</a>\u001b[0m B \u001b[39m=\u001b[39m E\u001b[39m*\u001b[39mI \u001b[39m#coefficient d'inarmonicité : B = E*I (N*m**2)\u001b[39;00m\n\u001b[1;32m     <a href='vscode-notebook-cell:/Users/bigand/Desktop_bis/M2%20-%20Codes/PAM/ATIAM-PAM-AnalyseInstruments/Guitar_model/vico_modphy/create_dataset.ipynb#X13sZmlsZQ%3D%3D?line=15'>16</a>\u001b[0m \u001b[39m#==================== VARIABILITÉ CORDE ====================\u001b[39;00m\n",
      "\u001b[0;31mTypeError\u001b[0m: unsupported operand type(s) for /: 'ellipsis' and 'float'"
     ]
    }
   ],
   "source": [
    "#==================== DÉFINITION CORDE ====================\n",
    "\n",
    "L = corde_nylon[\"L\"] #longueur de corde (m)\n",
    "f1 = corde_nylon[\"f0\"] #freq de la corde (hz)\n",
    "T = corde_nylon[\"T\"]#tension de la corde (N)\n",
    "rho_m = corde_nylon[\"rho_m\"] #masse volumique (kg/m3)\n",
    "d = corde_nylon[\"d\"]\n",
    "E = corde_nylon[\"E\"]\n",
    "\n",
    "m = np.pi*(d/2)**2 * L * rho_m\n",
    "I = m*d**2/8\n",
    "rho_l = rho_m / (np.pi*(d/2)**2)\n",
    "ct = np.sqrt(T/rho_l) #célérité des ondes transverse (M/s)\n",
    "B = E*I #coefficient d'inarmonicité : B = E*I (N*m**2)\n",
    "\n",
    "#==================== VARIABILITÉ CORDE ====================\n",
    "Nvar = 10 #nombre de points de variabilité par paramètre\n",
    "\n",
    "Ls = np.random.uniform(low=(1-0.1)*L, high=(1+0.1)*L, size=(Nvar,))\n",
    "f1s = np.random.uniform(low=(1-0.1)*f1, high=(1+0.1)*f1, size=(Nvar,))\n",
    "Ts = np.random.uniform(low=(1-0.1)*T, high=(1+0.1)*T, size=(Nvar,))\n",
    "rho_ms = np.random.uniform(low=(1-0.1)*rho_m, high=(1+0.1)*rho_m, size=(Nvar,))\n",
    "ds = np.random.uniform(low=(1-0.1)*d, high=(1+0.1)*d, size=(Nvar,))\n",
    "Es = np.random.uniform(low=(1-0.1)*E, high=(1+0.1)*E, size=(Nvar,))\n",
    "\n",
    "var_matrix_corde_nylon = np.array([Ls, f1s, Ts, rho_ms, ds, Es])"
   ]
  },
  {
   "cell_type": "code",
   "execution_count": 26,
   "metadata": {},
   "outputs": [
    {
     "name": "stdout",
     "output_type": "stream",
     "text": [
      "[0 1 3 2 6 2 9]\n"
     ]
    },
    {
     "ename": "IndexError",
     "evalue": "index 9 is out of bounds for axis 0 with size 7",
     "output_type": "error",
     "traceback": [
      "\u001b[0;31m---------------------------------------------------------------------------\u001b[0m",
      "\u001b[0;31mIndexError\u001b[0m                                Traceback (most recent call last)",
      "\u001b[1;32m/Users/bigand/Desktop_bis/M2 - Codes/PAM/ATIAM-PAM-AnalyseInstruments/Guitar_model/vico_modphy/create_dataset.ipynb Cellule 8\u001b[0m in \u001b[0;36m<module>\u001b[0;34m\u001b[0m\n\u001b[1;32m      <a href='vscode-notebook-cell:/Users/bigand/Desktop_bis/M2%20-%20Codes/PAM/ATIAM-PAM-AnalyseInstruments/Guitar_model/vico_modphy/create_dataset.ipynb#X15sZmlsZQ%3D%3D?line=4'>5</a>\u001b[0m random_indexes \u001b[39m=\u001b[39m np\u001b[39m.\u001b[39mrandom\u001b[39m.\u001b[39mchoice(Nvar, Nparams_table)\n\u001b[1;32m      <a href='vscode-notebook-cell:/Users/bigand/Desktop_bis/M2%20-%20Codes/PAM/ATIAM-PAM-AnalyseInstruments/Guitar_model/vico_modphy/create_dataset.ipynb#X15sZmlsZQ%3D%3D?line=5'>6</a>\u001b[0m \u001b[39mprint\u001b[39m(random_indexes)\n\u001b[0;32m----> <a href='vscode-notebook-cell:/Users/bigand/Desktop_bis/M2%20-%20Codes/PAM/ATIAM-PAM-AnalyseInstruments/Guitar_model/vico_modphy/create_dataset.ipynb#X15sZmlsZQ%3D%3D?line=6'>7</a>\u001b[0m var_matrix_table_acier[random_indexes]\n\u001b[1;32m      <a href='vscode-notebook-cell:/Users/bigand/Desktop_bis/M2%20-%20Codes/PAM/ATIAM-PAM-AnalyseInstruments/Guitar_model/vico_modphy/create_dataset.ipynb#X15sZmlsZQ%3D%3D?line=7'>8</a>\u001b[0m \u001b[39mprint\u001b[39m(var_matrix_table_acier[random_indexes])\n\u001b[1;32m      <a href='vscode-notebook-cell:/Users/bigand/Desktop_bis/M2%20-%20Codes/PAM/ATIAM-PAM-AnalyseInstruments/Guitar_model/vico_modphy/create_dataset.ipynb#X15sZmlsZQ%3D%3D?line=8'>9</a>\u001b[0m \u001b[39mbreak\u001b[39;00m\n",
      "\u001b[0;31mIndexError\u001b[0m: index 9 is out of bounds for axis 0 with size 7"
     ]
    }
   ],
   "source": [
    "#==================== Sampling from the variability matrix ====================\n",
    "Nsamples = 1000 #Nombre d'échantillons créé pour le dataset\n",
    "\n",
    "# for i in range(Nsamples) :\n",
    "#     random_indexes = np.random.choice(Nvar, Nparams_table)\n",
    "#     print(random_indexes)\n",
    "#     var_matrix_table_acier[random_indexes]\n",
    "#     print(var_matrix_table_acier[random_indexes])\n",
    "#     break\n",
    "        # h = var_matrix_table_acier[]\n",
    "        # nu = table_acier[\"nu\"] #Coeff de poisson (Pa)\n",
    "        # E = table_acier[\"E\"] #Module de Young (Pa)\n",
    "        # rho = table_acier[\"rho\"] #Masse volumique (kg/m3)\n",
    "        # D = E*h**3/(12*(1-nu**2)) #Raideur de la plaque\n",
    "        # eta = 0.02 #Amortissement interne à la plaque\n",
    "        # Lx, Ly = table_acier[\"Lx\"], table_acier[\"Ly\"]"
   ]
  },
  {
   "cell_type": "code",
   "execution_count": 2,
   "metadata": {},
   "outputs": [
    {
     "name": "stdout",
     "output_type": "stream",
     "text": [
      "[[-0.175 -4.75 ]\n",
      " [-0.025 -1.75 ]\n",
      " [-0.475 -3.25 ]\n",
      " [-0.225 -0.25 ]\n",
      " [-0.325 -3.75 ]\n",
      " [-0.075 -0.75 ]\n",
      " [-0.275 -4.25 ]\n",
      " [-0.125 -2.25 ]\n",
      " [-0.425 -2.75 ]\n",
      " [-0.375 -1.25 ]]\n"
     ]
    }
   ],
   "source": [
    "from pyDOE import lhs\n",
    "\n",
    "def latin_hypercube_sample(n, dim, bounds):\n",
    "    \"\"\"\n",
    "    Generate a Latin Hypercube sample of size n in dim dimensions, with bounds on each dimension.\n",
    "    :param n: Number of samples to generate.\n",
    "    :param dim: Number of dimensions.\n",
    "    :param bounds: List of tuples specifying the lower and upper bounds for each dimension.\n",
    "    \"\"\"\n",
    "    # Normalize the bounds\n",
    "    normalized_bounds = [(b[0] - (b[1] - b[0]) / 2, (b[1] - b[0]) / 2) for b in bounds]\n",
    "\n",
    "    # Generate the Latin Hypercube sample\n",
    "    samples = lhs(dim, samples=n, criterion='center')\n",
    "\n",
    "    # Scale and translate the samples to the correct bounds\n",
    "    for i in range(dim):\n",
    "        samples[:, i] = samples[:, i] * normalized_bounds[i][1] + normalized_bounds[i][0]\n",
    "\n",
    "    return samples\n",
    "\n",
    "# Example usage\n",
    "n = 10\n",
    "dim = 2\n",
    "bounds = [(0, 1), (0, 10)]\n",
    "samples = latin_hypercube_sample(n, dim, bounds)\n",
    "print(samples)"
   ]
  },
  {
   "cell_type": "code",
   "execution_count": null,
   "metadata": {},
   "outputs": [],
   "source": []
  }
 ],
 "metadata": {
  "kernelspec": {
   "display_name": "Python 3",
   "language": "python",
   "name": "python3"
  },
  "language_info": {
   "codemirror_mode": {
    "name": "ipython",
    "version": 3
   },
   "file_extension": ".py",
   "mimetype": "text/x-python",
   "name": "python",
   "nbconvert_exporter": "python",
   "pygments_lexer": "ipython3",
   "version": "3.9.13"
  },
  "orig_nbformat": 4,
  "vscode": {
   "interpreter": {
    "hash": "397704579725e15f5c7cb49fe5f0341eb7531c82d19f2c29d197e8b64ab5776b"
   }
  }
 },
 "nbformat": 4,
 "nbformat_minor": 2
}
