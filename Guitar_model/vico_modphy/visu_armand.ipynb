{
 "cells": [
  {
   "attachments": {},
   "cell_type": "markdown",
   "metadata": {},
   "source": [
    "### Ce notebook récupère les données de simulation du modèle depuis \"launch_simu_ss.py\" pour en faire des visualisations."
   ]
  },
  {
   "cell_type": "code",
   "execution_count": 1,
   "metadata": {},
   "outputs": [
    {
     "name": "stdout",
     "output_type": "stream",
     "text": [
      "Fréquence du dernier mode de corde calculé : 11636 Hz\n",
      "Fréquence du dernier mode de plaque calculé : 6310 Hz\n",
      "Fréquence d'échantillonage : 8000 Hz\n",
      "Temps d'acquisition : 10 s\n"
     ]
    },
    {
     "data": {
      "image/png": "[encoded data removed]",
      "text/plain": [
       "<Figure size 640x480 with 1 Axes>"
      ]
     },
     "metadata": {},
     "output_type": "display_data"
    }
   ],
   "source": [
    "from guitare_config import *\n",
    "from simu_config import *\n",
    "import numpy as np\n",
    "import matplotlib.pyplot as plt\n",
    "\n",
    "%matplotlib widget\n",
    "\n",
    "#plt.rc('text', usetex=True)\n",
    "#plt.rc('font', family='serif')\n",
    "#plt.rcParams[\"figure.figsize\"] = (12,4)"
   ]
  },
  {
   "attachments": {},
   "cell_type": "markdown",
   "metadata": {},
   "source": [
    "# Simulation \n",
    "\n",
    "On compare aussi la méthode de vico (_ss) et la méthode de l'article (_ar). La méthode ss est plus robuste car elle fonctionne quelque soit Fe, mais moins rapide. La méthode de l'article fonctionne pour Fe=44100 mais pas diverge à bas Fe."
   ]
  },
  {
   "cell_type": "code",
   "execution_count": null,
   "metadata": {},
   "outputs": [],
   "source": [
    "#choix méthode : \n",
    "meth_article = False #la plus rapide, mais ne marche pas à bas Fe\n",
    "meth_ss = True"
   ]
  },
  {
   "cell_type": "code",
   "execution_count": null,
   "metadata": {},
   "outputs": [],
   "source": [
    "if meth_ss : \n",
    "    import launch_simu_ss\n",
    "\n",
    "    Q_ss = launch_simu_ss.Q\n",
    "    #Mouvement de la corde\n",
    "    QS_ss = Q_ss[:NmS,:]\n",
    "    QB_ss = Q_ss[NmS:,:]\n",
    "\n",
    "#Passage dans les coordonnées cartésiennes\n",
    "    simuS_NxS_Nt_ss = phiS_Nx_NmS @ QS_ss\n",
    "    simuB_NxNy_Nt_ss = phiB_NxNy_NmB @ QB_ss"
   ]
  },
  {
   "cell_type": "code",
   "execution_count": null,
   "metadata": {},
   "outputs": [],
   "source": [
    "if meth_article : \n",
    "    import launch_simu_article\n",
    "\n",
    "    Q_ar = launch_simu_article.Q\n",
    "    #Mouvement de la corde\n",
    "    QS_ar = Q_ar[:NmS,:]\n",
    "    QB_ar = Q_ar[NmS:,:]\n",
    "\n",
    "    #Passage dans les coordonnées cartésiennes\n",
    "    simuS_NxS_Nt_ar = phiS_Nx_NmS @ QS_ar\n",
    "    simuB_NxNy_Nt_ar = phiB_NxNy_NmB @ QB_ar"
   ]
  },
  {
   "cell_type": "code",
   "execution_count": null,
   "metadata": {},
   "outputs": [],
   "source": [
    "# visualisaiton\n",
    "fig = plt.figure()\n",
    "ax1 = fig.add_subplot(111)\n",
    "\n",
    "if meth_article and not meth_ss:\n",
    "    ax1.plot(t, simuS_NxS_Nt_ar[NxS//2,:],label=\"\")\n",
    "    ax1.set_title(rf\"Evolution temporelle du point $x$={xS[NxS//2]:.2f} de la corde, méthode article\")\n",
    "if meth_ss and not meth_article: \n",
    "    ax1.plot(t, simuS_NxS_Nt_ss[NxS//2,:],label=\"\")\n",
    "    ax1.set_title(rf\"Evolution temporelle du point $x$={xS[NxS//2]:.2f} de la corde,méthode Vico\")\n",
    "if meth_ss and meth_article :  ##si on a choisi les deux méthodes on plote la dif des deux \n",
    "    ax1.plot(t, simuS_NxS_Nt_ss[NxS//2,:] - simuS_NxS_Nt_ar[NxS//2,:],label=\"\")\n",
    "    ax1.set_title(rf\"Evolution temporelle du point $x$={xS[NxS//2]:.2f} de la corde, différence des deux méthodes\")\n",
    "\n",
    "    \n",
    "ax1.grid()\n",
    "ax1.set_xlabel(\"Temps (s)\")\n",
    "ax1.set_ylabel(\"Déplacement (m)\")\n",
    "fig.tight_layout()\n",
    "plt.show()"
   ]
  },
  {
   "cell_type": "code",
   "execution_count": null,
   "metadata": {},
   "outputs": [],
   "source": [
    "Q = Q_ar\n",
    "#Mouvement de la corde\n",
    "QS = QS_ar\n",
    "QB = QS_ar\n",
    "\n",
    "#Passage dans les coordonnées cartésiennes\n",
    "simuS_NxS_Nt = simuS_NxS_Nt_ar\n",
    "simuB_NxNy_Nt = simuB_NxNy_Nt_ar"
   ]
  },
  {
   "cell_type": "code",
   "execution_count": null,
   "metadata": {},
   "outputs": [],
   "source": [
    "fig = plt.figure()\n",
    "ax1 = fig.add_subplot(111)\n",
    "\n",
    "img = ax1.imshow(np.abs(simuB_NxNy_Nt_ar[:,int(1.5*Fe)]).reshape((Nx,Ny)),\n",
    "    extent=[x[0], x[-1] , y[0], y[-1]] ,\n",
    "    cmap=\"jet\",\n",
    "    interpolation = \"bilinear\",\n",
    "    # aspect=\"auto\" ,\n",
    "    origin=\"lower\")\n",
    "\n",
    "fig.colorbar(img,ax=ax1)\n",
    "ax1.set_xlabel(\"Longueur (m)\")\n",
    "ax1.set_ylabel(r\"Largeur (m)\")\n",
    "ax1.set_title(rf\"Profil vibratoire de la plaque à $t$={t[int(1.5*Fe)]:.1f} s\")\n",
    "\n",
    "fig.tight_layout()\n",
    "\n",
    "plt.show()"
   ]
  },
  {
   "attachments": {},
   "cell_type": "markdown",
   "metadata": {},
   "source": [
    "# Ecoute"
   ]
  },
  {
   "cell_type": "code",
   "execution_count": null,
   "metadata": {},
   "outputs": [],
   "source": [
    "if meth_ss :\n",
    "    from IPython.display import display, Audio\n",
    "\n",
    "    display(Audio(simuS_NxS_Nt_ss[500,:], rate=Fe))"
   ]
  },
  {
   "cell_type": "code",
   "execution_count": null,
   "metadata": {},
   "outputs": [],
   "source": [
    "from IPython.display import display, Audio\n",
    "\n",
    "display(Audio(simuS_NxS_Nt[500,:], rate=Fe))"
   ]
  },
  {
   "attachments": {},
   "cell_type": "markdown",
   "metadata": {},
   "source": [
    "# Exportation des GIFs"
   ]
  },
  {
   "cell_type": "code",
   "execution_count": null,
   "metadata": {},
   "outputs": [],
   "source": [
    "#GIF CORDE\n",
    "fe_anim = 15     #Hz\n",
    "\n",
    "N_interval_anim = int(Fe/fe_anim)   #Nombre de points entre 0 et 1/fe_anim secondes\n",
    "\n",
    "Ntanim = int(Nt/N_interval_anim)    #Nombre de points total de l'échantillonage visuel en fe_anim FPS\n",
    "rms_Ntanim_NxS = np.zeros((Ntanim,NxS))\n",
    "t_anim = np.zeros(Ntanim)\n",
    "for i in range(Ntanim) :\n",
    "    # rms_Ntanim_Nx[i,:] = np.sqrt(np.sum(np.square(xcorde_Nx_Nt[:,i*N_interval_anim:i*N_interval_anim+N_interval_anim-1]),axis=1))\n",
    "    rms_Ntanim_NxS[i,:] = simuS_NxS_Nt[:,i*N_interval_anim]\n",
    "    t_anim[i] = t[i*N_interval_anim]\n",
    "\n",
    "rms_Nx_Ntanim = rms_Ntanim_NxS.T\n",
    "\n",
    "fig = plt.figure(figsize=(13,6))\n",
    "ax1 = fig.add_subplot(111)\n",
    "\n",
    "line, = ax1.plot(xS,rms_Nx_Ntanim[:,0],label=\"\")\n",
    "ax1.grid()\n",
    "# ax1.legend()\n",
    "ax1.set_xlabel(\"$x$\")\n",
    "ax1.set_ylabel(\"$y(x,t)$\")\n",
    "ax1.set_title(f\"temps t={t_anim[0]}s\")\n",
    "ax1.set_ylim(np.min(rms_Nx_Ntanim),np.max(rms_Nx_Ntanim))\n",
    "\n",
    "def init() :\n",
    "    line.set_ydata(rms_Nx_Ntanim[:,0])\n",
    "    line.set_xlim()\n",
    "    ax1.set_title(f\"temps t={t_anim[0]}s\")\n",
    "    return line,\n",
    "\n",
    "def update(t_idx) :\n",
    "    line.set_ydata(rms_Nx_Ntanim[:,t_idx])\n",
    "    ax1.set_title(f\"temps t={t_anim[t_idx]:.0f} s\")\n",
    "    return line,\n",
    "\n",
    "import matplotlib.animation as animation\n",
    "\n",
    "myAnimation = animation.FuncAnimation(fig, update, frames=Ntanim, interval=1/fe_anim, blit=True, repeat=False)\n",
    "print(\"Done ✅\")\n",
    "\n",
    "myAnimation.save(\"figures/gif_corde.gif\", writer='PillowWriter', fps=fe_anim)"
   ]
  },
  {
   "cell_type": "code",
   "execution_count": null,
   "metadata": {},
   "outputs": [],
   "source": [
    "#GIF PLAQUE\n",
    "fe_anim = 50     #Hz\n",
    "\n",
    "N_interval_anim = int(Fe/fe_anim)   #Nombre de points entre 0 et 1/fe_anim secondes\n",
    "\n",
    "Ntanim = int(2*Fe/N_interval_anim)    #Nombre de points total de l'échantillonage visuel en fe_anim FPS\n",
    "rms_Ntanim_NxNy = np.zeros((Ntanim,Nx*Ny))\n",
    "t_anim = np.zeros(Ntanim)\n",
    "for i in range(Ntanim) :\n",
    "    # rms_Ntanim_NxNy[i,:] = simuB_NxNy_Nt[:,i*N_interval_anim]\n",
    "    rms_Ntanim_NxNy[i,:] = np.sqrt(np.sum(np.square(simuB_NxNy_Nt[:,i*N_interval_anim:i*N_interval_anim+N_interval_anim-1]),axis=1))\n",
    "    t_anim[i] = t[i*N_interval_anim]\n",
    "\n",
    "rms_NxNy_Ntanim = rms_Ntanim_NxNy.T\n",
    "\n",
    "fig = plt.figure(figsize=(13,6))\n",
    "ax1 = fig.add_subplot(111)\n",
    "\n",
    "img = ax1.imshow(np.abs(rms_NxNy_Ntanim[:,0]).reshape((Nx,Ny)),\n",
    "    extent=[x[0], x[-1] , y[0], y[-1]] ,\n",
    "    cmap=\"jet\" ,\n",
    "    interpolation = \"bilinear\",\n",
    "    aspect=\"auto\" ,\n",
    "    origin=\"lower\")\n",
    "\n",
    "fig.colorbar(img,ax=ax1)\n",
    "ax1.set_xlabel(\"\")\n",
    "ax1.set_ylabel(r\"\")\n",
    "ax1.set_title(r\"\")\n",
    "\n",
    "\n",
    "def init() :\n",
    "    img.set_data(np.abs(rms_NxNy_Ntanim[:,0]).reshape((Nx,Ny)))\n",
    "    ax1.set_title(f\"temps t={t_anim[0]}s\")\n",
    "    return [img]\n",
    "\n",
    "def update(t_idx) :\n",
    "    img.set_data(np.abs(rms_NxNy_Ntanim[:,t_idx]).reshape((Nx,Ny)))\n",
    "    ax1.set_title(f\"temps t={t_anim[t_idx]:.0f} s\")\n",
    "    img.set_clim([np.min(np.abs(rms_NxNy_Ntanim[:,:])),np.max(np.abs(rms_NxNy_Ntanim[:,:]))])\n",
    "    return [img]\n",
    "\n",
    "import matplotlib.animation as animation\n",
    "\n",
    "myAnimation = animation.FuncAnimation(fig, update, frames=Ntanim, interval=1/fe_anim, blit=True, repeat=False)\n",
    "print(\"Done ✅\")\n",
    "\n",
    "myAnimation.save(\"figures/gif_plaque.gif\", writer='PillowWriter', fps=fe_anim/2)"
   ]
  },
  {
   "cell_type": "code",
   "execution_count": null,
   "metadata": {},
   "outputs": [],
   "source": []
  }
 ],
 "metadata": {
  "kernelspec": {
   "display_name": "Python 3.10.7 64-bit",
   "language": "python",
   "name": "python3"
  },
  "language_info": {
   "codemirror_mode": {
    "name": "ipython",
    "version": 3
   },
   "file_extension": ".py",
   "mimetype": "text/x-python",
   "name": "python",
   "nbconvert_exporter": "python",
   "pygments_lexer": "ipython3",
   "version": "3.10.7"
  },
  "orig_nbformat": 4,
  "vscode": {
   "interpreter": {
    "hash": "aee8b7b246df8f9039afb4144a1f6fd8d2ca17a180786b69acc140d282b71a49"
   }
  }
 },
 "nbformat": 4,
 "nbformat_minor": 2
}
